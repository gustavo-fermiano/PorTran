{
  "cells": [
    {
      "cell_type": "markdown",
      "metadata": {
        "id": "view-in-github",
        "colab_type": "text"
      },
      "source": [
        "<a href=\"https://colab.research.google.com/github/gustavo-fermiano/PorTran/blob/main/Projeto_Aplicado_I.ipynb\" target=\"_parent\"><img src=\"https://colab.research.google.com/assets/colab-badge.svg\" alt=\"Open In Colab\"/></a>"
      ]
    },
    {
      "cell_type": "code",
      "execution_count": 4,
      "metadata": {
        "colab": {
          "base_uri": "https://localhost:8080/"
        },
        "id": "nhs2S-RuM_hE",
        "outputId": "ca7218b8-3661-48a4-99c2-89435ed7737b"
      },
      "outputs": [
        {
          "output_type": "stream",
          "name": "stderr",
          "text": [
            "Installing package into ‘/usr/local/lib/R/site-library’\n",
            "(as ‘lib’ is unspecified)\n",
            "\n"
          ]
        }
      ],
      "source": [
        "install.packages(\"googledrive\") # instalando package para ler arquivo do Google Drive\n",
        "library(googledrive)"
      ]
    },
    {
      "cell_type": "code",
      "execution_count": 5,
      "metadata": {
        "colab": {
          "base_uri": "https://localhost:8080/"
        },
        "id": "Ba__KoJtS_X-",
        "outputId": "17be5bec-584d-409b-c2af-e0a2ede62106"
      },
      "outputs": [
        {
          "output_type": "stream",
          "name": "stderr",
          "text": [
            "Installing package into ‘/usr/local/lib/R/site-library’\n",
            "(as ‘lib’ is unspecified)\n",
            "\n"
          ]
        }
      ],
      "source": [
        "install.packages(\"ggplot2\") # instalando package do ggplot2 para plotar gráficos\n",
        "library(ggplot2)"
      ]
    },
    {
      "cell_type": "code",
      "source": [
        "install.packages(\"dplyr\") # instalando package do ggplot2 para plotar gráficos\n",
        "library(dplyr)"
      ],
      "metadata": {
        "colab": {
          "base_uri": "https://localhost:8080/"
        },
        "id": "Z--2oHYoxP9Q",
        "outputId": "32034351-706d-415c-de79-612964ece36f"
      },
      "execution_count": 31,
      "outputs": [
        {
          "output_type": "stream",
          "name": "stderr",
          "text": [
            "Installing package into ‘/usr/local/lib/R/site-library’\n",
            "(as ‘lib’ is unspecified)\n",
            "\n",
            "\n",
            "Attaching package: ‘dplyr’\n",
            "\n",
            "\n",
            "The following objects are masked from ‘package:stats’:\n",
            "\n",
            "    filter, lag\n",
            "\n",
            "\n",
            "The following objects are masked from ‘package:base’:\n",
            "\n",
            "    intersect, setdiff, setequal, union\n",
            "\n",
            "\n"
          ]
        }
      ]
    },
    {
      "cell_type": "code",
      "execution_count": 6,
      "metadata": {
        "colab": {
          "base_uri": "https://localhost:8080/"
        },
        "id": "kM-Pq3ejNK8k",
        "outputId": "00ecc87f-9427-4c5d-eb97-a9d19897842c"
      },
      "outputs": [
        {
          "output_type": "stream",
          "name": "stderr",
          "text": [
            "\u001b[1m\u001b[22mIs it OK to cache OAuth access credentials in the folder \u001b[34m~/.cache/gargle\u001b[39m\n",
            "between R sessions?\n",
            "\u001b[1m1\u001b[22m: Yes\n",
            "\u001b[1m2\u001b[22m: No\n"
          ]
        },
        {
          "name": "stdout",
          "output_type": "stream",
          "text": [
            "Selection: 1\n"
          ]
        },
        {
          "output_type": "stream",
          "name": "stderr",
          "text": [
            "Please point your browser to the following url: \n",
            "\n",
            "https://accounts.google.com/o/oauth2/v2/auth?client_id=603366585132-frjlouoa3s2ono25d2l9ukvhlsrlnr7k.apps.googleusercontent.com&scope=https%3A%2F%2Fwww.googleapis.com%2Fauth%2Fdrive%20https%3A%2F%2Fwww.googleapis.com%2Fauth%2Fuserinfo.email&redirect_uri=https%3A%2F%2Fwww.tidyverse.org%2Fgoogle-callback%2F&response_type=code&state=0052f5a97a0e1e5669687a108afbd505&access_type=offline&prompt=consent\n",
            "\n"
          ]
        },
        {
          "name": "stdout",
          "output_type": "stream",
          "text": [
            "Enter authorization code: eyJjb2RlIjoiNC8wQVFsRWQ4ekM4RFlFbDE2RDBiZEYyTTllM0xrTFktYXlHUjdGRm1LZGZ2SGJnRkpMdGZFVFowX3RRU0JNT0RULVVsMHdIdyIsInN0YXRlIjoiMDA1MmY1YTk3YTBlMWU1NjY5Njg3YTEwOGFmYmQ1MDUifQ==\n"
          ]
        }
      ],
      "source": [
        "drive_auth() # autenticando acesso ao Google Drive"
      ]
    },
    {
      "cell_type": "code",
      "execution_count": 7,
      "metadata": {
        "colab": {
          "base_uri": "https://localhost:8080/"
        },
        "id": "83IiMs0YNaQs",
        "outputId": "6b27bfdb-27ea-4e22-ac80-e50c33cfe75d"
      },
      "outputs": [
        {
          "output_type": "stream",
          "name": "stderr",
          "text": [
            "File downloaded:\n",
            "\n",
            "• \u001b[36m2023_Viagem_edit.csv\u001b[39m \u001b[90m<id: 1ClfStukd0v3P2_NKXfQ9oSWVjAuFbzqR>\u001b[39m\n",
            "\n",
            "Saved locally as:\n",
            "\n",
            "• \u001b[34m2023_Viagem_edit.csv\u001b[39m\n",
            "\n"
          ]
        }
      ],
      "source": [
        "drive_download(file = \"2023_Viagem_edit.csv\", path = \"2023_Viagem_edit.csv\", overwrite = TRUE) # baixando arquivo no ambiente R"
      ]
    },
    {
      "cell_type": "code",
      "execution_count": 8,
      "metadata": {
        "colab": {
          "base_uri": "https://localhost:8080/",
          "height": 1000
        },
        "id": "sn2J59dqu07E",
        "outputId": "734457d0-7b82-4a37-c144-f68b696c7cbe"
      },
      "outputs": [
        {
          "output_type": "display_data",
          "data": {
            "text/html": [
              "<table class=\"dataframe\">\n",
              "<caption>A data.frame: 6 × 22</caption>\n",
              "<thead>\n",
              "\t<tr><th></th><th scope=col>Identificador.do.processo.de.viagem</th><th scope=col>Numero.da.Proposta..PCDP.</th><th scope=col>Situacao</th><th scope=col>Viagem.Urgente</th><th scope=col>Justificativa.Urgencia.Viagem</th><th scope=col>Codigo.do.orgao.superior</th><th scope=col>Nome.do.orgao.superior</th><th scope=col>Codigo.orgao.solicitante</th><th scope=col>Nome.orgao.solicitante</th><th scope=col>CPF.viajante</th><th scope=col>⋯</th><th scope=col>Funcao</th><th scope=col>Descricao.Funcao</th><th scope=col>Periodo...Data.de.inicio</th><th scope=col>Periodo...Data.de.fim</th><th scope=col>Destinos</th><th scope=col>Motivo</th><th scope=col>Valor.diarias</th><th scope=col>Valor.passagens</th><th scope=col>Valor.devolucao</th><th scope=col>Valor.outros.gastos</th></tr>\n",
              "\t<tr><th></th><th scope=col>&lt;int&gt;</th><th scope=col>&lt;chr&gt;</th><th scope=col>&lt;chr&gt;</th><th scope=col>&lt;chr&gt;</th><th scope=col>&lt;chr&gt;</th><th scope=col>&lt;int&gt;</th><th scope=col>&lt;chr&gt;</th><th scope=col>&lt;int&gt;</th><th scope=col>&lt;chr&gt;</th><th scope=col>&lt;chr&gt;</th><th scope=col>⋯</th><th scope=col>&lt;chr&gt;</th><th scope=col>&lt;chr&gt;</th><th scope=col>&lt;chr&gt;</th><th scope=col>&lt;chr&gt;</th><th scope=col>&lt;chr&gt;</th><th scope=col>&lt;chr&gt;</th><th scope=col>&lt;chr&gt;</th><th scope=col>&lt;chr&gt;</th><th scope=col>&lt;chr&gt;</th><th scope=col>&lt;chr&gt;</th></tr>\n",
              "</thead>\n",
              "<tbody>\n",
              "\t<tr><th scope=row>1</th><td>17821923</td><td>000001/23-1C </td><td>Realizada</td><td>NaO</td><td>Sem informacao                                                                                                                                                                                                                                 </td><td>26000</td><td>Ministerio da Educacao                   </td><td>26352</td><td>Fundacao Universidade Federal do ABC</td><td>***.875.238-**</td><td>⋯</td><td>-1        </td><td>Sem informacao                   </td><td>01/01/2023</td><td>02/12/2023</td><td>Loughborough/Reino Unido           </td><td>Intercambio academico PCDP anterior 07/21-3C                                                                                                                                                                                                                              </td><td>0,00    </td><td>0,00    </td><td>0,00</td><td>0,00   </td></tr>\n",
              "\t<tr><th scope=row>2</th><td>18236583</td><td>000018/23    </td><td>Realizada</td><td>NaO</td><td>Sem informacao                                                                                                                                                                                                                                 </td><td>26000</td><td>Ministerio da Educacao                   </td><td>26236</td><td>Universidade Federal Fluminense     </td><td>              </td><td>⋯</td><td>-1        </td><td>Sem informacao                   </td><td>16/01/2023</td><td>28/02/2024</td><td>Rio de Janeiro/RJ                  </td><td>Afastamento para pos-graduacao stricto sensu no nivel de mestrado junto ao Programa de Pos Graduacao em Divulgacao da Ciencia, Tecnologia e Saude da FIOCRUZ, conforme processo SEI-UFF no 23069.164538/2022-76, autorizado pela chefia e publicado em Boletim de Servico.</td><td>0,00    </td><td>0,00    </td><td>0,00</td><td>0,00   </td></tr>\n",
              "\t<tr><th scope=row>3</th><td>18288418</td><td>000007/23-1C </td><td>Realizada</td><td>SIM</td><td>Por necessidade do servico.                                                                                                                                                                                                                    </td><td>52000</td><td>Ministerio da Defesa                     </td><td>52121</td><td>Comando do Exercito                 </td><td>***.621.358-**</td><td>⋯</td><td>OfSuperior</td><td>OfSuperior                       </td><td>10/01/2023</td><td>29/01/2023</td><td>Nova York/Estados Unidos da America</td><td>Participar da revisao do COE Manual (Contingent Owned Equipment) da ONU (Atv PVANA D2NN-B217A), a ser realizada na cidade de Nova Iorque, Estados Unidos da America. CC S025296M                                                                                          </td><td>39565,70</td><td>7434,13 </td><td>0,00</td><td>1095,35</td></tr>\n",
              "\t<tr><th scope=row>4</th><td>18296348</td><td>000070/23    </td><td>Realizada</td><td>SIM</td><td>A efetivacao do empenho no Siafi e a respectiva inclusao no SCDSP, assim como o cadastro do teto orcamentario por parte da Proad deram-se em data fora do prazo regimental de 15 dias de antecedencia (15 dias anteriores ao inicio da viagem).</td><td>26000</td><td>Ministerio da Educacao                   </td><td>26406</td><td>Instituto Federal do Espirito Santo </td><td>***.407.547-**</td><td>⋯</td><td>-1        </td><td>Sem informacao                   </td><td>05/02/2023</td><td>10/02/2023</td><td>Vitoria/ES                         </td><td>Participacao das aulas de Mestrado Interinstitucional em Administracao - PPGAdm/UFES/IFES, sob o no de matricula 2022130396, conforme horario individual em anexo, mes fevereiro de 2023.                                                                                 </td><td>1013,96 </td><td>0,00    </td><td>0,00</td><td>0,00   </td></tr>\n",
              "\t<tr><th scope=row>5</th><td>18302983</td><td>000001/23    </td><td>Realizada</td><td>NaO</td><td>Sem informacao                                                                                                                                                                                                                                 </td><td>52000</td><td>Ministerio da Defesa                     </td><td>52111</td><td>Comando da Aeronautica              </td><td>***.855.388-**</td><td>⋯</td><td>OfIntermed</td><td>OfIntermed                       </td><td>01/01/2023</td><td>07/07/2023</td><td>Gotemburgo/Suecia                  </td><td>PARTICIPAR DO CURSO DE PILOTO DE GRIPEN C/D.                                                                                                                                                                                                                              </td><td>0,00    </td><td>14903,10</td><td>0,00</td><td>0,00   </td></tr>\n",
              "\t<tr><th scope=row>6</th><td>18303291</td><td>Informacoes p</td><td>Realizada</td><td>NaO</td><td>Informacao protegida por sigilo nos termos da legislacao vigente                                                                                                                                                                               </td><td>30000</td><td>Ministerio da Justica e Seguranca Publica</td><td>30108</td><td>Policia Federal                     </td><td>ID001000345   </td><td>⋯</td><td>-11       </td><td>Informacoes protegidas por sigilo</td><td>02/01/2023</td><td>01/02/2023</td><td>Informacoes protegidas por sigilo  </td><td>Informacao protegida por sigilo nos termos da legislacao vigente                                                                                                                                                                                                          </td><td>9895,35 </td><td>2553,62 </td><td>0,00</td><td>0,00   </td></tr>\n",
              "</tbody>\n",
              "</table>\n"
            ],
            "text/markdown": "\nA data.frame: 6 × 22\n\n| <!--/--> | Identificador.do.processo.de.viagem &lt;int&gt; | Numero.da.Proposta..PCDP. &lt;chr&gt; | Situacao &lt;chr&gt; | Viagem.Urgente &lt;chr&gt; | Justificativa.Urgencia.Viagem &lt;chr&gt; | Codigo.do.orgao.superior &lt;int&gt; | Nome.do.orgao.superior &lt;chr&gt; | Codigo.orgao.solicitante &lt;int&gt; | Nome.orgao.solicitante &lt;chr&gt; | CPF.viajante &lt;chr&gt; | ⋯ ⋯ | Funcao &lt;chr&gt; | Descricao.Funcao &lt;chr&gt; | Periodo...Data.de.inicio &lt;chr&gt; | Periodo...Data.de.fim &lt;chr&gt; | Destinos &lt;chr&gt; | Motivo &lt;chr&gt; | Valor.diarias &lt;chr&gt; | Valor.passagens &lt;chr&gt; | Valor.devolucao &lt;chr&gt; | Valor.outros.gastos &lt;chr&gt; |\n|---|---|---|---|---|---|---|---|---|---|---|---|---|---|---|---|---|---|---|---|---|---|\n| 1 | 17821923 | 000001/23-1C  | Realizada | NaO | Sem informacao                                                                                                                                                                                                                                  | 26000 | Ministerio da Educacao                    | 26352 | Fundacao Universidade Federal do ABC | ***.875.238-** | ⋯ | -1         | Sem informacao                    | 01/01/2023 | 02/12/2023 | Loughborough/Reino Unido            | Intercambio academico PCDP anterior 07/21-3C                                                                                                                                                                                                                               | 0,00     | 0,00     | 0,00 | 0,00    |\n| 2 | 18236583 | 000018/23     | Realizada | NaO | Sem informacao                                                                                                                                                                                                                                  | 26000 | Ministerio da Educacao                    | 26236 | Universidade Federal Fluminense      | <!----> | ⋯ | -1         | Sem informacao                    | 16/01/2023 | 28/02/2024 | Rio de Janeiro/RJ                   | Afastamento para pos-graduacao stricto sensu no nivel de mestrado junto ao Programa de Pos Graduacao em Divulgacao da Ciencia, Tecnologia e Saude da FIOCRUZ, conforme processo SEI-UFF no 23069.164538/2022-76, autorizado pela chefia e publicado em Boletim de Servico. | 0,00     | 0,00     | 0,00 | 0,00    |\n| 3 | 18288418 | 000007/23-1C  | Realizada | SIM | Por necessidade do servico.                                                                                                                                                                                                                     | 52000 | Ministerio da Defesa                      | 52121 | Comando do Exercito                  | ***.621.358-** | ⋯ | OfSuperior | OfSuperior                        | 10/01/2023 | 29/01/2023 | Nova York/Estados Unidos da America | Participar da revisao do COE Manual (Contingent Owned Equipment) da ONU (Atv PVANA D2NN-B217A), a ser realizada na cidade de Nova Iorque, Estados Unidos da America. CC S025296M                                                                                           | 39565,70 | 7434,13  | 0,00 | 1095,35 |\n| 4 | 18296348 | 000070/23     | Realizada | SIM | A efetivacao do empenho no Siafi e a respectiva inclusao no SCDSP, assim como o cadastro do teto orcamentario por parte da Proad deram-se em data fora do prazo regimental de 15 dias de antecedencia (15 dias anteriores ao inicio da viagem). | 26000 | Ministerio da Educacao                    | 26406 | Instituto Federal do Espirito Santo  | ***.407.547-** | ⋯ | -1         | Sem informacao                    | 05/02/2023 | 10/02/2023 | Vitoria/ES                          | Participacao das aulas de Mestrado Interinstitucional em Administracao - PPGAdm/UFES/IFES, sob o no de matricula 2022130396, conforme horario individual em anexo, mes fevereiro de 2023.                                                                                  | 1013,96  | 0,00     | 0,00 | 0,00    |\n| 5 | 18302983 | 000001/23     | Realizada | NaO | Sem informacao                                                                                                                                                                                                                                  | 52000 | Ministerio da Defesa                      | 52111 | Comando da Aeronautica               | ***.855.388-** | ⋯ | OfIntermed | OfIntermed                        | 01/01/2023 | 07/07/2023 | Gotemburgo/Suecia                   | PARTICIPAR DO CURSO DE PILOTO DE GRIPEN C/D.                                                                                                                                                                                                                               | 0,00     | 14903,10 | 0,00 | 0,00    |\n| 6 | 18303291 | Informacoes p | Realizada | NaO | Informacao protegida por sigilo nos termos da legislacao vigente                                                                                                                                                                                | 30000 | Ministerio da Justica e Seguranca Publica | 30108 | Policia Federal                      | ID001000345    | ⋯ | -11        | Informacoes protegidas por sigilo | 02/01/2023 | 01/02/2023 | Informacoes protegidas por sigilo   | Informacao protegida por sigilo nos termos da legislacao vigente                                                                                                                                                                                                           | 9895,35  | 2553,62  | 0,00 | 0,00    |\n\n",
            "text/latex": "A data.frame: 6 × 22\n\\begin{tabular}{r|lllllllllllllllllllll}\n  & Identificador.do.processo.de.viagem & Numero.da.Proposta..PCDP. & Situacao & Viagem.Urgente & Justificativa.Urgencia.Viagem & Codigo.do.orgao.superior & Nome.do.orgao.superior & Codigo.orgao.solicitante & Nome.orgao.solicitante & CPF.viajante & ⋯ & Funcao & Descricao.Funcao & Periodo...Data.de.inicio & Periodo...Data.de.fim & Destinos & Motivo & Valor.diarias & Valor.passagens & Valor.devolucao & Valor.outros.gastos\\\\\n  & <int> & <chr> & <chr> & <chr> & <chr> & <int> & <chr> & <int> & <chr> & <chr> & ⋯ & <chr> & <chr> & <chr> & <chr> & <chr> & <chr> & <chr> & <chr> & <chr> & <chr>\\\\\n\\hline\n\t1 & 17821923 & 000001/23-1C  & Realizada & NaO & Sem informacao                                                                                                                                                                                                                                  & 26000 & Ministerio da Educacao                    & 26352 & Fundacao Universidade Federal do ABC & ***.875.238-** & ⋯ & -1         & Sem informacao                    & 01/01/2023 & 02/12/2023 & Loughborough/Reino Unido            & Intercambio academico PCDP anterior 07/21-3C                                                                                                                                                                                                                               & 0,00     & 0,00     & 0,00 & 0,00   \\\\\n\t2 & 18236583 & 000018/23     & Realizada & NaO & Sem informacao                                                                                                                                                                                                                                  & 26000 & Ministerio da Educacao                    & 26236 & Universidade Federal Fluminense      &                & ⋯ & -1         & Sem informacao                    & 16/01/2023 & 28/02/2024 & Rio de Janeiro/RJ                   & Afastamento para pos-graduacao stricto sensu no nivel de mestrado junto ao Programa de Pos Graduacao em Divulgacao da Ciencia, Tecnologia e Saude da FIOCRUZ, conforme processo SEI-UFF no 23069.164538/2022-76, autorizado pela chefia e publicado em Boletim de Servico. & 0,00     & 0,00     & 0,00 & 0,00   \\\\\n\t3 & 18288418 & 000007/23-1C  & Realizada & SIM & Por necessidade do servico.                                                                                                                                                                                                                     & 52000 & Ministerio da Defesa                      & 52121 & Comando do Exercito                  & ***.621.358-** & ⋯ & OfSuperior & OfSuperior                        & 10/01/2023 & 29/01/2023 & Nova York/Estados Unidos da America & Participar da revisao do COE Manual (Contingent Owned Equipment) da ONU (Atv PVANA D2NN-B217A), a ser realizada na cidade de Nova Iorque, Estados Unidos da America. CC S025296M                                                                                           & 39565,70 & 7434,13  & 0,00 & 1095,35\\\\\n\t4 & 18296348 & 000070/23     & Realizada & SIM & A efetivacao do empenho no Siafi e a respectiva inclusao no SCDSP, assim como o cadastro do teto orcamentario por parte da Proad deram-se em data fora do prazo regimental de 15 dias de antecedencia (15 dias anteriores ao inicio da viagem). & 26000 & Ministerio da Educacao                    & 26406 & Instituto Federal do Espirito Santo  & ***.407.547-** & ⋯ & -1         & Sem informacao                    & 05/02/2023 & 10/02/2023 & Vitoria/ES                          & Participacao das aulas de Mestrado Interinstitucional em Administracao - PPGAdm/UFES/IFES, sob o no de matricula 2022130396, conforme horario individual em anexo, mes fevereiro de 2023.                                                                                  & 1013,96  & 0,00     & 0,00 & 0,00   \\\\\n\t5 & 18302983 & 000001/23     & Realizada & NaO & Sem informacao                                                                                                                                                                                                                                  & 52000 & Ministerio da Defesa                      & 52111 & Comando da Aeronautica               & ***.855.388-** & ⋯ & OfIntermed & OfIntermed                        & 01/01/2023 & 07/07/2023 & Gotemburgo/Suecia                   & PARTICIPAR DO CURSO DE PILOTO DE GRIPEN C/D.                                                                                                                                                                                                                               & 0,00     & 14903,10 & 0,00 & 0,00   \\\\\n\t6 & 18303291 & Informacoes p & Realizada & NaO & Informacao protegida por sigilo nos termos da legislacao vigente                                                                                                                                                                                & 30000 & Ministerio da Justica e Seguranca Publica & 30108 & Policia Federal                      & ID001000345    & ⋯ & -11        & Informacoes protegidas por sigilo & 02/01/2023 & 01/02/2023 & Informacoes protegidas por sigilo   & Informacao protegida por sigilo nos termos da legislacao vigente                                                                                                                                                                                                           & 9895,35  & 2553,62  & 0,00 & 0,00   \\\\\n\\end{tabular}\n",
            "text/plain": [
              "  Identificador.do.processo.de.viagem Numero.da.Proposta..PCDP. Situacao \n",
              "1 17821923                            000001/23-1C              Realizada\n",
              "2 18236583                            000018/23                 Realizada\n",
              "3 18288418                            000007/23-1C              Realizada\n",
              "4 18296348                            000070/23                 Realizada\n",
              "5 18302983                            000001/23                 Realizada\n",
              "6 18303291                            Informacoes p             Realizada\n",
              "  Viagem.Urgente\n",
              "1 NaO           \n",
              "2 NaO           \n",
              "3 SIM           \n",
              "4 SIM           \n",
              "5 NaO           \n",
              "6 NaO           \n",
              "  Justificativa.Urgencia.Viagem                                                                                                                                                                                                                  \n",
              "1 Sem informacao                                                                                                                                                                                                                                 \n",
              "2 Sem informacao                                                                                                                                                                                                                                 \n",
              "3 Por necessidade do servico.                                                                                                                                                                                                                    \n",
              "4 A efetivacao do empenho no Siafi e a respectiva inclusao no SCDSP, assim como o cadastro do teto orcamentario por parte da Proad deram-se em data fora do prazo regimental de 15 dias de antecedencia (15 dias anteriores ao inicio da viagem).\n",
              "5 Sem informacao                                                                                                                                                                                                                                 \n",
              "6 Informacao protegida por sigilo nos termos da legislacao vigente                                                                                                                                                                               \n",
              "  Codigo.do.orgao.superior Nome.do.orgao.superior                   \n",
              "1 26000                    Ministerio da Educacao                   \n",
              "2 26000                    Ministerio da Educacao                   \n",
              "3 52000                    Ministerio da Defesa                     \n",
              "4 26000                    Ministerio da Educacao                   \n",
              "5 52000                    Ministerio da Defesa                     \n",
              "6 30000                    Ministerio da Justica e Seguranca Publica\n",
              "  Codigo.orgao.solicitante Nome.orgao.solicitante               CPF.viajante  \n",
              "1 26352                    Fundacao Universidade Federal do ABC ***.875.238-**\n",
              "2 26236                    Universidade Federal Fluminense                    \n",
              "3 52121                    Comando do Exercito                  ***.621.358-**\n",
              "4 26406                    Instituto Federal do Espirito Santo  ***.407.547-**\n",
              "5 52111                    Comando da Aeronautica               ***.855.388-**\n",
              "6 30108                    Policia Federal                      ID001000345   \n",
              "  ⋯ Funcao     Descricao.Funcao                  Periodo...Data.de.inicio\n",
              "1 ⋯ -1         Sem informacao                    01/01/2023              \n",
              "2 ⋯ -1         Sem informacao                    16/01/2023              \n",
              "3 ⋯ OfSuperior OfSuperior                        10/01/2023              \n",
              "4 ⋯ -1         Sem informacao                    05/02/2023              \n",
              "5 ⋯ OfIntermed OfIntermed                        01/01/2023              \n",
              "6 ⋯ -11        Informacoes protegidas por sigilo 02/01/2023              \n",
              "  Periodo...Data.de.fim Destinos                           \n",
              "1 02/12/2023            Loughborough/Reino Unido           \n",
              "2 28/02/2024            Rio de Janeiro/RJ                  \n",
              "3 29/01/2023            Nova York/Estados Unidos da America\n",
              "4 10/02/2023            Vitoria/ES                         \n",
              "5 07/07/2023            Gotemburgo/Suecia                  \n",
              "6 01/02/2023            Informacoes protegidas por sigilo  \n",
              "  Motivo                                                                                                                                                                                                                                                                    \n",
              "1 Intercambio academico PCDP anterior 07/21-3C                                                                                                                                                                                                                              \n",
              "2 Afastamento para pos-graduacao stricto sensu no nivel de mestrado junto ao Programa de Pos Graduacao em Divulgacao da Ciencia, Tecnologia e Saude da FIOCRUZ, conforme processo SEI-UFF no 23069.164538/2022-76, autorizado pela chefia e publicado em Boletim de Servico.\n",
              "3 Participar da revisao do COE Manual (Contingent Owned Equipment) da ONU (Atv PVANA D2NN-B217A), a ser realizada na cidade de Nova Iorque, Estados Unidos da America. CC S025296M                                                                                          \n",
              "4 Participacao das aulas de Mestrado Interinstitucional em Administracao - PPGAdm/UFES/IFES, sob o no de matricula 2022130396, conforme horario individual em anexo, mes fevereiro de 2023.                                                                                 \n",
              "5 PARTICIPAR DO CURSO DE PILOTO DE GRIPEN C/D.                                                                                                                                                                                                                              \n",
              "6 Informacao protegida por sigilo nos termos da legislacao vigente                                                                                                                                                                                                          \n",
              "  Valor.diarias Valor.passagens Valor.devolucao Valor.outros.gastos\n",
              "1 0,00          0,00            0,00            0,00               \n",
              "2 0,00          0,00            0,00            0,00               \n",
              "3 39565,70      7434,13         0,00            1095,35            \n",
              "4 1013,96       0,00            0,00            0,00               \n",
              "5 0,00          14903,10        0,00            0,00               \n",
              "6 9895,35       2553,62         0,00            0,00               "
            ]
          },
          "metadata": {}
        }
      ],
      "source": [
        "df <- read.csv (\"2023_Viagem_edit.csv\",sep=\";\") # lendo o dataframe\n",
        "head(df)"
      ]
    },
    {
      "cell_type": "code",
      "execution_count": 9,
      "metadata": {
        "colab": {
          "base_uri": "https://localhost:8080/",
          "height": 34
        },
        "id": "dhdr3PFtvsXi",
        "outputId": "27c853ae-7518-467d-e7f1-6e97294443bc"
      },
      "outputs": [
        {
          "output_type": "display_data",
          "data": {
            "text/html": [
              "826397"
            ],
            "text/markdown": "826397",
            "text/latex": "826397",
            "text/plain": [
              "[1] 826397"
            ]
          },
          "metadata": {}
        }
      ],
      "source": [
        "nrow(df) # número de linhas do dataframe"
      ]
    },
    {
      "cell_type": "code",
      "execution_count": 10,
      "metadata": {
        "colab": {
          "base_uri": "https://localhost:8080/",
          "height": 34
        },
        "id": "ZxuRsWlYv0EY",
        "outputId": "9657c80a-842b-4a2d-97bb-2c9776052424"
      },
      "outputs": [
        {
          "output_type": "display_data",
          "data": {
            "text/html": [
              "22"
            ],
            "text/markdown": "22",
            "text/latex": "22",
            "text/plain": [
              "[1] 22"
            ]
          },
          "metadata": {}
        }
      ],
      "source": [
        "ncol(df) # número de atributos do dataframe"
      ]
    },
    {
      "cell_type": "code",
      "execution_count": 11,
      "metadata": {
        "colab": {
          "base_uri": "https://localhost:8080/",
          "height": 989
        },
        "id": "HUESImXjv08g",
        "outputId": "3da09add-c68f-4faa-8bb1-ea1daf3dc0cf"
      },
      "outputs": [
        {
          "output_type": "display_data",
          "data": {
            "text/plain": [
              " Identificador.do.processo.de.viagem Numero.da.Proposta..PCDP.\n",
              " Min.   :1.782e+07                   Length:826397            \n",
              " 1st Qu.:1.888e+07                   Class :character         \n",
              " Median :1.913e+07                   Mode  :character         \n",
              " Mean   :2.158e+07                                            \n",
              " 3rd Qu.:1.940e+07                                            \n",
              " Max.   :2.023e+09                                            \n",
              "   Situacao         Viagem.Urgente     Justificativa.Urgencia.Viagem\n",
              " Length:826397      Length:826397      Length:826397                \n",
              " Class :character   Class :character   Class :character             \n",
              " Mode  :character   Mode  :character   Mode  :character             \n",
              "                                                                    \n",
              "                                                                    \n",
              "                                                                    \n",
              " Codigo.do.orgao.superior Nome.do.orgao.superior Codigo.orgao.solicitante\n",
              " Min.   :   -1            Length:826397          Min.   :   -1           \n",
              " 1st Qu.:22000            Class :character       1st Qu.:22000           \n",
              " Median :30000            Mode  :character       Median :26414           \n",
              " Mean   :29841                                   Mean   :27365           \n",
              " 3rd Qu.:47000                                   3rd Qu.:37202           \n",
              " Max.   :84000                                   Max.   :64000           \n",
              " Nome.orgao.solicitante CPF.viajante           Nome          \n",
              " Length:826397          Length:826397      Length:826397     \n",
              " Class :character       Class :character   Class :character  \n",
              " Mode  :character       Mode  :character   Mode  :character  \n",
              "                                                             \n",
              "                                                             \n",
              "                                                             \n",
              "    Cargo              Funcao          Descricao.Funcao  \n",
              " Length:826397      Length:826397      Length:826397     \n",
              " Class :character   Class :character   Class :character  \n",
              " Mode  :character   Mode  :character   Mode  :character  \n",
              "                                                         \n",
              "                                                         \n",
              "                                                         \n",
              " Periodo...Data.de.inicio Periodo...Data.de.fim   Destinos        \n",
              " Length:826397            Length:826397         Length:826397     \n",
              " Class :character         Class :character      Class :character  \n",
              " Mode  :character         Mode  :character      Mode  :character  \n",
              "                                                                  \n",
              "                                                                  \n",
              "                                                                  \n",
              "    Motivo          Valor.diarias      Valor.passagens    Valor.devolucao   \n",
              " Length:826397      Length:826397      Length:826397      Length:826397     \n",
              " Class :character   Class :character   Class :character   Class :character  \n",
              " Mode  :character   Mode  :character   Mode  :character   Mode  :character  \n",
              "                                                                            \n",
              "                                                                            \n",
              "                                                                            \n",
              " Valor.outros.gastos\n",
              " Length:826397      \n",
              " Class :character   \n",
              " Mode  :character   \n",
              "                    \n",
              "                    \n",
              "                    "
            ]
          },
          "metadata": {}
        }
      ],
      "source": [
        "summary(df) # resumindo o dataframe"
      ]
    },
    {
      "cell_type": "code",
      "execution_count": 12,
      "metadata": {
        "colab": {
          "base_uri": "https://localhost:8080/",
          "height": 972
        },
        "id": "Sn0gwcH-wzQo",
        "outputId": "3bac4074-579e-42ba-f85c-b2bf01cc3f4f"
      },
      "outputs": [
        {
          "output_type": "display_data",
          "data": {
            "text/plain": [
              "\n",
              "                                     Advocacia-Geral da Uniao \n",
              "                                                         3734 \n",
              "                                 Controladoria-Geral da Uniao \n",
              "                                                         2086 \n",
              "                         Ministerio da Agricultura e Pecuaria \n",
              "                                                        28955 \n",
              "                 Ministerio da Ciencia, Tecnologia e Inovacao \n",
              "                                                         2492 \n",
              "                                        Ministerio da Cultura \n",
              "                                                         3888 \n",
              "                                         Ministerio da Defesa \n",
              "                                                       141348 \n",
              "                                       Ministerio da Educacao \n",
              "                                                       171929 \n",
              "                                        Ministerio da Fazenda \n",
              "                                                          655 \n",
              "      Ministerio da Gestao e da Inovacao em Servicos Publicos \n",
              "                                                          232 \n",
              "       Ministerio da Integracao e do Desenvolvimento Regional \n",
              "                                                         4407 \n",
              "                    Ministerio da Justica e Seguranca Publica \n",
              "                                                       110660 \n",
              "                             Ministerio da Previdencia Social \n",
              "                                                        19599 \n",
              "                                          Ministerio da Saude \n",
              "                                                        21672 \n",
              "                                  Ministerio das Comunicacoes \n",
              "                                                         3459 \n",
              "                           Ministerio das Relacoes Exteriores \n",
              "                                                         5717 \n",
              "                                Ministerio de Minas e Energia \n",
              "                                                         4375 \n",
              " Ministerio do Desenvolvimento Agrario e Agricultura Familiar \n",
              "                                                        14366 \n",
              "Ministerio do Desenvolvimento, Industria, Comercio e Servicos \n",
              "                                                         2469 \n",
              "               Ministerio do Meio Ambiente e Mudanca do Clima \n",
              "                                                        42274 \n",
              "                       Ministerio do Planejamento e Orcamento \n",
              "                                                        33787 \n",
              "                             Ministerio do Trabalho e Emprego \n",
              "                                                          183 \n",
              "                                        Ministerio do Turismo \n",
              "                                                          511 \n",
              "                  Ministerio dos Direitos Humanos e Cidadania \n",
              "                                                         2885 \n",
              "                               Ministerio dos Povos Indigenas \n",
              "                                                         9126 \n",
              "                                   Ministerio dos Transportes \n",
              "                                                        18063 \n",
              "                                     Presidencia da Republica \n",
              "                                                        13886 \n",
              "                                               Sem informacao \n",
              "                                                       163639 "
            ]
          },
          "metadata": {}
        }
      ],
      "source": [
        "table(df$Nome.do.orgao.superior) # listando os nomes dos órgãos superiores"
      ]
    },
    {
      "cell_type": "code",
      "execution_count": 13,
      "metadata": {
        "colab": {
          "base_uri": "https://localhost:8080/",
          "height": 1000
        },
        "id": "oG--cbBLPZOV",
        "outputId": "ba534452-7547-48c0-c7b8-9e54e98ee3a8"
      },
      "outputs": [
        {
          "output_type": "display_data",
          "data": {
            "text/plain": [
              "\n",
              "                                         \n",
              "                                      12 \n",
              "                   Alunos CFOAeronautica \n",
              "                                       6 \n",
              "    Alunos Escolas Preparatorias Cadetes \n",
              "                                       2 \n",
              "Alunos orgao Preparacao Oficiais Reserva \n",
              "                                       4 \n",
              "                     Aspirante a Oficial \n",
              "                                     187 \n",
              "                              Aspirantes \n",
              "                                     228 \n",
              "                                 Cadetes \n",
              "                                     163 \n",
              "        Cargo Comissionado de Assessoria \n",
              "                                     445 \n",
              "       Cargo Comissionado de Assistencia \n",
              "                                     239 \n",
              "           Cargo Comissionado de Direcao \n",
              "                                   34321 \n",
              "              Cargo Comissionado Tecnico \n",
              "                                    6484 \n",
              "                 Cargo de Assessoramento \n",
              "                                      79 \n",
              "                    Cargo de Coordenacao \n",
              "                                      98 \n",
              "                        Cargo de Direcao \n",
              "                                      47 \n",
              "             Cargo de Gerencia Executiva \n",
              "                                    3268 \n",
              "              Cargo de Natureza Especial \n",
              "                                    1475 \n",
              "                          Cargo Superior \n",
              "                                      11 \n",
              "                Cargos Natureza Especial \n",
              "                                      20 \n",
              "                                    CCT4 \n",
              "                                       2 \n",
              "                                CCX-0101 \n",
              "                                      46 \n",
              "                                CCX-0102 \n",
              "                                     119 \n",
              "                                CCX-0103 \n",
              "                                      13 \n",
              "                                CCX-0104 \n",
              "                                      46 \n",
              "                                CCX-0105 \n",
              "                                    1976 \n",
              "                                CCX-0106 \n",
              "                                      45 \n",
              "                                CCX-0107 \n",
              "                                    1243 \n",
              "                                CCX-0108 \n",
              "                                      13 \n",
              "                                CCX-0109 \n",
              "                                      26 \n",
              "                                CCX-0110 \n",
              "                                    3003 \n",
              "                                CCX-0111 \n",
              "                                      32 \n",
              "                                CCX-0112 \n",
              "                                      29 \n",
              "                                CCX-0113 \n",
              "                                    7165 \n",
              "                                CCX-0114 \n",
              "                                     310 \n",
              "                                CCX-0115 \n",
              "                                    5500 \n",
              "                                CCX-0116 \n",
              "                                     245 \n",
              "                                CCX-0117 \n",
              "                                    3801 \n",
              "                                CCX-0118 \n",
              "                                     953 \n",
              "                                CCX-0201 \n",
              "                                       9 \n",
              "                                CCX-0202 \n",
              "                                       2 \n",
              "                                CCX-0203 \n",
              "                                      33 \n",
              "                                CCX-0204 \n",
              "                                      27 \n",
              "                                CCX-0205 \n",
              "                                     776 \n",
              "                                CCX-0206 \n",
              "                                      55 \n",
              "                                CCX-0207 \n",
              "                                     587 \n",
              "                                CCX-0208 \n",
              "                                      97 \n",
              "                                CCX-0209 \n",
              "                                      17 \n",
              "                                CCX-0210 \n",
              "                                     723 \n",
              "                                CCX-0211 \n",
              "                                      10 \n",
              "                                CCX-0212 \n",
              "                                      24 \n",
              "                                CCX-0213 \n",
              "                                    1538 \n",
              "                                CCX-0214 \n",
              "                                      60 \n",
              "                                CCX-0215 \n",
              "                                     989 \n",
              "                                CCX-0216 \n",
              "                                      35 \n",
              "                                CCX-0217 \n",
              "                                     116 \n",
              "                                CCX-0305 \n",
              "                                       8 \n",
              "                                CCX-0306 \n",
              "                                      11 \n",
              "                                CCX-0307 \n",
              "                                     145 \n",
              "                                CCX-0310 \n",
              "                                     201 \n",
              "                                CCX-0311 \n",
              "                                       1 \n",
              "                                CCX-0313 \n",
              "                                     304 \n",
              "                                CCX-0314 \n",
              "                                       9 \n",
              "                                CCX-0315 \n",
              "                                     244 \n",
              "                                CCX-0316 \n",
              "                                      26 \n",
              "                                 CETG-IV \n",
              "                                       4 \n",
              "                                  CETG-V \n",
              "                                       1 \n",
              "                                 CETG-VI \n",
              "                                       1 \n",
              "               Comandante da Aeronautica \n",
              "                                      48 \n",
              "                   Comandante da Marinha \n",
              "                                      36 \n",
              "                  Comandante do Exercito \n",
              "                                      51 \n",
              "                                DAS-1031 \n",
              "                                       2 \n",
              "                                DAS-1034 \n",
              "                                       3 \n",
              "                                FEX-0101 \n",
              "                                    2126 \n",
              "                                FEX-0102 \n",
              "                                    7874 \n",
              "                                FEX-0103 \n",
              "                                    2903 \n",
              "                                FEX-0104 \n",
              "                                    1297 \n",
              "                                FEX-0105 \n",
              "                                   12161 \n",
              "                                FEX-0106 \n",
              "                                    1578 \n",
              "                                FEX-0107 \n",
              "                                    6551 \n",
              "                                FEX-0108 \n",
              "                                     272 \n",
              "                                FEX-0109 \n",
              "                                      17 \n",
              "                                FEX-0110 \n",
              "                                    6283 \n",
              "                                FEX-0111 \n",
              "                                     518 \n",
              "                                FEX-0112 \n",
              "                                     151 \n",
              "                                FEX-0113 \n",
              "                                    5256 \n",
              "                                FEX-0114 \n",
              "                                      87 \n",
              "                                FEX-0115 \n",
              "                                    1607 \n",
              "                                FEX-0116 \n",
              "                                     119 \n",
              "                                FEX-0117 \n",
              "                                     326 \n",
              "                                FEX-0201 \n",
              "                                    1360 \n",
              "                                FEX-0202 \n",
              "                                    1054 \n",
              "                                FEX-0203 \n",
              "                                      52 \n",
              "                                FEX-0204 \n",
              "                                      43 \n",
              "                                FEX-0205 \n",
              "                                     570 \n",
              "                                FEX-0206 \n",
              "                                      36 \n",
              "                                FEX-0207 \n",
              "                                     747 \n",
              "                                FEX-0208 \n",
              "                                      29 \n",
              "                                FEX-0209 \n",
              "                                      32 \n",
              "                                FEX-0210 \n",
              "                                     399 \n",
              "                                FEX-0211 \n",
              "                                      18 \n",
              "                                FEX-0212 \n",
              "                                      31 \n",
              "                                FEX-0213 \n",
              "                                     337 \n",
              "                                FEX-0214 \n",
              "                                      35 \n",
              "                                FEX-0215 \n",
              "                                     113 \n",
              "                                FEX-0217 \n",
              "                                      31 \n",
              "                                FEX-0301 \n",
              "                                       1 \n",
              "                                FEX-0302 \n",
              "                                      10 \n",
              "                                FEX-0304 \n",
              "                                      16 \n",
              "                                FEX-0305 \n",
              "                                      65 \n",
              "                                FEX-0306 \n",
              "                                       4 \n",
              "                                FEX-0307 \n",
              "                                     111 \n",
              "                                FEX-0310 \n",
              "                                     162 \n",
              "                                FEX-0313 \n",
              "                                     180 \n",
              "                                FEX-0315 \n",
              "                                      82 \n",
              "                                FEX-0401 \n",
              "                                     152 \n",
              "                                FEX-0402 \n",
              "                                     882 \n",
              "                                FEX-0403 \n",
              "                                     569 \n",
              "                                FEX-0404 \n",
              "                                     217 \n",
              "                                FEX-0405 \n",
              "                                     641 \n",
              "                                FEX-0406 \n",
              "                                      76 \n",
              "                                FEX-0407 \n",
              "                                     114 \n",
              "                                FEX-0408 \n",
              "                                      31 \n",
              "                                FEX-0409 \n",
              "                                      61 \n",
              "                                FEX-0410 \n",
              "                                      69 \n",
              "                                FEX-0411 \n",
              "                                       5 \n",
              "                                FEX-0412 \n",
              "                                       6 \n",
              "                                 FG-0001 \n",
              "                                   11681 \n",
              "                                 FG-0002 \n",
              "                                    7665 \n",
              "                                 FG-0003 \n",
              "                                    1244 \n",
              "                                 FG-0004 \n",
              "                                     327 \n",
              "                                 FG-0005 \n",
              "                                     207 \n",
              "                                 FG-0006 \n",
              "                                      21 \n",
              "                                 FG-0007 \n",
              "                                      26 \n",
              "                                 FG-0008 \n",
              "                                       2 \n",
              "                                   FGR-1 \n",
              "                                    3148 \n",
              "                                   FGR-2 \n",
              "                                     603 \n",
              "                                   FGR-3 \n",
              "                                     498 \n",
              "                                FPE-1011 \n",
              "                                      76 \n",
              "                                FPE-1012 \n",
              "                                      62 \n",
              "                                FPE-1013 \n",
              "                                      11 \n",
              "                                FPE-1014 \n",
              "                                      19 \n",
              "                                FPE-1022 \n",
              "                                       4 \n",
              "                                FPE-1023 \n",
              "                                       1 \n",
              "                                FPE-1024 \n",
              "                                       3 \n",
              "                                FPE-1031 \n",
              "                                       1 \n",
              "                                FPE-1034 \n",
              "                                       2 \n",
              "                                FUC-0001 \n",
              "                                   11155 \n",
              "             Funcao Comissionada Tecnica \n",
              "                                      10 \n",
              "             Funcao Tecnica Comissionada \n",
              "                                       5 \n",
              "                                   GR-04 \n",
              "                                       1 \n",
              "         Gratificacao Temporaria - SIPAM \n",
              "                                     174 \n",
              "                                GSE-0001 \n",
              "                                     261 \n",
              "                                GSE-0004 \n",
              "                                     871 \n",
              "                                GSE-0005 \n",
              "                                     771 \n",
              "                                GSE-0006 \n",
              "                                     985 \n",
              "                                GSE-0007 \n",
              "                                     365 \n",
              "                         Guardas Marinha \n",
              "                                       6 \n",
              "       Informacoes protegidas por sigilo \n",
              "                                  118192 \n",
              "                                Invalido \n",
              "                                      11 \n",
              "                                NES-0086 \n",
              "                                       2 \n",
              "                         Nivel I - RMP01 \n",
              "                                       9 \n",
              "                        Nivel II - RMP02 \n",
              "                                       5 \n",
              "                       Nivel III - RMP03 \n",
              "                                       3 \n",
              "                       Nivel III - RMP05 \n",
              "                                       1 \n",
              "                        Nivel IV - RMP04 \n",
              "                                      13 \n",
              "                       Oficiais Generais \n",
              "                                    4339 \n",
              "                              OfIntermed \n",
              "                                   10629 \n",
              "                              OfSubalter \n",
              "                                   16593 \n",
              "                              OfSuperior \n",
              "                                   22947 \n",
              "                                  Pracas \n",
              "                                   17601 \n",
              "                        Pracas Especiais \n",
              "                                     938 \n",
              "                                RGA-0002 \n",
              "                                      14 \n",
              "                                RGA-0003 \n",
              "                                       9 \n",
              "                                RGA-0004 \n",
              "                                     103 \n",
              "                                RGA-0005 \n",
              "                                     135 \n",
              "                                RMA-0002 \n",
              "                                       2 \n",
              "                                RMA-0004 \n",
              "                                      29 \n",
              "                                RMA-0005 \n",
              "                                      62 \n",
              "                               Sargentos \n",
              "                                   48489 \n",
              "                          Sem informacao \n",
              "                                  401875 \n",
              "                              Suboficial \n",
              "                                    5801 \n",
              "                             Subtenentes \n",
              "                                    3074 "
            ]
          },
          "metadata": {}
        }
      ],
      "source": [
        "table(df$Descricao.Funcao) # listando o campo descrição da função"
      ]
    },
    {
      "cell_type": "code",
      "execution_count": 14,
      "metadata": {
        "colab": {
          "base_uri": "https://localhost:8080/",
          "height": 34
        },
        "id": "wIL-O1fgQGI2",
        "outputId": "62275a6c-8d72-4c0c-face-4b6bfac1c2fc"
      },
      "outputs": [
        {
          "output_type": "display_data",
          "data": {
            "text/html": [
              "118192"
            ],
            "text/markdown": "118192",
            "text/latex": "118192",
            "text/plain": [
              "[1] 118192"
            ]
          },
          "metadata": {}
        }
      ],
      "source": [
        "sum(df$Justificativa.Urgencia.Viagem == \"Informacao protegida por sigilo nos termos da legislacao vigente\", na.rm = TRUE) # quantidade de linhas com informação sigilosa"
      ]
    },
    {
      "cell_type": "code",
      "execution_count": 15,
      "metadata": {
        "id": "XIlTqHEwQhTF"
      },
      "outputs": [],
      "source": [
        "df <- subset(df, Justificativa.Urgencia.Viagem != \"Informacao protegida por sigilo nos termos da legislacao vigente\") # removendo as linhas sigilosas"
      ]
    },
    {
      "cell_type": "code",
      "execution_count": 16,
      "metadata": {
        "colab": {
          "base_uri": "https://localhost:8080/",
          "height": 34
        },
        "id": "0m47j_d4RLd9",
        "outputId": "222e3ac3-dc3f-482c-9101-faef2b9c27bc"
      },
      "outputs": [
        {
          "output_type": "display_data",
          "data": {
            "text/html": [
              "708205"
            ],
            "text/markdown": "708205",
            "text/latex": "708205",
            "text/plain": [
              "[1] 708205"
            ]
          },
          "metadata": {}
        }
      ],
      "source": [
        "nrow(df) # número de linhas do dataframe após a exclusão das linhas sigilosas"
      ]
    },
    {
      "cell_type": "code",
      "execution_count": 17,
      "metadata": {
        "colab": {
          "base_uri": "https://localhost:8080/",
          "height": 1000
        },
        "id": "ELkpKDTBRaX_",
        "outputId": "ece6315c-3004-4902-e7c3-ae5125d38c7e"
      },
      "outputs": [
        {
          "output_type": "display_data",
          "data": {
            "text/plain": [
              "\n",
              "                                         \n",
              "                                      12 \n",
              "                   Alunos CFOAeronautica \n",
              "                                       6 \n",
              "    Alunos Escolas Preparatorias Cadetes \n",
              "                                       2 \n",
              "Alunos orgao Preparacao Oficiais Reserva \n",
              "                                       4 \n",
              "                     Aspirante a Oficial \n",
              "                                     187 \n",
              "                              Aspirantes \n",
              "                                     228 \n",
              "                                 Cadetes \n",
              "                                     163 \n",
              "        Cargo Comissionado de Assessoria \n",
              "                                     445 \n",
              "       Cargo Comissionado de Assistencia \n",
              "                                     239 \n",
              "           Cargo Comissionado de Direcao \n",
              "                                   34321 \n",
              "              Cargo Comissionado Tecnico \n",
              "                                    6484 \n",
              "                 Cargo de Assessoramento \n",
              "                                      79 \n",
              "                    Cargo de Coordenacao \n",
              "                                      98 \n",
              "                        Cargo de Direcao \n",
              "                                      47 \n",
              "             Cargo de Gerencia Executiva \n",
              "                                    3268 \n",
              "              Cargo de Natureza Especial \n",
              "                                    1475 \n",
              "                          Cargo Superior \n",
              "                                      11 \n",
              "                Cargos Natureza Especial \n",
              "                                      20 \n",
              "                                    CCT4 \n",
              "                                       2 \n",
              "                                CCX-0101 \n",
              "                                      46 \n",
              "                                CCX-0102 \n",
              "                                     119 \n",
              "                                CCX-0103 \n",
              "                                      13 \n",
              "                                CCX-0104 \n",
              "                                      46 \n",
              "                                CCX-0105 \n",
              "                                    1976 \n",
              "                                CCX-0106 \n",
              "                                      45 \n",
              "                                CCX-0107 \n",
              "                                    1243 \n",
              "                                CCX-0108 \n",
              "                                      13 \n",
              "                                CCX-0109 \n",
              "                                      26 \n",
              "                                CCX-0110 \n",
              "                                    3003 \n",
              "                                CCX-0111 \n",
              "                                      32 \n",
              "                                CCX-0112 \n",
              "                                      29 \n",
              "                                CCX-0113 \n",
              "                                    7165 \n",
              "                                CCX-0114 \n",
              "                                     310 \n",
              "                                CCX-0115 \n",
              "                                    5500 \n",
              "                                CCX-0116 \n",
              "                                     245 \n",
              "                                CCX-0117 \n",
              "                                    3801 \n",
              "                                CCX-0118 \n",
              "                                     953 \n",
              "                                CCX-0201 \n",
              "                                       9 \n",
              "                                CCX-0202 \n",
              "                                       2 \n",
              "                                CCX-0203 \n",
              "                                      33 \n",
              "                                CCX-0204 \n",
              "                                      27 \n",
              "                                CCX-0205 \n",
              "                                     776 \n",
              "                                CCX-0206 \n",
              "                                      55 \n",
              "                                CCX-0207 \n",
              "                                     587 \n",
              "                                CCX-0208 \n",
              "                                      97 \n",
              "                                CCX-0209 \n",
              "                                      17 \n",
              "                                CCX-0210 \n",
              "                                     723 \n",
              "                                CCX-0211 \n",
              "                                      10 \n",
              "                                CCX-0212 \n",
              "                                      24 \n",
              "                                CCX-0213 \n",
              "                                    1538 \n",
              "                                CCX-0214 \n",
              "                                      60 \n",
              "                                CCX-0215 \n",
              "                                     989 \n",
              "                                CCX-0216 \n",
              "                                      35 \n",
              "                                CCX-0217 \n",
              "                                     116 \n",
              "                                CCX-0305 \n",
              "                                       8 \n",
              "                                CCX-0306 \n",
              "                                      11 \n",
              "                                CCX-0307 \n",
              "                                     145 \n",
              "                                CCX-0310 \n",
              "                                     201 \n",
              "                                CCX-0311 \n",
              "                                       1 \n",
              "                                CCX-0313 \n",
              "                                     304 \n",
              "                                CCX-0314 \n",
              "                                       9 \n",
              "                                CCX-0315 \n",
              "                                     244 \n",
              "                                CCX-0316 \n",
              "                                      26 \n",
              "                                 CETG-IV \n",
              "                                       4 \n",
              "                                  CETG-V \n",
              "                                       1 \n",
              "                                 CETG-VI \n",
              "                                       1 \n",
              "               Comandante da Aeronautica \n",
              "                                      48 \n",
              "                   Comandante da Marinha \n",
              "                                      36 \n",
              "                  Comandante do Exercito \n",
              "                                      51 \n",
              "                                DAS-1031 \n",
              "                                       2 \n",
              "                                DAS-1034 \n",
              "                                       3 \n",
              "                                FEX-0101 \n",
              "                                    2126 \n",
              "                                FEX-0102 \n",
              "                                    7874 \n",
              "                                FEX-0103 \n",
              "                                    2903 \n",
              "                                FEX-0104 \n",
              "                                    1297 \n",
              "                                FEX-0105 \n",
              "                                   12161 \n",
              "                                FEX-0106 \n",
              "                                    1578 \n",
              "                                FEX-0107 \n",
              "                                    6551 \n",
              "                                FEX-0108 \n",
              "                                     272 \n",
              "                                FEX-0109 \n",
              "                                      17 \n",
              "                                FEX-0110 \n",
              "                                    6283 \n",
              "                                FEX-0111 \n",
              "                                     518 \n",
              "                                FEX-0112 \n",
              "                                     151 \n",
              "                                FEX-0113 \n",
              "                                    5256 \n",
              "                                FEX-0114 \n",
              "                                      87 \n",
              "                                FEX-0115 \n",
              "                                    1607 \n",
              "                                FEX-0116 \n",
              "                                     119 \n",
              "                                FEX-0117 \n",
              "                                     326 \n",
              "                                FEX-0201 \n",
              "                                    1360 \n",
              "                                FEX-0202 \n",
              "                                    1054 \n",
              "                                FEX-0203 \n",
              "                                      52 \n",
              "                                FEX-0204 \n",
              "                                      43 \n",
              "                                FEX-0205 \n",
              "                                     570 \n",
              "                                FEX-0206 \n",
              "                                      36 \n",
              "                                FEX-0207 \n",
              "                                     747 \n",
              "                                FEX-0208 \n",
              "                                      29 \n",
              "                                FEX-0209 \n",
              "                                      32 \n",
              "                                FEX-0210 \n",
              "                                     399 \n",
              "                                FEX-0211 \n",
              "                                      18 \n",
              "                                FEX-0212 \n",
              "                                      31 \n",
              "                                FEX-0213 \n",
              "                                     337 \n",
              "                                FEX-0214 \n",
              "                                      35 \n",
              "                                FEX-0215 \n",
              "                                     113 \n",
              "                                FEX-0217 \n",
              "                                      31 \n",
              "                                FEX-0301 \n",
              "                                       1 \n",
              "                                FEX-0302 \n",
              "                                      10 \n",
              "                                FEX-0304 \n",
              "                                      16 \n",
              "                                FEX-0305 \n",
              "                                      65 \n",
              "                                FEX-0306 \n",
              "                                       4 \n",
              "                                FEX-0307 \n",
              "                                     111 \n",
              "                                FEX-0310 \n",
              "                                     162 \n",
              "                                FEX-0313 \n",
              "                                     180 \n",
              "                                FEX-0315 \n",
              "                                      82 \n",
              "                                FEX-0401 \n",
              "                                     152 \n",
              "                                FEX-0402 \n",
              "                                     882 \n",
              "                                FEX-0403 \n",
              "                                     569 \n",
              "                                FEX-0404 \n",
              "                                     217 \n",
              "                                FEX-0405 \n",
              "                                     641 \n",
              "                                FEX-0406 \n",
              "                                      76 \n",
              "                                FEX-0407 \n",
              "                                     114 \n",
              "                                FEX-0408 \n",
              "                                      31 \n",
              "                                FEX-0409 \n",
              "                                      61 \n",
              "                                FEX-0410 \n",
              "                                      69 \n",
              "                                FEX-0411 \n",
              "                                       5 \n",
              "                                FEX-0412 \n",
              "                                       6 \n",
              "                                 FG-0001 \n",
              "                                   11681 \n",
              "                                 FG-0002 \n",
              "                                    7665 \n",
              "                                 FG-0003 \n",
              "                                    1244 \n",
              "                                 FG-0004 \n",
              "                                     327 \n",
              "                                 FG-0005 \n",
              "                                     207 \n",
              "                                 FG-0006 \n",
              "                                      21 \n",
              "                                 FG-0007 \n",
              "                                      26 \n",
              "                                 FG-0008 \n",
              "                                       2 \n",
              "                                   FGR-1 \n",
              "                                    3148 \n",
              "                                   FGR-2 \n",
              "                                     603 \n",
              "                                   FGR-3 \n",
              "                                     498 \n",
              "                                FPE-1011 \n",
              "                                      76 \n",
              "                                FPE-1012 \n",
              "                                      62 \n",
              "                                FPE-1013 \n",
              "                                      11 \n",
              "                                FPE-1014 \n",
              "                                      19 \n",
              "                                FPE-1022 \n",
              "                                       4 \n",
              "                                FPE-1023 \n",
              "                                       1 \n",
              "                                FPE-1024 \n",
              "                                       3 \n",
              "                                FPE-1031 \n",
              "                                       1 \n",
              "                                FPE-1034 \n",
              "                                       2 \n",
              "                                FUC-0001 \n",
              "                                   11155 \n",
              "             Funcao Comissionada Tecnica \n",
              "                                      10 \n",
              "             Funcao Tecnica Comissionada \n",
              "                                       5 \n",
              "                                   GR-04 \n",
              "                                       1 \n",
              "         Gratificacao Temporaria - SIPAM \n",
              "                                     174 \n",
              "                                GSE-0001 \n",
              "                                     261 \n",
              "                                GSE-0004 \n",
              "                                     871 \n",
              "                                GSE-0005 \n",
              "                                     771 \n",
              "                                GSE-0006 \n",
              "                                     985 \n",
              "                                GSE-0007 \n",
              "                                     365 \n",
              "                         Guardas Marinha \n",
              "                                       6 \n",
              "                                Invalido \n",
              "                                      11 \n",
              "                                NES-0086 \n",
              "                                       2 \n",
              "                         Nivel I - RMP01 \n",
              "                                       9 \n",
              "                        Nivel II - RMP02 \n",
              "                                       5 \n",
              "                       Nivel III - RMP03 \n",
              "                                       3 \n",
              "                       Nivel III - RMP05 \n",
              "                                       1 \n",
              "                        Nivel IV - RMP04 \n",
              "                                      13 \n",
              "                       Oficiais Generais \n",
              "                                    4339 \n",
              "                              OfIntermed \n",
              "                                   10629 \n",
              "                              OfSubalter \n",
              "                                   16593 \n",
              "                              OfSuperior \n",
              "                                   22947 \n",
              "                                  Pracas \n",
              "                                   17601 \n",
              "                        Pracas Especiais \n",
              "                                     938 \n",
              "                                RGA-0002 \n",
              "                                      14 \n",
              "                                RGA-0003 \n",
              "                                       9 \n",
              "                                RGA-0004 \n",
              "                                     103 \n",
              "                                RGA-0005 \n",
              "                                     135 \n",
              "                                RMA-0002 \n",
              "                                       2 \n",
              "                                RMA-0004 \n",
              "                                      29 \n",
              "                                RMA-0005 \n",
              "                                      62 \n",
              "                               Sargentos \n",
              "                                   48489 \n",
              "                          Sem informacao \n",
              "                                  401875 \n",
              "                              Suboficial \n",
              "                                    5801 \n",
              "                             Subtenentes \n",
              "                                    3074 "
            ]
          },
          "metadata": {}
        }
      ],
      "source": [
        "table(df$Descricao.Funcao) # listando o campo descrição da função agora que os campos sigilosos foram excluídos"
      ]
    },
    {
      "cell_type": "code",
      "execution_count": 18,
      "metadata": {
        "colab": {
          "base_uri": "https://localhost:8080/",
          "height": 989
        },
        "id": "1o_6hSh4R5Q3",
        "outputId": "b73fa528-68da-4ce9-97ed-7a07f839d54f"
      },
      "outputs": [
        {
          "output_type": "display_data",
          "data": {
            "text/plain": [
              " Identificador.do.processo.de.viagem Numero.da.Proposta..PCDP.\n",
              " Min.   :1.782e+07                   Length:708205            \n",
              " 1st Qu.:1.888e+07                   Class :character         \n",
              " Median :1.914e+07                   Mode  :character         \n",
              " Mean   :2.199e+07                                            \n",
              " 3rd Qu.:1.940e+07                                            \n",
              " Max.   :2.023e+09                                            \n",
              "   Situacao         Viagem.Urgente     Justificativa.Urgencia.Viagem\n",
              " Length:708205      Length:708205      Length:708205                \n",
              " Class :character   Class :character   Class :character             \n",
              " Mode  :character   Mode  :character   Mode  :character             \n",
              "                                                                    \n",
              "                                                                    \n",
              "                                                                    \n",
              " Codigo.do.orgao.superior Nome.do.orgao.superior Codigo.orgao.solicitante\n",
              " Min.   :   -1            Length:708205          Min.   :   -1           \n",
              " 1st Qu.:22000            Class :character       1st Qu.:20701           \n",
              " Median :26000            Mode  :character       Median :26276           \n",
              " Mean   :30042                                   Mean   :27123           \n",
              " 3rd Qu.:47000                                   3rd Qu.:39252           \n",
              " Max.   :84000                                   Max.   :64000           \n",
              " Nome.orgao.solicitante CPF.viajante           Nome          \n",
              " Length:708205          Length:708205      Length:708205     \n",
              " Class :character       Class :character   Class :character  \n",
              " Mode  :character       Mode  :character   Mode  :character  \n",
              "                                                             \n",
              "                                                             \n",
              "                                                             \n",
              "    Cargo              Funcao          Descricao.Funcao  \n",
              " Length:708205      Length:708205      Length:708205     \n",
              " Class :character   Class :character   Class :character  \n",
              " Mode  :character   Mode  :character   Mode  :character  \n",
              "                                                         \n",
              "                                                         \n",
              "                                                         \n",
              " Periodo...Data.de.inicio Periodo...Data.de.fim   Destinos        \n",
              " Length:708205            Length:708205         Length:708205     \n",
              " Class :character         Class :character      Class :character  \n",
              " Mode  :character         Mode  :character      Mode  :character  \n",
              "                                                                  \n",
              "                                                                  \n",
              "                                                                  \n",
              "    Motivo          Valor.diarias      Valor.passagens    Valor.devolucao   \n",
              " Length:708205      Length:708205      Length:708205      Length:708205     \n",
              " Class :character   Class :character   Class :character   Class :character  \n",
              " Mode  :character   Mode  :character   Mode  :character   Mode  :character  \n",
              "                                                                            \n",
              "                                                                            \n",
              "                                                                            \n",
              " Valor.outros.gastos\n",
              " Length:708205      \n",
              " Class :character   \n",
              " Mode  :character   \n",
              "                    \n",
              "                    \n",
              "                    "
            ]
          },
          "metadata": {}
        }
      ],
      "source": [
        "summary(df)"
      ]
    },
    {
      "cell_type": "code",
      "execution_count": 19,
      "metadata": {
        "id": "U220YI6USCWG"
      },
      "outputs": [],
      "source": [
        "df$Valor.diarias <- as.numeric(gsub(\",\", \".\", df$Valor.diarias)) # convertendo a coluna de valor de diárias de string para número"
      ]
    },
    {
      "cell_type": "code",
      "execution_count": 20,
      "metadata": {
        "colab": {
          "base_uri": "https://localhost:8080/",
          "height": 52
        },
        "id": "mMmRjtGmScpd",
        "outputId": "8d418b21-9b4e-4484-9979-e538fe0a120e"
      },
      "outputs": [
        {
          "output_type": "display_data",
          "data": {
            "text/plain": [
              "    Min.  1st Qu.   Median     Mean  3rd Qu.     Max. \n",
              "     0.0    190.6    857.8   1643.3   1552.3 175337.4 "
            ]
          },
          "metadata": {}
        }
      ],
      "source": [
        "summary(df$Valor.diarias) # resumindo os valores da coluna Valor.diarias"
      ]
    },
    {
      "cell_type": "code",
      "execution_count": 21,
      "metadata": {
        "colab": {
          "base_uri": "https://localhost:8080/",
          "height": 437
        },
        "id": "53Nei1DYSfWd",
        "outputId": "241328b1-1888-40f5-e83a-2fc4759a76a3"
      },
      "outputs": [
        {
          "output_type": "display_data",
          "data": {
            "text/plain": [
              "plot without title"
            ],
            "image/png": "[encoded data removed]"
          },
          "metadata": {
            "image/png": {
              "width": 420,
              "height": 420
            }
          }
        }
      ],
      "source": [
        "boxplot(df$Valor.diarias) # boxplot dos valores pagos em diárias"
      ]
    },
    {
      "cell_type": "code",
      "execution_count": 22,
      "metadata": {
        "colab": {
          "base_uri": "https://localhost:8080/",
          "height": 34
        },
        "id": "EAIPda9VW55H",
        "outputId": "f223d0de-79b6-46fb-ea14-5a7d1cd0e67b"
      },
      "outputs": [
        {
          "output_type": "display_data",
          "data": {
            "text/html": [
              "0"
            ],
            "text/markdown": "0",
            "text/latex": "0",
            "text/plain": [
              "[1] 0"
            ]
          },
          "metadata": {}
        }
      ],
      "source": [
        "sum(is.na(df$Valor.diarias)) # não há valores NA dentro da coluna de valor de diárias"
      ]
    },
    {
      "cell_type": "code",
      "execution_count": 23,
      "metadata": {
        "id": "Z7mp4XtwThFP"
      },
      "outputs": [],
      "source": [
        "df$faixa_valores <- cut(df$Valor.diarias, breaks = c(0,1000, 10000, 100000, 1000000), labels = c(\"0-1000\",\"1000 - 10000\", \"10000 - 100000\", \"100000-1000000\"), right = FALSE) # dividindo os valores por faixas"
      ]
    },
    {
      "cell_type": "code",
      "execution_count": 24,
      "metadata": {
        "colab": {
          "base_uri": "https://localhost:8080/",
          "height": 69
        },
        "id": "I5J8asQcVcYP",
        "outputId": "4223cd34-e0ad-4d10-ecff-45e91d27d129"
      },
      "outputs": [
        {
          "output_type": "display_data",
          "data": {
            "text/plain": [
              "\n",
              "        0-1000   1000 - 10000 10000 - 100000 100000-1000000 \n",
              "        393260         302510          12112            323 "
            ]
          },
          "metadata": {}
        }
      ],
      "source": [
        "table(df$faixa_valores) # quantidade de diárias por faixa de pagamento"
      ]
    },
    {
      "cell_type": "code",
      "execution_count": 25,
      "metadata": {
        "colab": {
          "base_uri": "https://localhost:8080/"
        },
        "id": "GVWqzy-fVeTF",
        "outputId": "34aac688-34be-4605-e3af-54d851f517f6"
      },
      "outputs": [
        {
          "output_type": "stream",
          "name": "stdout",
          "text": [
            "        0-1000   1000 - 10000 10000 - 100000 100000-1000000 \n",
            "     143443705      699848932      286138136       34345192 \n"
          ]
        }
      ],
      "source": [
        "total_por_faixa <- tapply (df$Valor.diarias, df$faixa_valores, sum, na.rm = TRUE) # total pago em diárias por faixa\n",
        "print(total_por_faixa)"
      ]
    },
    {
      "cell_type": "code",
      "execution_count": 26,
      "metadata": {
        "colab": {
          "base_uri": "https://localhost:8080/",
          "height": 34
        },
        "id": "qE07fdnTXSun",
        "outputId": "c76889bf-dc43-41a7-ab4b-5b36df46860b"
      },
      "outputs": [
        {
          "output_type": "display_data",
          "data": {
            "text/html": [
              "4867.28936359351"
            ],
            "text/markdown": "4867.28936359351",
            "text/latex": "4867.28936359351",
            "text/plain": [
              "[1] 4867.289"
            ]
          },
          "metadata": {}
        }
      ],
      "source": [
        "sd(df$Valor.diarias) # calculando o desvio padrão do valor pago em diárias"
      ]
    },
    {
      "cell_type": "code",
      "execution_count": 29,
      "metadata": {
        "colab": {
          "base_uri": "https://localhost:8080/",
          "height": 225
        },
        "id": "nDh2IopWX4vv",
        "outputId": "37451d6e-5bed-45ef-de18-4155408b955b"
      },
      "outputs": [
        {
          "output_type": "display_data",
          "data": {
            "text/html": [
              "<style>\n",
              ".dl-inline {width: auto; margin:0; padding: 0}\n",
              ".dl-inline>dt, .dl-inline>dd {float: none; width: auto; display: inline-block}\n",
              ".dl-inline>dt::after {content: \":\\0020\"; padding-right: .5ex}\n",
              ".dl-inline>dt:not(:first-of-type) {padding-left: .5ex}\n",
              "</style><dl class=dl-inline><dt>Sem informacao</dt><dd>497589336.89</dd><dt>Ministerio da Educacao</dt><dd>145467720.82</dd><dt>Ministerio da Defesa</dt><dd>144378929.54</dd><dt>Ministerio do Meio Ambiente e Mudanca do Clima</dt><dd>74648157.47</dd><dt>Ministerio da Previdencia Social</dt><dd>51311848.62</dd><dt>Ministerio do Planejamento e Orcamento</dt><dd>40122679.04</dd><dt>Ministerio da Saude</dt><dd>37096743.96</dd><dt>Ministerio das Relacoes Exteriores</dt><dd>24685817.17</dd><dt>Ministerio dos Transportes</dt><dd>24185771.3</dd><dt>Ministerio da Agricultura e Pecuaria</dt><dd>22759315.97</dd><dt>Ministerio do Desenvolvimento Agrario e Agricultura Familiar</dt><dd>22609577.51</dd><dt>Ministerio dos Povos Indigenas</dt><dd>20193689.67</dd><dt>Presidencia da Republica</dt><dd>12529164.97</dd><dt>Ministerio das Comunicacoes</dt><dd>8668686.29</dd><dt>Ministerio de Minas e Energia</dt><dd>7101828.9</dd><dt>Ministerio da Integracao e do Desenvolvimento Regional</dt><dd>5357161.11</dd><dt>Ministerio da Cultura</dt><dd>4310290.91</dd><dt>Ministerio dos Direitos Humanos e Cidadania</dt><dd>4222366.73</dd><dt>Advocacia-Geral da Uniao</dt><dd>3731950.38</dd><dt>Ministerio da Ciencia, Tecnologia e Inovacao</dt><dd>3446129.79</dd><dt>Controladoria-Geral da Uniao</dt><dd>3200259.54</dd><dt>Ministerio do Desenvolvimento, Industria, Comercio e Servicos</dt><dd>2980869.64</dd><dt>Ministerio da Fazenda</dt><dd>1005446.81</dd><dt>Ministerio do Turismo</dt><dd>853247.9</dd><dt>Ministerio da Justica e Seguranca Publica</dt><dd>666471.85</dd><dt>Ministerio da Gestao e da Inovacao em Servicos Publicos</dt><dd>494625.06</dd><dt>Ministerio do Trabalho e Emprego</dt><dd>157877.8</dd></dl>\n"
            ],
            "text/markdown": "Sem informacao\n:   497589336.89Ministerio da Educacao\n:   145467720.82Ministerio da Defesa\n:   144378929.54Ministerio do Meio Ambiente e Mudanca do Clima\n:   74648157.47Ministerio da Previdencia Social\n:   51311848.62Ministerio do Planejamento e Orcamento\n:   40122679.04Ministerio da Saude\n:   37096743.96Ministerio das Relacoes Exteriores\n:   24685817.17Ministerio dos Transportes\n:   24185771.3Ministerio da Agricultura e Pecuaria\n:   22759315.97Ministerio do Desenvolvimento Agrario e Agricultura Familiar\n:   22609577.51Ministerio dos Povos Indigenas\n:   20193689.67Presidencia da Republica\n:   12529164.97Ministerio das Comunicacoes\n:   8668686.29Ministerio de Minas e Energia\n:   7101828.9Ministerio da Integracao e do Desenvolvimento Regional\n:   5357161.11Ministerio da Cultura\n:   4310290.91Ministerio dos Direitos Humanos e Cidadania\n:   4222366.73Advocacia-Geral da Uniao\n:   3731950.38Ministerio da Ciencia, Tecnologia e Inovacao\n:   3446129.79Controladoria-Geral da Uniao\n:   3200259.54Ministerio do Desenvolvimento, Industria, Comercio e Servicos\n:   2980869.64Ministerio da Fazenda\n:   1005446.81Ministerio do Turismo\n:   853247.9Ministerio da Justica e Seguranca Publica\n:   666471.85Ministerio da Gestao e da Inovacao em Servicos Publicos\n:   494625.06Ministerio do Trabalho e Emprego\n:   157877.8\n\n",
            "text/latex": "\\begin{description*}\n\\item[Sem informacao] 497589336.89\n\\item[Ministerio da Educacao] 145467720.82\n\\item[Ministerio da Defesa] 144378929.54\n\\item[Ministerio do Meio Ambiente e Mudanca do Clima] 74648157.47\n\\item[Ministerio da Previdencia Social] 51311848.62\n\\item[Ministerio do Planejamento e Orcamento] 40122679.04\n\\item[Ministerio da Saude] 37096743.96\n\\item[Ministerio das Relacoes Exteriores] 24685817.17\n\\item[Ministerio dos Transportes] 24185771.3\n\\item[Ministerio da Agricultura e Pecuaria] 22759315.97\n\\item[Ministerio do Desenvolvimento Agrario e Agricultura Familiar] 22609577.51\n\\item[Ministerio dos Povos Indigenas] 20193689.67\n\\item[Presidencia da Republica] 12529164.97\n\\item[Ministerio das Comunicacoes] 8668686.29\n\\item[Ministerio de Minas e Energia] 7101828.9\n\\item[Ministerio da Integracao e do Desenvolvimento Regional] 5357161.11\n\\item[Ministerio da Cultura] 4310290.91\n\\item[Ministerio dos Direitos Humanos e Cidadania] 4222366.73\n\\item[Advocacia-Geral da Uniao] 3731950.38\n\\item[Ministerio da Ciencia, Tecnologia e Inovacao] 3446129.79\n\\item[Controladoria-Geral da Uniao] 3200259.54\n\\item[Ministerio do Desenvolvimento, Industria, Comercio e Servicos] 2980869.64\n\\item[Ministerio da Fazenda] 1005446.81\n\\item[Ministerio do Turismo] 853247.9\n\\item[Ministerio da Justica e Seguranca Publica] 666471.85\n\\item[Ministerio da Gestao e da Inovacao em Servicos Publicos] 494625.06\n\\item[Ministerio do Trabalho e Emprego] 157877.8\n\\end{description*}\n",
            "text/plain": [
              "                                               Sem informacao \n",
              "                                                  497589336.9 \n",
              "                                       Ministerio da Educacao \n",
              "                                                  145467720.8 \n",
              "                                         Ministerio da Defesa \n",
              "                                                  144378929.5 \n",
              "               Ministerio do Meio Ambiente e Mudanca do Clima \n",
              "                                                   74648157.5 \n",
              "                             Ministerio da Previdencia Social \n",
              "                                                   51311848.6 \n",
              "                       Ministerio do Planejamento e Orcamento \n",
              "                                                   40122679.0 \n",
              "                                          Ministerio da Saude \n",
              "                                                   37096744.0 \n",
              "                           Ministerio das Relacoes Exteriores \n",
              "                                                   24685817.2 \n",
              "                                   Ministerio dos Transportes \n",
              "                                                   24185771.3 \n",
              "                         Ministerio da Agricultura e Pecuaria \n",
              "                                                   22759316.0 \n",
              " Ministerio do Desenvolvimento Agrario e Agricultura Familiar \n",
              "                                                   22609577.5 \n",
              "                               Ministerio dos Povos Indigenas \n",
              "                                                   20193689.7 \n",
              "                                     Presidencia da Republica \n",
              "                                                   12529165.0 \n",
              "                                  Ministerio das Comunicacoes \n",
              "                                                    8668686.3 \n",
              "                                Ministerio de Minas e Energia \n",
              "                                                    7101828.9 \n",
              "       Ministerio da Integracao e do Desenvolvimento Regional \n",
              "                                                    5357161.1 \n",
              "                                        Ministerio da Cultura \n",
              "                                                    4310290.9 \n",
              "                  Ministerio dos Direitos Humanos e Cidadania \n",
              "                                                    4222366.7 \n",
              "                                     Advocacia-Geral da Uniao \n",
              "                                                    3731950.4 \n",
              "                 Ministerio da Ciencia, Tecnologia e Inovacao \n",
              "                                                    3446129.8 \n",
              "                                 Controladoria-Geral da Uniao \n",
              "                                                    3200259.5 \n",
              "Ministerio do Desenvolvimento, Industria, Comercio e Servicos \n",
              "                                                    2980869.6 \n",
              "                                        Ministerio da Fazenda \n",
              "                                                    1005446.8 \n",
              "                                        Ministerio do Turismo \n",
              "                                                     853247.9 \n",
              "                    Ministerio da Justica e Seguranca Publica \n",
              "                                                     666471.8 \n",
              "      Ministerio da Gestao e da Inovacao em Servicos Publicos \n",
              "                                                     494625.1 \n",
              "                             Ministerio do Trabalho e Emprego \n",
              "                                                     157877.8 "
            ]
          },
          "metadata": {}
        }
      ],
      "source": [
        "total_por_orgao <- tapply (df$Valor.diarias, df$Nome.do.orgao.superior, sum) # total pago em diárias por órgão\n",
        "sort(total_por_orgao, decreasing = TRUE)"
      ]
    },
    {
      "cell_type": "code",
      "execution_count": 53,
      "metadata": {
        "id": "Gie2-d-Ve643",
        "colab": {
          "base_uri": "https://localhost:8080/"
        },
        "outputId": "c7ab0949-e85e-4639-dc72-6d75ac124649"
      },
      "outputs": [
        {
          "output_type": "stream",
          "name": "stdout",
          "text": [
            "\u001b[90m# A tibble: 100 × 2\u001b[39m\n",
            "    `df$Destinos`                        incidencias\n",
            "    \u001b[3m\u001b[90m<chr>\u001b[39m\u001b[23m                                      \u001b[3m\u001b[90m<int>\u001b[39m\u001b[23m\n",
            "\u001b[90m  1\u001b[39m Brasilia/DF                                \u001b[4m6\u001b[24m\u001b[4m4\u001b[24m269\n",
            "\u001b[90m  2\u001b[39m Rio de Janeiro/RJ                          \u001b[4m2\u001b[24m\u001b[4m6\u001b[24m175\n",
            "\u001b[90m  3\u001b[39m Sao Paulo/SP                               \u001b[4m2\u001b[24m\u001b[4m4\u001b[24m612\n",
            "\u001b[90m  4\u001b[39m Sao Jose dos Campos/SP                     \u001b[4m1\u001b[24m\u001b[4m2\u001b[24m281\n",
            "\u001b[90m  5\u001b[39m Salvador/BA                                 \u001b[4m9\u001b[24m001\n",
            "\u001b[90m  6\u001b[39m Belo Horizonte/MG                           \u001b[4m8\u001b[24m683\n",
            "\u001b[90m  7\u001b[39m Curitiba/PR                                 \u001b[4m8\u001b[24m485\n",
            "\u001b[90m  8\u001b[39m Recife/PE                                   \u001b[4m8\u001b[24m197\n",
            "\u001b[90m  9\u001b[39m Manaus/AM                                   \u001b[4m7\u001b[24m393\n",
            "\u001b[90m 10\u001b[39m Porto Alegre/RS                             \u001b[4m7\u001b[24m145\n",
            "\u001b[90m 11\u001b[39m Belem/PA                                    \u001b[4m6\u001b[24m893\n",
            "\u001b[90m 12\u001b[39m Fortaleza/CE                                \u001b[4m6\u001b[24m701\n",
            "\u001b[90m 13\u001b[39m Foz do Iguacu/PR                            \u001b[4m6\u001b[24m534\n",
            "\u001b[90m 14\u001b[39m Campo Grande/MS                             \u001b[4m6\u001b[24m202\n",
            "\u001b[90m 15\u001b[39m Florianopolis/SC                            \u001b[4m5\u001b[24m911\n",
            "\u001b[90m 16\u001b[39m Goiania/GO                                  \u001b[4m5\u001b[24m736\n",
            "\u001b[90m 17\u001b[39m Natal/RN                                    \u001b[4m5\u001b[24m217\n",
            "\u001b[90m 18\u001b[39m Joao Pessoa/PB                              \u001b[4m4\u001b[24m698\n",
            "\u001b[90m 19\u001b[39m Campinas/SP                                 \u001b[4m4\u001b[24m697\n",
            "\u001b[90m 20\u001b[39m Boa Vista/RR                                \u001b[4m4\u001b[24m624\n",
            "\u001b[90m 21\u001b[39m Cuiaba/MT                                   \u001b[4m4\u001b[24m245\n",
            "\u001b[90m 22\u001b[39m Maceio/AL                                   \u001b[4m3\u001b[24m999\n",
            "\u001b[90m 23\u001b[39m Sao Luis/MA                                 \u001b[4m3\u001b[24m852\n",
            "\u001b[90m 24\u001b[39m Vitoria/ES                                  \u001b[4m3\u001b[24m818\n",
            "\u001b[90m 25\u001b[39m Porto Velho/RO                              \u001b[4m3\u001b[24m068\n",
            "\u001b[90m 26\u001b[39m Sem informacao                              \u001b[4m2\u001b[24m931\n",
            "\u001b[90m 27\u001b[39m Chapeco/SC                                  \u001b[4m2\u001b[24m882\n",
            "\u001b[90m 28\u001b[39m Macapa/AP                                   \u001b[4m2\u001b[24m736\n",
            "\u001b[90m 29\u001b[39m Santa Maria/RS                              \u001b[4m2\u001b[24m637\n",
            "\u001b[90m 30\u001b[39m Guarulhos/SP                                \u001b[4m2\u001b[24m549\n",
            "\u001b[90m 31\u001b[39m Teresina/PI                                 \u001b[4m2\u001b[24m548\n",
            "\u001b[90m 32\u001b[39m Palmas/TO                                   \u001b[4m2\u001b[24m369\n",
            "\u001b[90m 33\u001b[39m Juiz de Fora/MG                             \u001b[4m2\u001b[24m351\n",
            "\u001b[90m 34\u001b[39m Aracaju/SE                                  \u001b[4m2\u001b[24m217\n",
            "\u001b[90m 35\u001b[39m Petrolina/PE                                \u001b[4m1\u001b[24m848\n",
            "\u001b[90m 36\u001b[39m Rio Branco/AC                               \u001b[4m1\u001b[24m792\n",
            "\u001b[90m 37\u001b[39m Campina Grande/PB                           \u001b[4m1\u001b[24m768\n",
            "\u001b[90m 38\u001b[39m Paranagua/PR                                \u001b[4m1\u001b[24m616\n",
            "\u001b[90m 39\u001b[39m Corumba/MS                                  \u001b[4m1\u001b[24m602\n",
            "\u001b[90m 40\u001b[39m Cascavel/PR                                 \u001b[4m1\u001b[24m568\n",
            "\u001b[90m 41\u001b[39m Caruaru/PE                                  \u001b[4m1\u001b[24m526\n",
            "\u001b[90m 42\u001b[39m Uberlandia/MG                               \u001b[4m1\u001b[24m506\n",
            "\u001b[90m 43\u001b[39m Feira de Santana/BA                         \u001b[4m1\u001b[24m473\n",
            "\u001b[90m 44\u001b[39m Santarem/PA                                 \u001b[4m1\u001b[24m422\n",
            "\u001b[90m 45\u001b[39m Mossoro/RN                                  \u001b[4m1\u001b[24m417\n",
            "\u001b[90m 46\u001b[39m Anapolis/GO                                 \u001b[4m1\u001b[24m416\n",
            "\u001b[90m 47\u001b[39m Guaratingueta/SP                            \u001b[4m1\u001b[24m217\n",
            "\u001b[90m 48\u001b[39m Maraba/PA                                   \u001b[4m1\u001b[24m189\n",
            "\u001b[90m 49\u001b[39m Vitoria de Santo Antao/PE                   \u001b[4m1\u001b[24m182\n",
            "\u001b[90m 50\u001b[39m Caxias do Sul/RS                            \u001b[4m1\u001b[24m166\n",
            "\u001b[90m 51\u001b[39m Montes Claros/MG                            \u001b[4m1\u001b[24m159\n",
            "\u001b[90m 52\u001b[39m Canoas/RS                                   \u001b[4m1\u001b[24m155\n",
            "\u001b[90m 53\u001b[39m Blumenau/SC                                 \u001b[4m1\u001b[24m148\n",
            "\u001b[90m 54\u001b[39m Joinville/SC                                \u001b[4m1\u001b[24m142\n",
            "\u001b[90m 55\u001b[39m Navegantes/SC                               \u001b[4m1\u001b[24m133\n",
            "\u001b[90m 56\u001b[39m Londrina/PR                                 \u001b[4m1\u001b[24m124\n",
            "\u001b[90m 57\u001b[39m Santana/AP                                  \u001b[4m1\u001b[24m111\n",
            "\u001b[90m 58\u001b[39m Santos/SP                                   \u001b[4m1\u001b[24m085\n",
            "\u001b[90m 59\u001b[39m Guajara-Mirim/RO                            \u001b[4m1\u001b[24m083\n",
            "\u001b[90m 60\u001b[39m Lagoa Santa/MG                              \u001b[4m1\u001b[24m077\n",
            "\u001b[90m 61\u001b[39m Ponta Grossa/PR                             \u001b[4m1\u001b[24m070\n",
            "\u001b[90m 62\u001b[39m Pirassununga/SP                             \u001b[4m1\u001b[24m065\n",
            "\u001b[90m 63\u001b[39m Altamira/PA                                 \u001b[4m1\u001b[24m062\n",
            "\u001b[90m 64\u001b[39m Pelotas/RS                                  \u001b[4m1\u001b[24m041\n",
            "\u001b[90m 65\u001b[39m Arapiraca/AL                                \u001b[4m1\u001b[24m022\n",
            "\u001b[90m 66\u001b[39m Dionisio Cerqueira/SC                       \u001b[4m1\u001b[24m021\n",
            "\u001b[90m 67\u001b[39m Porto Esperidiao/MT                         \u001b[4m1\u001b[24m002\n",
            "\u001b[90m 68\u001b[39m Ribeirao Preto/SP                           \u001b[4m1\u001b[24m000\n",
            "\u001b[90m 69\u001b[39m Pacaraima/RR                                 991\n",
            "\u001b[90m 70\u001b[39m Sorocaba/SP                                  985\n",
            "\u001b[90m 71\u001b[39m Taubate/SP                                   978\n",
            "\u001b[90m 72\u001b[39m Brasilia/DF, Brasilia/DF                     977\n",
            "\u001b[90m 73\u001b[39m Resende/RJ                                   970\n",
            "\u001b[90m 74\u001b[39m Sao Carlos/SP                                939\n",
            "\u001b[90m 75\u001b[39m Bauru/SP                                     925\n",
            "\u001b[90m 76\u001b[39m Uberaba/MG                                   920\n",
            "\u001b[90m 77\u001b[39m Imperatriz/MA                                917\n",
            "\u001b[90m 78\u001b[39m Ilheus/BA                                    897\n",
            "\u001b[90m 79\u001b[39m Tabatinga/AM                                 889\n",
            "\u001b[90m 80\u001b[39m Vila Bela da Santissima Trindade/MT          887\n",
            "\u001b[90m 81\u001b[39m Buenos Aires/Argentina                       883\n",
            "\u001b[90m 82\u001b[39m Caracarai/RR                                 879\n",
            "\u001b[90m 83\u001b[39m Itajai/SC                                    867\n",
            "\u001b[90m 84\u001b[39m Washington/Estados Unidos da America         867\n",
            "\u001b[90m 85\u001b[39m Querencia do Norte/PR                        859\n",
            "\u001b[90m 86\u001b[39m Ponta Pora/MS                                852\n",
            "\u001b[90m 87\u001b[39m Juazeiro do Norte/CE                         840\n",
            "\u001b[90m 88\u001b[39m Coari/AM                                     839\n",
            "\u001b[90m 89\u001b[39m Sao Joao Del Rei/MG                          834\n",
            "\u001b[90m 90\u001b[39m Campos dos Goytacazes/RJ                     828\n",
            "\u001b[90m 91\u001b[39m Petropolis/RJ                                828\n",
            "\u001b[90m 92\u001b[39m Currais Novos/RN                             826\n",
            "\u001b[90m 93\u001b[39m Parnamirim/RN                                825\n",
            "\u001b[90m 94\u001b[39m Pocos de Caldas/MG                           823\n",
            "\u001b[90m 95\u001b[39m Sena Madureira/AC                            823\n",
            "\u001b[90m 96\u001b[39m Passo Fundo/RS                               821\n",
            "\u001b[90m 97\u001b[39m Rorainopolis/RR                              819\n",
            "\u001b[90m 98\u001b[39m Itapipoca/CE                                 817\n",
            "\u001b[90m 99\u001b[39m Serra Talhada/PE                             812\n",
            "\u001b[90m100\u001b[39m Dourados/MS                                  808\n"
          ]
        }
      ],
      "source": [
        "# Calcular os destinos mais frequentes\n",
        "\n",
        "destinos_frequentes <- df %>% group_by(df$Destinos) %>% summarise (incidencias = n()) %>% arrange(desc(incidencias))\n",
        "print(slice_head(destinos_frequentes, n = 100), n = 100)"
      ]
    },
    {
      "cell_type": "code",
      "source": [
        "# verifiquei a existência de duplicidade do termo Brasilia/DF para \"Brasilia/DF, Brasilia/DF\n",
        "# realizei a substituição do termo Brasilia duplicado por apenas Brasilia\n",
        "\n",
        "df$Destinos <- gsub (\"Brasilia/DF, Brasilia/DF\", \"Brasilia/DF\", df$Destinos, useBytes = TRUE)"
      ],
      "metadata": {
        "id": "Pu9ZlRaRw-Ox"
      },
      "execution_count": 56,
      "outputs": []
    },
    {
      "cell_type": "code",
      "source": [
        "# Calcular os destinos mais frequentes novamente\n",
        "\n",
        "destinos_frequentes <- df %>% group_by(df$Destinos) %>% summarise (incidencias = n()) %>% arrange(desc(incidencias))\n",
        "print(slice_head(destinos_frequentes, n = 200), n = 200)"
      ],
      "metadata": {
        "colab": {
          "base_uri": "https://localhost:8080/"
        },
        "id": "ejJ6cKtp0Y-g",
        "outputId": "97cdaea5-c9a7-4e05-8deb-1eda0bd6724f"
      },
      "execution_count": 57,
      "outputs": [
        {
          "output_type": "stream",
          "name": "stdout",
          "text": [
            "\u001b[90m# A tibble: 200 × 2\u001b[39m\n",
            "    `df$Destinos`                        incidencias\n",
            "    \u001b[3m\u001b[90m<chr>\u001b[39m\u001b[23m                                      \u001b[3m\u001b[90m<int>\u001b[39m\u001b[23m\n",
            "\u001b[90m  1\u001b[39m Brasilia/DF                                \u001b[4m6\u001b[24m\u001b[4m5\u001b[24m518\n",
            "\u001b[90m  2\u001b[39m Rio de Janeiro/RJ                          \u001b[4m2\u001b[24m\u001b[4m6\u001b[24m175\n",
            "\u001b[90m  3\u001b[39m Sao Paulo/SP                               \u001b[4m2\u001b[24m\u001b[4m4\u001b[24m612\n",
            "\u001b[90m  4\u001b[39m Sao Jose dos Campos/SP                     \u001b[4m1\u001b[24m\u001b[4m2\u001b[24m281\n",
            "\u001b[90m  5\u001b[39m Salvador/BA                                 \u001b[4m9\u001b[24m001\n",
            "\u001b[90m  6\u001b[39m Belo Horizonte/MG                           \u001b[4m8\u001b[24m683\n",
            "\u001b[90m  7\u001b[39m Curitiba/PR                                 \u001b[4m8\u001b[24m485\n",
            "\u001b[90m  8\u001b[39m Recife/PE                                   \u001b[4m8\u001b[24m197\n",
            "\u001b[90m  9\u001b[39m Manaus/AM                                   \u001b[4m7\u001b[24m393\n",
            "\u001b[90m 10\u001b[39m Porto Alegre/RS                             \u001b[4m7\u001b[24m145\n",
            "\u001b[90m 11\u001b[39m Belem/PA                                    \u001b[4m6\u001b[24m893\n",
            "\u001b[90m 12\u001b[39m Fortaleza/CE                                \u001b[4m6\u001b[24m701\n",
            "\u001b[90m 13\u001b[39m Foz do Iguacu/PR                            \u001b[4m6\u001b[24m534\n",
            "\u001b[90m 14\u001b[39m Campo Grande/MS                             \u001b[4m6\u001b[24m202\n",
            "\u001b[90m 15\u001b[39m Florianopolis/SC                            \u001b[4m5\u001b[24m911\n",
            "\u001b[90m 16\u001b[39m Goiania/GO                                  \u001b[4m5\u001b[24m736\n",
            "\u001b[90m 17\u001b[39m Natal/RN                                    \u001b[4m5\u001b[24m217\n",
            "\u001b[90m 18\u001b[39m Joao Pessoa/PB                              \u001b[4m4\u001b[24m698\n",
            "\u001b[90m 19\u001b[39m Campinas/SP                                 \u001b[4m4\u001b[24m697\n",
            "\u001b[90m 20\u001b[39m Boa Vista/RR                                \u001b[4m4\u001b[24m624\n",
            "\u001b[90m 21\u001b[39m Cuiaba/MT                                   \u001b[4m4\u001b[24m245\n",
            "\u001b[90m 22\u001b[39m Maceio/AL                                   \u001b[4m3\u001b[24m999\n",
            "\u001b[90m 23\u001b[39m Sao Luis/MA                                 \u001b[4m3\u001b[24m852\n",
            "\u001b[90m 24\u001b[39m Vitoria/ES                                  \u001b[4m3\u001b[24m818\n",
            "\u001b[90m 25\u001b[39m Porto Velho/RO                              \u001b[4m3\u001b[24m068\n",
            "\u001b[90m 26\u001b[39m Sem informacao                              \u001b[4m2\u001b[24m931\n",
            "\u001b[90m 27\u001b[39m Chapeco/SC                                  \u001b[4m2\u001b[24m882\n",
            "\u001b[90m 28\u001b[39m Macapa/AP                                   \u001b[4m2\u001b[24m736\n",
            "\u001b[90m 29\u001b[39m Santa Maria/RS                              \u001b[4m2\u001b[24m637\n",
            "\u001b[90m 30\u001b[39m Guarulhos/SP                                \u001b[4m2\u001b[24m549\n",
            "\u001b[90m 31\u001b[39m Teresina/PI                                 \u001b[4m2\u001b[24m548\n",
            "\u001b[90m 32\u001b[39m Palmas/TO                                   \u001b[4m2\u001b[24m369\n",
            "\u001b[90m 33\u001b[39m Juiz de Fora/MG                             \u001b[4m2\u001b[24m351\n",
            "\u001b[90m 34\u001b[39m Aracaju/SE                                  \u001b[4m2\u001b[24m217\n",
            "\u001b[90m 35\u001b[39m Petrolina/PE                                \u001b[4m1\u001b[24m848\n",
            "\u001b[90m 36\u001b[39m Rio Branco/AC                               \u001b[4m1\u001b[24m792\n",
            "\u001b[90m 37\u001b[39m Campina Grande/PB                           \u001b[4m1\u001b[24m768\n",
            "\u001b[90m 38\u001b[39m Paranagua/PR                                \u001b[4m1\u001b[24m616\n",
            "\u001b[90m 39\u001b[39m Corumba/MS                                  \u001b[4m1\u001b[24m602\n",
            "\u001b[90m 40\u001b[39m Cascavel/PR                                 \u001b[4m1\u001b[24m568\n",
            "\u001b[90m 41\u001b[39m Caruaru/PE                                  \u001b[4m1\u001b[24m526\n",
            "\u001b[90m 42\u001b[39m Uberlandia/MG                               \u001b[4m1\u001b[24m506\n",
            "\u001b[90m 43\u001b[39m Feira de Santana/BA                         \u001b[4m1\u001b[24m473\n",
            "\u001b[90m 44\u001b[39m Santarem/PA                                 \u001b[4m1\u001b[24m422\n",
            "\u001b[90m 45\u001b[39m Mossoro/RN                                  \u001b[4m1\u001b[24m417\n",
            "\u001b[90m 46\u001b[39m Anapolis/GO                                 \u001b[4m1\u001b[24m416\n",
            "\u001b[90m 47\u001b[39m Guaratingueta/SP                            \u001b[4m1\u001b[24m217\n",
            "\u001b[90m 48\u001b[39m Maraba/PA                                   \u001b[4m1\u001b[24m189\n",
            "\u001b[90m 49\u001b[39m Vitoria de Santo Antao/PE                   \u001b[4m1\u001b[24m182\n",
            "\u001b[90m 50\u001b[39m Caxias do Sul/RS                            \u001b[4m1\u001b[24m166\n",
            "\u001b[90m 51\u001b[39m Montes Claros/MG                            \u001b[4m1\u001b[24m159\n",
            "\u001b[90m 52\u001b[39m Canoas/RS                                   \u001b[4m1\u001b[24m155\n",
            "\u001b[90m 53\u001b[39m Blumenau/SC                                 \u001b[4m1\u001b[24m148\n",
            "\u001b[90m 54\u001b[39m Joinville/SC                                \u001b[4m1\u001b[24m142\n",
            "\u001b[90m 55\u001b[39m Navegantes/SC                               \u001b[4m1\u001b[24m133\n",
            "\u001b[90m 56\u001b[39m Londrina/PR                                 \u001b[4m1\u001b[24m124\n",
            "\u001b[90m 57\u001b[39m Santana/AP                                  \u001b[4m1\u001b[24m111\n",
            "\u001b[90m 58\u001b[39m Santos/SP                                   \u001b[4m1\u001b[24m085\n",
            "\u001b[90m 59\u001b[39m Guajara-Mirim/RO                            \u001b[4m1\u001b[24m083\n",
            "\u001b[90m 60\u001b[39m Lagoa Santa/MG                              \u001b[4m1\u001b[24m077\n",
            "\u001b[90m 61\u001b[39m Ponta Grossa/PR                             \u001b[4m1\u001b[24m070\n",
            "\u001b[90m 62\u001b[39m Pirassununga/SP                             \u001b[4m1\u001b[24m065\n",
            "\u001b[90m 63\u001b[39m Altamira/PA                                 \u001b[4m1\u001b[24m062\n",
            "\u001b[90m 64\u001b[39m Pelotas/RS                                  \u001b[4m1\u001b[24m041\n",
            "\u001b[90m 65\u001b[39m Arapiraca/AL                                \u001b[4m1\u001b[24m022\n",
            "\u001b[90m 66\u001b[39m Dionisio Cerqueira/SC                       \u001b[4m1\u001b[24m021\n",
            "\u001b[90m 67\u001b[39m Porto Esperidiao/MT                         \u001b[4m1\u001b[24m002\n",
            "\u001b[90m 68\u001b[39m Ribeirao Preto/SP                           \u001b[4m1\u001b[24m000\n",
            "\u001b[90m 69\u001b[39m Pacaraima/RR                                 991\n",
            "\u001b[90m 70\u001b[39m Sorocaba/SP                                  985\n",
            "\u001b[90m 71\u001b[39m Taubate/SP                                   978\n",
            "\u001b[90m 72\u001b[39m Resende/RJ                                   970\n",
            "\u001b[90m 73\u001b[39m Sao Carlos/SP                                939\n",
            "\u001b[90m 74\u001b[39m Bauru/SP                                     925\n",
            "\u001b[90m 75\u001b[39m Uberaba/MG                                   920\n",
            "\u001b[90m 76\u001b[39m Imperatriz/MA                                917\n",
            "\u001b[90m 77\u001b[39m Ilheus/BA                                    897\n",
            "\u001b[90m 78\u001b[39m Tabatinga/AM                                 889\n",
            "\u001b[90m 79\u001b[39m Vila Bela da Santissima Trindade/MT          887\n",
            "\u001b[90m 80\u001b[39m Buenos Aires/Argentina                       883\n",
            "\u001b[90m 81\u001b[39m Caracarai/RR                                 879\n",
            "\u001b[90m 82\u001b[39m Itajai/SC                                    867\n",
            "\u001b[90m 83\u001b[39m Washington/Estados Unidos da America         867\n",
            "\u001b[90m 84\u001b[39m Querencia do Norte/PR                        859\n",
            "\u001b[90m 85\u001b[39m Ponta Pora/MS                                852\n",
            "\u001b[90m 86\u001b[39m Juazeiro do Norte/CE                         840\n",
            "\u001b[90m 87\u001b[39m Coari/AM                                     839\n",
            "\u001b[90m 88\u001b[39m Sao Joao Del Rei/MG                          834\n",
            "\u001b[90m 89\u001b[39m Campos dos Goytacazes/RJ                     828\n",
            "\u001b[90m 90\u001b[39m Petropolis/RJ                                828\n",
            "\u001b[90m 91\u001b[39m Currais Novos/RN                             826\n",
            "\u001b[90m 92\u001b[39m Parnamirim/RN                                825\n",
            "\u001b[90m 93\u001b[39m Pocos de Caldas/MG                           823\n",
            "\u001b[90m 94\u001b[39m Sena Madureira/AC                            823\n",
            "\u001b[90m 95\u001b[39m Passo Fundo/RS                               821\n",
            "\u001b[90m 96\u001b[39m Rorainopolis/RR                              819\n",
            "\u001b[90m 97\u001b[39m Itapipoca/CE                                 817\n",
            "\u001b[90m 98\u001b[39m Serra Talhada/PE                             812\n",
            "\u001b[90m 99\u001b[39m Dourados/MS                                  808\n",
            "\u001b[90m100\u001b[39m Cruzeiro do Sul/AC                           798\n",
            "\u001b[90m101\u001b[39m Rio Verde/GO                                 795\n",
            "\u001b[90m102\u001b[39m Ouro Preto/MG                                782\n",
            "\u001b[90m103\u001b[39m Caldas Novas/GO                              759\n",
            "\u001b[90m104\u001b[39m Bento Goncalves/RS                           751\n",
            "\u001b[90m105\u001b[39m Confins/MG                                   748\n",
            "\u001b[90m106\u001b[39m Oiapoque/AP                                  747\n",
            "\u001b[90m107\u001b[39m Niteroi/RJ                                   738\n",
            "\u001b[90m108\u001b[39m Porto Seguro/BA                              733\n",
            "\u001b[90m109\u001b[39m Sobral/CE                                    732\n",
            "\u001b[90m110\u001b[39m Maringa/PR                                   728\n",
            "\u001b[90m111\u001b[39m Melgaco/PA                                   723\n",
            "\u001b[90m112\u001b[39m Areia Branca/RN                              719\n",
            "\u001b[90m113\u001b[39m Sao Roque/SP                                 719\n",
            "\u001b[90m114\u001b[39m Mundo Novo/MS                                714\n",
            "\u001b[90m115\u001b[39m Jundiai/SP                                   711\n",
            "\u001b[90m116\u001b[39m Sao Jose do Rio Preto/SP                     708\n",
            "\u001b[90m117\u001b[39m Duque de Caxias/RJ                           706\n",
            "\u001b[90m118\u001b[39m Sao Felix do Xingu/PA                        692\n",
            "\u001b[90m119\u001b[39m Alto Alegre/RR                               655\n",
            "\u001b[90m120\u001b[39m Sao Gabriel da Cachoeira/AM                  655\n",
            "\u001b[90m121\u001b[39m Pau dos Ferros/RN                            653\n",
            "\u001b[90m122\u001b[39m Gaviao Peixoto/SP                            640\n",
            "\u001b[90m123\u001b[39m Tarauaca/AC                                  636\n",
            "\u001b[90m124\u001b[39m Caico/RN                                     630\n",
            "\u001b[90m125\u001b[39m Guaira/PR                                    621\n",
            "\u001b[90m126\u001b[39m Patos de Minas/MG                            621\n",
            "\u001b[90m127\u001b[39m Alagoinhas/BA                                620\n",
            "\u001b[90m128\u001b[39m Araguaina/TO                                 612\n",
            "\u001b[90m129\u001b[39m Vitoria da Conquista/BA                      610\n",
            "\u001b[90m130\u001b[39m Jatai/GO                                     609\n",
            "\u001b[90m131\u001b[39m Nova Friburgo/RJ                             591\n",
            "\u001b[90m132\u001b[39m Barreiras/BA                                 587\n",
            "\u001b[90m133\u001b[39m Parauapebas/PA                               582\n",
            "\u001b[90m134\u001b[39m Novo Progresso/PA                            574\n",
            "\u001b[90m135\u001b[39m Piracicaba/SP                                572\n",
            "\u001b[90m136\u001b[39m Paris/Franca                                 570\n",
            "\u001b[90m137\u001b[39m Brasileia/AC                                 568\n",
            "\u001b[90m138\u001b[39m Nazare da Mata/PE                            567\n",
            "\u001b[90m139\u001b[39m Laranjal do Jari/AP                          566\n",
            "\u001b[90m140\u001b[39m Parnaiba/PI                                  566\n",
            "\u001b[90m141\u001b[39m Parintins/AM                                 558\n",
            "\u001b[90m142\u001b[39m Itacoatiara/AM                               554\n",
            "\u001b[90m143\u001b[39m Sinop/MT                                     554\n",
            "\u001b[90m144\u001b[39m Bonfim/RR                                    551\n",
            "\u001b[90m145\u001b[39m Guarapuava/PR                                551\n",
            "\u001b[90m146\u001b[39m Amajari/RR                                   549\n",
            "\u001b[90m147\u001b[39m Itajuba/MG                                   548\n",
            "\u001b[90m148\u001b[39m Cabo de Santo Agostinho/PE                   546\n",
            "\u001b[90m149\u001b[39m Angra dos Reis/RJ                            543\n",
            "\u001b[90m150\u001b[39m Lisboa/Portugal                              539\n",
            "\u001b[90m151\u001b[39m Paulista/PE                                  530\n",
            "\u001b[90m152\u001b[39m Rio Grande/RS                                529\n",
            "\u001b[90m153\u001b[39m Varginha/MG                                  520\n",
            "\u001b[90m154\u001b[39m Ipero/SP                                     516\n",
            "\u001b[90m155\u001b[39m Camacari/BA                                  515\n",
            "\u001b[90m156\u001b[39m Aracruz/ES                                   514\n",
            "\u001b[90m157\u001b[39m Genebra/Suica                                513\n",
            "\u001b[90m158\u001b[39m Ji-Parana/RO                                 502\n",
            "\u001b[90m159\u001b[39m Guaratuba/PR                                 500\n",
            "\u001b[90m160\u001b[39m Macau/RN                                     500\n",
            "\u001b[90m161\u001b[39m Xapuri/AC                                    498\n",
            "\u001b[90m162\u001b[39m Santana do Livramento/RS                     496\n",
            "\u001b[90m163\u001b[39m Santa Rosa/RS                                492\n",
            "\u001b[90m164\u001b[39m Araraquara/SP                                487\n",
            "\u001b[90m165\u001b[39m Barbacena/MG                                 487\n",
            "\u001b[90m166\u001b[39m Bom Jesus da Lapa/BA                         485\n",
            "\u001b[90m167\u001b[39m Lagarto/SE                                   485\n",
            "\u001b[90m168\u001b[39m Vicosa/MG                                    485\n",
            "\u001b[90m169\u001b[39m Igarassu/PE                                  484\n",
            "\u001b[90m170\u001b[39m Santa Cruz/RN                                480\n",
            "\u001b[90m171\u001b[39m Tamandare/PE                                 480\n",
            "\u001b[90m172\u001b[39m Itaituba/PA                                  479\n",
            "\u001b[90m173\u001b[39m Penedo/AL                                    478\n",
            "\u001b[90m174\u001b[39m Pouso Alegre/MG                              477\n",
            "\u001b[90m175\u001b[39m Diamantina/MG                                476\n",
            "\u001b[90m176\u001b[39m Itaguaje/PR                                  476\n",
            "\u001b[90m177\u001b[39m Uruguaiana/RS                                475\n",
            "\u001b[90m178\u001b[39m Araguari/MG                                  465\n",
            "\u001b[90m179\u001b[39m Goiana/PE                                    465\n",
            "\u001b[90m180\u001b[39m Ituiutaba/MG                                 458\n",
            "\u001b[90m181\u001b[39m Garanhuns/PE                                 457\n",
            "\u001b[90m182\u001b[39m Porto Grande/AP                              454\n",
            "\u001b[90m183\u001b[39m Santiago/Chile                               453\n",
            "\u001b[90m184\u001b[39m Linhares/ES                                  451\n",
            "\u001b[90m185\u001b[39m Quixada/CE                                   451\n",
            "\u001b[90m186\u001b[39m Lages/SC                                     444\n",
            "\u001b[90m187\u001b[39m Manicore/AM                                  442\n",
            "\u001b[90m188\u001b[39m Barcelos/AM                                  437\n",
            "\u001b[90m189\u001b[39m Santa Ines/MA                                437\n",
            "\u001b[90m190\u001b[39m Alcantara/MA                                 436\n",
            "\u001b[90m191\u001b[39m Serra Negra/SP                               436\n",
            "\u001b[90m192\u001b[39m Bage/RS                                      431\n",
            "\u001b[90m193\u001b[39m Aquidauana/MS                                427\n",
            "\u001b[90m194\u001b[39m Montevideu/Uruguai                           426\n",
            "\u001b[90m195\u001b[39m Balsas/MA                                    423\n",
            "\u001b[90m196\u001b[39m Itabaiana/SE                                 422\n",
            "\u001b[90m197\u001b[39m Amambai/MS                                   418\n",
            "\u001b[90m198\u001b[39m Formosa/GO                                   415\n",
            "\u001b[90m199\u001b[39m Palmeira dos indios/AL                       414\n",
            "\u001b[90m200\u001b[39m Sao Jose dos Pinhais/PR                      413\n"
          ]
        }
      ]
    },
    {
      "cell_type": "markdown",
      "source": [],
      "metadata": {
        "id": "IL-007pa26em"
      }
    },
    {
      "cell_type": "code",
      "source": [
        "top_10_destinos <- head(sort(table(df$Destinos), decreasing = TRUE), 10)\n",
        "pie(top_10_destinos, labels = names(top_10_destinos), main = \"10 destinos mais comuns em viagens a serviço em 2023\", col = rainbow(length(top_10_destinos)))"
      ],
      "metadata": {
        "colab": {
          "base_uri": "https://localhost:8080/",
          "height": 437
        },
        "id": "TarYWMiK1ddH",
        "outputId": "09375b72-079d-4734-93f0-84efe4c6b9d9"
      },
      "execution_count": 62,
      "outputs": [
        {
          "output_type": "display_data",
          "data": {
            "text/plain": [
              "Plot with title “10 destinos mais comuns em viagens a serviço em 2023”"
            ],
            "image/png": "[encoded data removed]"
          },
          "metadata": {
            "image/png": {
              "width": 420,
              "height": 420
            }
          }
        }
      ]
    },
    {
      "cell_type": "code",
      "source": [],
      "metadata": {
        "id": "3YSxeElu2oCX"
      },
      "execution_count": null,
      "outputs": []
    }
  ],
  "metadata": {
    "colab": {
      "provenance": [],
      "toc_visible": true,
      "authorship_tag": "ABX9TyOW94An/tEZJshfL7LlaSIz",
      "include_colab_link": true
    },
    "kernelspec": {
      "display_name": "R",
      "name": "ir"
    },
    "language_info": {
      "name": "R"
    }
  },
  "nbformat": 4,
  "nbformat_minor": 0
}