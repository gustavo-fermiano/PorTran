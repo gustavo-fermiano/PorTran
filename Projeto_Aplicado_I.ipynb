{
  "nbformat": 4,
  "nbformat_minor": 0,
  "metadata": {
    "colab": {
      "provenance": [],
      "authorship_tag": "ABX9TyOSkiQOjaqKLhf5xKYiBDI9",
      "include_colab_link": true
    },
    "kernelspec": {
      "name": "ir",
      "display_name": "R"
    },
    "language_info": {
      "name": "R"
    }
  },
  "cells": [
    {
      "cell_type": "markdown",
      "metadata": {
        "id": "view-in-github",
        "colab_type": "text"
      },
      "source": [
        "<a href=\"https://colab.research.google.com/github/gustavo-fermiano/PorTran/blob/main/Projeto_Aplicado_I.ipynb\" target=\"_parent\"><img src=\"https://colab.research.google.com/assets/colab-badge.svg\" alt=\"Open In Colab\"/></a>"
      ]
    },
    {
      "cell_type": "code",
      "execution_count": 4,
      "metadata": {
        "colab": {
          "base_uri": "https://localhost:8080/",
          "height": 1000
        },
        "id": "sn2J59dqu07E",
        "outputId": "d13a01e7-0fe7-4b7d-dd1a-9ef2763c32a2"
      },
      "outputs": [
        {
          "output_type": "display_data",
          "data": {
            "text/html": [
              "<table class=\"dataframe\">\n",
              "<caption>A data.frame: 6 × 22</caption>\n",
              "<thead>\n",
              "\t<tr><th></th><th scope=col>Identificador.do.processo.de.viagem</th><th scope=col>Numero.da.Proposta..PCDP.</th><th scope=col>Situacao</th><th scope=col>Viagem.Urgente</th><th scope=col>Justificativa.Urgencia.Viagem</th><th scope=col>Codigo.do.orgao.superior</th><th scope=col>Nome.do.orgao.superior</th><th scope=col>Codigo.orgao.solicitante</th><th scope=col>Nome.orgao.solicitante</th><th scope=col>CPF.viajante</th><th scope=col>⋯</th><th scope=col>Funcao</th><th scope=col>Descricao.Funcao</th><th scope=col>Periodo...Data.de.inicio</th><th scope=col>Periodo...Data.de.fim</th><th scope=col>Destinos</th><th scope=col>Motivo</th><th scope=col>Valor.diarias</th><th scope=col>Valor.passagens</th><th scope=col>Valor.devolucao</th><th scope=col>Valor.outros.gastos</th></tr>\n",
              "\t<tr><th></th><th scope=col>&lt;int&gt;</th><th scope=col>&lt;chr&gt;</th><th scope=col>&lt;chr&gt;</th><th scope=col>&lt;chr&gt;</th><th scope=col>&lt;chr&gt;</th><th scope=col>&lt;int&gt;</th><th scope=col>&lt;chr&gt;</th><th scope=col>&lt;int&gt;</th><th scope=col>&lt;chr&gt;</th><th scope=col>&lt;chr&gt;</th><th scope=col>⋯</th><th scope=col>&lt;chr&gt;</th><th scope=col>&lt;chr&gt;</th><th scope=col>&lt;chr&gt;</th><th scope=col>&lt;chr&gt;</th><th scope=col>&lt;chr&gt;</th><th scope=col>&lt;chr&gt;</th><th scope=col>&lt;chr&gt;</th><th scope=col>&lt;chr&gt;</th><th scope=col>&lt;chr&gt;</th><th scope=col>&lt;chr&gt;</th></tr>\n",
              "</thead>\n",
              "<tbody>\n",
              "\t<tr><th scope=row>1</th><td>17821923</td><td>000001/23-1C </td><td>Realizada</td><td>NaO</td><td>Sem informacao                                                                                                                                                                                                                                 </td><td>26000</td><td>Ministerio da Educacao                   </td><td>26352</td><td>Fundacao Universidade Federal do ABC</td><td>***.875.238-**</td><td>⋯</td><td>-1        </td><td>Sem informacao                   </td><td>01/01/2023</td><td>02/12/2023</td><td>Loughborough/Reino Unido           </td><td>Intercambio academico PCDP anterior 07/21-3C                                                                                                                                                                                                                              </td><td>0,00    </td><td>0,00    </td><td>0,00</td><td>0,00   </td></tr>\n",
              "\t<tr><th scope=row>2</th><td>18236583</td><td>000018/23    </td><td>Realizada</td><td>NaO</td><td>Sem informacao                                                                                                                                                                                                                                 </td><td>26000</td><td>Ministerio da Educacao                   </td><td>26236</td><td>Universidade Federal Fluminense     </td><td>              </td><td>⋯</td><td>-1        </td><td>Sem informacao                   </td><td>16/01/2023</td><td>28/02/2024</td><td>Rio de Janeiro/RJ                  </td><td>Afastamento para pos-graduacao stricto sensu no nivel de mestrado junto ao Programa de Pos Graduacao em Divulgacao da Ciencia, Tecnologia e Saude da FIOCRUZ, conforme processo SEI-UFF no 23069.164538/2022-76, autorizado pela chefia e publicado em Boletim de Servico.</td><td>0,00    </td><td>0,00    </td><td>0,00</td><td>0,00   </td></tr>\n",
              "\t<tr><th scope=row>3</th><td>18288418</td><td>000007/23-1C </td><td>Realizada</td><td>SIM</td><td>Por necessidade do servico.                                                                                                                                                                                                                    </td><td>52000</td><td>Ministerio da Defesa                     </td><td>52121</td><td>Comando do Exercito                 </td><td>***.621.358-**</td><td>⋯</td><td>OfSuperior</td><td>OfSuperior                       </td><td>10/01/2023</td><td>29/01/2023</td><td>Nova York/Estados Unidos da America</td><td>Participar da revisao do COE Manual (Contingent Owned Equipment) da ONU (Atv PVANA D2NN-B217A), a ser realizada na cidade de Nova Iorque, Estados Unidos da America. CC S025296M                                                                                          </td><td>39565,70</td><td>7434,13 </td><td>0,00</td><td>1095,35</td></tr>\n",
              "\t<tr><th scope=row>4</th><td>18296348</td><td>000070/23    </td><td>Realizada</td><td>SIM</td><td>A efetivacao do empenho no Siafi e a respectiva inclusao no SCDSP, assim como o cadastro do teto orcamentario por parte da Proad deram-se em data fora do prazo regimental de 15 dias de antecedencia (15 dias anteriores ao inicio da viagem).</td><td>26000</td><td>Ministerio da Educacao                   </td><td>26406</td><td>Instituto Federal do Espirito Santo </td><td>***.407.547-**</td><td>⋯</td><td>-1        </td><td>Sem informacao                   </td><td>05/02/2023</td><td>10/02/2023</td><td>Vitoria/ES                         </td><td>Participacao das aulas de Mestrado Interinstitucional em Administracao - PPGAdm/UFES/IFES, sob o no de matricula 2022130396, conforme horario individual em anexo, mes fevereiro de 2023.                                                                                 </td><td>1013,96 </td><td>0,00    </td><td>0,00</td><td>0,00   </td></tr>\n",
              "\t<tr><th scope=row>5</th><td>18302983</td><td>000001/23    </td><td>Realizada</td><td>NaO</td><td>Sem informacao                                                                                                                                                                                                                                 </td><td>52000</td><td>Ministerio da Defesa                     </td><td>52111</td><td>Comando da Aeronautica              </td><td>***.855.388-**</td><td>⋯</td><td>OfIntermed</td><td>OfIntermed                       </td><td>01/01/2023</td><td>07/07/2023</td><td>Gotemburgo/Suecia                  </td><td>PARTICIPAR DO CURSO DE PILOTO DE GRIPEN C/D.                                                                                                                                                                                                                              </td><td>0,00    </td><td>14903,10</td><td>0,00</td><td>0,00   </td></tr>\n",
              "\t<tr><th scope=row>6</th><td>18303291</td><td>Informacoes p</td><td>Realizada</td><td>NaO</td><td>Informacao protegida por sigilo nos termos da legislacao vigente                                                                                                                                                                               </td><td>30000</td><td>Ministerio da Justica e Seguranca Publica</td><td>30108</td><td>Policia Federal                     </td><td>ID001000345   </td><td>⋯</td><td>-11       </td><td>Informacoes protegidas por sigilo</td><td>02/01/2023</td><td>01/02/2023</td><td>Informacoes protegidas por sigilo  </td><td>Informacao protegida por sigilo nos termos da legislacao vigente                                                                                                                                                                                                          </td><td>9895,35 </td><td>2553,62 </td><td>0,00</td><td>0,00   </td></tr>\n",
              "</tbody>\n",
              "</table>\n"
            ],
            "text/markdown": "\nA data.frame: 6 × 22\n\n| <!--/--> | Identificador.do.processo.de.viagem &lt;int&gt; | Numero.da.Proposta..PCDP. &lt;chr&gt; | Situacao &lt;chr&gt; | Viagem.Urgente &lt;chr&gt; | Justificativa.Urgencia.Viagem &lt;chr&gt; | Codigo.do.orgao.superior &lt;int&gt; | Nome.do.orgao.superior &lt;chr&gt; | Codigo.orgao.solicitante &lt;int&gt; | Nome.orgao.solicitante &lt;chr&gt; | CPF.viajante &lt;chr&gt; | ⋯ ⋯ | Funcao &lt;chr&gt; | Descricao.Funcao &lt;chr&gt; | Periodo...Data.de.inicio &lt;chr&gt; | Periodo...Data.de.fim &lt;chr&gt; | Destinos &lt;chr&gt; | Motivo &lt;chr&gt; | Valor.diarias &lt;chr&gt; | Valor.passagens &lt;chr&gt; | Valor.devolucao &lt;chr&gt; | Valor.outros.gastos &lt;chr&gt; |\n|---|---|---|---|---|---|---|---|---|---|---|---|---|---|---|---|---|---|---|---|---|---|\n| 1 | 17821923 | 000001/23-1C  | Realizada | NaO | Sem informacao                                                                                                                                                                                                                                  | 26000 | Ministerio da Educacao                    | 26352 | Fundacao Universidade Federal do ABC | ***.875.238-** | ⋯ | -1         | Sem informacao                    | 01/01/2023 | 02/12/2023 | Loughborough/Reino Unido            | Intercambio academico PCDP anterior 07/21-3C                                                                                                                                                                                                                               | 0,00     | 0,00     | 0,00 | 0,00    |\n| 2 | 18236583 | 000018/23     | Realizada | NaO | Sem informacao                                                                                                                                                                                                                                  | 26000 | Ministerio da Educacao                    | 26236 | Universidade Federal Fluminense      | <!----> | ⋯ | -1         | Sem informacao                    | 16/01/2023 | 28/02/2024 | Rio de Janeiro/RJ                   | Afastamento para pos-graduacao stricto sensu no nivel de mestrado junto ao Programa de Pos Graduacao em Divulgacao da Ciencia, Tecnologia e Saude da FIOCRUZ, conforme processo SEI-UFF no 23069.164538/2022-76, autorizado pela chefia e publicado em Boletim de Servico. | 0,00     | 0,00     | 0,00 | 0,00    |\n| 3 | 18288418 | 000007/23-1C  | Realizada | SIM | Por necessidade do servico.                                                                                                                                                                                                                     | 52000 | Ministerio da Defesa                      | 52121 | Comando do Exercito                  | ***.621.358-** | ⋯ | OfSuperior | OfSuperior                        | 10/01/2023 | 29/01/2023 | Nova York/Estados Unidos da America | Participar da revisao do COE Manual (Contingent Owned Equipment) da ONU (Atv PVANA D2NN-B217A), a ser realizada na cidade de Nova Iorque, Estados Unidos da America. CC S025296M                                                                                           | 39565,70 | 7434,13  | 0,00 | 1095,35 |\n| 4 | 18296348 | 000070/23     | Realizada | SIM | A efetivacao do empenho no Siafi e a respectiva inclusao no SCDSP, assim como o cadastro do teto orcamentario por parte da Proad deram-se em data fora do prazo regimental de 15 dias de antecedencia (15 dias anteriores ao inicio da viagem). | 26000 | Ministerio da Educacao                    | 26406 | Instituto Federal do Espirito Santo  | ***.407.547-** | ⋯ | -1         | Sem informacao                    | 05/02/2023 | 10/02/2023 | Vitoria/ES                          | Participacao das aulas de Mestrado Interinstitucional em Administracao - PPGAdm/UFES/IFES, sob o no de matricula 2022130396, conforme horario individual em anexo, mes fevereiro de 2023.                                                                                  | 1013,96  | 0,00     | 0,00 | 0,00    |\n| 5 | 18302983 | 000001/23     | Realizada | NaO | Sem informacao                                                                                                                                                                                                                                  | 52000 | Ministerio da Defesa                      | 52111 | Comando da Aeronautica               | ***.855.388-** | ⋯ | OfIntermed | OfIntermed                        | 01/01/2023 | 07/07/2023 | Gotemburgo/Suecia                   | PARTICIPAR DO CURSO DE PILOTO DE GRIPEN C/D.                                                                                                                                                                                                                               | 0,00     | 14903,10 | 0,00 | 0,00    |\n| 6 | 18303291 | Informacoes p | Realizada | NaO | Informacao protegida por sigilo nos termos da legislacao vigente                                                                                                                                                                                | 30000 | Ministerio da Justica e Seguranca Publica | 30108 | Policia Federal                      | ID001000345    | ⋯ | -11        | Informacoes protegidas por sigilo | 02/01/2023 | 01/02/2023 | Informacoes protegidas por sigilo   | Informacao protegida por sigilo nos termos da legislacao vigente                                                                                                                                                                                                           | 9895,35  | 2553,62  | 0,00 | 0,00    |\n\n",
            "text/latex": "A data.frame: 6 × 22\n\\begin{tabular}{r|lllllllllllllllllllll}\n  & Identificador.do.processo.de.viagem & Numero.da.Proposta..PCDP. & Situacao & Viagem.Urgente & Justificativa.Urgencia.Viagem & Codigo.do.orgao.superior & Nome.do.orgao.superior & Codigo.orgao.solicitante & Nome.orgao.solicitante & CPF.viajante & ⋯ & Funcao & Descricao.Funcao & Periodo...Data.de.inicio & Periodo...Data.de.fim & Destinos & Motivo & Valor.diarias & Valor.passagens & Valor.devolucao & Valor.outros.gastos\\\\\n  & <int> & <chr> & <chr> & <chr> & <chr> & <int> & <chr> & <int> & <chr> & <chr> & ⋯ & <chr> & <chr> & <chr> & <chr> & <chr> & <chr> & <chr> & <chr> & <chr> & <chr>\\\\\n\\hline\n\t1 & 17821923 & 000001/23-1C  & Realizada & NaO & Sem informacao                                                                                                                                                                                                                                  & 26000 & Ministerio da Educacao                    & 26352 & Fundacao Universidade Federal do ABC & ***.875.238-** & ⋯ & -1         & Sem informacao                    & 01/01/2023 & 02/12/2023 & Loughborough/Reino Unido            & Intercambio academico PCDP anterior 07/21-3C                                                                                                                                                                                                                               & 0,00     & 0,00     & 0,00 & 0,00   \\\\\n\t2 & 18236583 & 000018/23     & Realizada & NaO & Sem informacao                                                                                                                                                                                                                                  & 26000 & Ministerio da Educacao                    & 26236 & Universidade Federal Fluminense      &                & ⋯ & -1         & Sem informacao                    & 16/01/2023 & 28/02/2024 & Rio de Janeiro/RJ                   & Afastamento para pos-graduacao stricto sensu no nivel de mestrado junto ao Programa de Pos Graduacao em Divulgacao da Ciencia, Tecnologia e Saude da FIOCRUZ, conforme processo SEI-UFF no 23069.164538/2022-76, autorizado pela chefia e publicado em Boletim de Servico. & 0,00     & 0,00     & 0,00 & 0,00   \\\\\n\t3 & 18288418 & 000007/23-1C  & Realizada & SIM & Por necessidade do servico.                                                                                                                                                                                                                     & 52000 & Ministerio da Defesa                      & 52121 & Comando do Exercito                  & ***.621.358-** & ⋯ & OfSuperior & OfSuperior                        & 10/01/2023 & 29/01/2023 & Nova York/Estados Unidos da America & Participar da revisao do COE Manual (Contingent Owned Equipment) da ONU (Atv PVANA D2NN-B217A), a ser realizada na cidade de Nova Iorque, Estados Unidos da America. CC S025296M                                                                                           & 39565,70 & 7434,13  & 0,00 & 1095,35\\\\\n\t4 & 18296348 & 000070/23     & Realizada & SIM & A efetivacao do empenho no Siafi e a respectiva inclusao no SCDSP, assim como o cadastro do teto orcamentario por parte da Proad deram-se em data fora do prazo regimental de 15 dias de antecedencia (15 dias anteriores ao inicio da viagem). & 26000 & Ministerio da Educacao                    & 26406 & Instituto Federal do Espirito Santo  & ***.407.547-** & ⋯ & -1         & Sem informacao                    & 05/02/2023 & 10/02/2023 & Vitoria/ES                          & Participacao das aulas de Mestrado Interinstitucional em Administracao - PPGAdm/UFES/IFES, sob o no de matricula 2022130396, conforme horario individual em anexo, mes fevereiro de 2023.                                                                                  & 1013,96  & 0,00     & 0,00 & 0,00   \\\\\n\t5 & 18302983 & 000001/23     & Realizada & NaO & Sem informacao                                                                                                                                                                                                                                  & 52000 & Ministerio da Defesa                      & 52111 & Comando da Aeronautica               & ***.855.388-** & ⋯ & OfIntermed & OfIntermed                        & 01/01/2023 & 07/07/2023 & Gotemburgo/Suecia                   & PARTICIPAR DO CURSO DE PILOTO DE GRIPEN C/D.                                                                                                                                                                                                                               & 0,00     & 14903,10 & 0,00 & 0,00   \\\\\n\t6 & 18303291 & Informacoes p & Realizada & NaO & Informacao protegida por sigilo nos termos da legislacao vigente                                                                                                                                                                                & 30000 & Ministerio da Justica e Seguranca Publica & 30108 & Policia Federal                      & ID001000345    & ⋯ & -11        & Informacoes protegidas por sigilo & 02/01/2023 & 01/02/2023 & Informacoes protegidas por sigilo   & Informacao protegida por sigilo nos termos da legislacao vigente                                                                                                                                                                                                           & 9895,35  & 2553,62  & 0,00 & 0,00   \\\\\n\\end{tabular}\n",
            "text/plain": [
              "  Identificador.do.processo.de.viagem Numero.da.Proposta..PCDP. Situacao \n",
              "1 17821923                            000001/23-1C              Realizada\n",
              "2 18236583                            000018/23                 Realizada\n",
              "3 18288418                            000007/23-1C              Realizada\n",
              "4 18296348                            000070/23                 Realizada\n",
              "5 18302983                            000001/23                 Realizada\n",
              "6 18303291                            Informacoes p             Realizada\n",
              "  Viagem.Urgente\n",
              "1 NaO           \n",
              "2 NaO           \n",
              "3 SIM           \n",
              "4 SIM           \n",
              "5 NaO           \n",
              "6 NaO           \n",
              "  Justificativa.Urgencia.Viagem                                                                                                                                                                                                                  \n",
              "1 Sem informacao                                                                                                                                                                                                                                 \n",
              "2 Sem informacao                                                                                                                                                                                                                                 \n",
              "3 Por necessidade do servico.                                                                                                                                                                                                                    \n",
              "4 A efetivacao do empenho no Siafi e a respectiva inclusao no SCDSP, assim como o cadastro do teto orcamentario por parte da Proad deram-se em data fora do prazo regimental de 15 dias de antecedencia (15 dias anteriores ao inicio da viagem).\n",
              "5 Sem informacao                                                                                                                                                                                                                                 \n",
              "6 Informacao protegida por sigilo nos termos da legislacao vigente                                                                                                                                                                               \n",
              "  Codigo.do.orgao.superior Nome.do.orgao.superior                   \n",
              "1 26000                    Ministerio da Educacao                   \n",
              "2 26000                    Ministerio da Educacao                   \n",
              "3 52000                    Ministerio da Defesa                     \n",
              "4 26000                    Ministerio da Educacao                   \n",
              "5 52000                    Ministerio da Defesa                     \n",
              "6 30000                    Ministerio da Justica e Seguranca Publica\n",
              "  Codigo.orgao.solicitante Nome.orgao.solicitante               CPF.viajante  \n",
              "1 26352                    Fundacao Universidade Federal do ABC ***.875.238-**\n",
              "2 26236                    Universidade Federal Fluminense                    \n",
              "3 52121                    Comando do Exercito                  ***.621.358-**\n",
              "4 26406                    Instituto Federal do Espirito Santo  ***.407.547-**\n",
              "5 52111                    Comando da Aeronautica               ***.855.388-**\n",
              "6 30108                    Policia Federal                      ID001000345   \n",
              "  ⋯ Funcao     Descricao.Funcao                  Periodo...Data.de.inicio\n",
              "1 ⋯ -1         Sem informacao                    01/01/2023              \n",
              "2 ⋯ -1         Sem informacao                    16/01/2023              \n",
              "3 ⋯ OfSuperior OfSuperior                        10/01/2023              \n",
              "4 ⋯ -1         Sem informacao                    05/02/2023              \n",
              "5 ⋯ OfIntermed OfIntermed                        01/01/2023              \n",
              "6 ⋯ -11        Informacoes protegidas por sigilo 02/01/2023              \n",
              "  Periodo...Data.de.fim Destinos                           \n",
              "1 02/12/2023            Loughborough/Reino Unido           \n",
              "2 28/02/2024            Rio de Janeiro/RJ                  \n",
              "3 29/01/2023            Nova York/Estados Unidos da America\n",
              "4 10/02/2023            Vitoria/ES                         \n",
              "5 07/07/2023            Gotemburgo/Suecia                  \n",
              "6 01/02/2023            Informacoes protegidas por sigilo  \n",
              "  Motivo                                                                                                                                                                                                                                                                    \n",
              "1 Intercambio academico PCDP anterior 07/21-3C                                                                                                                                                                                                                              \n",
              "2 Afastamento para pos-graduacao stricto sensu no nivel de mestrado junto ao Programa de Pos Graduacao em Divulgacao da Ciencia, Tecnologia e Saude da FIOCRUZ, conforme processo SEI-UFF no 23069.164538/2022-76, autorizado pela chefia e publicado em Boletim de Servico.\n",
              "3 Participar da revisao do COE Manual (Contingent Owned Equipment) da ONU (Atv PVANA D2NN-B217A), a ser realizada na cidade de Nova Iorque, Estados Unidos da America. CC S025296M                                                                                          \n",
              "4 Participacao das aulas de Mestrado Interinstitucional em Administracao - PPGAdm/UFES/IFES, sob o no de matricula 2022130396, conforme horario individual em anexo, mes fevereiro de 2023.                                                                                 \n",
              "5 PARTICIPAR DO CURSO DE PILOTO DE GRIPEN C/D.                                                                                                                                                                                                                              \n",
              "6 Informacao protegida por sigilo nos termos da legislacao vigente                                                                                                                                                                                                          \n",
              "  Valor.diarias Valor.passagens Valor.devolucao Valor.outros.gastos\n",
              "1 0,00          0,00            0,00            0,00               \n",
              "2 0,00          0,00            0,00            0,00               \n",
              "3 39565,70      7434,13         0,00            1095,35            \n",
              "4 1013,96       0,00            0,00            0,00               \n",
              "5 0,00          14903,10        0,00            0,00               \n",
              "6 9895,35       2553,62         0,00            0,00               "
            ]
          },
          "metadata": {}
        }
      ],
      "source": [
        "df <- read.csv (\"2023_Viagem_edit.csv\",sep=\";\")\n",
        "head(df)"
      ]
    },
    {
      "cell_type": "code",
      "source": [
        "nrow(df)"
      ],
      "metadata": {
        "colab": {
          "base_uri": "https://localhost:8080/",
          "height": 34
        },
        "id": "dhdr3PFtvsXi",
        "outputId": "69fc14f6-3611-40dd-df59-62cba62c114d"
      },
      "execution_count": 5,
      "outputs": [
        {
          "output_type": "display_data",
          "data": {
            "text/html": [
              "826397"
            ],
            "text/markdown": "826397",
            "text/latex": "826397",
            "text/plain": [
              "[1] 826397"
            ]
          },
          "metadata": {}
        }
      ]
    },
    {
      "cell_type": "code",
      "source": [
        "ncol(df)"
      ],
      "metadata": {
        "colab": {
          "base_uri": "https://localhost:8080/",
          "height": 34
        },
        "id": "ZxuRsWlYv0EY",
        "outputId": "d3f59660-e9dc-4130-8be3-58b93c5bb010"
      },
      "execution_count": 6,
      "outputs": [
        {
          "output_type": "display_data",
          "data": {
            "text/html": [
              "22"
            ],
            "text/markdown": "22",
            "text/latex": "22",
            "text/plain": [
              "[1] 22"
            ]
          },
          "metadata": {}
        }
      ]
    },
    {
      "cell_type": "code",
      "source": [
        "summary(df)"
      ],
      "metadata": {
        "colab": {
          "base_uri": "https://localhost:8080/",
          "height": 989
        },
        "id": "HUESImXjv08g",
        "outputId": "6ddb0ab4-8f68-4d61-f760-36de8da7789c"
      },
      "execution_count": 7,
      "outputs": [
        {
          "output_type": "display_data",
          "data": {
            "text/plain": [
              " Identificador.do.processo.de.viagem Numero.da.Proposta..PCDP.\n",
              " Min.   :1.782e+07                   Length:826397            \n",
              " 1st Qu.:1.888e+07                   Class :character         \n",
              " Median :1.913e+07                   Mode  :character         \n",
              " Mean   :2.158e+07                                            \n",
              " 3rd Qu.:1.940e+07                                            \n",
              " Max.   :2.023e+09                                            \n",
              "   Situacao         Viagem.Urgente     Justificativa.Urgencia.Viagem\n",
              " Length:826397      Length:826397      Length:826397                \n",
              " Class :character   Class :character   Class :character             \n",
              " Mode  :character   Mode  :character   Mode  :character             \n",
              "                                                                    \n",
              "                                                                    \n",
              "                                                                    \n",
              " Codigo.do.orgao.superior Nome.do.orgao.superior Codigo.orgao.solicitante\n",
              " Min.   :   -1            Length:826397          Min.   :   -1           \n",
              " 1st Qu.:22000            Class :character       1st Qu.:22000           \n",
              " Median :30000            Mode  :character       Median :26414           \n",
              " Mean   :29841                                   Mean   :27365           \n",
              " 3rd Qu.:47000                                   3rd Qu.:37202           \n",
              " Max.   :84000                                   Max.   :64000           \n",
              " Nome.orgao.solicitante CPF.viajante           Nome          \n",
              " Length:826397          Length:826397      Length:826397     \n",
              " Class :character       Class :character   Class :character  \n",
              " Mode  :character       Mode  :character   Mode  :character  \n",
              "                                                             \n",
              "                                                             \n",
              "                                                             \n",
              "    Cargo              Funcao          Descricao.Funcao  \n",
              " Length:826397      Length:826397      Length:826397     \n",
              " Class :character   Class :character   Class :character  \n",
              " Mode  :character   Mode  :character   Mode  :character  \n",
              "                                                         \n",
              "                                                         \n",
              "                                                         \n",
              " Periodo...Data.de.inicio Periodo...Data.de.fim   Destinos        \n",
              " Length:826397            Length:826397         Length:826397     \n",
              " Class :character         Class :character      Class :character  \n",
              " Mode  :character         Mode  :character      Mode  :character  \n",
              "                                                                  \n",
              "                                                                  \n",
              "                                                                  \n",
              "    Motivo          Valor.diarias      Valor.passagens    Valor.devolucao   \n",
              " Length:826397      Length:826397      Length:826397      Length:826397     \n",
              " Class :character   Class :character   Class :character   Class :character  \n",
              " Mode  :character   Mode  :character   Mode  :character   Mode  :character  \n",
              "                                                                            \n",
              "                                                                            \n",
              "                                                                            \n",
              " Valor.outros.gastos\n",
              " Length:826397      \n",
              " Class :character   \n",
              " Mode  :character   \n",
              "                    \n",
              "                    \n",
              "                    "
            ]
          },
          "metadata": {}
        }
      ]
    },
    {
      "cell_type": "code",
      "source": [],
      "metadata": {
        "id": "ixfI9uY7wT1I"
      },
      "execution_count": null,
      "outputs": []
    }
  ]
}