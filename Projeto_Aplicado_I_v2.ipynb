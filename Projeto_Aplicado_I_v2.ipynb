{
  "nbformat": 4,
  "nbformat_minor": 0,
  "metadata": {
    "colab": {
      "provenance": [],
      "authorship_tag": "ABX9TyNTBPZwvuhJOm4LgnQK0y+y",
      "include_colab_link": true
    },
    "kernelspec": {
      "name": "ir",
      "display_name": "R"
    },
    "language_info": {
      "name": "R"
    }
  },
  "cells": [
    {
      "cell_type": "markdown",
      "metadata": {
        "id": "view-in-github",
        "colab_type": "text"
      },
      "source": [
        "<a href=\"https://colab.research.google.com/github/gustavo-fermiano/PorTran/blob/main/Projeto_Aplicado_I_v2.ipynb\" target=\"_parent\"><img src=\"https://colab.research.google.com/assets/colab-badge.svg\" alt=\"Open In Colab\"/></a>"
      ]
    },
    {
      "cell_type": "code",
      "execution_count": 3,
      "metadata": {
        "colab": {
          "base_uri": "https://localhost:8080/"
        },
        "id": "B5WO5OMsg0Je",
        "outputId": "1ebad861-9dfd-44f0-9d99-516083c66542"
      },
      "outputs": [
        {
          "output_type": "stream",
          "name": "stderr",
          "text": [
            "Installing package into ‘/usr/local/lib/R/site-library’\n",
            "(as ‘lib’ is unspecified)\n",
            "\n"
          ]
        }
      ],
      "source": [
        "install.packages(\"googledrive\") # instalando package para ler arquivo do Google Drive\n",
        "library(googledrive)"
      ]
    },
    {
      "cell_type": "code",
      "source": [
        "install.packages(\"ggplot2\") # instalando package do ggplot2 para plotar gráficos\n",
        "library(ggplot2)"
      ],
      "metadata": {
        "colab": {
          "base_uri": "https://localhost:8080/"
        },
        "id": "HCVL2cDGg4VI",
        "outputId": "f1e18611-94cc-4ea5-9665-132160e99357"
      },
      "execution_count": 1,
      "outputs": [
        {
          "output_type": "stream",
          "name": "stderr",
          "text": [
            "Installing package into ‘/usr/local/lib/R/site-library’\n",
            "(as ‘lib’ is unspecified)\n",
            "\n"
          ]
        }
      ]
    },
    {
      "cell_type": "code",
      "source": [
        "drive_auth() # autenticando acesso ao Google Drive"
      ],
      "metadata": {
        "colab": {
          "base_uri": "https://localhost:8080/"
        },
        "id": "5PFbjyQUg9o_",
        "outputId": "d24819aa-f294-41b6-b4e8-cb7c7a66409b"
      },
      "execution_count": 4,
      "outputs": [
        {
          "output_type": "stream",
          "name": "stderr",
          "text": [
            "\u001b[1m\u001b[22mIs it OK to cache OAuth access credentials in the folder \u001b[34m~/.cache/gargle\u001b[39m\n",
            "between R sessions?\n",
            "\u001b[1m1\u001b[22m: Yes\n",
            "\u001b[1m2\u001b[22m: No\n"
          ]
        },
        {
          "name": "stdout",
          "output_type": "stream",
          "text": [
            "Selection: 1\n"
          ]
        },
        {
          "output_type": "stream",
          "name": "stderr",
          "text": [
            "Please point your browser to the following url: \n",
            "\n",
            "https://accounts.google.com/o/oauth2/v2/auth?client_id=603366585132-frjlouoa3s2ono25d2l9ukvhlsrlnr7k.apps.googleusercontent.com&scope=https%3A%2F%2Fwww.googleapis.com%2Fauth%2Fdrive%20https%3A%2F%2Fwww.googleapis.com%2Fauth%2Fuserinfo.email&redirect_uri=https%3A%2F%2Fwww.tidyverse.org%2Fgoogle-callback%2F&response_type=code&state=88bb96e164c6a7013dd2d24f0fdfc987&access_type=offline&prompt=consent\n",
            "\n"
          ]
        },
        {
          "name": "stdout",
          "output_type": "stream",
          "text": [
            "Enter authorization code: eyJjb2RlIjoiNC8wQVFsRWQ4eGJraVhXdmNQOHJHb2hpVlNtek5lNU1ob0JwbWlFeTdQc2lTRGlFZzl1RGJ2R29pZ3otc1NTVFZ3ckhFNV9MUSIsInN0YXRlIjoiODhiYjk2ZTE2NGM2YTcwMTNkZDJkMjRmMGZkZmM5ODcifQ==\n"
          ]
        }
      ]
    },
    {
      "cell_type": "code",
      "source": [
        "drive_download(file = \"2023_Viagem_edit.csv\", path = \"2023_Viagem_edit.csv\", overwrite = TRUE) # baixando arquivo no ambiente R"
      ],
      "metadata": {
        "colab": {
          "base_uri": "https://localhost:8080/"
        },
        "id": "UIA1CytyhF0u",
        "outputId": "371e50f4-c466-4a37-9da6-10a083b773e4"
      },
      "execution_count": 5,
      "outputs": [
        {
          "output_type": "stream",
          "name": "stderr",
          "text": [
            "File downloaded:\n",
            "\n",
            "• \u001b[36m2023_Viagem_edit.csv\u001b[39m \u001b[90m<id: 1ClfStukd0v3P2_NKXfQ9oSWVjAuFbzqR>\u001b[39m\n",
            "\n",
            "Saved locally as:\n",
            "\n",
            "• \u001b[34m2023_Viagem_edit.csv\u001b[39m\n",
            "\n"
          ]
        }
      ]
    },
    {
      "cell_type": "code",
      "source": [
        "df <- read.csv (\"2023_Viagem_edit.csv\",sep=\";\") # lendo o dataframe\n",
        "head(df)"
      ],
      "metadata": {
        "colab": {
          "base_uri": "https://localhost:8080/",
          "height": 1000
        },
        "id": "vjEaVF0khRJv",
        "outputId": "d15de9a9-0116-4581-d8a5-1adc5fadce3e"
      },
      "execution_count": 6,
      "outputs": [
        {
          "output_type": "display_data",
          "data": {
            "text/html": [
              "<table class=\"dataframe\">\n",
              "<caption>A data.frame: 6 × 22</caption>\n",
              "<thead>\n",
              "\t<tr><th></th><th scope=col>Identificador.do.processo.de.viagem</th><th scope=col>Numero.da.Proposta..PCDP.</th><th scope=col>Situacao</th><th scope=col>Viagem.Urgente</th><th scope=col>Justificativa.Urgencia.Viagem</th><th scope=col>Codigo.do.orgao.superior</th><th scope=col>Nome.do.orgao.superior</th><th scope=col>Codigo.orgao.solicitante</th><th scope=col>Nome.orgao.solicitante</th><th scope=col>CPF.viajante</th><th scope=col>⋯</th><th scope=col>Funcao</th><th scope=col>Descricao.Funcao</th><th scope=col>Periodo...Data.de.inicio</th><th scope=col>Periodo...Data.de.fim</th><th scope=col>Destinos</th><th scope=col>Motivo</th><th scope=col>Valor.diarias</th><th scope=col>Valor.passagens</th><th scope=col>Valor.devolucao</th><th scope=col>Valor.outros.gastos</th></tr>\n",
              "\t<tr><th></th><th scope=col>&lt;int&gt;</th><th scope=col>&lt;chr&gt;</th><th scope=col>&lt;chr&gt;</th><th scope=col>&lt;chr&gt;</th><th scope=col>&lt;chr&gt;</th><th scope=col>&lt;int&gt;</th><th scope=col>&lt;chr&gt;</th><th scope=col>&lt;int&gt;</th><th scope=col>&lt;chr&gt;</th><th scope=col>&lt;chr&gt;</th><th scope=col>⋯</th><th scope=col>&lt;chr&gt;</th><th scope=col>&lt;chr&gt;</th><th scope=col>&lt;chr&gt;</th><th scope=col>&lt;chr&gt;</th><th scope=col>&lt;chr&gt;</th><th scope=col>&lt;chr&gt;</th><th scope=col>&lt;chr&gt;</th><th scope=col>&lt;chr&gt;</th><th scope=col>&lt;chr&gt;</th><th scope=col>&lt;chr&gt;</th></tr>\n",
              "</thead>\n",
              "<tbody>\n",
              "\t<tr><th scope=row>1</th><td>17821923</td><td>000001/23-1C </td><td>Realizada</td><td>NaO</td><td>Sem informacao                                                                                                                                                                                                                                 </td><td>26000</td><td>Ministerio da Educacao                   </td><td>26352</td><td>Fundacao Universidade Federal do ABC</td><td>***.875.238-**</td><td>⋯</td><td>-1        </td><td>Sem informacao                   </td><td>01/01/2023</td><td>02/12/2023</td><td>Loughborough/Reino Unido           </td><td>Intercambio academico PCDP anterior 07/21-3C                                                                                                                                                                                                                              </td><td>0,00    </td><td>0,00    </td><td>0,00</td><td>0,00   </td></tr>\n",
              "\t<tr><th scope=row>2</th><td>18236583</td><td>000018/23    </td><td>Realizada</td><td>NaO</td><td>Sem informacao                                                                                                                                                                                                                                 </td><td>26000</td><td>Ministerio da Educacao                   </td><td>26236</td><td>Universidade Federal Fluminense     </td><td>              </td><td>⋯</td><td>-1        </td><td>Sem informacao                   </td><td>16/01/2023</td><td>28/02/2024</td><td>Rio de Janeiro/RJ                  </td><td>Afastamento para pos-graduacao stricto sensu no nivel de mestrado junto ao Programa de Pos Graduacao em Divulgacao da Ciencia, Tecnologia e Saude da FIOCRUZ, conforme processo SEI-UFF no 23069.164538/2022-76, autorizado pela chefia e publicado em Boletim de Servico.</td><td>0,00    </td><td>0,00    </td><td>0,00</td><td>0,00   </td></tr>\n",
              "\t<tr><th scope=row>3</th><td>18288418</td><td>000007/23-1C </td><td>Realizada</td><td>SIM</td><td>Por necessidade do servico.                                                                                                                                                                                                                    </td><td>52000</td><td>Ministerio da Defesa                     </td><td>52121</td><td>Comando do Exercito                 </td><td>***.621.358-**</td><td>⋯</td><td>OfSuperior</td><td>OfSuperior                       </td><td>10/01/2023</td><td>29/01/2023</td><td>Nova York/Estados Unidos da America</td><td>Participar da revisao do COE Manual (Contingent Owned Equipment) da ONU (Atv PVANA D2NN-B217A), a ser realizada na cidade de Nova Iorque, Estados Unidos da America. CC S025296M                                                                                          </td><td>39565,70</td><td>7434,13 </td><td>0,00</td><td>1095,35</td></tr>\n",
              "\t<tr><th scope=row>4</th><td>18296348</td><td>000070/23    </td><td>Realizada</td><td>SIM</td><td>A efetivacao do empenho no Siafi e a respectiva inclusao no SCDSP, assim como o cadastro do teto orcamentario por parte da Proad deram-se em data fora do prazo regimental de 15 dias de antecedencia (15 dias anteriores ao inicio da viagem).</td><td>26000</td><td>Ministerio da Educacao                   </td><td>26406</td><td>Instituto Federal do Espirito Santo </td><td>***.407.547-**</td><td>⋯</td><td>-1        </td><td>Sem informacao                   </td><td>05/02/2023</td><td>10/02/2023</td><td>Vitoria/ES                         </td><td>Participacao das aulas de Mestrado Interinstitucional em Administracao - PPGAdm/UFES/IFES, sob o no de matricula 2022130396, conforme horario individual em anexo, mes fevereiro de 2023.                                                                                 </td><td>1013,96 </td><td>0,00    </td><td>0,00</td><td>0,00   </td></tr>\n",
              "\t<tr><th scope=row>5</th><td>18302983</td><td>000001/23    </td><td>Realizada</td><td>NaO</td><td>Sem informacao                                                                                                                                                                                                                                 </td><td>52000</td><td>Ministerio da Defesa                     </td><td>52111</td><td>Comando da Aeronautica              </td><td>***.855.388-**</td><td>⋯</td><td>OfIntermed</td><td>OfIntermed                       </td><td>01/01/2023</td><td>07/07/2023</td><td>Gotemburgo/Suecia                  </td><td>PARTICIPAR DO CURSO DE PILOTO DE GRIPEN C/D.                                                                                                                                                                                                                              </td><td>0,00    </td><td>14903,10</td><td>0,00</td><td>0,00   </td></tr>\n",
              "\t<tr><th scope=row>6</th><td>18303291</td><td>Informacoes p</td><td>Realizada</td><td>NaO</td><td>Informacao protegida por sigilo nos termos da legislacao vigente                                                                                                                                                                               </td><td>30000</td><td>Ministerio da Justica e Seguranca Publica</td><td>30108</td><td>Policia Federal                     </td><td>ID001000345   </td><td>⋯</td><td>-11       </td><td>Informacoes protegidas por sigilo</td><td>02/01/2023</td><td>01/02/2023</td><td>Informacoes protegidas por sigilo  </td><td>Informacao protegida por sigilo nos termos da legislacao vigente                                                                                                                                                                                                          </td><td>9895,35 </td><td>2553,62 </td><td>0,00</td><td>0,00   </td></tr>\n",
              "</tbody>\n",
              "</table>\n"
            ],
            "text/markdown": "\nA data.frame: 6 × 22\n\n| <!--/--> | Identificador.do.processo.de.viagem &lt;int&gt; | Numero.da.Proposta..PCDP. &lt;chr&gt; | Situacao &lt;chr&gt; | Viagem.Urgente &lt;chr&gt; | Justificativa.Urgencia.Viagem &lt;chr&gt; | Codigo.do.orgao.superior &lt;int&gt; | Nome.do.orgao.superior &lt;chr&gt; | Codigo.orgao.solicitante &lt;int&gt; | Nome.orgao.solicitante &lt;chr&gt; | CPF.viajante &lt;chr&gt; | ⋯ ⋯ | Funcao &lt;chr&gt; | Descricao.Funcao &lt;chr&gt; | Periodo...Data.de.inicio &lt;chr&gt; | Periodo...Data.de.fim &lt;chr&gt; | Destinos &lt;chr&gt; | Motivo &lt;chr&gt; | Valor.diarias &lt;chr&gt; | Valor.passagens &lt;chr&gt; | Valor.devolucao &lt;chr&gt; | Valor.outros.gastos &lt;chr&gt; |\n|---|---|---|---|---|---|---|---|---|---|---|---|---|---|---|---|---|---|---|---|---|---|\n| 1 | 17821923 | 000001/23-1C  | Realizada | NaO | Sem informacao                                                                                                                                                                                                                                  | 26000 | Ministerio da Educacao                    | 26352 | Fundacao Universidade Federal do ABC | ***.875.238-** | ⋯ | -1         | Sem informacao                    | 01/01/2023 | 02/12/2023 | Loughborough/Reino Unido            | Intercambio academico PCDP anterior 07/21-3C                                                                                                                                                                                                                               | 0,00     | 0,00     | 0,00 | 0,00    |\n| 2 | 18236583 | 000018/23     | Realizada | NaO | Sem informacao                                                                                                                                                                                                                                  | 26000 | Ministerio da Educacao                    | 26236 | Universidade Federal Fluminense      | <!----> | ⋯ | -1         | Sem informacao                    | 16/01/2023 | 28/02/2024 | Rio de Janeiro/RJ                   | Afastamento para pos-graduacao stricto sensu no nivel de mestrado junto ao Programa de Pos Graduacao em Divulgacao da Ciencia, Tecnologia e Saude da FIOCRUZ, conforme processo SEI-UFF no 23069.164538/2022-76, autorizado pela chefia e publicado em Boletim de Servico. | 0,00     | 0,00     | 0,00 | 0,00    |\n| 3 | 18288418 | 000007/23-1C  | Realizada | SIM | Por necessidade do servico.                                                                                                                                                                                                                     | 52000 | Ministerio da Defesa                      | 52121 | Comando do Exercito                  | ***.621.358-** | ⋯ | OfSuperior | OfSuperior                        | 10/01/2023 | 29/01/2023 | Nova York/Estados Unidos da America | Participar da revisao do COE Manual (Contingent Owned Equipment) da ONU (Atv PVANA D2NN-B217A), a ser realizada na cidade de Nova Iorque, Estados Unidos da America. CC S025296M                                                                                           | 39565,70 | 7434,13  | 0,00 | 1095,35 |\n| 4 | 18296348 | 000070/23     | Realizada | SIM | A efetivacao do empenho no Siafi e a respectiva inclusao no SCDSP, assim como o cadastro do teto orcamentario por parte da Proad deram-se em data fora do prazo regimental de 15 dias de antecedencia (15 dias anteriores ao inicio da viagem). | 26000 | Ministerio da Educacao                    | 26406 | Instituto Federal do Espirito Santo  | ***.407.547-** | ⋯ | -1         | Sem informacao                    | 05/02/2023 | 10/02/2023 | Vitoria/ES                          | Participacao das aulas de Mestrado Interinstitucional em Administracao - PPGAdm/UFES/IFES, sob o no de matricula 2022130396, conforme horario individual em anexo, mes fevereiro de 2023.                                                                                  | 1013,96  | 0,00     | 0,00 | 0,00    |\n| 5 | 18302983 | 000001/23     | Realizada | NaO | Sem informacao                                                                                                                                                                                                                                  | 52000 | Ministerio da Defesa                      | 52111 | Comando da Aeronautica               | ***.855.388-** | ⋯ | OfIntermed | OfIntermed                        | 01/01/2023 | 07/07/2023 | Gotemburgo/Suecia                   | PARTICIPAR DO CURSO DE PILOTO DE GRIPEN C/D.                                                                                                                                                                                                                               | 0,00     | 14903,10 | 0,00 | 0,00    |\n| 6 | 18303291 | Informacoes p | Realizada | NaO | Informacao protegida por sigilo nos termos da legislacao vigente                                                                                                                                                                                | 30000 | Ministerio da Justica e Seguranca Publica | 30108 | Policia Federal                      | ID001000345    | ⋯ | -11        | Informacoes protegidas por sigilo | 02/01/2023 | 01/02/2023 | Informacoes protegidas por sigilo   | Informacao protegida por sigilo nos termos da legislacao vigente                                                                                                                                                                                                           | 9895,35  | 2553,62  | 0,00 | 0,00    |\n\n",
            "text/latex": "A data.frame: 6 × 22\n\\begin{tabular}{r|lllllllllllllllllllll}\n  & Identificador.do.processo.de.viagem & Numero.da.Proposta..PCDP. & Situacao & Viagem.Urgente & Justificativa.Urgencia.Viagem & Codigo.do.orgao.superior & Nome.do.orgao.superior & Codigo.orgao.solicitante & Nome.orgao.solicitante & CPF.viajante & ⋯ & Funcao & Descricao.Funcao & Periodo...Data.de.inicio & Periodo...Data.de.fim & Destinos & Motivo & Valor.diarias & Valor.passagens & Valor.devolucao & Valor.outros.gastos\\\\\n  & <int> & <chr> & <chr> & <chr> & <chr> & <int> & <chr> & <int> & <chr> & <chr> & ⋯ & <chr> & <chr> & <chr> & <chr> & <chr> & <chr> & <chr> & <chr> & <chr> & <chr>\\\\\n\\hline\n\t1 & 17821923 & 000001/23-1C  & Realizada & NaO & Sem informacao                                                                                                                                                                                                                                  & 26000 & Ministerio da Educacao                    & 26352 & Fundacao Universidade Federal do ABC & ***.875.238-** & ⋯ & -1         & Sem informacao                    & 01/01/2023 & 02/12/2023 & Loughborough/Reino Unido            & Intercambio academico PCDP anterior 07/21-3C                                                                                                                                                                                                                               & 0,00     & 0,00     & 0,00 & 0,00   \\\\\n\t2 & 18236583 & 000018/23     & Realizada & NaO & Sem informacao                                                                                                                                                                                                                                  & 26000 & Ministerio da Educacao                    & 26236 & Universidade Federal Fluminense      &                & ⋯ & -1         & Sem informacao                    & 16/01/2023 & 28/02/2024 & Rio de Janeiro/RJ                   & Afastamento para pos-graduacao stricto sensu no nivel de mestrado junto ao Programa de Pos Graduacao em Divulgacao da Ciencia, Tecnologia e Saude da FIOCRUZ, conforme processo SEI-UFF no 23069.164538/2022-76, autorizado pela chefia e publicado em Boletim de Servico. & 0,00     & 0,00     & 0,00 & 0,00   \\\\\n\t3 & 18288418 & 000007/23-1C  & Realizada & SIM & Por necessidade do servico.                                                                                                                                                                                                                     & 52000 & Ministerio da Defesa                      & 52121 & Comando do Exercito                  & ***.621.358-** & ⋯ & OfSuperior & OfSuperior                        & 10/01/2023 & 29/01/2023 & Nova York/Estados Unidos da America & Participar da revisao do COE Manual (Contingent Owned Equipment) da ONU (Atv PVANA D2NN-B217A), a ser realizada na cidade de Nova Iorque, Estados Unidos da America. CC S025296M                                                                                           & 39565,70 & 7434,13  & 0,00 & 1095,35\\\\\n\t4 & 18296348 & 000070/23     & Realizada & SIM & A efetivacao do empenho no Siafi e a respectiva inclusao no SCDSP, assim como o cadastro do teto orcamentario por parte da Proad deram-se em data fora do prazo regimental de 15 dias de antecedencia (15 dias anteriores ao inicio da viagem). & 26000 & Ministerio da Educacao                    & 26406 & Instituto Federal do Espirito Santo  & ***.407.547-** & ⋯ & -1         & Sem informacao                    & 05/02/2023 & 10/02/2023 & Vitoria/ES                          & Participacao das aulas de Mestrado Interinstitucional em Administracao - PPGAdm/UFES/IFES, sob o no de matricula 2022130396, conforme horario individual em anexo, mes fevereiro de 2023.                                                                                  & 1013,96  & 0,00     & 0,00 & 0,00   \\\\\n\t5 & 18302983 & 000001/23     & Realizada & NaO & Sem informacao                                                                                                                                                                                                                                  & 52000 & Ministerio da Defesa                      & 52111 & Comando da Aeronautica               & ***.855.388-** & ⋯ & OfIntermed & OfIntermed                        & 01/01/2023 & 07/07/2023 & Gotemburgo/Suecia                   & PARTICIPAR DO CURSO DE PILOTO DE GRIPEN C/D.                                                                                                                                                                                                                               & 0,00     & 14903,10 & 0,00 & 0,00   \\\\\n\t6 & 18303291 & Informacoes p & Realizada & NaO & Informacao protegida por sigilo nos termos da legislacao vigente                                                                                                                                                                                & 30000 & Ministerio da Justica e Seguranca Publica & 30108 & Policia Federal                      & ID001000345    & ⋯ & -11        & Informacoes protegidas por sigilo & 02/01/2023 & 01/02/2023 & Informacoes protegidas por sigilo   & Informacao protegida por sigilo nos termos da legislacao vigente                                                                                                                                                                                                           & 9895,35  & 2553,62  & 0,00 & 0,00   \\\\\n\\end{tabular}\n",
            "text/plain": [
              "  Identificador.do.processo.de.viagem Numero.da.Proposta..PCDP. Situacao \n",
              "1 17821923                            000001/23-1C              Realizada\n",
              "2 18236583                            000018/23                 Realizada\n",
              "3 18288418                            000007/23-1C              Realizada\n",
              "4 18296348                            000070/23                 Realizada\n",
              "5 18302983                            000001/23                 Realizada\n",
              "6 18303291                            Informacoes p             Realizada\n",
              "  Viagem.Urgente\n",
              "1 NaO           \n",
              "2 NaO           \n",
              "3 SIM           \n",
              "4 SIM           \n",
              "5 NaO           \n",
              "6 NaO           \n",
              "  Justificativa.Urgencia.Viagem                                                                                                                                                                                                                  \n",
              "1 Sem informacao                                                                                                                                                                                                                                 \n",
              "2 Sem informacao                                                                                                                                                                                                                                 \n",
              "3 Por necessidade do servico.                                                                                                                                                                                                                    \n",
              "4 A efetivacao do empenho no Siafi e a respectiva inclusao no SCDSP, assim como o cadastro do teto orcamentario por parte da Proad deram-se em data fora do prazo regimental de 15 dias de antecedencia (15 dias anteriores ao inicio da viagem).\n",
              "5 Sem informacao                                                                                                                                                                                                                                 \n",
              "6 Informacao protegida por sigilo nos termos da legislacao vigente                                                                                                                                                                               \n",
              "  Codigo.do.orgao.superior Nome.do.orgao.superior                   \n",
              "1 26000                    Ministerio da Educacao                   \n",
              "2 26000                    Ministerio da Educacao                   \n",
              "3 52000                    Ministerio da Defesa                     \n",
              "4 26000                    Ministerio da Educacao                   \n",
              "5 52000                    Ministerio da Defesa                     \n",
              "6 30000                    Ministerio da Justica e Seguranca Publica\n",
              "  Codigo.orgao.solicitante Nome.orgao.solicitante               CPF.viajante  \n",
              "1 26352                    Fundacao Universidade Federal do ABC ***.875.238-**\n",
              "2 26236                    Universidade Federal Fluminense                    \n",
              "3 52121                    Comando do Exercito                  ***.621.358-**\n",
              "4 26406                    Instituto Federal do Espirito Santo  ***.407.547-**\n",
              "5 52111                    Comando da Aeronautica               ***.855.388-**\n",
              "6 30108                    Policia Federal                      ID001000345   \n",
              "  ⋯ Funcao     Descricao.Funcao                  Periodo...Data.de.inicio\n",
              "1 ⋯ -1         Sem informacao                    01/01/2023              \n",
              "2 ⋯ -1         Sem informacao                    16/01/2023              \n",
              "3 ⋯ OfSuperior OfSuperior                        10/01/2023              \n",
              "4 ⋯ -1         Sem informacao                    05/02/2023              \n",
              "5 ⋯ OfIntermed OfIntermed                        01/01/2023              \n",
              "6 ⋯ -11        Informacoes protegidas por sigilo 02/01/2023              \n",
              "  Periodo...Data.de.fim Destinos                           \n",
              "1 02/12/2023            Loughborough/Reino Unido           \n",
              "2 28/02/2024            Rio de Janeiro/RJ                  \n",
              "3 29/01/2023            Nova York/Estados Unidos da America\n",
              "4 10/02/2023            Vitoria/ES                         \n",
              "5 07/07/2023            Gotemburgo/Suecia                  \n",
              "6 01/02/2023            Informacoes protegidas por sigilo  \n",
              "  Motivo                                                                                                                                                                                                                                                                    \n",
              "1 Intercambio academico PCDP anterior 07/21-3C                                                                                                                                                                                                                              \n",
              "2 Afastamento para pos-graduacao stricto sensu no nivel de mestrado junto ao Programa de Pos Graduacao em Divulgacao da Ciencia, Tecnologia e Saude da FIOCRUZ, conforme processo SEI-UFF no 23069.164538/2022-76, autorizado pela chefia e publicado em Boletim de Servico.\n",
              "3 Participar da revisao do COE Manual (Contingent Owned Equipment) da ONU (Atv PVANA D2NN-B217A), a ser realizada na cidade de Nova Iorque, Estados Unidos da America. CC S025296M                                                                                          \n",
              "4 Participacao das aulas de Mestrado Interinstitucional em Administracao - PPGAdm/UFES/IFES, sob o no de matricula 2022130396, conforme horario individual em anexo, mes fevereiro de 2023.                                                                                 \n",
              "5 PARTICIPAR DO CURSO DE PILOTO DE GRIPEN C/D.                                                                                                                                                                                                                              \n",
              "6 Informacao protegida por sigilo nos termos da legislacao vigente                                                                                                                                                                                                          \n",
              "  Valor.diarias Valor.passagens Valor.devolucao Valor.outros.gastos\n",
              "1 0,00          0,00            0,00            0,00               \n",
              "2 0,00          0,00            0,00            0,00               \n",
              "3 39565,70      7434,13         0,00            1095,35            \n",
              "4 1013,96       0,00            0,00            0,00               \n",
              "5 0,00          14903,10        0,00            0,00               \n",
              "6 9895,35       2553,62         0,00            0,00               "
            ]
          },
          "metadata": {}
        }
      ]
    },
    {
      "cell_type": "code",
      "source": [
        "nrow(df) # número de linhas do dataframe"
      ],
      "metadata": {
        "colab": {
          "base_uri": "https://localhost:8080/",
          "height": 34
        },
        "id": "NXuFJ_mghUde",
        "outputId": "c1090f91-8833-48b2-b419-075630665f59"
      },
      "execution_count": 7,
      "outputs": [
        {
          "output_type": "display_data",
          "data": {
            "text/html": [
              "826397"
            ],
            "text/markdown": "826397",
            "text/latex": "826397",
            "text/plain": [
              "[1] 826397"
            ]
          },
          "metadata": {}
        }
      ]
    },
    {
      "cell_type": "code",
      "source": [
        "ncol(df) # número de atributos do dataframe"
      ],
      "metadata": {
        "colab": {
          "base_uri": "https://localhost:8080/",
          "height": 34
        },
        "id": "92cn2d1PhblG",
        "outputId": "bc758d48-6793-4057-86d5-0f9269e7a38d"
      },
      "execution_count": 8,
      "outputs": [
        {
          "output_type": "display_data",
          "data": {
            "text/html": [
              "22"
            ],
            "text/markdown": "22",
            "text/latex": "22",
            "text/plain": [
              "[1] 22"
            ]
          },
          "metadata": {}
        }
      ]
    },
    {
      "cell_type": "code",
      "source": [
        "summary(df) # resumindo o dataframe"
      ],
      "metadata": {
        "colab": {
          "base_uri": "https://localhost:8080/",
          "height": 989
        },
        "id": "tCUNlX_Zhcp_",
        "outputId": "742f1bf2-a6ef-4716-d3c9-b43d8dbb020f"
      },
      "execution_count": 9,
      "outputs": [
        {
          "output_type": "display_data",
          "data": {
            "text/plain": [
              " Identificador.do.processo.de.viagem Numero.da.Proposta..PCDP.\n",
              " Min.   :1.782e+07                   Length:826397            \n",
              " 1st Qu.:1.888e+07                   Class :character         \n",
              " Median :1.913e+07                   Mode  :character         \n",
              " Mean   :2.158e+07                                            \n",
              " 3rd Qu.:1.940e+07                                            \n",
              " Max.   :2.023e+09                                            \n",
              "   Situacao         Viagem.Urgente     Justificativa.Urgencia.Viagem\n",
              " Length:826397      Length:826397      Length:826397                \n",
              " Class :character   Class :character   Class :character             \n",
              " Mode  :character   Mode  :character   Mode  :character             \n",
              "                                                                    \n",
              "                                                                    \n",
              "                                                                    \n",
              " Codigo.do.orgao.superior Nome.do.orgao.superior Codigo.orgao.solicitante\n",
              " Min.   :   -1            Length:826397          Min.   :   -1           \n",
              " 1st Qu.:22000            Class :character       1st Qu.:22000           \n",
              " Median :30000            Mode  :character       Median :26414           \n",
              " Mean   :29841                                   Mean   :27365           \n",
              " 3rd Qu.:47000                                   3rd Qu.:37202           \n",
              " Max.   :84000                                   Max.   :64000           \n",
              " Nome.orgao.solicitante CPF.viajante           Nome          \n",
              " Length:826397          Length:826397      Length:826397     \n",
              " Class :character       Class :character   Class :character  \n",
              " Mode  :character       Mode  :character   Mode  :character  \n",
              "                                                             \n",
              "                                                             \n",
              "                                                             \n",
              "    Cargo              Funcao          Descricao.Funcao  \n",
              " Length:826397      Length:826397      Length:826397     \n",
              " Class :character   Class :character   Class :character  \n",
              " Mode  :character   Mode  :character   Mode  :character  \n",
              "                                                         \n",
              "                                                         \n",
              "                                                         \n",
              " Periodo...Data.de.inicio Periodo...Data.de.fim   Destinos        \n",
              " Length:826397            Length:826397         Length:826397     \n",
              " Class :character         Class :character      Class :character  \n",
              " Mode  :character         Mode  :character      Mode  :character  \n",
              "                                                                  \n",
              "                                                                  \n",
              "                                                                  \n",
              "    Motivo          Valor.diarias      Valor.passagens    Valor.devolucao   \n",
              " Length:826397      Length:826397      Length:826397      Length:826397     \n",
              " Class :character   Class :character   Class :character   Class :character  \n",
              " Mode  :character   Mode  :character   Mode  :character   Mode  :character  \n",
              "                                                                            \n",
              "                                                                            \n",
              "                                                                            \n",
              " Valor.outros.gastos\n",
              " Length:826397      \n",
              " Class :character   \n",
              " Mode  :character   \n",
              "                    \n",
              "                    \n",
              "                    "
            ]
          },
          "metadata": {}
        }
      ]
    },
    {
      "cell_type": "code",
      "source": [
        "table(df$Nome.do.orgao.superior) # listando os nomes dos órgãos superiores"
      ],
      "metadata": {
        "colab": {
          "base_uri": "https://localhost:8080/",
          "height": 972
        },
        "id": "CPHJMoZyheIO",
        "outputId": "4ba18872-c5b0-4612-c0ff-e99fa49637dc"
      },
      "execution_count": 10,
      "outputs": [
        {
          "output_type": "display_data",
          "data": {
            "text/plain": [
              "\n",
              "                                     Advocacia-Geral da Uniao \n",
              "                                                         3734 \n",
              "                                 Controladoria-Geral da Uniao \n",
              "                                                         2086 \n",
              "                         Ministerio da Agricultura e Pecuaria \n",
              "                                                        28955 \n",
              "                 Ministerio da Ciencia, Tecnologia e Inovacao \n",
              "                                                         2492 \n",
              "                                        Ministerio da Cultura \n",
              "                                                         3888 \n",
              "                                         Ministerio da Defesa \n",
              "                                                       141348 \n",
              "                                       Ministerio da Educacao \n",
              "                                                       171929 \n",
              "                                        Ministerio da Fazenda \n",
              "                                                          655 \n",
              "      Ministerio da Gestao e da Inovacao em Servicos Publicos \n",
              "                                                          232 \n",
              "       Ministerio da Integracao e do Desenvolvimento Regional \n",
              "                                                         4407 \n",
              "                    Ministerio da Justica e Seguranca Publica \n",
              "                                                       110660 \n",
              "                             Ministerio da Previdencia Social \n",
              "                                                        19599 \n",
              "                                          Ministerio da Saude \n",
              "                                                        21672 \n",
              "                                  Ministerio das Comunicacoes \n",
              "                                                         3459 \n",
              "                           Ministerio das Relacoes Exteriores \n",
              "                                                         5717 \n",
              "                                Ministerio de Minas e Energia \n",
              "                                                         4375 \n",
              " Ministerio do Desenvolvimento Agrario e Agricultura Familiar \n",
              "                                                        14366 \n",
              "Ministerio do Desenvolvimento, Industria, Comercio e Servicos \n",
              "                                                         2469 \n",
              "               Ministerio do Meio Ambiente e Mudanca do Clima \n",
              "                                                        42274 \n",
              "                       Ministerio do Planejamento e Orcamento \n",
              "                                                        33787 \n",
              "                             Ministerio do Trabalho e Emprego \n",
              "                                                          183 \n",
              "                                        Ministerio do Turismo \n",
              "                                                          511 \n",
              "                  Ministerio dos Direitos Humanos e Cidadania \n",
              "                                                         2885 \n",
              "                               Ministerio dos Povos Indigenas \n",
              "                                                         9126 \n",
              "                                   Ministerio dos Transportes \n",
              "                                                        18063 \n",
              "                                     Presidencia da Republica \n",
              "                                                        13886 \n",
              "                                               Sem informacao \n",
              "                                                       163639 "
            ]
          },
          "metadata": {}
        }
      ]
    },
    {
      "cell_type": "code",
      "source": [
        "table(df$Descricao.Funcao) # listando o campo descrição da função"
      ],
      "metadata": {
        "colab": {
          "base_uri": "https://localhost:8080/",
          "height": 1000
        },
        "id": "IMyRQaS2hf4G",
        "outputId": "54fb0a3a-7298-4c72-e973-9e8f82d33a0a"
      },
      "execution_count": 11,
      "outputs": [
        {
          "output_type": "display_data",
          "data": {
            "text/plain": [
              "\n",
              "                                         \n",
              "                                      12 \n",
              "                   Alunos CFOAeronautica \n",
              "                                       6 \n",
              "    Alunos Escolas Preparatorias Cadetes \n",
              "                                       2 \n",
              "Alunos orgao Preparacao Oficiais Reserva \n",
              "                                       4 \n",
              "                     Aspirante a Oficial \n",
              "                                     187 \n",
              "                              Aspirantes \n",
              "                                     228 \n",
              "                                 Cadetes \n",
              "                                     163 \n",
              "        Cargo Comissionado de Assessoria \n",
              "                                     445 \n",
              "       Cargo Comissionado de Assistencia \n",
              "                                     239 \n",
              "           Cargo Comissionado de Direcao \n",
              "                                   34321 \n",
              "              Cargo Comissionado Tecnico \n",
              "                                    6484 \n",
              "                 Cargo de Assessoramento \n",
              "                                      79 \n",
              "                    Cargo de Coordenacao \n",
              "                                      98 \n",
              "                        Cargo de Direcao \n",
              "                                      47 \n",
              "             Cargo de Gerencia Executiva \n",
              "                                    3268 \n",
              "              Cargo de Natureza Especial \n",
              "                                    1475 \n",
              "                          Cargo Superior \n",
              "                                      11 \n",
              "                Cargos Natureza Especial \n",
              "                                      20 \n",
              "                                    CCT4 \n",
              "                                       2 \n",
              "                                CCX-0101 \n",
              "                                      46 \n",
              "                                CCX-0102 \n",
              "                                     119 \n",
              "                                CCX-0103 \n",
              "                                      13 \n",
              "                                CCX-0104 \n",
              "                                      46 \n",
              "                                CCX-0105 \n",
              "                                    1976 \n",
              "                                CCX-0106 \n",
              "                                      45 \n",
              "                                CCX-0107 \n",
              "                                    1243 \n",
              "                                CCX-0108 \n",
              "                                      13 \n",
              "                                CCX-0109 \n",
              "                                      26 \n",
              "                                CCX-0110 \n",
              "                                    3003 \n",
              "                                CCX-0111 \n",
              "                                      32 \n",
              "                                CCX-0112 \n",
              "                                      29 \n",
              "                                CCX-0113 \n",
              "                                    7165 \n",
              "                                CCX-0114 \n",
              "                                     310 \n",
              "                                CCX-0115 \n",
              "                                    5500 \n",
              "                                CCX-0116 \n",
              "                                     245 \n",
              "                                CCX-0117 \n",
              "                                    3801 \n",
              "                                CCX-0118 \n",
              "                                     953 \n",
              "                                CCX-0201 \n",
              "                                       9 \n",
              "                                CCX-0202 \n",
              "                                       2 \n",
              "                                CCX-0203 \n",
              "                                      33 \n",
              "                                CCX-0204 \n",
              "                                      27 \n",
              "                                CCX-0205 \n",
              "                                     776 \n",
              "                                CCX-0206 \n",
              "                                      55 \n",
              "                                CCX-0207 \n",
              "                                     587 \n",
              "                                CCX-0208 \n",
              "                                      97 \n",
              "                                CCX-0209 \n",
              "                                      17 \n",
              "                                CCX-0210 \n",
              "                                     723 \n",
              "                                CCX-0211 \n",
              "                                      10 \n",
              "                                CCX-0212 \n",
              "                                      24 \n",
              "                                CCX-0213 \n",
              "                                    1538 \n",
              "                                CCX-0214 \n",
              "                                      60 \n",
              "                                CCX-0215 \n",
              "                                     989 \n",
              "                                CCX-0216 \n",
              "                                      35 \n",
              "                                CCX-0217 \n",
              "                                     116 \n",
              "                                CCX-0305 \n",
              "                                       8 \n",
              "                                CCX-0306 \n",
              "                                      11 \n",
              "                                CCX-0307 \n",
              "                                     145 \n",
              "                                CCX-0310 \n",
              "                                     201 \n",
              "                                CCX-0311 \n",
              "                                       1 \n",
              "                                CCX-0313 \n",
              "                                     304 \n",
              "                                CCX-0314 \n",
              "                                       9 \n",
              "                                CCX-0315 \n",
              "                                     244 \n",
              "                                CCX-0316 \n",
              "                                      26 \n",
              "                                 CETG-IV \n",
              "                                       4 \n",
              "                                  CETG-V \n",
              "                                       1 \n",
              "                                 CETG-VI \n",
              "                                       1 \n",
              "               Comandante da Aeronautica \n",
              "                                      48 \n",
              "                   Comandante da Marinha \n",
              "                                      36 \n",
              "                  Comandante do Exercito \n",
              "                                      51 \n",
              "                                DAS-1031 \n",
              "                                       2 \n",
              "                                DAS-1034 \n",
              "                                       3 \n",
              "                                FEX-0101 \n",
              "                                    2126 \n",
              "                                FEX-0102 \n",
              "                                    7874 \n",
              "                                FEX-0103 \n",
              "                                    2903 \n",
              "                                FEX-0104 \n",
              "                                    1297 \n",
              "                                FEX-0105 \n",
              "                                   12161 \n",
              "                                FEX-0106 \n",
              "                                    1578 \n",
              "                                FEX-0107 \n",
              "                                    6551 \n",
              "                                FEX-0108 \n",
              "                                     272 \n",
              "                                FEX-0109 \n",
              "                                      17 \n",
              "                                FEX-0110 \n",
              "                                    6283 \n",
              "                                FEX-0111 \n",
              "                                     518 \n",
              "                                FEX-0112 \n",
              "                                     151 \n",
              "                                FEX-0113 \n",
              "                                    5256 \n",
              "                                FEX-0114 \n",
              "                                      87 \n",
              "                                FEX-0115 \n",
              "                                    1607 \n",
              "                                FEX-0116 \n",
              "                                     119 \n",
              "                                FEX-0117 \n",
              "                                     326 \n",
              "                                FEX-0201 \n",
              "                                    1360 \n",
              "                                FEX-0202 \n",
              "                                    1054 \n",
              "                                FEX-0203 \n",
              "                                      52 \n",
              "                                FEX-0204 \n",
              "                                      43 \n",
              "                                FEX-0205 \n",
              "                                     570 \n",
              "                                FEX-0206 \n",
              "                                      36 \n",
              "                                FEX-0207 \n",
              "                                     747 \n",
              "                                FEX-0208 \n",
              "                                      29 \n",
              "                                FEX-0209 \n",
              "                                      32 \n",
              "                                FEX-0210 \n",
              "                                     399 \n",
              "                                FEX-0211 \n",
              "                                      18 \n",
              "                                FEX-0212 \n",
              "                                      31 \n",
              "                                FEX-0213 \n",
              "                                     337 \n",
              "                                FEX-0214 \n",
              "                                      35 \n",
              "                                FEX-0215 \n",
              "                                     113 \n",
              "                                FEX-0217 \n",
              "                                      31 \n",
              "                                FEX-0301 \n",
              "                                       1 \n",
              "                                FEX-0302 \n",
              "                                      10 \n",
              "                                FEX-0304 \n",
              "                                      16 \n",
              "                                FEX-0305 \n",
              "                                      65 \n",
              "                                FEX-0306 \n",
              "                                       4 \n",
              "                                FEX-0307 \n",
              "                                     111 \n",
              "                                FEX-0310 \n",
              "                                     162 \n",
              "                                FEX-0313 \n",
              "                                     180 \n",
              "                                FEX-0315 \n",
              "                                      82 \n",
              "                                FEX-0401 \n",
              "                                     152 \n",
              "                                FEX-0402 \n",
              "                                     882 \n",
              "                                FEX-0403 \n",
              "                                     569 \n",
              "                                FEX-0404 \n",
              "                                     217 \n",
              "                                FEX-0405 \n",
              "                                     641 \n",
              "                                FEX-0406 \n",
              "                                      76 \n",
              "                                FEX-0407 \n",
              "                                     114 \n",
              "                                FEX-0408 \n",
              "                                      31 \n",
              "                                FEX-0409 \n",
              "                                      61 \n",
              "                                FEX-0410 \n",
              "                                      69 \n",
              "                                FEX-0411 \n",
              "                                       5 \n",
              "                                FEX-0412 \n",
              "                                       6 \n",
              "                                 FG-0001 \n",
              "                                   11681 \n",
              "                                 FG-0002 \n",
              "                                    7665 \n",
              "                                 FG-0003 \n",
              "                                    1244 \n",
              "                                 FG-0004 \n",
              "                                     327 \n",
              "                                 FG-0005 \n",
              "                                     207 \n",
              "                                 FG-0006 \n",
              "                                      21 \n",
              "                                 FG-0007 \n",
              "                                      26 \n",
              "                                 FG-0008 \n",
              "                                       2 \n",
              "                                   FGR-1 \n",
              "                                    3148 \n",
              "                                   FGR-2 \n",
              "                                     603 \n",
              "                                   FGR-3 \n",
              "                                     498 \n",
              "                                FPE-1011 \n",
              "                                      76 \n",
              "                                FPE-1012 \n",
              "                                      62 \n",
              "                                FPE-1013 \n",
              "                                      11 \n",
              "                                FPE-1014 \n",
              "                                      19 \n",
              "                                FPE-1022 \n",
              "                                       4 \n",
              "                                FPE-1023 \n",
              "                                       1 \n",
              "                                FPE-1024 \n",
              "                                       3 \n",
              "                                FPE-1031 \n",
              "                                       1 \n",
              "                                FPE-1034 \n",
              "                                       2 \n",
              "                                FUC-0001 \n",
              "                                   11155 \n",
              "             Funcao Comissionada Tecnica \n",
              "                                      10 \n",
              "             Funcao Tecnica Comissionada \n",
              "                                       5 \n",
              "                                   GR-04 \n",
              "                                       1 \n",
              "         Gratificacao Temporaria - SIPAM \n",
              "                                     174 \n",
              "                                GSE-0001 \n",
              "                                     261 \n",
              "                                GSE-0004 \n",
              "                                     871 \n",
              "                                GSE-0005 \n",
              "                                     771 \n",
              "                                GSE-0006 \n",
              "                                     985 \n",
              "                                GSE-0007 \n",
              "                                     365 \n",
              "                         Guardas Marinha \n",
              "                                       6 \n",
              "       Informacoes protegidas por sigilo \n",
              "                                  118192 \n",
              "                                Invalido \n",
              "                                      11 \n",
              "                                NES-0086 \n",
              "                                       2 \n",
              "                         Nivel I - RMP01 \n",
              "                                       9 \n",
              "                        Nivel II - RMP02 \n",
              "                                       5 \n",
              "                       Nivel III - RMP03 \n",
              "                                       3 \n",
              "                       Nivel III - RMP05 \n",
              "                                       1 \n",
              "                        Nivel IV - RMP04 \n",
              "                                      13 \n",
              "                       Oficiais Generais \n",
              "                                    4339 \n",
              "                              OfIntermed \n",
              "                                   10629 \n",
              "                              OfSubalter \n",
              "                                   16593 \n",
              "                              OfSuperior \n",
              "                                   22947 \n",
              "                                  Pracas \n",
              "                                   17601 \n",
              "                        Pracas Especiais \n",
              "                                     938 \n",
              "                                RGA-0002 \n",
              "                                      14 \n",
              "                                RGA-0003 \n",
              "                                       9 \n",
              "                                RGA-0004 \n",
              "                                     103 \n",
              "                                RGA-0005 \n",
              "                                     135 \n",
              "                                RMA-0002 \n",
              "                                       2 \n",
              "                                RMA-0004 \n",
              "                                      29 \n",
              "                                RMA-0005 \n",
              "                                      62 \n",
              "                               Sargentos \n",
              "                                   48489 \n",
              "                          Sem informacao \n",
              "                                  401875 \n",
              "                              Suboficial \n",
              "                                    5801 \n",
              "                             Subtenentes \n",
              "                                    3074 "
            ]
          },
          "metadata": {}
        }
      ]
    },
    {
      "cell_type": "code",
      "source": [
        "sum(df$Justificativa.Urgencia.Viagem == \"Informacao protegida por sigilo nos termos da legislacao vigente\", na.rm = TRUE) # quantidade de linhas com informação sigilosa"
      ],
      "metadata": {
        "colab": {
          "base_uri": "https://localhost:8080/",
          "height": 34
        },
        "id": "qrAAiEFdhkI-",
        "outputId": "cbb8fe51-b872-47b8-ef0a-efb9ab61d3ff"
      },
      "execution_count": 12,
      "outputs": [
        {
          "output_type": "display_data",
          "data": {
            "text/html": [
              "118192"
            ],
            "text/markdown": "118192",
            "text/latex": "118192",
            "text/plain": [
              "[1] 118192"
            ]
          },
          "metadata": {}
        }
      ]
    },
    {
      "cell_type": "code",
      "source": [
        "df <- subset(df, Justificativa.Urgencia.Viagem != \"Informacao protegida por sigilo nos termos da legislacao vigente\") # removendo as linhas sigilosas"
      ],
      "metadata": {
        "id": "4Wi0_5tUhnKe"
      },
      "execution_count": 13,
      "outputs": []
    },
    {
      "cell_type": "code",
      "source": [
        "nrow(df) # número de linhas do dataframe após a exclusão das linhas sigilosas"
      ],
      "metadata": {
        "colab": {
          "base_uri": "https://localhost:8080/",
          "height": 34
        },
        "id": "Mz_dLeh2hoqm",
        "outputId": "8b0bdd3d-2e07-42b9-d982-a77d664788de"
      },
      "execution_count": 14,
      "outputs": [
        {
          "output_type": "display_data",
          "data": {
            "text/html": [
              "708205"
            ],
            "text/markdown": "708205",
            "text/latex": "708205",
            "text/plain": [
              "[1] 708205"
            ]
          },
          "metadata": {}
        }
      ]
    },
    {
      "cell_type": "code",
      "source": [
        "table(df$Descricao.Funcao) # listando o campo descrição da função agora que os campos sigilosos foram excluídos"
      ],
      "metadata": {
        "colab": {
          "base_uri": "https://localhost:8080/",
          "height": 1000
        },
        "id": "bFuuzrlOhqCW",
        "outputId": "d0dc12de-46dc-49c0-bccf-1fbfde55a1ff"
      },
      "execution_count": 15,
      "outputs": [
        {
          "output_type": "display_data",
          "data": {
            "text/plain": [
              "\n",
              "                                         \n",
              "                                      12 \n",
              "                   Alunos CFOAeronautica \n",
              "                                       6 \n",
              "    Alunos Escolas Preparatorias Cadetes \n",
              "                                       2 \n",
              "Alunos orgao Preparacao Oficiais Reserva \n",
              "                                       4 \n",
              "                     Aspirante a Oficial \n",
              "                                     187 \n",
              "                              Aspirantes \n",
              "                                     228 \n",
              "                                 Cadetes \n",
              "                                     163 \n",
              "        Cargo Comissionado de Assessoria \n",
              "                                     445 \n",
              "       Cargo Comissionado de Assistencia \n",
              "                                     239 \n",
              "           Cargo Comissionado de Direcao \n",
              "                                   34321 \n",
              "              Cargo Comissionado Tecnico \n",
              "                                    6484 \n",
              "                 Cargo de Assessoramento \n",
              "                                      79 \n",
              "                    Cargo de Coordenacao \n",
              "                                      98 \n",
              "                        Cargo de Direcao \n",
              "                                      47 \n",
              "             Cargo de Gerencia Executiva \n",
              "                                    3268 \n",
              "              Cargo de Natureza Especial \n",
              "                                    1475 \n",
              "                          Cargo Superior \n",
              "                                      11 \n",
              "                Cargos Natureza Especial \n",
              "                                      20 \n",
              "                                    CCT4 \n",
              "                                       2 \n",
              "                                CCX-0101 \n",
              "                                      46 \n",
              "                                CCX-0102 \n",
              "                                     119 \n",
              "                                CCX-0103 \n",
              "                                      13 \n",
              "                                CCX-0104 \n",
              "                                      46 \n",
              "                                CCX-0105 \n",
              "                                    1976 \n",
              "                                CCX-0106 \n",
              "                                      45 \n",
              "                                CCX-0107 \n",
              "                                    1243 \n",
              "                                CCX-0108 \n",
              "                                      13 \n",
              "                                CCX-0109 \n",
              "                                      26 \n",
              "                                CCX-0110 \n",
              "                                    3003 \n",
              "                                CCX-0111 \n",
              "                                      32 \n",
              "                                CCX-0112 \n",
              "                                      29 \n",
              "                                CCX-0113 \n",
              "                                    7165 \n",
              "                                CCX-0114 \n",
              "                                     310 \n",
              "                                CCX-0115 \n",
              "                                    5500 \n",
              "                                CCX-0116 \n",
              "                                     245 \n",
              "                                CCX-0117 \n",
              "                                    3801 \n",
              "                                CCX-0118 \n",
              "                                     953 \n",
              "                                CCX-0201 \n",
              "                                       9 \n",
              "                                CCX-0202 \n",
              "                                       2 \n",
              "                                CCX-0203 \n",
              "                                      33 \n",
              "                                CCX-0204 \n",
              "                                      27 \n",
              "                                CCX-0205 \n",
              "                                     776 \n",
              "                                CCX-0206 \n",
              "                                      55 \n",
              "                                CCX-0207 \n",
              "                                     587 \n",
              "                                CCX-0208 \n",
              "                                      97 \n",
              "                                CCX-0209 \n",
              "                                      17 \n",
              "                                CCX-0210 \n",
              "                                     723 \n",
              "                                CCX-0211 \n",
              "                                      10 \n",
              "                                CCX-0212 \n",
              "                                      24 \n",
              "                                CCX-0213 \n",
              "                                    1538 \n",
              "                                CCX-0214 \n",
              "                                      60 \n",
              "                                CCX-0215 \n",
              "                                     989 \n",
              "                                CCX-0216 \n",
              "                                      35 \n",
              "                                CCX-0217 \n",
              "                                     116 \n",
              "                                CCX-0305 \n",
              "                                       8 \n",
              "                                CCX-0306 \n",
              "                                      11 \n",
              "                                CCX-0307 \n",
              "                                     145 \n",
              "                                CCX-0310 \n",
              "                                     201 \n",
              "                                CCX-0311 \n",
              "                                       1 \n",
              "                                CCX-0313 \n",
              "                                     304 \n",
              "                                CCX-0314 \n",
              "                                       9 \n",
              "                                CCX-0315 \n",
              "                                     244 \n",
              "                                CCX-0316 \n",
              "                                      26 \n",
              "                                 CETG-IV \n",
              "                                       4 \n",
              "                                  CETG-V \n",
              "                                       1 \n",
              "                                 CETG-VI \n",
              "                                       1 \n",
              "               Comandante da Aeronautica \n",
              "                                      48 \n",
              "                   Comandante da Marinha \n",
              "                                      36 \n",
              "                  Comandante do Exercito \n",
              "                                      51 \n",
              "                                DAS-1031 \n",
              "                                       2 \n",
              "                                DAS-1034 \n",
              "                                       3 \n",
              "                                FEX-0101 \n",
              "                                    2126 \n",
              "                                FEX-0102 \n",
              "                                    7874 \n",
              "                                FEX-0103 \n",
              "                                    2903 \n",
              "                                FEX-0104 \n",
              "                                    1297 \n",
              "                                FEX-0105 \n",
              "                                   12161 \n",
              "                                FEX-0106 \n",
              "                                    1578 \n",
              "                                FEX-0107 \n",
              "                                    6551 \n",
              "                                FEX-0108 \n",
              "                                     272 \n",
              "                                FEX-0109 \n",
              "                                      17 \n",
              "                                FEX-0110 \n",
              "                                    6283 \n",
              "                                FEX-0111 \n",
              "                                     518 \n",
              "                                FEX-0112 \n",
              "                                     151 \n",
              "                                FEX-0113 \n",
              "                                    5256 \n",
              "                                FEX-0114 \n",
              "                                      87 \n",
              "                                FEX-0115 \n",
              "                                    1607 \n",
              "                                FEX-0116 \n",
              "                                     119 \n",
              "                                FEX-0117 \n",
              "                                     326 \n",
              "                                FEX-0201 \n",
              "                                    1360 \n",
              "                                FEX-0202 \n",
              "                                    1054 \n",
              "                                FEX-0203 \n",
              "                                      52 \n",
              "                                FEX-0204 \n",
              "                                      43 \n",
              "                                FEX-0205 \n",
              "                                     570 \n",
              "                                FEX-0206 \n",
              "                                      36 \n",
              "                                FEX-0207 \n",
              "                                     747 \n",
              "                                FEX-0208 \n",
              "                                      29 \n",
              "                                FEX-0209 \n",
              "                                      32 \n",
              "                                FEX-0210 \n",
              "                                     399 \n",
              "                                FEX-0211 \n",
              "                                      18 \n",
              "                                FEX-0212 \n",
              "                                      31 \n",
              "                                FEX-0213 \n",
              "                                     337 \n",
              "                                FEX-0214 \n",
              "                                      35 \n",
              "                                FEX-0215 \n",
              "                                     113 \n",
              "                                FEX-0217 \n",
              "                                      31 \n",
              "                                FEX-0301 \n",
              "                                       1 \n",
              "                                FEX-0302 \n",
              "                                      10 \n",
              "                                FEX-0304 \n",
              "                                      16 \n",
              "                                FEX-0305 \n",
              "                                      65 \n",
              "                                FEX-0306 \n",
              "                                       4 \n",
              "                                FEX-0307 \n",
              "                                     111 \n",
              "                                FEX-0310 \n",
              "                                     162 \n",
              "                                FEX-0313 \n",
              "                                     180 \n",
              "                                FEX-0315 \n",
              "                                      82 \n",
              "                                FEX-0401 \n",
              "                                     152 \n",
              "                                FEX-0402 \n",
              "                                     882 \n",
              "                                FEX-0403 \n",
              "                                     569 \n",
              "                                FEX-0404 \n",
              "                                     217 \n",
              "                                FEX-0405 \n",
              "                                     641 \n",
              "                                FEX-0406 \n",
              "                                      76 \n",
              "                                FEX-0407 \n",
              "                                     114 \n",
              "                                FEX-0408 \n",
              "                                      31 \n",
              "                                FEX-0409 \n",
              "                                      61 \n",
              "                                FEX-0410 \n",
              "                                      69 \n",
              "                                FEX-0411 \n",
              "                                       5 \n",
              "                                FEX-0412 \n",
              "                                       6 \n",
              "                                 FG-0001 \n",
              "                                   11681 \n",
              "                                 FG-0002 \n",
              "                                    7665 \n",
              "                                 FG-0003 \n",
              "                                    1244 \n",
              "                                 FG-0004 \n",
              "                                     327 \n",
              "                                 FG-0005 \n",
              "                                     207 \n",
              "                                 FG-0006 \n",
              "                                      21 \n",
              "                                 FG-0007 \n",
              "                                      26 \n",
              "                                 FG-0008 \n",
              "                                       2 \n",
              "                                   FGR-1 \n",
              "                                    3148 \n",
              "                                   FGR-2 \n",
              "                                     603 \n",
              "                                   FGR-3 \n",
              "                                     498 \n",
              "                                FPE-1011 \n",
              "                                      76 \n",
              "                                FPE-1012 \n",
              "                                      62 \n",
              "                                FPE-1013 \n",
              "                                      11 \n",
              "                                FPE-1014 \n",
              "                                      19 \n",
              "                                FPE-1022 \n",
              "                                       4 \n",
              "                                FPE-1023 \n",
              "                                       1 \n",
              "                                FPE-1024 \n",
              "                                       3 \n",
              "                                FPE-1031 \n",
              "                                       1 \n",
              "                                FPE-1034 \n",
              "                                       2 \n",
              "                                FUC-0001 \n",
              "                                   11155 \n",
              "             Funcao Comissionada Tecnica \n",
              "                                      10 \n",
              "             Funcao Tecnica Comissionada \n",
              "                                       5 \n",
              "                                   GR-04 \n",
              "                                       1 \n",
              "         Gratificacao Temporaria - SIPAM \n",
              "                                     174 \n",
              "                                GSE-0001 \n",
              "                                     261 \n",
              "                                GSE-0004 \n",
              "                                     871 \n",
              "                                GSE-0005 \n",
              "                                     771 \n",
              "                                GSE-0006 \n",
              "                                     985 \n",
              "                                GSE-0007 \n",
              "                                     365 \n",
              "                         Guardas Marinha \n",
              "                                       6 \n",
              "                                Invalido \n",
              "                                      11 \n",
              "                                NES-0086 \n",
              "                                       2 \n",
              "                         Nivel I - RMP01 \n",
              "                                       9 \n",
              "                        Nivel II - RMP02 \n",
              "                                       5 \n",
              "                       Nivel III - RMP03 \n",
              "                                       3 \n",
              "                       Nivel III - RMP05 \n",
              "                                       1 \n",
              "                        Nivel IV - RMP04 \n",
              "                                      13 \n",
              "                       Oficiais Generais \n",
              "                                    4339 \n",
              "                              OfIntermed \n",
              "                                   10629 \n",
              "                              OfSubalter \n",
              "                                   16593 \n",
              "                              OfSuperior \n",
              "                                   22947 \n",
              "                                  Pracas \n",
              "                                   17601 \n",
              "                        Pracas Especiais \n",
              "                                     938 \n",
              "                                RGA-0002 \n",
              "                                      14 \n",
              "                                RGA-0003 \n",
              "                                       9 \n",
              "                                RGA-0004 \n",
              "                                     103 \n",
              "                                RGA-0005 \n",
              "                                     135 \n",
              "                                RMA-0002 \n",
              "                                       2 \n",
              "                                RMA-0004 \n",
              "                                      29 \n",
              "                                RMA-0005 \n",
              "                                      62 \n",
              "                               Sargentos \n",
              "                                   48489 \n",
              "                          Sem informacao \n",
              "                                  401875 \n",
              "                              Suboficial \n",
              "                                    5801 \n",
              "                             Subtenentes \n",
              "                                    3074 "
            ]
          },
          "metadata": {}
        }
      ]
    },
    {
      "cell_type": "code",
      "source": [
        "summary(df)"
      ],
      "metadata": {
        "colab": {
          "base_uri": "https://localhost:8080/",
          "height": 989
        },
        "id": "sjRCft1fhrLd",
        "outputId": "42f1b538-37cc-42e4-d110-e0738c5aed03"
      },
      "execution_count": 16,
      "outputs": [
        {
          "output_type": "display_data",
          "data": {
            "text/plain": [
              " Identificador.do.processo.de.viagem Numero.da.Proposta..PCDP.\n",
              " Min.   :1.782e+07                   Length:708205            \n",
              " 1st Qu.:1.888e+07                   Class :character         \n",
              " Median :1.914e+07                   Mode  :character         \n",
              " Mean   :2.199e+07                                            \n",
              " 3rd Qu.:1.940e+07                                            \n",
              " Max.   :2.023e+09                                            \n",
              "   Situacao         Viagem.Urgente     Justificativa.Urgencia.Viagem\n",
              " Length:708205      Length:708205      Length:708205                \n",
              " Class :character   Class :character   Class :character             \n",
              " Mode  :character   Mode  :character   Mode  :character             \n",
              "                                                                    \n",
              "                                                                    \n",
              "                                                                    \n",
              " Codigo.do.orgao.superior Nome.do.orgao.superior Codigo.orgao.solicitante\n",
              " Min.   :   -1            Length:708205          Min.   :   -1           \n",
              " 1st Qu.:22000            Class :character       1st Qu.:20701           \n",
              " Median :26000            Mode  :character       Median :26276           \n",
              " Mean   :30042                                   Mean   :27123           \n",
              " 3rd Qu.:47000                                   3rd Qu.:39252           \n",
              " Max.   :84000                                   Max.   :64000           \n",
              " Nome.orgao.solicitante CPF.viajante           Nome          \n",
              " Length:708205          Length:708205      Length:708205     \n",
              " Class :character       Class :character   Class :character  \n",
              " Mode  :character       Mode  :character   Mode  :character  \n",
              "                                                             \n",
              "                                                             \n",
              "                                                             \n",
              "    Cargo              Funcao          Descricao.Funcao  \n",
              " Length:708205      Length:708205      Length:708205     \n",
              " Class :character   Class :character   Class :character  \n",
              " Mode  :character   Mode  :character   Mode  :character  \n",
              "                                                         \n",
              "                                                         \n",
              "                                                         \n",
              " Periodo...Data.de.inicio Periodo...Data.de.fim   Destinos        \n",
              " Length:708205            Length:708205         Length:708205     \n",
              " Class :character         Class :character      Class :character  \n",
              " Mode  :character         Mode  :character      Mode  :character  \n",
              "                                                                  \n",
              "                                                                  \n",
              "                                                                  \n",
              "    Motivo          Valor.diarias      Valor.passagens    Valor.devolucao   \n",
              " Length:708205      Length:708205      Length:708205      Length:708205     \n",
              " Class :character   Class :character   Class :character   Class :character  \n",
              " Mode  :character   Mode  :character   Mode  :character   Mode  :character  \n",
              "                                                                            \n",
              "                                                                            \n",
              "                                                                            \n",
              " Valor.outros.gastos\n",
              " Length:708205      \n",
              " Class :character   \n",
              " Mode  :character   \n",
              "                    \n",
              "                    \n",
              "                    "
            ]
          },
          "metadata": {}
        }
      ]
    },
    {
      "cell_type": "code",
      "source": [
        "df$Valor.diarias <- as.numeric(gsub(\",\", \".\", df$Valor.diarias)) # convertendo a coluna de valor de diárias de string para número"
      ],
      "metadata": {
        "id": "fp5YcpbThtkN"
      },
      "execution_count": 17,
      "outputs": []
    },
    {
      "cell_type": "code",
      "source": [
        "summary(df$Valor.diarias) # resumindo os valores da coluna Valor.diarias"
      ],
      "metadata": {
        "colab": {
          "base_uri": "https://localhost:8080/",
          "height": 52
        },
        "id": "1mt2l7ZshvDt",
        "outputId": "06d1c430-8526-4e72-e208-b2170547228b"
      },
      "execution_count": 18,
      "outputs": [
        {
          "output_type": "display_data",
          "data": {
            "text/plain": [
              "    Min.  1st Qu.   Median     Mean  3rd Qu.     Max. \n",
              "     0.0    190.6    857.8   1643.3   1552.3 175337.4 "
            ]
          },
          "metadata": {}
        }
      ]
    },
    {
      "cell_type": "code",
      "source": [
        "boxplot(df$Valor.diarias) # boxplot dos valores pagos em diárias"
      ],
      "metadata": {
        "colab": {
          "base_uri": "https://localhost:8080/",
          "height": 437
        },
        "id": "4WgLZM2ahwXO",
        "outputId": "f0da1359-0b67-4ae4-e579-edc19be540ff"
      },
      "execution_count": 19,
      "outputs": [
        {
          "output_type": "display_data",
          "data": {
            "text/plain": [
              "plot without title"
            ],
            "image/png": "[encoded data removed]"
          },
          "metadata": {
            "image/png": {
              "width": 420,
              "height": 420
            }
          }
        }
      ]
    },
    {
      "cell_type": "code",
      "source": [
        "sum(is.na(df$Valor.diarias)) # não há valores NA dentro da coluna de valor de diárias"
      ],
      "metadata": {
        "colab": {
          "base_uri": "https://localhost:8080/",
          "height": 34
        },
        "id": "VqhtF5N9hx8N",
        "outputId": "63b8c501-52ab-4c70-c780-96638d85e1c6"
      },
      "execution_count": 20,
      "outputs": [
        {
          "output_type": "display_data",
          "data": {
            "text/html": [
              "0"
            ],
            "text/markdown": "0",
            "text/latex": "0",
            "text/plain": [
              "[1] 0"
            ]
          },
          "metadata": {}
        }
      ]
    },
    {
      "cell_type": "code",
      "source": [
        "df$faixa_valores <- cut(df$Valor.diarias, breaks = c(0,1000, 10000, 100000, 1000000), labels = c(\"0-1000\",\"1000 - 10000\", \"10000 - 100000\", \"100000-1000000\"), right = FALSE) # dividindo os valores por faixas"
      ],
      "metadata": {
        "id": "VnRzb981hzAH"
      },
      "execution_count": 21,
      "outputs": []
    },
    {
      "cell_type": "code",
      "source": [
        "table(df$faixa_valores) # quantidade de diárias por faixa de pagamento"
      ],
      "metadata": {
        "colab": {
          "base_uri": "https://localhost:8080/",
          "height": 69
        },
        "id": "LDCKOwehh1ll",
        "outputId": "239428e9-4539-4949-dac7-9c56c3bafdf5"
      },
      "execution_count": 22,
      "outputs": [
        {
          "output_type": "display_data",
          "data": {
            "text/plain": [
              "\n",
              "        0-1000   1000 - 10000 10000 - 100000 100000-1000000 \n",
              "        393260         302510          12112            323 "
            ]
          },
          "metadata": {}
        }
      ]
    },
    {
      "cell_type": "code",
      "source": [
        "total_por_faixa <- tapply (df$Valor.diarias, df$faixa_valores, sum, na.rm = TRUE) # total pago em diárias por faixa\n",
        "print(total_por_faixa)"
      ],
      "metadata": {
        "colab": {
          "base_uri": "https://localhost:8080/"
        },
        "id": "guR9FM7lh3--",
        "outputId": "9d3fb826-1805-4921-e32e-f56f5721551a"
      },
      "execution_count": 23,
      "outputs": [
        {
          "output_type": "stream",
          "name": "stdout",
          "text": [
            "        0-1000   1000 - 10000 10000 - 100000 100000-1000000 \n",
            "     143443705      699848932      286138136       34345192 \n"
          ]
        }
      ]
    },
    {
      "cell_type": "code",
      "source": [
        "sd(df$Valor.diarias) # calculando o desvio padrão do valor pago em diárias"
      ],
      "metadata": {
        "colab": {
          "base_uri": "https://localhost:8080/",
          "height": 34
        },
        "id": "8XEGhQE1h5BW",
        "outputId": "af44d3e5-e94e-4ddc-a37c-5f274680870d"
      },
      "execution_count": 24,
      "outputs": [
        {
          "output_type": "display_data",
          "data": {
            "text/html": [
              "4867.28936359351"
            ],
            "text/markdown": "4867.28936359351",
            "text/latex": "4867.28936359351",
            "text/plain": [
              "[1] 4867.289"
            ]
          },
          "metadata": {}
        }
      ]
    },
    {
      "cell_type": "code",
      "source": [
        "total_por_orgao <- tapply (df$Valor.diarias, df$Nome.do.orgao.superior, sum) # total pago em diárias por órgão\n",
        "sort(total_por_orgao, decreasing = TRUE)"
      ],
      "metadata": {
        "colab": {
          "base_uri": "https://localhost:8080/",
          "height": 121
        },
        "id": "YGSV7c1Th6YG",
        "outputId": "73d0391c-7e97-4cbc-c4b2-f145fb09ba0b"
      },
      "execution_count": 26,
      "outputs": [
        {
          "output_type": "display_data",
          "data": {
            "text/html": [
              "<style>\n",
              ".dl-inline {width: auto; margin:0; padding: 0}\n",
              ".dl-inline>dt, .dl-inline>dd {float: none; width: auto; display: inline-block}\n",
              ".dl-inline>dt::after {content: \":\\0020\"; padding-right: .5ex}\n",
              ".dl-inline>dt:not(:first-of-type) {padding-left: .5ex}\n",
              "</style><dl class=dl-inline><dt>Sem informacao</dt><dd>497589336.89</dd><dt>Ministerio da Educacao</dt><dd>145467720.82</dd><dt>Ministerio da Defesa</dt><dd>144378929.54</dd><dt>Ministerio do Meio Ambiente e Mudanca do Clima</dt><dd>74648157.47</dd><dt>Ministerio da Previdencia Social</dt><dd>51311848.62</dd><dt>Ministerio do Planejamento e Orcamento</dt><dd>40122679.04</dd><dt>Ministerio da Saude</dt><dd>37096743.96</dd><dt>Ministerio das Relacoes Exteriores</dt><dd>24685817.17</dd><dt>Ministerio dos Transportes</dt><dd>24185771.3</dd><dt>Ministerio da Agricultura e Pecuaria</dt><dd>22759315.97</dd><dt>Ministerio do Desenvolvimento Agrario e Agricultura Familiar</dt><dd>22609577.51</dd><dt>Ministerio dos Povos Indigenas</dt><dd>20193689.67</dd><dt>Presidencia da Republica</dt><dd>12529164.97</dd><dt>Ministerio das Comunicacoes</dt><dd>8668686.29</dd><dt>Ministerio de Minas e Energia</dt><dd>7101828.9</dd><dt>Ministerio da Integracao e do Desenvolvimento Regional</dt><dd>5357161.11</dd><dt>Ministerio da Cultura</dt><dd>4310290.91</dd><dt>Ministerio dos Direitos Humanos e Cidadania</dt><dd>4222366.73</dd><dt>Advocacia-Geral da Uniao</dt><dd>3731950.38</dd><dt>Ministerio da Ciencia, Tecnologia e Inovacao</dt><dd>3446129.79</dd><dt>Controladoria-Geral da Uniao</dt><dd>3200259.54</dd><dt>Ministerio do Desenvolvimento, Industria, Comercio e Servicos</dt><dd>2980869.64</dd><dt>Ministerio da Fazenda</dt><dd>1005446.81</dd><dt>Ministerio do Turismo</dt><dd>853247.9</dd><dt>Ministerio da Justica e Seguranca Publica</dt><dd>666471.85</dd><dt>Ministerio da Gestao e da Inovacao em Servicos Publicos</dt><dd>494625.06</dd><dt>Ministerio do Trabalho e Emprego</dt><dd>157877.8</dd></dl>\n"
            ],
            "text/markdown": "Sem informacao\n:   497589336.89Ministerio da Educacao\n:   145467720.82Ministerio da Defesa\n:   144378929.54Ministerio do Meio Ambiente e Mudanca do Clima\n:   74648157.47Ministerio da Previdencia Social\n:   51311848.62Ministerio do Planejamento e Orcamento\n:   40122679.04Ministerio da Saude\n:   37096743.96Ministerio das Relacoes Exteriores\n:   24685817.17Ministerio dos Transportes\n:   24185771.3Ministerio da Agricultura e Pecuaria\n:   22759315.97Ministerio do Desenvolvimento Agrario e Agricultura Familiar\n:   22609577.51Ministerio dos Povos Indigenas\n:   20193689.67Presidencia da Republica\n:   12529164.97Ministerio das Comunicacoes\n:   8668686.29Ministerio de Minas e Energia\n:   7101828.9Ministerio da Integracao e do Desenvolvimento Regional\n:   5357161.11Ministerio da Cultura\n:   4310290.91Ministerio dos Direitos Humanos e Cidadania\n:   4222366.73Advocacia-Geral da Uniao\n:   3731950.38Ministerio da Ciencia, Tecnologia e Inovacao\n:   3446129.79Controladoria-Geral da Uniao\n:   3200259.54Ministerio do Desenvolvimento, Industria, Comercio e Servicos\n:   2980869.64Ministerio da Fazenda\n:   1005446.81Ministerio do Turismo\n:   853247.9Ministerio da Justica e Seguranca Publica\n:   666471.85Ministerio da Gestao e da Inovacao em Servicos Publicos\n:   494625.06Ministerio do Trabalho e Emprego\n:   157877.8\n\n",
            "text/latex": "\\begin{description*}\n\\item[Sem informacao] 497589336.89\n\\item[Ministerio da Educacao] 145467720.82\n\\item[Ministerio da Defesa] 144378929.54\n\\item[Ministerio do Meio Ambiente e Mudanca do Clima] 74648157.47\n\\item[Ministerio da Previdencia Social] 51311848.62\n\\item[Ministerio do Planejamento e Orcamento] 40122679.04\n\\item[Ministerio da Saude] 37096743.96\n\\item[Ministerio das Relacoes Exteriores] 24685817.17\n\\item[Ministerio dos Transportes] 24185771.3\n\\item[Ministerio da Agricultura e Pecuaria] 22759315.97\n\\item[Ministerio do Desenvolvimento Agrario e Agricultura Familiar] 22609577.51\n\\item[Ministerio dos Povos Indigenas] 20193689.67\n\\item[Presidencia da Republica] 12529164.97\n\\item[Ministerio das Comunicacoes] 8668686.29\n\\item[Ministerio de Minas e Energia] 7101828.9\n\\item[Ministerio da Integracao e do Desenvolvimento Regional] 5357161.11\n\\item[Ministerio da Cultura] 4310290.91\n\\item[Ministerio dos Direitos Humanos e Cidadania] 4222366.73\n\\item[Advocacia-Geral da Uniao] 3731950.38\n\\item[Ministerio da Ciencia, Tecnologia e Inovacao] 3446129.79\n\\item[Controladoria-Geral da Uniao] 3200259.54\n\\item[Ministerio do Desenvolvimento, Industria, Comercio e Servicos] 2980869.64\n\\item[Ministerio da Fazenda] 1005446.81\n\\item[Ministerio do Turismo] 853247.9\n\\item[Ministerio da Justica e Seguranca Publica] 666471.85\n\\item[Ministerio da Gestao e da Inovacao em Servicos Publicos] 494625.06\n\\item[Ministerio do Trabalho e Emprego] 157877.8\n\\end{description*}\n",
            "text/plain": [
              "                                               Sem informacao \n",
              "                                                  497589336.9 \n",
              "                                       Ministerio da Educacao \n",
              "                                                  145467720.8 \n",
              "                                         Ministerio da Defesa \n",
              "                                                  144378929.5 \n",
              "               Ministerio do Meio Ambiente e Mudanca do Clima \n",
              "                                                   74648157.5 \n",
              "                             Ministerio da Previdencia Social \n",
              "                                                   51311848.6 \n",
              "                       Ministerio do Planejamento e Orcamento \n",
              "                                                   40122679.0 \n",
              "                                          Ministerio da Saude \n",
              "                                                   37096744.0 \n",
              "                           Ministerio das Relacoes Exteriores \n",
              "                                                   24685817.2 \n",
              "                                   Ministerio dos Transportes \n",
              "                                                   24185771.3 \n",
              "                         Ministerio da Agricultura e Pecuaria \n",
              "                                                   22759316.0 \n",
              " Ministerio do Desenvolvimento Agrario e Agricultura Familiar \n",
              "                                                   22609577.5 \n",
              "                               Ministerio dos Povos Indigenas \n",
              "                                                   20193689.7 \n",
              "                                     Presidencia da Republica \n",
              "                                                   12529165.0 \n",
              "                                  Ministerio das Comunicacoes \n",
              "                                                    8668686.3 \n",
              "                                Ministerio de Minas e Energia \n",
              "                                                    7101828.9 \n",
              "       Ministerio da Integracao e do Desenvolvimento Regional \n",
              "                                                    5357161.1 \n",
              "                                        Ministerio da Cultura \n",
              "                                                    4310290.9 \n",
              "                  Ministerio dos Direitos Humanos e Cidadania \n",
              "                                                    4222366.7 \n",
              "                                     Advocacia-Geral da Uniao \n",
              "                                                    3731950.4 \n",
              "                 Ministerio da Ciencia, Tecnologia e Inovacao \n",
              "                                                    3446129.8 \n",
              "                                 Controladoria-Geral da Uniao \n",
              "                                                    3200259.5 \n",
              "Ministerio do Desenvolvimento, Industria, Comercio e Servicos \n",
              "                                                    2980869.6 \n",
              "                                        Ministerio da Fazenda \n",
              "                                                    1005446.8 \n",
              "                                        Ministerio do Turismo \n",
              "                                                     853247.9 \n",
              "                    Ministerio da Justica e Seguranca Publica \n",
              "                                                     666471.8 \n",
              "      Ministerio da Gestao e da Inovacao em Servicos Publicos \n",
              "                                                     494625.1 \n",
              "                             Ministerio do Trabalho e Emprego \n",
              "                                                     157877.8 "
            ]
          },
          "metadata": {}
        }
      ]
    },
    {
      "cell_type": "code",
      "source": [
        "R.version"
      ],
      "metadata": {
        "colab": {
          "base_uri": "https://localhost:8080/",
          "height": 277
        },
        "id": "bnXey34ch7WG",
        "outputId": "77a84aef-f537-4bbb-acbe-abe2e7fc01c2"
      },
      "execution_count": 29,
      "outputs": [
        {
          "output_type": "display_data",
          "data": {
            "text/plain": [
              "               _                           \n",
              "platform       x86_64-pc-linux-gnu         \n",
              "arch           x86_64                      \n",
              "os             linux-gnu                   \n",
              "system         x86_64, linux-gnu           \n",
              "status                                     \n",
              "major          4                           \n",
              "minor          4.1                         \n",
              "year           2024                        \n",
              "month          06                          \n",
              "day            14                          \n",
              "svn rev        86737                       \n",
              "language       R                           \n",
              "version.string R version 4.4.1 (2024-06-14)\n",
              "nickname       Race for Your Life          "
            ]
          },
          "metadata": {}
        }
      ]
    },
    {
      "cell_type": "code",
      "source": [],
      "metadata": {
        "id": "jKTJ_68GiEyO"
      },
      "execution_count": null,
      "outputs": []
    }
  ]
}