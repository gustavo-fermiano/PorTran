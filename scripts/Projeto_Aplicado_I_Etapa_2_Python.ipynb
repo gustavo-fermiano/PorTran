{
  "nbformat": 4,
  "nbformat_minor": 0,
  "metadata": {
    "colab": {
      "provenance": [],
      "toc_visible": true,
      "authorship_tag": "ABX9TyNHllX2Rd6SPTzMd0jZTG8Z",
      "include_colab_link": true
    },
    "kernelspec": {
      "name": "python3",
      "display_name": "Python 3"
    },
    "language_info": {
      "name": "python"
    }
  },
  "cells": [
    {
      "cell_type": "markdown",
      "metadata": {
        "id": "view-in-github",
        "colab_type": "text"
      },
      "source": [
        "<a href=\"https://colab.research.google.com/github/gustavo-fermiano/PorTran/blob/main/Projeto_Aplicado_I_Etapa_2_Python.ipynb\" target=\"_parent\"><img src=\"https://colab.research.google.com/assets/colab-badge.svg\" alt=\"Open In Colab\"/></a>"
      ]
    },
    {
      "cell_type": "markdown",
      "source": [
        "# Projeto Aplicado I - Etapa 2\n"
      ],
      "metadata": {
        "id": "2rZDqbpRg5eT"
      }
    },
    {
      "cell_type": "markdown",
      "source": [
        "**Nome: Gustavo José Fermiano - RA: 10440929 - Curso: Ciência de Dados - 2º semestre**"
      ],
      "metadata": {
        "id": "urH6KU80NF6V"
      }
    },
    {
      "cell_type": "markdown",
      "source": [
        "# 1 - Carregamento do dataframe"
      ],
      "metadata": {
        "id": "hHVetRsKpVFn"
      }
    },
    {
      "cell_type": "markdown",
      "source": [
        "Na primeira etapa faremos a instalação e importação das bibliotecas necessárias e o carregamento do arquivo *.csv para a plataforma Google Colab\n"
      ],
      "metadata": {
        "id": "4kQY6LrMkwga"
      }
    },
    {
      "cell_type": "code",
      "source": [
        "# Instalação da biblioteca pandas\n",
        "!pip install pandas"
      ],
      "metadata": {
        "id": "79bVLpmbhA_E",
        "colab": {
          "base_uri": "https://localhost:8080/"
        },
        "outputId": "2933dc99-693d-4750-f34c-92d76004ff89"
      },
      "execution_count": 2,
      "outputs": [
        {
          "output_type": "stream",
          "name": "stdout",
          "text": [
            "Requirement already satisfied: pandas in /usr/local/lib/python3.10/dist-packages (2.1.4)\n",
            "Requirement already satisfied: numpy<2,>=1.22.4 in /usr/local/lib/python3.10/dist-packages (from pandas) (1.26.4)\n",
            "Requirement already satisfied: python-dateutil>=2.8.2 in /usr/local/lib/python3.10/dist-packages (from pandas) (2.8.2)\n",
            "Requirement already satisfied: pytz>=2020.1 in /usr/local/lib/python3.10/dist-packages (from pandas) (2024.2)\n",
            "Requirement already satisfied: tzdata>=2022.1 in /usr/local/lib/python3.10/dist-packages (from pandas) (2024.1)\n",
            "Requirement already satisfied: six>=1.5 in /usr/local/lib/python3.10/dist-packages (from python-dateutil>=2.8.2->pandas) (1.16.0)\n"
          ]
        }
      ]
    },
    {
      "cell_type": "code",
      "execution_count": 3,
      "metadata": {
        "id": "Dwjpup1zgyXj"
      },
      "outputs": [],
      "source": [
        "import pandas as pd # Importação da biblioteca Pandas"
      ]
    },
    {
      "cell_type": "code",
      "source": [
        "import matplotlib.pyplot as plt # Importação da biblioteca Matplotlib para plotar gráficos"
      ],
      "metadata": {
        "id": "LJD29zwXrmGu"
      },
      "execution_count": 4,
      "outputs": []
    },
    {
      "cell_type": "code",
      "source": [
        "# Importação do arquivo *.CSV a partir da plataforma Google Drive\n",
        "from google.colab import drive\n",
        "drive.mount('/content/drive')"
      ],
      "metadata": {
        "colab": {
          "base_uri": "https://localhost:8080/"
        },
        "id": "-R4VflwZiX7K",
        "outputId": "53c06aa6-27ad-48bb-acf5-08e2ffbb23a1"
      },
      "execution_count": 5,
      "outputs": [
        {
          "output_type": "stream",
          "name": "stdout",
          "text": [
            "Mounted at /content/drive\n"
          ]
        }
      ]
    },
    {
      "cell_type": "code",
      "source": [
        "# Carregamento o arquivo CSV para o dataframe df\n",
        "df = pd.read_csv (\"/content/drive/MyDrive/2023_Viagem.csv\", encoding='latin1', sep=';')"
      ],
      "metadata": {
        "id": "c5nxX5cOnVHR"
      },
      "execution_count": 6,
      "outputs": []
    },
    {
      "cell_type": "code",
      "source": [
        "# Exibição das primeiras linhas do dataset\n",
        "print(df.head())"
      ],
      "metadata": {
        "colab": {
          "base_uri": "https://localhost:8080/"
        },
        "id": "67Ulrb_ciiGC",
        "outputId": "30d880ee-b848-46da-8d7d-6812faccac3d"
      },
      "execution_count": 7,
      "outputs": [
        {
          "output_type": "stream",
          "name": "stdout",
          "text": [
            "   Identificador do processo de viagem Número da Proposta (PCDP)   Situação  \\\n",
            "0                             17821923              000001/23-1C  Realizada   \n",
            "1                             18236583                 000018/23  Realizada   \n",
            "2                             18288418              000007/23-1C  Realizada   \n",
            "3                             18296348                 000070/23  Realizada   \n",
            "4                             18302983                 000001/23  Realizada   \n",
            "\n",
            "  Viagem Urgente                      Justificativa Urgência Viagem  \\\n",
            "0            NÃO                                     Sem informação   \n",
            "1            NÃO                                     Sem informação   \n",
            "2            SIM                        Por necessidade do serviço.   \n",
            "3            SIM  A efetivação do empenho no Siafi e a respectiv...   \n",
            "4            NÃO                                     Sem informação   \n",
            "\n",
            "   Código do órgão superior  Nome do órgão superior  Código órgão solicitante  \\\n",
            "0                     26000  Ministério da Educação                     26352   \n",
            "1                     26000  Ministério da Educação                     26236   \n",
            "2                     52000    Ministério da Defesa                     52121   \n",
            "3                     26000  Ministério da Educação                     26406   \n",
            "4                     52000    Ministério da Defesa                     52111   \n",
            "\n",
            "                 Nome órgão solicitante    CPF viajante  ...      Função  \\\n",
            "0  Fundação Universidade Federal do ABC  ***.875.238-**  ...          -1   \n",
            "1       Universidade Federal Fluminense             NaN  ...          -1   \n",
            "2                   Comando do Exército  ***.621.358-**  ...  OfSuperior   \n",
            "3   Instituto Federal do Espírito Santo  ***.407.547-**  ...          -1   \n",
            "4                Comando da Aeronáutica  ***.855.388-**  ...  OfIntermed   \n",
            "\n",
            "  Descrição Função Período - Data de início Período - Data de fim  \\\n",
            "0   Sem informação               01/01/2023            02/12/2023   \n",
            "1   Sem informação               16/01/2023            28/02/2024   \n",
            "2       OfSuperior               10/01/2023            29/01/2023   \n",
            "3   Sem informação               05/02/2023            10/02/2023   \n",
            "4       OfIntermed               01/01/2023            07/07/2023   \n",
            "\n",
            "                              Destinos  \\\n",
            "0             Loughborough/Reino Unido   \n",
            "1                    Rio de Janeiro/RJ   \n",
            "2  Nova York/Estados Unidos da América   \n",
            "3                           Vitória/ES   \n",
            "4                    Gotemburgo/Suécia   \n",
            "\n",
            "                                              Motivo Valor diárias  \\\n",
            "0       Intercâmbio acadêmico PCDP anterior 07/21-3C          0,00   \n",
            "1  Afastamento para pós-graduação stricto sensu n...          0,00   \n",
            "2  Participar da revisão do COE Manual (Contingen...      39565,70   \n",
            "3  Participação das aulas de Mestrado Interinstit...       1013,96   \n",
            "4       PARTICIPAR DO CURSO DE PILOTO DE GRIPEN C/D.          0,00   \n",
            "\n",
            "  Valor passagens Valor devolução Valor outros gastos  \n",
            "0            0,00            0,00                0,00  \n",
            "1            0,00            0,00                0,00  \n",
            "2         7434,13            0,00             1095,35  \n",
            "3            0,00            0,00                0,00  \n",
            "4        14903,10            0,00                0,00  \n",
            "\n",
            "[5 rows x 22 columns]\n"
          ]
        }
      ]
    },
    {
      "cell_type": "code",
      "source": [
        "# Exibição do número de linhas e atributos do dataframe\n",
        "\n",
        "nrow, ncol = df.shape\n",
        "print(nrow) # Número de linhas\n",
        "print(ncol) # Número de colunas"
      ],
      "metadata": {
        "colab": {
          "base_uri": "https://localhost:8080/"
        },
        "id": "qActeVBfk8eh",
        "outputId": "273423ee-c08f-41ae-c033-096cee431e0c"
      },
      "execution_count": 8,
      "outputs": [
        {
          "output_type": "stream",
          "name": "stdout",
          "text": [
            "827433\n",
            "22\n"
          ]
        }
      ]
    },
    {
      "cell_type": "markdown",
      "source": [
        "# 2 - Análise do atributo \"Situação\""
      ],
      "metadata": {
        "id": "TknPyyW2pk9H"
      }
    },
    {
      "cell_type": "code",
      "source": [
        "# Verificação da contagem dos valores assumidos pelo atributo \"Situação\"\n",
        "\n",
        "contagemSituacao = df[\"Situação\"].value_counts()\n",
        "print(contagemSituacao)"
      ],
      "metadata": {
        "colab": {
          "base_uri": "https://localhost:8080/"
        },
        "id": "mCwHhIqapjg-",
        "outputId": "aafcd3f1-7967-4c5c-bb49-7144fa2abda6"
      },
      "execution_count": 9,
      "outputs": [
        {
          "output_type": "stream",
          "name": "stdout",
          "text": [
            "Situação\n",
            "Realizada        810735\n",
            "Não realizada     16698\n",
            "Name: count, dtype: int64\n"
          ]
        }
      ]
    },
    {
      "cell_type": "code",
      "source": [
        "percentualSituacao = df[\"Situação\"].value_counts(normalize=True) * 100 # Cálculo do percentual dos campos\n",
        "print(percentualSituacao)"
      ],
      "metadata": {
        "colab": {
          "base_uri": "https://localhost:8080/"
        },
        "id": "F1LGc56EqGYP",
        "outputId": "0b03b1c0-51ad-4625-fb59-5eb5b5322e7e"
      },
      "execution_count": 10,
      "outputs": [
        {
          "output_type": "stream",
          "name": "stdout",
          "text": [
            "Situação\n",
            "Realizada        97.981951\n",
            "Não realizada     2.018049\n",
            "Name: proportion, dtype: float64\n"
          ]
        }
      ]
    },
    {
      "cell_type": "code",
      "source": [
        "df[\"Situação\"].value_counts().plot(kind='pie', autopct='%1.2f%%') # Plot do gráfico da frequência da situação da viagem e os valores com duas casas decimais\n",
        "plt.ylabel('') # Remoção do eixo y\n",
        "plt.title(\"Figura 1 - Gráfico de viagens realizadas e não realizadas\")"
      ],
      "metadata": {
        "colab": {
          "base_uri": "https://localhost:8080/",
          "height": 446
        },
        "id": "9sJS9UB6qvh2",
        "outputId": "c70d9dc6-4993-4a6f-f81d-76630014f10d"
      },
      "execution_count": 11,
      "outputs": [
        {
          "output_type": "execute_result",
          "data": {
            "text/plain": [
              "Text(0.5, 1.0, 'Figura 1 - Gráfico de viagens realizadas e não realizadas')"
            ]
          },
          "metadata": {},
          "execution_count": 11
        },
        {
          "output_type": "display_data",
          "data": {
            "text/plain": [
              "<Figure size 640x480 with 1 Axes>"
            ],
            "image/png": "[encoded data removed]"
          },
          "metadata": {}
        }
      ]
    },
    {
      "cell_type": "markdown",
      "source": [
        "# 3 - Análise do atributo \"Urgência\""
      ],
      "metadata": {
        "id": "OLC7JPvdsTMG"
      }
    },
    {
      "cell_type": "code",
      "source": [
        "# Verificando contagem dos valores assumidos pelo atributo \"Viagem Urgente\"\n",
        "\n",
        "contagemUrgencia = df[\"Viagem Urgente\"].value_counts()\n",
        "print(contagemUrgencia)"
      ],
      "metadata": {
        "colab": {
          "base_uri": "https://localhost:8080/"
        },
        "id": "kVdHhNTssWL1",
        "outputId": "332b982e-dc7c-472b-ecb9-f819919ae563"
      },
      "execution_count": 12,
      "outputs": [
        {
          "output_type": "stream",
          "name": "stdout",
          "text": [
            "Viagem Urgente\n",
            "SIM    513887\n",
            "NÃO    313546\n",
            "Name: count, dtype: int64\n"
          ]
        }
      ]
    },
    {
      "cell_type": "code",
      "source": [
        "percentualUrgencia = df[\"Viagem Urgente\"].value_counts(normalize=True) * 100 # Calculando o percentual dos campos\n",
        "print(percentualUrgencia)"
      ],
      "metadata": {
        "colab": {
          "base_uri": "https://localhost:8080/"
        },
        "id": "pF6WYA8UstCe",
        "outputId": "bce6da36-fda6-448e-8874-7cdbb6fcbe9c"
      },
      "execution_count": 13,
      "outputs": [
        {
          "output_type": "stream",
          "name": "stdout",
          "text": [
            "Viagem Urgente\n",
            "SIM    62.106177\n",
            "NÃO    37.893823\n",
            "Name: proportion, dtype: float64\n"
          ]
        }
      ]
    },
    {
      "cell_type": "code",
      "source": [
        "df[\"Viagem Urgente\"].value_counts().plot(kind='pie', autopct='%1.2f%%') # Plotando gráfico da frequência da urgência de viagem e os valores com duas casas decimais\n",
        "plt.ylabel('') # Removendo o eixo y\n",
        "plt.title(\"Figura 2 - Gráfico de viagens de acordo com a situação de urgência\")"
      ],
      "metadata": {
        "colab": {
          "base_uri": "https://localhost:8080/",
          "height": 446
        },
        "id": "r6i_13Q1synF",
        "outputId": "7b35c66f-9dff-46c1-fc0c-d47a28d9367c"
      },
      "execution_count": 14,
      "outputs": [
        {
          "output_type": "execute_result",
          "data": {
            "text/plain": [
              "Text(0.5, 1.0, 'Figura 2 - Gráfico de viagens de acordo com a situação de urgência')"
            ]
          },
          "metadata": {},
          "execution_count": 14
        },
        {
          "output_type": "display_data",
          "data": {
            "text/plain": [
              "<Figure size 640x480 with 1 Axes>"
            ],
            "image/png": "[encoded data removed]"
          },
          "metadata": {}
        }
      ]
    },
    {
      "cell_type": "code",
      "source": [],
      "metadata": {
        "id": "rIcc7Tlhs7EF"
      },
      "execution_count": 14,
      "outputs": []
    },
    {
      "cell_type": "markdown",
      "source": [
        "# 4 - Análise do atributo \"Nome do órgão superior\""
      ],
      "metadata": {
        "id": "IQocMz_PwZZM"
      }
    },
    {
      "cell_type": "code",
      "source": [
        "# Verificando os órgãos superiores com maior solicitação de diárias\n",
        "\n",
        "print(\"Há valores NA? Resposta: \", df[\"Nome do órgão superior\"].isna().any(), \"\\n\") # verificando se há valores NA dentro do campo \"Nome do órgão superior\"\n",
        "\n",
        "# Listando os órgãos superiores com maior número de solicitação de diárias\n",
        "\n",
        "print(\"Listando os órgãos superiores com maior número de solicitação de diárias: \\n\")\n",
        "orgaosFrequentes = df[\"Nome do órgão superior\"].value_counts()\n",
        "print(orgaosFrequentes)"
      ],
      "metadata": {
        "colab": {
          "base_uri": "https://localhost:8080/"
        },
        "id": "v3RdkZhYwc_q",
        "outputId": "e588fd89-c523-4d76-da86-c2ab0ce6d862"
      },
      "execution_count": 15,
      "outputs": [
        {
          "output_type": "stream",
          "name": "stdout",
          "text": [
            "Há valores NA? Resposta:  False \n",
            "\n",
            "Listando os órgãos superiores com maior número de solicitação de diárias: \n",
            "\n",
            "Nome do órgão superior\n",
            "Ministério da Educação                                           172111\n",
            "Sem informação                                                   163710\n",
            "Ministério da Defesa                                             141907\n",
            "Ministério da Justiça e Segurança Pública                        110707\n",
            "Ministério do Meio Ambiente e Mudança do Clima                    42313\n",
            "Ministério do Planejamento e Orçamento                            33787\n",
            "Ministério da Agricultura e Pecuária                              28956\n",
            "Ministério da Saúde                                               21684\n",
            "Ministério da Previdência Social                                  19614\n",
            "Ministério dos Transportes                                        18065\n",
            "Ministério do Desenvolvimento Agrário e Agricultura Familiar      14417\n",
            "Presidência da República                                          13889\n",
            "Ministério dos Povos Indígenas                                     9134\n",
            "Ministério das Relações Exteriores                                 5718\n",
            "Ministério da Integração e do Desenvolvimento Regional             4407\n",
            "Ministério de Minas e Energia                                      4375\n",
            "Ministério da Cultura                                              3888\n",
            "Advocacia-Geral da União                                           3734\n",
            "Ministério das Comunicações                                        3460\n",
            "Ministério dos Direitos Humanos e Cidadania                        2893\n",
            "Ministério da Ciência, Tecnologia e Inovação                       2523\n",
            "Ministério do Desenvolvimento, Indústria, Comércio e Serviços      2470\n",
            "Controladoria-Geral da União                                       2087\n",
            "Ministério da Fazenda                                               655\n",
            "Ministério do Turismo                                               513\n",
            "Ministério da Gestão e da Inovação em Serviços Públicos             233\n",
            "Ministério do Trabalho e Emprego                                    183\n",
            "Name: count, dtype: int64\n"
          ]
        }
      ]
    },
    {
      "cell_type": "code",
      "source": [
        "# Exibição dos percentuais\n",
        "\n",
        "print(\"Listando os órgãos superiores com maior número de solicitação de diárias (valor percentual): \\n\")\n",
        "orgaosFrequentes = df[\"Nome do órgão superior\"].value_counts(normalize=True)*100\n",
        "print(orgaosFrequentes)"
      ],
      "metadata": {
        "colab": {
          "base_uri": "https://localhost:8080/"
        },
        "id": "3PjHdk6Vwmir",
        "outputId": "b613df0e-92f3-41c1-9a22-b11ddfc14612"
      },
      "execution_count": 16,
      "outputs": [
        {
          "output_type": "stream",
          "name": "stdout",
          "text": [
            "Listando os órgãos superiores com maior número de solicitação de diárias (valor percentual): \n",
            "\n",
            "Nome do órgão superior\n",
            "Ministério da Educação                                           20.800597\n",
            "Sem informação                                                   19.785288\n",
            "Ministério da Defesa                                             17.150271\n",
            "Ministério da Justiça e Segurança Pública                        13.379573\n",
            "Ministério do Meio Ambiente e Mudança do Clima                    5.113768\n",
            "Ministério do Planejamento e Orçamento                            4.083352\n",
            "Ministério da Agricultura e Pecuária                              3.499498\n",
            "Ministério da Saúde                                               2.620635\n",
            "Ministério da Previdência Social                                  2.370464\n",
            "Ministério dos Transportes                                        2.183258\n",
            "Ministério do Desenvolvimento Agrário e Agricultura Familiar      1.742377\n",
            "Presidência da República                                          1.678565\n",
            "Ministério dos Povos Indígenas                                    1.103896\n",
            "Ministério das Relações Exteriores                                0.691053\n",
            "Ministério da Integração e do Desenvolvimento Regional            0.532611\n",
            "Ministério de Minas e Energia                                     0.528744\n",
            "Ministério da Cultura                                             0.469887\n",
            "Advocacia-Geral da União                                          0.451275\n",
            "Ministério das Comunicações                                       0.418161\n",
            "Ministério dos Direitos Humanos e Cidadania                       0.349636\n",
            "Ministério da Ciência, Tecnologia e Inovação                      0.304919\n",
            "Ministério do Desenvolvimento, Indústria, Comércio e Serviços     0.298514\n",
            "Controladoria-Geral da União                                      0.252226\n",
            "Ministério da Fazenda                                             0.079160\n",
            "Ministério do Turismo                                             0.061999\n",
            "Ministério da Gestão e da Inovação em Serviços Públicos           0.028159\n",
            "Ministério do Trabalho e Emprego                                  0.022117\n",
            "Name: proportion, dtype: float64\n"
          ]
        }
      ]
    },
    {
      "cell_type": "markdown",
      "source": [
        "# 5 - Análise do atributo \"Nome órgão solicitante\""
      ],
      "metadata": {
        "id": "R9yL6DqbydwS"
      }
    },
    {
      "cell_type": "code",
      "source": [
        "# Verificando os órgãos solicitantes (órgãos subordinados) com maior solicitação de diárias\n",
        "\n",
        "print(\"Há valores NA? Resposta: \", df[\"Nome órgão solicitante\"].isna().any(), \"\\n\") # verificando se há valores NA dentro do campo \"Nome do órgão superior\"\n",
        "\n",
        "# Listando os órgãos solicitantes (órgãos subordinados) com maior número de solicitação de diárias\n",
        "\n",
        "print(\"Listando os órgãos solicitantes (órgãos subordinados) com maior número de solicitação de diárias: \\n\")\n",
        "solicitantesFrequentes = df[\"Nome órgão solicitante\"].value_counts()\n",
        "pd.set_option('display.max_rows',200) # ampliando o número de linhas para 200, para não cortar as linhas do meio\n",
        "display(solicitantesFrequentes)"
      ],
      "metadata": {
        "colab": {
          "base_uri": "https://localhost:8080/",
          "height": 1000
        },
        "id": "E72nCZHdymKJ",
        "outputId": "b51bb404-44e9-4de0-8841-5443098c87bc"
      },
      "execution_count": 17,
      "outputs": [
        {
          "output_type": "stream",
          "name": "stdout",
          "text": [
            "Há valores NA? Resposta:  False \n",
            "\n",
            "Listando os órgãos solicitantes (órgãos subordinados) com maior número de solicitação de diárias: \n",
            "\n"
          ]
        },
        {
          "output_type": "display_data",
          "data": {
            "text/plain": [
              "Nome órgão solicitante\n",
              "Sem informação                                                                  163710\n",
              "Polícia Federal                                                                  69204\n",
              "Comando da Aeronáutica                                                           67829\n",
              "Comando do Exército                                                              52774\n",
              "Polícia Rodoviária Federal                                                       41215\n",
              "Fundação Instituto Brasileiro de Geografia e Estatística                         33375\n",
              "Ministério da Agricultura e Pecuária - Unidades com vínculo direto               28956\n",
              "Ministério da Defesa - Unidades com vínculo direto                               21223\n",
              "Instituto Brasileiro do Meio Ambiente e dos Recursos Naturais Renováveis         20966\n",
              "Instituto Chico Mendes de Conservação da Biodiversidade                          19596\n",
              "Instituto Nacional do Seguro Social                                              19409\n",
              "Ministério da Saúde - Unidades com vínculo direto                                14373\n",
              "Presidência da República - Unidades com vínculo direto                           13489\n",
              "Instituto Nacional de Colonização e Reforma Agrária                              13396\n",
              "Fundação Nacional do Índio                                                        9134\n",
              "Ministério da Educação - Unidades com vínculo direto                              7657\n",
              "Departamento Nacional de Infraestrutura de Transportes                            7174\n",
              "Ministério dos Transportes - Unidades com vínculo direto                          5776\n",
              "Ministério das Relações Exteriores - Unidades com vínculo direto                  5637\n",
              "Instituto Nacional de Estudos e Pesquisas Educacionais Anísio Teixeira            4736\n",
              "Universidade Tecnológica Federal do Paraná                                        4422\n",
              "Instituto Federal de Alagoas                                                      3834\n",
              "Instituto Federal de São Paulo                                                    3796\n",
              "Advocacia-Geral da União - Unidades com vínculo direto                            3734\n",
              "Instituto Federal do Espírito Santo                                               3693\n",
              "Universidade Federal do Pará                                                      3563\n",
              "Instituto Federal do Maranhão                                                     3534\n",
              "Agêncial Nacional de Telecomunicações                                             3460\n",
              "Fundação Universidade Federal de Uberlândia                                       3294\n",
              "Agência Nacional de Transportes Terrestres                                        3266\n",
              "Instituto Federal Goiano                                                          3101\n",
              "Universidade Federal de Santa Maria                                               3057\n",
              "Instituto Federal da Paraíba                                                      3030\n",
              "Fundação Oswaldo Cruz                                                             2979\n",
              "Instituto Federal Baiano                                                          2909\n",
              "Agência Nacional de Vigilância Sanitária                                          2904\n",
              "Ministério dos Direitos Humanos e Cidadania - Unidades com vínculo direto         2893\n",
              "Universidade Federal do Rio Grande do Norte                                       2777\n",
              "Universidade Federal de Santa Catarina                                            2750\n",
              "Instituto Federal do Ceará                                                        2710\n",
              "Universidade Federal de Goiás                                                     2582\n",
              "Instituto do Patrimônio Histórico e Artístico Nacional                            2534\n",
              "Universidade Federal de Minas Gerais                                              2519\n",
              "Instituto Federal de Pernambuco                                                   2513\n",
              "Universidade Federal de Juiz de Fora                                              2346\n",
              "Instituto Federal do Mato Grosso                                                  2303\n",
              "Instituto Federal Catarinense                                                     2280\n",
              "Departamento Nacional de Obras Contra as Secas                                    2222\n",
              "Instituto Federal de Santa Catarina                                               2144\n",
              "Universidade Federal do Espírito Santo                                            2123\n",
              "Controladoria-Geral da União - Unidades com vínculo direto                        2087\n",
              "Instituto Federal do Paraná                                                       2020\n",
              "Fundação Universidade Federal do Mato Grosso do Sul                               2013\n",
              "Comissão Nacional de Energia Nuclear                                              2000\n",
              "Universidade Federal do Paraná                                                    1988\n",
              "Universidade Federal de Campina Grande                                            1968\n",
              "Instituto Nacional de Metrologia, Qualidade e Tecnologia                          1922\n",
              "Fundação Universidade Federal de São Carlos                                       1912\n",
              "Fundação Universidade do Amazonas                                                 1882\n",
              "Agência Nacional do Petróleo, Gás Natural e Biocombustíveis                       1865\n",
              "Instituto Federal do Norte de Minas Gerais                                        1859\n",
              "Instituto Federal do Sudeste de Minas Gerais                                      1830\n",
              "Instituto Federal do Piauí                                                        1824\n",
              "Universidade Federal Rural do Semi-Árido                                          1801\n",
              "Universidade Federal da Paraíba                                                   1800\n",
              "Instituto Federal Farroupilha                                                     1761\n",
              "Universidade Federal Fluminense                                                   1742\n",
              "Universidade Federal de Alagoas                                                   1729\n",
              "Instituto Federal do Rio Grande do Sul                                            1617\n",
              "Universidade Federal de Lavras                                                    1612\n",
              "Centro Federal de Educação Tecnológica de Minas Gerais                            1605\n",
              "Ministério do Meio Ambiente e Mudança do Clima - Unidades com vínculo direto      1603\n",
              "Fundação Coordenação de Aperfeiçoamento de Pessoal de Nível Superior              1584\n",
              "Empresa Brasileira de Serviços Hospitalares                                       1564\n",
              "Fundação Universidade de Brasília                                                 1560\n",
              "Universidade Federal Rural do Rio de Janeiro                                      1530\n",
              "Universidade Federal Rural de Pernambuco                                          1516\n",
              "Instituto Federal do Pará                                                         1503\n",
              "Fundação Universidade Federal de Rondônia                                         1466\n",
              "Universidade Federal da Bahia                                                     1441\n",
              "Instituto Federal de Minas Gerais                                                 1438\n",
              "Instituto Federal de Rondônia                                                     1431\n",
              "Instituto Federal Sul-rio-grandense                                               1405\n",
              "Fundação Universidade Federal de Pelotas                                          1405\n",
              "Universidade Federal de Pernambuco                                                1403\n",
              "Fundação Universidade Federal do Pampa                                            1393\n",
              "Instituto Federal do Tocantins                                                    1390\n",
              "Agência Nacional de Águas                                                         1389\n",
              "Universidade Federal de Alfenas                                                   1375\n",
              "Agência Nacional de Energia Elétrica                                              1359\n",
              "Universidade Federal de Ouro Preto                                                1328\n",
              "Universidade Federal do Ceará                                                     1325\n",
              "Instituto Federal de Educação, Ciência e Tecnologia de Goiás                      1324\n",
              "Instituto Federal do Sertão de Pernambuco                                         1313\n",
              "Universidade Federal do Rio Grande do Sul                                         1281\n",
              "Instituto Federal do Mato Grosso do Sul                                           1229\n",
              "Universidade Federal de Viçosa                                                    1224\n",
              "Instituto Federal de Sergipe                                                      1211\n",
              "Instituto Federal do Triângulo Mineiro                                            1197\n",
              "Instituto Federal do Sul de Minas Gerais                                          1173\n",
              "Instituto Federal de Roraima                                                      1150\n",
              "Universidade Federal da Fronteira Sul                                             1137\n",
              "Fundação Universidade Federal do Tocantins                                        1123\n",
              "Universidade Federal do Oeste do Pará                                             1115\n",
              "Agência Nacional de Transportes Aquaviários                                       1102\n",
              "Universidade Federal dos Vales do Jequitinhonha e Mucuri                          1091\n",
              "Companhia Nacional de Abastecimento                                               1021\n",
              "Instituto Federal da Bahia                                                        1018\n",
              "Universidade Federal de Itajubá                                                    942\n",
              "Fundação Universidade Federal de Sergipe                                           919\n",
              "Fundação Universidade Federal do Mato Grosso                                       865\n",
              "Fundação Universidade Federal de São João Del-Rei                                  849\n",
              "Instituto Federal do Amazonas                                                      844\n",
              "Instituto Federal do Acre                                                          843\n",
              "Fundação Universidade Federal do Piauí                                             825\n",
              "Agência Nacional de Saúde Suplementar                                              810\n",
              "Universidade Federal do Rio de Janeiro                                             799\n",
              "Instituto Federal do Amapá                                                         794\n",
              "Fundação Universidade Federal do ABC                                               791\n",
              "Universidade Federal do Sul e Sudeste do Pará                                      774\n",
              "VALEC Engenharia, Construções e Ferrovias S.A.                                     747\n",
              "Instituto Federal Fluminense                                                       737\n",
              "Fundação Universidade Federal da Grande Dourados                                   734\n",
              "Fundação Universidade Federal do Acre                                              717\n",
              "Universidade Federal de Roraima                                                    690\n",
              "Universidade Federal do Rio Grande                                                 673\n",
              "Ministério de Minas e Energia - Unidades com vínculo direto                        657\n",
              "Universidade Federal da Integração Latino-Americana                                641\n",
              "Fundação Universidade Federal do Vale do São Francisco                             626\n",
              "Fundação Nacional de Saúde                                                         618\n",
              "Universidade Federal do Cariri                                                     600\n",
              "Universidade Federal do Recôncavo da Bahia                                         593\n",
              "Fundação Universidade Federal do Amapá                                             575\n",
              "Instituto Brasileiro de Museus                                                     552\n",
              "Fundo Nacional de Desenvolvimento da Educação                                      524\n",
              "Ministério do Turismo - Unidades com vínculo direto                                513\n",
              "Superintendência do Desenvolvimento do Nordeste                                    506\n",
              "Empresa de Pesquisa Energética                                                     494\n",
              "Universidade Federal Rural da Amazônia                                             474\n",
              "Fundação Universidade do Maranhão                                                  469\n",
              "Universidade Federal do Oeste da Bahia                                             454\n",
              "Comissão de Valores Mobiliários                                                    440\n",
              "Instituto Federal do Rio de Janeiro                                                427\n",
              "Universidade Federal do Sul da Bahia                                               416\n",
              "Instituto de Pesquisa Econômica Aplicada                                           412\n",
              "Universidade Federal do Triângulo Mineiro                                          391\n",
              "Fundação Universidade Federal de Ciências da Saúde de Porto Alegre                 380\n",
              "Gabinete da Vice-Presidência da República                                          376\n",
              "Centro Federal de Educação Tecnológica Celso Suckow da Fonseca                     334\n",
              "Conselho Administrativo de Defesa Econômica                                        288\n",
              "Superintendência da Zona Franca de Manaus                                          278\n",
              "Instituto Nacional da Propriedade Industrial                                       270\n",
              "Universidade Federal do Estado do Rio de Janeiro                                   242\n",
              "Fundação Joaquim Nabuco                                                            239\n",
              "Agência Espacial Brasileira                                                        237\n",
              "Fundação Escola Nacional de Administração Pública                                  233\n",
              "Fundação Nacional de Artes                                                         226\n",
              "Superintendência do Desenvolvimento da Amazônia                                    224\n",
              "Universidade da Integração Internacional da Lusofonia Afro-Brasileira              220\n",
              "Superintendência de Seguros Privados                                               215\n",
              "Agência Nacional do Cinema                                                         209\n",
              "Superintendência Nacional de Previdência Complementar                              205\n",
              "Colégio Pedro II                                                                   198\n",
              "Fundação Cultural Palmares                                                         190\n",
              "Fundação Jorge Duprat Figueiredo, de Segurança e Medicina do Trabalho              183\n",
              "Conselho Nacional de Desenvolvimento Científico e Tecnológico                      181\n",
              "Universidade Federal de São Paulo                                                  172\n",
              "Instituto de Pesquisas Jardim Botânico do Rio de Janeiro                           148\n",
              "Fundação Casa de Rui Barbosa                                                       126\n",
              "Centro Nacional de Tecnologia Eletrônica Avançada S.A.                              98\n",
              "Fundação Alexandre de Gusmão                                                        81\n",
              "Caixa de Financiamento Imobiliário da Aeronáutica                                   81\n",
              "Superintendência de Desenvolvimento do Centro-Oeste                                 66\n",
              "Instituto Federal de Brasília                                                       61\n",
              "Fundação Biblioteca Nacional                                                        51\n",
              "Instituto Nacional de Tecnologia da Informação                                      24\n",
              "Ministério da Ciência, Tecnologia e Inovação - Unidades com vínculo direto           7\n",
              "Name: count, dtype: int64"
            ],
            "text/html": [
              "<div>\n",
              "<style scoped>\n",
              "    .dataframe tbody tr th:only-of-type {\n",
              "        vertical-align: middle;\n",
              "    }\n",
              "\n",
              "    .dataframe tbody tr th {\n",
              "        vertical-align: top;\n",
              "    }\n",
              "\n",
              "    .dataframe thead th {\n",
              "        text-align: right;\n",
              "    }\n",
              "</style>\n",
              "<table border=\"1\" class=\"dataframe\">\n",
              "  <thead>\n",
              "    <tr style=\"text-align: right;\">\n",
              "      <th></th>\n",
              "      <th>count</th>\n",
              "    </tr>\n",
              "    <tr>\n",
              "      <th>Nome órgão solicitante</th>\n",
              "      <th></th>\n",
              "    </tr>\n",
              "  </thead>\n",
              "  <tbody>\n",
              "    <tr>\n",
              "      <th>Sem informação</th>\n",
              "      <td>163710</td>\n",
              "    </tr>\n",
              "    <tr>\n",
              "      <th>Polícia Federal</th>\n",
              "      <td>69204</td>\n",
              "    </tr>\n",
              "    <tr>\n",
              "      <th>Comando da Aeronáutica</th>\n",
              "      <td>67829</td>\n",
              "    </tr>\n",
              "    <tr>\n",
              "      <th>Comando do Exército</th>\n",
              "      <td>52774</td>\n",
              "    </tr>\n",
              "    <tr>\n",
              "      <th>Polícia Rodoviária Federal</th>\n",
              "      <td>41215</td>\n",
              "    </tr>\n",
              "    <tr>\n",
              "      <th>Fundação Instituto Brasileiro de Geografia e Estatística</th>\n",
              "      <td>33375</td>\n",
              "    </tr>\n",
              "    <tr>\n",
              "      <th>Ministério da Agricultura e Pecuária - Unidades com vínculo direto</th>\n",
              "      <td>28956</td>\n",
              "    </tr>\n",
              "    <tr>\n",
              "      <th>Ministério da Defesa - Unidades com vínculo direto</th>\n",
              "      <td>21223</td>\n",
              "    </tr>\n",
              "    <tr>\n",
              "      <th>Instituto Brasileiro do Meio Ambiente e dos Recursos Naturais Renováveis</th>\n",
              "      <td>20966</td>\n",
              "    </tr>\n",
              "    <tr>\n",
              "      <th>Instituto Chico Mendes de Conservação da Biodiversidade</th>\n",
              "      <td>19596</td>\n",
              "    </tr>\n",
              "    <tr>\n",
              "      <th>Instituto Nacional do Seguro Social</th>\n",
              "      <td>19409</td>\n",
              "    </tr>\n",
              "    <tr>\n",
              "      <th>Ministério da Saúde - Unidades com vínculo direto</th>\n",
              "      <td>14373</td>\n",
              "    </tr>\n",
              "    <tr>\n",
              "      <th>Presidência da República - Unidades com vínculo direto</th>\n",
              "      <td>13489</td>\n",
              "    </tr>\n",
              "    <tr>\n",
              "      <th>Instituto Nacional de Colonização e Reforma Agrária</th>\n",
              "      <td>13396</td>\n",
              "    </tr>\n",
              "    <tr>\n",
              "      <th>Fundação Nacional do Índio</th>\n",
              "      <td>9134</td>\n",
              "    </tr>\n",
              "    <tr>\n",
              "      <th>Ministério da Educação - Unidades com vínculo direto</th>\n",
              "      <td>7657</td>\n",
              "    </tr>\n",
              "    <tr>\n",
              "      <th>Departamento Nacional de Infraestrutura de Transportes</th>\n",
              "      <td>7174</td>\n",
              "    </tr>\n",
              "    <tr>\n",
              "      <th>Ministério dos Transportes - Unidades com vínculo direto</th>\n",
              "      <td>5776</td>\n",
              "    </tr>\n",
              "    <tr>\n",
              "      <th>Ministério das Relações Exteriores - Unidades com vínculo direto</th>\n",
              "      <td>5637</td>\n",
              "    </tr>\n",
              "    <tr>\n",
              "      <th>Instituto Nacional de Estudos e Pesquisas Educacionais Anísio Teixeira</th>\n",
              "      <td>4736</td>\n",
              "    </tr>\n",
              "    <tr>\n",
              "      <th>Universidade Tecnológica Federal do Paraná</th>\n",
              "      <td>4422</td>\n",
              "    </tr>\n",
              "    <tr>\n",
              "      <th>Instituto Federal de Alagoas</th>\n",
              "      <td>3834</td>\n",
              "    </tr>\n",
              "    <tr>\n",
              "      <th>Instituto Federal de São Paulo</th>\n",
              "      <td>3796</td>\n",
              "    </tr>\n",
              "    <tr>\n",
              "      <th>Advocacia-Geral da União - Unidades com vínculo direto</th>\n",
              "      <td>3734</td>\n",
              "    </tr>\n",
              "    <tr>\n",
              "      <th>Instituto Federal do Espírito Santo</th>\n",
              "      <td>3693</td>\n",
              "    </tr>\n",
              "    <tr>\n",
              "      <th>Universidade Federal do Pará</th>\n",
              "      <td>3563</td>\n",
              "    </tr>\n",
              "    <tr>\n",
              "      <th>Instituto Federal do Maranhão</th>\n",
              "      <td>3534</td>\n",
              "    </tr>\n",
              "    <tr>\n",
              "      <th>Agêncial Nacional de Telecomunicações</th>\n",
              "      <td>3460</td>\n",
              "    </tr>\n",
              "    <tr>\n",
              "      <th>Fundação Universidade Federal de Uberlândia</th>\n",
              "      <td>3294</td>\n",
              "    </tr>\n",
              "    <tr>\n",
              "      <th>Agência Nacional de Transportes Terrestres</th>\n",
              "      <td>3266</td>\n",
              "    </tr>\n",
              "    <tr>\n",
              "      <th>Instituto Federal Goiano</th>\n",
              "      <td>3101</td>\n",
              "    </tr>\n",
              "    <tr>\n",
              "      <th>Universidade Federal de Santa Maria</th>\n",
              "      <td>3057</td>\n",
              "    </tr>\n",
              "    <tr>\n",
              "      <th>Instituto Federal da Paraíba</th>\n",
              "      <td>3030</td>\n",
              "    </tr>\n",
              "    <tr>\n",
              "      <th>Fundação Oswaldo Cruz</th>\n",
              "      <td>2979</td>\n",
              "    </tr>\n",
              "    <tr>\n",
              "      <th>Instituto Federal Baiano</th>\n",
              "      <td>2909</td>\n",
              "    </tr>\n",
              "    <tr>\n",
              "      <th>Agência Nacional de Vigilância Sanitária</th>\n",
              "      <td>2904</td>\n",
              "    </tr>\n",
              "    <tr>\n",
              "      <th>Ministério dos Direitos Humanos e Cidadania - Unidades com vínculo direto</th>\n",
              "      <td>2893</td>\n",
              "    </tr>\n",
              "    <tr>\n",
              "      <th>Universidade Federal do Rio Grande do Norte</th>\n",
              "      <td>2777</td>\n",
              "    </tr>\n",
              "    <tr>\n",
              "      <th>Universidade Federal de Santa Catarina</th>\n",
              "      <td>2750</td>\n",
              "    </tr>\n",
              "    <tr>\n",
              "      <th>Instituto Federal do Ceará</th>\n",
              "      <td>2710</td>\n",
              "    </tr>\n",
              "    <tr>\n",
              "      <th>Universidade Federal de Goiás</th>\n",
              "      <td>2582</td>\n",
              "    </tr>\n",
              "    <tr>\n",
              "      <th>Instituto do Patrimônio Histórico e Artístico Nacional</th>\n",
              "      <td>2534</td>\n",
              "    </tr>\n",
              "    <tr>\n",
              "      <th>Universidade Federal de Minas Gerais</th>\n",
              "      <td>2519</td>\n",
              "    </tr>\n",
              "    <tr>\n",
              "      <th>Instituto Federal de Pernambuco</th>\n",
              "      <td>2513</td>\n",
              "    </tr>\n",
              "    <tr>\n",
              "      <th>Universidade Federal de Juiz de Fora</th>\n",
              "      <td>2346</td>\n",
              "    </tr>\n",
              "    <tr>\n",
              "      <th>Instituto Federal do Mato Grosso</th>\n",
              "      <td>2303</td>\n",
              "    </tr>\n",
              "    <tr>\n",
              "      <th>Instituto Federal Catarinense</th>\n",
              "      <td>2280</td>\n",
              "    </tr>\n",
              "    <tr>\n",
              "      <th>Departamento Nacional de Obras Contra as Secas</th>\n",
              "      <td>2222</td>\n",
              "    </tr>\n",
              "    <tr>\n",
              "      <th>Instituto Federal de Santa Catarina</th>\n",
              "      <td>2144</td>\n",
              "    </tr>\n",
              "    <tr>\n",
              "      <th>Universidade Federal do Espírito Santo</th>\n",
              "      <td>2123</td>\n",
              "    </tr>\n",
              "    <tr>\n",
              "      <th>Controladoria-Geral da União - Unidades com vínculo direto</th>\n",
              "      <td>2087</td>\n",
              "    </tr>\n",
              "    <tr>\n",
              "      <th>Instituto Federal do Paraná</th>\n",
              "      <td>2020</td>\n",
              "    </tr>\n",
              "    <tr>\n",
              "      <th>Fundação Universidade Federal do Mato Grosso do Sul</th>\n",
              "      <td>2013</td>\n",
              "    </tr>\n",
              "    <tr>\n",
              "      <th>Comissão Nacional de Energia Nuclear</th>\n",
              "      <td>2000</td>\n",
              "    </tr>\n",
              "    <tr>\n",
              "      <th>Universidade Federal do Paraná</th>\n",
              "      <td>1988</td>\n",
              "    </tr>\n",
              "    <tr>\n",
              "      <th>Universidade Federal de Campina Grande</th>\n",
              "      <td>1968</td>\n",
              "    </tr>\n",
              "    <tr>\n",
              "      <th>Instituto Nacional de Metrologia, Qualidade e Tecnologia</th>\n",
              "      <td>1922</td>\n",
              "    </tr>\n",
              "    <tr>\n",
              "      <th>Fundação Universidade Federal de São Carlos</th>\n",
              "      <td>1912</td>\n",
              "    </tr>\n",
              "    <tr>\n",
              "      <th>Fundação Universidade do Amazonas</th>\n",
              "      <td>1882</td>\n",
              "    </tr>\n",
              "    <tr>\n",
              "      <th>Agência Nacional do Petróleo, Gás Natural e Biocombustíveis</th>\n",
              "      <td>1865</td>\n",
              "    </tr>\n",
              "    <tr>\n",
              "      <th>Instituto Federal do Norte de Minas Gerais</th>\n",
              "      <td>1859</td>\n",
              "    </tr>\n",
              "    <tr>\n",
              "      <th>Instituto Federal do Sudeste de Minas Gerais</th>\n",
              "      <td>1830</td>\n",
              "    </tr>\n",
              "    <tr>\n",
              "      <th>Instituto Federal do Piauí</th>\n",
              "      <td>1824</td>\n",
              "    </tr>\n",
              "    <tr>\n",
              "      <th>Universidade Federal Rural do Semi-Árido</th>\n",
              "      <td>1801</td>\n",
              "    </tr>\n",
              "    <tr>\n",
              "      <th>Universidade Federal da Paraíba</th>\n",
              "      <td>1800</td>\n",
              "    </tr>\n",
              "    <tr>\n",
              "      <th>Instituto Federal Farroupilha</th>\n",
              "      <td>1761</td>\n",
              "    </tr>\n",
              "    <tr>\n",
              "      <th>Universidade Federal Fluminense</th>\n",
              "      <td>1742</td>\n",
              "    </tr>\n",
              "    <tr>\n",
              "      <th>Universidade Federal de Alagoas</th>\n",
              "      <td>1729</td>\n",
              "    </tr>\n",
              "    <tr>\n",
              "      <th>Instituto Federal do Rio Grande do Sul</th>\n",
              "      <td>1617</td>\n",
              "    </tr>\n",
              "    <tr>\n",
              "      <th>Universidade Federal de Lavras</th>\n",
              "      <td>1612</td>\n",
              "    </tr>\n",
              "    <tr>\n",
              "      <th>Centro Federal de Educação Tecnológica de Minas Gerais</th>\n",
              "      <td>1605</td>\n",
              "    </tr>\n",
              "    <tr>\n",
              "      <th>Ministério do Meio Ambiente e Mudança do Clima - Unidades com vínculo direto</th>\n",
              "      <td>1603</td>\n",
              "    </tr>\n",
              "    <tr>\n",
              "      <th>Fundação Coordenação de Aperfeiçoamento de Pessoal de Nível Superior</th>\n",
              "      <td>1584</td>\n",
              "    </tr>\n",
              "    <tr>\n",
              "      <th>Empresa Brasileira de Serviços Hospitalares</th>\n",
              "      <td>1564</td>\n",
              "    </tr>\n",
              "    <tr>\n",
              "      <th>Fundação Universidade de Brasília</th>\n",
              "      <td>1560</td>\n",
              "    </tr>\n",
              "    <tr>\n",
              "      <th>Universidade Federal Rural do Rio de Janeiro</th>\n",
              "      <td>1530</td>\n",
              "    </tr>\n",
              "    <tr>\n",
              "      <th>Universidade Federal Rural de Pernambuco</th>\n",
              "      <td>1516</td>\n",
              "    </tr>\n",
              "    <tr>\n",
              "      <th>Instituto Federal do Pará</th>\n",
              "      <td>1503</td>\n",
              "    </tr>\n",
              "    <tr>\n",
              "      <th>Fundação Universidade Federal de Rondônia</th>\n",
              "      <td>1466</td>\n",
              "    </tr>\n",
              "    <tr>\n",
              "      <th>Universidade Federal da Bahia</th>\n",
              "      <td>1441</td>\n",
              "    </tr>\n",
              "    <tr>\n",
              "      <th>Instituto Federal de Minas Gerais</th>\n",
              "      <td>1438</td>\n",
              "    </tr>\n",
              "    <tr>\n",
              "      <th>Instituto Federal de Rondônia</th>\n",
              "      <td>1431</td>\n",
              "    </tr>\n",
              "    <tr>\n",
              "      <th>Instituto Federal Sul-rio-grandense</th>\n",
              "      <td>1405</td>\n",
              "    </tr>\n",
              "    <tr>\n",
              "      <th>Fundação Universidade Federal de Pelotas</th>\n",
              "      <td>1405</td>\n",
              "    </tr>\n",
              "    <tr>\n",
              "      <th>Universidade Federal de Pernambuco</th>\n",
              "      <td>1403</td>\n",
              "    </tr>\n",
              "    <tr>\n",
              "      <th>Fundação Universidade Federal do Pampa</th>\n",
              "      <td>1393</td>\n",
              "    </tr>\n",
              "    <tr>\n",
              "      <th>Instituto Federal do Tocantins</th>\n",
              "      <td>1390</td>\n",
              "    </tr>\n",
              "    <tr>\n",
              "      <th>Agência Nacional de Águas</th>\n",
              "      <td>1389</td>\n",
              "    </tr>\n",
              "    <tr>\n",
              "      <th>Universidade Federal de Alfenas</th>\n",
              "      <td>1375</td>\n",
              "    </tr>\n",
              "    <tr>\n",
              "      <th>Agência Nacional de Energia Elétrica</th>\n",
              "      <td>1359</td>\n",
              "    </tr>\n",
              "    <tr>\n",
              "      <th>Universidade Federal de Ouro Preto</th>\n",
              "      <td>1328</td>\n",
              "    </tr>\n",
              "    <tr>\n",
              "      <th>Universidade Federal do Ceará</th>\n",
              "      <td>1325</td>\n",
              "    </tr>\n",
              "    <tr>\n",
              "      <th>Instituto Federal de Educação, Ciência e Tecnologia de Goiás</th>\n",
              "      <td>1324</td>\n",
              "    </tr>\n",
              "    <tr>\n",
              "      <th>Instituto Federal do Sertão de Pernambuco</th>\n",
              "      <td>1313</td>\n",
              "    </tr>\n",
              "    <tr>\n",
              "      <th>Universidade Federal do Rio Grande do Sul</th>\n",
              "      <td>1281</td>\n",
              "    </tr>\n",
              "    <tr>\n",
              "      <th>Instituto Federal do Mato Grosso do Sul</th>\n",
              "      <td>1229</td>\n",
              "    </tr>\n",
              "    <tr>\n",
              "      <th>Universidade Federal de Viçosa</th>\n",
              "      <td>1224</td>\n",
              "    </tr>\n",
              "    <tr>\n",
              "      <th>Instituto Federal de Sergipe</th>\n",
              "      <td>1211</td>\n",
              "    </tr>\n",
              "    <tr>\n",
              "      <th>Instituto Federal do Triângulo Mineiro</th>\n",
              "      <td>1197</td>\n",
              "    </tr>\n",
              "    <tr>\n",
              "      <th>Instituto Federal do Sul de Minas Gerais</th>\n",
              "      <td>1173</td>\n",
              "    </tr>\n",
              "    <tr>\n",
              "      <th>Instituto Federal de Roraima</th>\n",
              "      <td>1150</td>\n",
              "    </tr>\n",
              "    <tr>\n",
              "      <th>Universidade Federal da Fronteira Sul</th>\n",
              "      <td>1137</td>\n",
              "    </tr>\n",
              "    <tr>\n",
              "      <th>Fundação Universidade Federal do Tocantins</th>\n",
              "      <td>1123</td>\n",
              "    </tr>\n",
              "    <tr>\n",
              "      <th>Universidade Federal do Oeste do Pará</th>\n",
              "      <td>1115</td>\n",
              "    </tr>\n",
              "    <tr>\n",
              "      <th>Agência Nacional de Transportes Aquaviários</th>\n",
              "      <td>1102</td>\n",
              "    </tr>\n",
              "    <tr>\n",
              "      <th>Universidade Federal dos Vales do Jequitinhonha e Mucuri</th>\n",
              "      <td>1091</td>\n",
              "    </tr>\n",
              "    <tr>\n",
              "      <th>Companhia Nacional de Abastecimento</th>\n",
              "      <td>1021</td>\n",
              "    </tr>\n",
              "    <tr>\n",
              "      <th>Instituto Federal da Bahia</th>\n",
              "      <td>1018</td>\n",
              "    </tr>\n",
              "    <tr>\n",
              "      <th>Universidade Federal de Itajubá</th>\n",
              "      <td>942</td>\n",
              "    </tr>\n",
              "    <tr>\n",
              "      <th>Fundação Universidade Federal de Sergipe</th>\n",
              "      <td>919</td>\n",
              "    </tr>\n",
              "    <tr>\n",
              "      <th>Fundação Universidade Federal do Mato Grosso</th>\n",
              "      <td>865</td>\n",
              "    </tr>\n",
              "    <tr>\n",
              "      <th>Fundação Universidade Federal de São João Del-Rei</th>\n",
              "      <td>849</td>\n",
              "    </tr>\n",
              "    <tr>\n",
              "      <th>Instituto Federal do Amazonas</th>\n",
              "      <td>844</td>\n",
              "    </tr>\n",
              "    <tr>\n",
              "      <th>Instituto Federal do Acre</th>\n",
              "      <td>843</td>\n",
              "    </tr>\n",
              "    <tr>\n",
              "      <th>Fundação Universidade Federal do Piauí</th>\n",
              "      <td>825</td>\n",
              "    </tr>\n",
              "    <tr>\n",
              "      <th>Agência Nacional de Saúde Suplementar</th>\n",
              "      <td>810</td>\n",
              "    </tr>\n",
              "    <tr>\n",
              "      <th>Universidade Federal do Rio de Janeiro</th>\n",
              "      <td>799</td>\n",
              "    </tr>\n",
              "    <tr>\n",
              "      <th>Instituto Federal do Amapá</th>\n",
              "      <td>794</td>\n",
              "    </tr>\n",
              "    <tr>\n",
              "      <th>Fundação Universidade Federal do ABC</th>\n",
              "      <td>791</td>\n",
              "    </tr>\n",
              "    <tr>\n",
              "      <th>Universidade Federal do Sul e Sudeste do Pará</th>\n",
              "      <td>774</td>\n",
              "    </tr>\n",
              "    <tr>\n",
              "      <th>VALEC Engenharia, Construções e Ferrovias S.A.</th>\n",
              "      <td>747</td>\n",
              "    </tr>\n",
              "    <tr>\n",
              "      <th>Instituto Federal Fluminense</th>\n",
              "      <td>737</td>\n",
              "    </tr>\n",
              "    <tr>\n",
              "      <th>Fundação Universidade Federal da Grande Dourados</th>\n",
              "      <td>734</td>\n",
              "    </tr>\n",
              "    <tr>\n",
              "      <th>Fundação Universidade Federal do Acre</th>\n",
              "      <td>717</td>\n",
              "    </tr>\n",
              "    <tr>\n",
              "      <th>Universidade Federal de Roraima</th>\n",
              "      <td>690</td>\n",
              "    </tr>\n",
              "    <tr>\n",
              "      <th>Universidade Federal do Rio Grande</th>\n",
              "      <td>673</td>\n",
              "    </tr>\n",
              "    <tr>\n",
              "      <th>Ministério de Minas e Energia - Unidades com vínculo direto</th>\n",
              "      <td>657</td>\n",
              "    </tr>\n",
              "    <tr>\n",
              "      <th>Universidade Federal da Integração Latino-Americana</th>\n",
              "      <td>641</td>\n",
              "    </tr>\n",
              "    <tr>\n",
              "      <th>Fundação Universidade Federal do Vale do São Francisco</th>\n",
              "      <td>626</td>\n",
              "    </tr>\n",
              "    <tr>\n",
              "      <th>Fundação Nacional de Saúde</th>\n",
              "      <td>618</td>\n",
              "    </tr>\n",
              "    <tr>\n",
              "      <th>Universidade Federal do Cariri</th>\n",
              "      <td>600</td>\n",
              "    </tr>\n",
              "    <tr>\n",
              "      <th>Universidade Federal do Recôncavo da Bahia</th>\n",
              "      <td>593</td>\n",
              "    </tr>\n",
              "    <tr>\n",
              "      <th>Fundação Universidade Federal do Amapá</th>\n",
              "      <td>575</td>\n",
              "    </tr>\n",
              "    <tr>\n",
              "      <th>Instituto Brasileiro de Museus</th>\n",
              "      <td>552</td>\n",
              "    </tr>\n",
              "    <tr>\n",
              "      <th>Fundo Nacional de Desenvolvimento da Educação</th>\n",
              "      <td>524</td>\n",
              "    </tr>\n",
              "    <tr>\n",
              "      <th>Ministério do Turismo - Unidades com vínculo direto</th>\n",
              "      <td>513</td>\n",
              "    </tr>\n",
              "    <tr>\n",
              "      <th>Superintendência do Desenvolvimento do Nordeste</th>\n",
              "      <td>506</td>\n",
              "    </tr>\n",
              "    <tr>\n",
              "      <th>Empresa de Pesquisa Energética</th>\n",
              "      <td>494</td>\n",
              "    </tr>\n",
              "    <tr>\n",
              "      <th>Universidade Federal Rural da Amazônia</th>\n",
              "      <td>474</td>\n",
              "    </tr>\n",
              "    <tr>\n",
              "      <th>Fundação Universidade do Maranhão</th>\n",
              "      <td>469</td>\n",
              "    </tr>\n",
              "    <tr>\n",
              "      <th>Universidade Federal do Oeste da Bahia</th>\n",
              "      <td>454</td>\n",
              "    </tr>\n",
              "    <tr>\n",
              "      <th>Comissão de Valores Mobiliários</th>\n",
              "      <td>440</td>\n",
              "    </tr>\n",
              "    <tr>\n",
              "      <th>Instituto Federal do Rio de Janeiro</th>\n",
              "      <td>427</td>\n",
              "    </tr>\n",
              "    <tr>\n",
              "      <th>Universidade Federal do Sul da Bahia</th>\n",
              "      <td>416</td>\n",
              "    </tr>\n",
              "    <tr>\n",
              "      <th>Instituto de Pesquisa Econômica Aplicada</th>\n",
              "      <td>412</td>\n",
              "    </tr>\n",
              "    <tr>\n",
              "      <th>Universidade Federal do Triângulo Mineiro</th>\n",
              "      <td>391</td>\n",
              "    </tr>\n",
              "    <tr>\n",
              "      <th>Fundação Universidade Federal de Ciências da Saúde de Porto Alegre</th>\n",
              "      <td>380</td>\n",
              "    </tr>\n",
              "    <tr>\n",
              "      <th>Gabinete da Vice-Presidência da República</th>\n",
              "      <td>376</td>\n",
              "    </tr>\n",
              "    <tr>\n",
              "      <th>Centro Federal de Educação Tecnológica Celso Suckow da Fonseca</th>\n",
              "      <td>334</td>\n",
              "    </tr>\n",
              "    <tr>\n",
              "      <th>Conselho Administrativo de Defesa Econômica</th>\n",
              "      <td>288</td>\n",
              "    </tr>\n",
              "    <tr>\n",
              "      <th>Superintendência da Zona Franca de Manaus</th>\n",
              "      <td>278</td>\n",
              "    </tr>\n",
              "    <tr>\n",
              "      <th>Instituto Nacional da Propriedade Industrial</th>\n",
              "      <td>270</td>\n",
              "    </tr>\n",
              "    <tr>\n",
              "      <th>Universidade Federal do Estado do Rio de Janeiro</th>\n",
              "      <td>242</td>\n",
              "    </tr>\n",
              "    <tr>\n",
              "      <th>Fundação Joaquim Nabuco</th>\n",
              "      <td>239</td>\n",
              "    </tr>\n",
              "    <tr>\n",
              "      <th>Agência Espacial Brasileira</th>\n",
              "      <td>237</td>\n",
              "    </tr>\n",
              "    <tr>\n",
              "      <th>Fundação Escola Nacional de Administração Pública</th>\n",
              "      <td>233</td>\n",
              "    </tr>\n",
              "    <tr>\n",
              "      <th>Fundação Nacional de Artes</th>\n",
              "      <td>226</td>\n",
              "    </tr>\n",
              "    <tr>\n",
              "      <th>Superintendência do Desenvolvimento da Amazônia</th>\n",
              "      <td>224</td>\n",
              "    </tr>\n",
              "    <tr>\n",
              "      <th>Universidade da Integração Internacional da Lusofonia Afro-Brasileira</th>\n",
              "      <td>220</td>\n",
              "    </tr>\n",
              "    <tr>\n",
              "      <th>Superintendência de Seguros Privados</th>\n",
              "      <td>215</td>\n",
              "    </tr>\n",
              "    <tr>\n",
              "      <th>Agência Nacional do Cinema</th>\n",
              "      <td>209</td>\n",
              "    </tr>\n",
              "    <tr>\n",
              "      <th>Superintendência Nacional de Previdência Complementar</th>\n",
              "      <td>205</td>\n",
              "    </tr>\n",
              "    <tr>\n",
              "      <th>Colégio Pedro II</th>\n",
              "      <td>198</td>\n",
              "    </tr>\n",
              "    <tr>\n",
              "      <th>Fundação Cultural Palmares</th>\n",
              "      <td>190</td>\n",
              "    </tr>\n",
              "    <tr>\n",
              "      <th>Fundação Jorge Duprat Figueiredo, de Segurança e Medicina do Trabalho</th>\n",
              "      <td>183</td>\n",
              "    </tr>\n",
              "    <tr>\n",
              "      <th>Conselho Nacional de Desenvolvimento Científico e Tecnológico</th>\n",
              "      <td>181</td>\n",
              "    </tr>\n",
              "    <tr>\n",
              "      <th>Universidade Federal de São Paulo</th>\n",
              "      <td>172</td>\n",
              "    </tr>\n",
              "    <tr>\n",
              "      <th>Instituto de Pesquisas Jardim Botânico do Rio de Janeiro</th>\n",
              "      <td>148</td>\n",
              "    </tr>\n",
              "    <tr>\n",
              "      <th>Fundação Casa de Rui Barbosa</th>\n",
              "      <td>126</td>\n",
              "    </tr>\n",
              "    <tr>\n",
              "      <th>Centro Nacional de Tecnologia Eletrônica Avançada S.A.</th>\n",
              "      <td>98</td>\n",
              "    </tr>\n",
              "    <tr>\n",
              "      <th>Fundação Alexandre de Gusmão</th>\n",
              "      <td>81</td>\n",
              "    </tr>\n",
              "    <tr>\n",
              "      <th>Caixa de Financiamento Imobiliário da Aeronáutica</th>\n",
              "      <td>81</td>\n",
              "    </tr>\n",
              "    <tr>\n",
              "      <th>Superintendência de Desenvolvimento do Centro-Oeste</th>\n",
              "      <td>66</td>\n",
              "    </tr>\n",
              "    <tr>\n",
              "      <th>Instituto Federal de Brasília</th>\n",
              "      <td>61</td>\n",
              "    </tr>\n",
              "    <tr>\n",
              "      <th>Fundação Biblioteca Nacional</th>\n",
              "      <td>51</td>\n",
              "    </tr>\n",
              "    <tr>\n",
              "      <th>Instituto Nacional de Tecnologia da Informação</th>\n",
              "      <td>24</td>\n",
              "    </tr>\n",
              "    <tr>\n",
              "      <th>Ministério da Ciência, Tecnologia e Inovação - Unidades com vínculo direto</th>\n",
              "      <td>7</td>\n",
              "    </tr>\n",
              "  </tbody>\n",
              "</table>\n",
              "</div><br><label><b>dtype:</b> int64</label>"
            ]
          },
          "metadata": {}
        }
      ]
    },
    {
      "cell_type": "code",
      "source": [
        "# Listando os órgãos solicitantes (órgãos subordinados) com maior número de solicitação de diárias (percentual)\n",
        "\n",
        "print(\"Listando os órgãos solicitantes (órgãos subordinados) com maior número de solicitação de diárias (percentual): \\n\")\n",
        "solicitantesPercentual = df[\"Nome órgão solicitante\"].value_counts(normalize=True)*100\n",
        "display(solicitantesPercentual)"
      ],
      "metadata": {
        "colab": {
          "base_uri": "https://localhost:8080/",
          "height": 1000
        },
        "id": "Kk_7CNRVyrQq",
        "outputId": "1b4bef52-5959-4a8c-f19b-f6cb7b9e12ab"
      },
      "execution_count": 18,
      "outputs": [
        {
          "output_type": "stream",
          "name": "stdout",
          "text": [
            "Listando os órgãos solicitantes (órgãos subordinados) com maior número de solicitação de diárias (percentual): \n",
            "\n"
          ]
        },
        {
          "output_type": "display_data",
          "data": {
            "text/plain": [
              "Nome órgão solicitante\n",
              "Sem informação                                                                  19.785288\n",
              "Polícia Federal                                                                  8.363698\n",
              "Comando da Aeronáutica                                                           8.197522\n",
              "Comando do Exército                                                              6.378039\n",
              "Polícia Rodoviária Federal                                                       4.981068\n",
              "Fundação Instituto Brasileiro de Geografia e Estatística                         4.033559\n",
              "Ministério da Agricultura e Pecuária - Unidades com vínculo direto               3.499498\n",
              "Ministério da Defesa - Unidades com vínculo direto                               2.564921\n",
              "Instituto Brasileiro do Meio Ambiente e dos Recursos Naturais Renováveis         2.533861\n",
              "Instituto Chico Mendes de Conservação da Biodiversidade                          2.368288\n",
              "Instituto Nacional do Seguro Social                                              2.345688\n",
              "Ministério da Saúde - Unidades com vínculo direto                                1.737059\n",
              "Presidência da República - Unidades com vínculo direto                           1.630223\n",
              "Instituto Nacional de Colonização e Reforma Agrária                              1.618983\n",
              "Fundação Nacional do Índio                                                       1.103896\n",
              "Ministério da Educação - Unidades com vínculo direto                             0.925392\n",
              "Departamento Nacional de Infraestrutura de Transportes                           0.867019\n",
              "Ministério dos Transportes - Unidades com vínculo direto                         0.698063\n",
              "Ministério das Relações Exteriores - Unidades com vínculo direto                 0.681264\n",
              "Instituto Nacional de Estudos e Pesquisas Educacionais Anísio Teixeira           0.572373\n",
              "Universidade Tecnológica Federal do Paraná                                       0.534424\n",
              "Instituto Federal de Alagoas                                                     0.463361\n",
              "Instituto Federal de São Paulo                                                   0.458768\n",
              "Advocacia-Geral da União - Unidades com vínculo direto                           0.451275\n",
              "Instituto Federal do Espírito Santo                                              0.446320\n",
              "Universidade Federal do Pará                                                     0.430609\n",
              "Instituto Federal do Maranhão                                                    0.427104\n",
              "Agêncial Nacional de Telecomunicações                                            0.418161\n",
              "Fundação Universidade Federal de Uberlândia                                      0.398099\n",
              "Agência Nacional de Transportes Terrestres                                       0.394715\n",
              "Instituto Federal Goiano                                                         0.374774\n",
              "Universidade Federal de Santa Maria                                              0.369456\n",
              "Instituto Federal da Paraíba                                                     0.366193\n",
              "Fundação Oswaldo Cruz                                                            0.360029\n",
              "Instituto Federal Baiano                                                         0.351569\n",
              "Agência Nacional de Vigilância Sanitária                                         0.350965\n",
              "Ministério dos Direitos Humanos e Cidadania - Unidades com vínculo direto        0.349636\n",
              "Universidade Federal do Rio Grande do Norte                                      0.335616\n",
              "Universidade Federal de Santa Catarina                                           0.332353\n",
              "Instituto Federal do Ceará                                                       0.327519\n",
              "Universidade Federal de Goiás                                                    0.312049\n",
              "Instituto do Patrimônio Histórico e Artístico Nacional                           0.306248\n",
              "Universidade Federal de Minas Gerais                                             0.304436\n",
              "Instituto Federal de Pernambuco                                                  0.303710\n",
              "Universidade Federal de Juiz de Fora                                             0.283527\n",
              "Instituto Federal do Mato Grosso                                                 0.278331\n",
              "Instituto Federal Catarinense                                                    0.275551\n",
              "Departamento Nacional de Obras Contra as Secas                                   0.268541\n",
              "Instituto Federal de Santa Catarina                                              0.259115\n",
              "Universidade Federal do Espírito Santo                                           0.256577\n",
              "Controladoria-Geral da União - Unidades com vínculo direto                       0.252226\n",
              "Instituto Federal do Paraná                                                      0.244129\n",
              "Fundação Universidade Federal do Mato Grosso do Sul                              0.243283\n",
              "Comissão Nacional de Energia Nuclear                                             0.241711\n",
              "Universidade Federal do Paraná                                                   0.240261\n",
              "Universidade Federal de Campina Grande                                           0.237844\n",
              "Instituto Nacional de Metrologia, Qualidade e Tecnologia                         0.232285\n",
              "Fundação Universidade Federal de São Carlos                                      0.231076\n",
              "Fundação Universidade do Amazonas                                                0.227450\n",
              "Agência Nacional do Petróleo, Gás Natural e Biocombustíveis                      0.225396\n",
              "Instituto Federal do Norte de Minas Gerais                                       0.224671\n",
              "Instituto Federal do Sudeste de Minas Gerais                                     0.221166\n",
              "Instituto Federal do Piauí                                                       0.220441\n",
              "Universidade Federal Rural do Semi-Árido                                         0.217661\n",
              "Universidade Federal da Paraíba                                                  0.217540\n",
              "Instituto Federal Farroupilha                                                    0.212827\n",
              "Universidade Federal Fluminense                                                  0.210531\n",
              "Universidade Federal de Alagoas                                                  0.208960\n",
              "Instituto Federal do Rio Grande do Sul                                           0.195424\n",
              "Universidade Federal de Lavras                                                   0.194819\n",
              "Centro Federal de Educação Tecnológica de Minas Gerais                           0.193973\n",
              "Ministério do Meio Ambiente e Mudança do Clima - Unidades com vínculo direto     0.193732\n",
              "Fundação Coordenação de Aperfeiçoamento de Pessoal de Nível Superior             0.191435\n",
              "Empresa Brasileira de Serviços Hospitalares                                      0.189018\n",
              "Fundação Universidade de Brasília                                                0.188535\n",
              "Universidade Federal Rural do Rio de Janeiro                                     0.184909\n",
              "Universidade Federal Rural de Pernambuco                                         0.183217\n",
              "Instituto Federal do Pará                                                        0.181646\n",
              "Fundação Universidade Federal de Rondônia                                        0.177174\n",
              "Universidade Federal da Bahia                                                    0.174153\n",
              "Instituto Federal de Minas Gerais                                                0.173791\n",
              "Instituto Federal de Rondônia                                                    0.172945\n",
              "Instituto Federal Sul-rio-grandense                                              0.169802\n",
              "Fundação Universidade Federal de Pelotas                                         0.169802\n",
              "Universidade Federal de Pernambuco                                               0.169561\n",
              "Fundação Universidade Federal do Pampa                                           0.168352\n",
              "Instituto Federal do Tocantins                                                   0.167989\n",
              "Agência Nacional de Águas                                                        0.167869\n",
              "Universidade Federal de Alfenas                                                  0.166177\n",
              "Agência Nacional de Energia Elétrica                                             0.164243\n",
              "Universidade Federal de Ouro Preto                                               0.160496\n",
              "Universidade Federal do Ceará                                                    0.160134\n",
              "Instituto Federal de Educação, Ciência e Tecnologia de Goiás                     0.160013\n",
              "Instituto Federal do Sertão de Pernambuco                                        0.158684\n",
              "Universidade Federal do Rio Grande do Sul                                        0.154816\n",
              "Instituto Federal do Mato Grosso do Sul                                          0.148532\n",
              "Universidade Federal de Viçosa                                                   0.147927\n",
              "Instituto Federal de Sergipe                                                     0.146356\n",
              "Instituto Federal do Triângulo Mineiro                                           0.144664\n",
              "Instituto Federal do Sul de Minas Gerais                                         0.141764\n",
              "Instituto Federal de Roraima                                                     0.138984\n",
              "Universidade Federal da Fronteira Sul                                            0.137413\n",
              "Fundação Universidade Federal do Tocantins                                       0.135721\n",
              "Universidade Federal do Oeste do Pará                                            0.134754\n",
              "Agência Nacional de Transportes Aquaviários                                      0.133183\n",
              "Universidade Federal dos Vales do Jequitinhonha e Mucuri                         0.131854\n",
              "Companhia Nacional de Abastecimento                                              0.123394\n",
              "Instituto Federal da Bahia                                                       0.123031\n",
              "Universidade Federal de Itajubá                                                  0.113846\n",
              "Fundação Universidade Federal de Sergipe                                         0.111066\n",
              "Fundação Universidade Federal do Mato Grosso                                     0.104540\n",
              "Fundação Universidade Federal de São João Del-Rei                                0.102606\n",
              "Instituto Federal do Amazonas                                                    0.102002\n",
              "Instituto Federal do Acre                                                        0.101881\n",
              "Fundação Universidade Federal do Piauí                                           0.099706\n",
              "Agência Nacional de Saúde Suplementar                                            0.097893\n",
              "Universidade Federal do Rio de Janeiro                                           0.096564\n",
              "Instituto Federal do Amapá                                                       0.095959\n",
              "Fundação Universidade Federal do ABC                                             0.095597\n",
              "Universidade Federal do Sul e Sudeste do Pará                                    0.093542\n",
              "VALEC Engenharia, Construções e Ferrovias S.A.                                   0.090279\n",
              "Instituto Federal Fluminense                                                     0.089071\n",
              "Fundação Universidade Federal da Grande Dourados                                 0.088708\n",
              "Fundação Universidade Federal do Acre                                            0.086654\n",
              "Universidade Federal de Roraima                                                  0.083390\n",
              "Universidade Federal do Rio Grande                                               0.081336\n",
              "Ministério de Minas e Energia - Unidades com vínculo direto                      0.079402\n",
              "Universidade Federal da Integração Latino-Americana                              0.077469\n",
              "Fundação Universidade Federal do Vale do São Francisco                           0.075656\n",
              "Fundação Nacional de Saúde                                                       0.074689\n",
              "Universidade Federal do Cariri                                                   0.072513\n",
              "Universidade Federal do Recôncavo da Bahia                                       0.071667\n",
              "Fundação Universidade Federal do Amapá                                           0.069492\n",
              "Instituto Brasileiro de Museus                                                   0.066712\n",
              "Fundo Nacional de Desenvolvimento da Educação                                    0.063328\n",
              "Ministério do Turismo - Unidades com vínculo direto                              0.061999\n",
              "Superintendência do Desenvolvimento do Nordeste                                  0.061153\n",
              "Empresa de Pesquisa Energética                                                   0.059703\n",
              "Universidade Federal Rural da Amazônia                                           0.057286\n",
              "Fundação Universidade do Maranhão                                                0.056681\n",
              "Universidade Federal do Oeste da Bahia                                           0.054868\n",
              "Comissão de Valores Mobiliários                                                  0.053177\n",
              "Instituto Federal do Rio de Janeiro                                              0.051605\n",
              "Universidade Federal do Sul da Bahia                                             0.050276\n",
              "Instituto de Pesquisa Econômica Aplicada                                         0.049793\n",
              "Universidade Federal do Triângulo Mineiro                                        0.047255\n",
              "Fundação Universidade Federal de Ciências da Saúde de Porto Alegre               0.045925\n",
              "Gabinete da Vice-Presidência da República                                        0.045442\n",
              "Centro Federal de Educação Tecnológica Celso Suckow da Fonseca                   0.040366\n",
              "Conselho Administrativo de Defesa Econômica                                      0.034806\n",
              "Superintendência da Zona Franca de Manaus                                        0.033598\n",
              "Instituto Nacional da Propriedade Industrial                                     0.032631\n",
              "Universidade Federal do Estado do Rio de Janeiro                                 0.029247\n",
              "Fundação Joaquim Nabuco                                                          0.028885\n",
              "Agência Espacial Brasileira                                                      0.028643\n",
              "Fundação Escola Nacional de Administração Pública                                0.028159\n",
              "Fundação Nacional de Artes                                                       0.027313\n",
              "Superintendência do Desenvolvimento da Amazônia                                  0.027072\n",
              "Universidade da Integração Internacional da Lusofonia Afro-Brasileira            0.026588\n",
              "Superintendência de Seguros Privados                                             0.025984\n",
              "Agência Nacional do Cinema                                                       0.025259\n",
              "Superintendência Nacional de Previdência Complementar                            0.024775\n",
              "Colégio Pedro II                                                                 0.023929\n",
              "Fundação Cultural Palmares                                                       0.022963\n",
              "Fundação Jorge Duprat Figueiredo, de Segurança e Medicina do Trabalho            0.022117\n",
              "Conselho Nacional de Desenvolvimento Científico e Tecnológico                    0.021875\n",
              "Universidade Federal de São Paulo                                                0.020787\n",
              "Instituto de Pesquisas Jardim Botânico do Rio de Janeiro                         0.017887\n",
              "Fundação Casa de Rui Barbosa                                                     0.015228\n",
              "Centro Nacional de Tecnologia Eletrônica Avançada S.A.                           0.011844\n",
              "Fundação Alexandre de Gusmão                                                     0.009789\n",
              "Caixa de Financiamento Imobiliário da Aeronáutica                                0.009789\n",
              "Superintendência de Desenvolvimento do Centro-Oeste                              0.007976\n",
              "Instituto Federal de Brasília                                                    0.007372\n",
              "Fundação Biblioteca Nacional                                                     0.006164\n",
              "Instituto Nacional de Tecnologia da Informação                                   0.002901\n",
              "Ministério da Ciência, Tecnologia e Inovação - Unidades com vínculo direto       0.000846\n",
              "Name: proportion, dtype: float64"
            ],
            "text/html": [
              "<div>\n",
              "<style scoped>\n",
              "    .dataframe tbody tr th:only-of-type {\n",
              "        vertical-align: middle;\n",
              "    }\n",
              "\n",
              "    .dataframe tbody tr th {\n",
              "        vertical-align: top;\n",
              "    }\n",
              "\n",
              "    .dataframe thead th {\n",
              "        text-align: right;\n",
              "    }\n",
              "</style>\n",
              "<table border=\"1\" class=\"dataframe\">\n",
              "  <thead>\n",
              "    <tr style=\"text-align: right;\">\n",
              "      <th></th>\n",
              "      <th>proportion</th>\n",
              "    </tr>\n",
              "    <tr>\n",
              "      <th>Nome órgão solicitante</th>\n",
              "      <th></th>\n",
              "    </tr>\n",
              "  </thead>\n",
              "  <tbody>\n",
              "    <tr>\n",
              "      <th>Sem informação</th>\n",
              "      <td>19.785288</td>\n",
              "    </tr>\n",
              "    <tr>\n",
              "      <th>Polícia Federal</th>\n",
              "      <td>8.363698</td>\n",
              "    </tr>\n",
              "    <tr>\n",
              "      <th>Comando da Aeronáutica</th>\n",
              "      <td>8.197522</td>\n",
              "    </tr>\n",
              "    <tr>\n",
              "      <th>Comando do Exército</th>\n",
              "      <td>6.378039</td>\n",
              "    </tr>\n",
              "    <tr>\n",
              "      <th>Polícia Rodoviária Federal</th>\n",
              "      <td>4.981068</td>\n",
              "    </tr>\n",
              "    <tr>\n",
              "      <th>Fundação Instituto Brasileiro de Geografia e Estatística</th>\n",
              "      <td>4.033559</td>\n",
              "    </tr>\n",
              "    <tr>\n",
              "      <th>Ministério da Agricultura e Pecuária - Unidades com vínculo direto</th>\n",
              "      <td>3.499498</td>\n",
              "    </tr>\n",
              "    <tr>\n",
              "      <th>Ministério da Defesa - Unidades com vínculo direto</th>\n",
              "      <td>2.564921</td>\n",
              "    </tr>\n",
              "    <tr>\n",
              "      <th>Instituto Brasileiro do Meio Ambiente e dos Recursos Naturais Renováveis</th>\n",
              "      <td>2.533861</td>\n",
              "    </tr>\n",
              "    <tr>\n",
              "      <th>Instituto Chico Mendes de Conservação da Biodiversidade</th>\n",
              "      <td>2.368288</td>\n",
              "    </tr>\n",
              "    <tr>\n",
              "      <th>Instituto Nacional do Seguro Social</th>\n",
              "      <td>2.345688</td>\n",
              "    </tr>\n",
              "    <tr>\n",
              "      <th>Ministério da Saúde - Unidades com vínculo direto</th>\n",
              "      <td>1.737059</td>\n",
              "    </tr>\n",
              "    <tr>\n",
              "      <th>Presidência da República - Unidades com vínculo direto</th>\n",
              "      <td>1.630223</td>\n",
              "    </tr>\n",
              "    <tr>\n",
              "      <th>Instituto Nacional de Colonização e Reforma Agrária</th>\n",
              "      <td>1.618983</td>\n",
              "    </tr>\n",
              "    <tr>\n",
              "      <th>Fundação Nacional do Índio</th>\n",
              "      <td>1.103896</td>\n",
              "    </tr>\n",
              "    <tr>\n",
              "      <th>Ministério da Educação - Unidades com vínculo direto</th>\n",
              "      <td>0.925392</td>\n",
              "    </tr>\n",
              "    <tr>\n",
              "      <th>Departamento Nacional de Infraestrutura de Transportes</th>\n",
              "      <td>0.867019</td>\n",
              "    </tr>\n",
              "    <tr>\n",
              "      <th>Ministério dos Transportes - Unidades com vínculo direto</th>\n",
              "      <td>0.698063</td>\n",
              "    </tr>\n",
              "    <tr>\n",
              "      <th>Ministério das Relações Exteriores - Unidades com vínculo direto</th>\n",
              "      <td>0.681264</td>\n",
              "    </tr>\n",
              "    <tr>\n",
              "      <th>Instituto Nacional de Estudos e Pesquisas Educacionais Anísio Teixeira</th>\n",
              "      <td>0.572373</td>\n",
              "    </tr>\n",
              "    <tr>\n",
              "      <th>Universidade Tecnológica Federal do Paraná</th>\n",
              "      <td>0.534424</td>\n",
              "    </tr>\n",
              "    <tr>\n",
              "      <th>Instituto Federal de Alagoas</th>\n",
              "      <td>0.463361</td>\n",
              "    </tr>\n",
              "    <tr>\n",
              "      <th>Instituto Federal de São Paulo</th>\n",
              "      <td>0.458768</td>\n",
              "    </tr>\n",
              "    <tr>\n",
              "      <th>Advocacia-Geral da União - Unidades com vínculo direto</th>\n",
              "      <td>0.451275</td>\n",
              "    </tr>\n",
              "    <tr>\n",
              "      <th>Instituto Federal do Espírito Santo</th>\n",
              "      <td>0.446320</td>\n",
              "    </tr>\n",
              "    <tr>\n",
              "      <th>Universidade Federal do Pará</th>\n",
              "      <td>0.430609</td>\n",
              "    </tr>\n",
              "    <tr>\n",
              "      <th>Instituto Federal do Maranhão</th>\n",
              "      <td>0.427104</td>\n",
              "    </tr>\n",
              "    <tr>\n",
              "      <th>Agêncial Nacional de Telecomunicações</th>\n",
              "      <td>0.418161</td>\n",
              "    </tr>\n",
              "    <tr>\n",
              "      <th>Fundação Universidade Federal de Uberlândia</th>\n",
              "      <td>0.398099</td>\n",
              "    </tr>\n",
              "    <tr>\n",
              "      <th>Agência Nacional de Transportes Terrestres</th>\n",
              "      <td>0.394715</td>\n",
              "    </tr>\n",
              "    <tr>\n",
              "      <th>Instituto Federal Goiano</th>\n",
              "      <td>0.374774</td>\n",
              "    </tr>\n",
              "    <tr>\n",
              "      <th>Universidade Federal de Santa Maria</th>\n",
              "      <td>0.369456</td>\n",
              "    </tr>\n",
              "    <tr>\n",
              "      <th>Instituto Federal da Paraíba</th>\n",
              "      <td>0.366193</td>\n",
              "    </tr>\n",
              "    <tr>\n",
              "      <th>Fundação Oswaldo Cruz</th>\n",
              "      <td>0.360029</td>\n",
              "    </tr>\n",
              "    <tr>\n",
              "      <th>Instituto Federal Baiano</th>\n",
              "      <td>0.351569</td>\n",
              "    </tr>\n",
              "    <tr>\n",
              "      <th>Agência Nacional de Vigilância Sanitária</th>\n",
              "      <td>0.350965</td>\n",
              "    </tr>\n",
              "    <tr>\n",
              "      <th>Ministério dos Direitos Humanos e Cidadania - Unidades com vínculo direto</th>\n",
              "      <td>0.349636</td>\n",
              "    </tr>\n",
              "    <tr>\n",
              "      <th>Universidade Federal do Rio Grande do Norte</th>\n",
              "      <td>0.335616</td>\n",
              "    </tr>\n",
              "    <tr>\n",
              "      <th>Universidade Federal de Santa Catarina</th>\n",
              "      <td>0.332353</td>\n",
              "    </tr>\n",
              "    <tr>\n",
              "      <th>Instituto Federal do Ceará</th>\n",
              "      <td>0.327519</td>\n",
              "    </tr>\n",
              "    <tr>\n",
              "      <th>Universidade Federal de Goiás</th>\n",
              "      <td>0.312049</td>\n",
              "    </tr>\n",
              "    <tr>\n",
              "      <th>Instituto do Patrimônio Histórico e Artístico Nacional</th>\n",
              "      <td>0.306248</td>\n",
              "    </tr>\n",
              "    <tr>\n",
              "      <th>Universidade Federal de Minas Gerais</th>\n",
              "      <td>0.304436</td>\n",
              "    </tr>\n",
              "    <tr>\n",
              "      <th>Instituto Federal de Pernambuco</th>\n",
              "      <td>0.303710</td>\n",
              "    </tr>\n",
              "    <tr>\n",
              "      <th>Universidade Federal de Juiz de Fora</th>\n",
              "      <td>0.283527</td>\n",
              "    </tr>\n",
              "    <tr>\n",
              "      <th>Instituto Federal do Mato Grosso</th>\n",
              "      <td>0.278331</td>\n",
              "    </tr>\n",
              "    <tr>\n",
              "      <th>Instituto Federal Catarinense</th>\n",
              "      <td>0.275551</td>\n",
              "    </tr>\n",
              "    <tr>\n",
              "      <th>Departamento Nacional de Obras Contra as Secas</th>\n",
              "      <td>0.268541</td>\n",
              "    </tr>\n",
              "    <tr>\n",
              "      <th>Instituto Federal de Santa Catarina</th>\n",
              "      <td>0.259115</td>\n",
              "    </tr>\n",
              "    <tr>\n",
              "      <th>Universidade Federal do Espírito Santo</th>\n",
              "      <td>0.256577</td>\n",
              "    </tr>\n",
              "    <tr>\n",
              "      <th>Controladoria-Geral da União - Unidades com vínculo direto</th>\n",
              "      <td>0.252226</td>\n",
              "    </tr>\n",
              "    <tr>\n",
              "      <th>Instituto Federal do Paraná</th>\n",
              "      <td>0.244129</td>\n",
              "    </tr>\n",
              "    <tr>\n",
              "      <th>Fundação Universidade Federal do Mato Grosso do Sul</th>\n",
              "      <td>0.243283</td>\n",
              "    </tr>\n",
              "    <tr>\n",
              "      <th>Comissão Nacional de Energia Nuclear</th>\n",
              "      <td>0.241711</td>\n",
              "    </tr>\n",
              "    <tr>\n",
              "      <th>Universidade Federal do Paraná</th>\n",
              "      <td>0.240261</td>\n",
              "    </tr>\n",
              "    <tr>\n",
              "      <th>Universidade Federal de Campina Grande</th>\n",
              "      <td>0.237844</td>\n",
              "    </tr>\n",
              "    <tr>\n",
              "      <th>Instituto Nacional de Metrologia, Qualidade e Tecnologia</th>\n",
              "      <td>0.232285</td>\n",
              "    </tr>\n",
              "    <tr>\n",
              "      <th>Fundação Universidade Federal de São Carlos</th>\n",
              "      <td>0.231076</td>\n",
              "    </tr>\n",
              "    <tr>\n",
              "      <th>Fundação Universidade do Amazonas</th>\n",
              "      <td>0.227450</td>\n",
              "    </tr>\n",
              "    <tr>\n",
              "      <th>Agência Nacional do Petróleo, Gás Natural e Biocombustíveis</th>\n",
              "      <td>0.225396</td>\n",
              "    </tr>\n",
              "    <tr>\n",
              "      <th>Instituto Federal do Norte de Minas Gerais</th>\n",
              "      <td>0.224671</td>\n",
              "    </tr>\n",
              "    <tr>\n",
              "      <th>Instituto Federal do Sudeste de Minas Gerais</th>\n",
              "      <td>0.221166</td>\n",
              "    </tr>\n",
              "    <tr>\n",
              "      <th>Instituto Federal do Piauí</th>\n",
              "      <td>0.220441</td>\n",
              "    </tr>\n",
              "    <tr>\n",
              "      <th>Universidade Federal Rural do Semi-Árido</th>\n",
              "      <td>0.217661</td>\n",
              "    </tr>\n",
              "    <tr>\n",
              "      <th>Universidade Federal da Paraíba</th>\n",
              "      <td>0.217540</td>\n",
              "    </tr>\n",
              "    <tr>\n",
              "      <th>Instituto Federal Farroupilha</th>\n",
              "      <td>0.212827</td>\n",
              "    </tr>\n",
              "    <tr>\n",
              "      <th>Universidade Federal Fluminense</th>\n",
              "      <td>0.210531</td>\n",
              "    </tr>\n",
              "    <tr>\n",
              "      <th>Universidade Federal de Alagoas</th>\n",
              "      <td>0.208960</td>\n",
              "    </tr>\n",
              "    <tr>\n",
              "      <th>Instituto Federal do Rio Grande do Sul</th>\n",
              "      <td>0.195424</td>\n",
              "    </tr>\n",
              "    <tr>\n",
              "      <th>Universidade Federal de Lavras</th>\n",
              "      <td>0.194819</td>\n",
              "    </tr>\n",
              "    <tr>\n",
              "      <th>Centro Federal de Educação Tecnológica de Minas Gerais</th>\n",
              "      <td>0.193973</td>\n",
              "    </tr>\n",
              "    <tr>\n",
              "      <th>Ministério do Meio Ambiente e Mudança do Clima - Unidades com vínculo direto</th>\n",
              "      <td>0.193732</td>\n",
              "    </tr>\n",
              "    <tr>\n",
              "      <th>Fundação Coordenação de Aperfeiçoamento de Pessoal de Nível Superior</th>\n",
              "      <td>0.191435</td>\n",
              "    </tr>\n",
              "    <tr>\n",
              "      <th>Empresa Brasileira de Serviços Hospitalares</th>\n",
              "      <td>0.189018</td>\n",
              "    </tr>\n",
              "    <tr>\n",
              "      <th>Fundação Universidade de Brasília</th>\n",
              "      <td>0.188535</td>\n",
              "    </tr>\n",
              "    <tr>\n",
              "      <th>Universidade Federal Rural do Rio de Janeiro</th>\n",
              "      <td>0.184909</td>\n",
              "    </tr>\n",
              "    <tr>\n",
              "      <th>Universidade Federal Rural de Pernambuco</th>\n",
              "      <td>0.183217</td>\n",
              "    </tr>\n",
              "    <tr>\n",
              "      <th>Instituto Federal do Pará</th>\n",
              "      <td>0.181646</td>\n",
              "    </tr>\n",
              "    <tr>\n",
              "      <th>Fundação Universidade Federal de Rondônia</th>\n",
              "      <td>0.177174</td>\n",
              "    </tr>\n",
              "    <tr>\n",
              "      <th>Universidade Federal da Bahia</th>\n",
              "      <td>0.174153</td>\n",
              "    </tr>\n",
              "    <tr>\n",
              "      <th>Instituto Federal de Minas Gerais</th>\n",
              "      <td>0.173791</td>\n",
              "    </tr>\n",
              "    <tr>\n",
              "      <th>Instituto Federal de Rondônia</th>\n",
              "      <td>0.172945</td>\n",
              "    </tr>\n",
              "    <tr>\n",
              "      <th>Instituto Federal Sul-rio-grandense</th>\n",
              "      <td>0.169802</td>\n",
              "    </tr>\n",
              "    <tr>\n",
              "      <th>Fundação Universidade Federal de Pelotas</th>\n",
              "      <td>0.169802</td>\n",
              "    </tr>\n",
              "    <tr>\n",
              "      <th>Universidade Federal de Pernambuco</th>\n",
              "      <td>0.169561</td>\n",
              "    </tr>\n",
              "    <tr>\n",
              "      <th>Fundação Universidade Federal do Pampa</th>\n",
              "      <td>0.168352</td>\n",
              "    </tr>\n",
              "    <tr>\n",
              "      <th>Instituto Federal do Tocantins</th>\n",
              "      <td>0.167989</td>\n",
              "    </tr>\n",
              "    <tr>\n",
              "      <th>Agência Nacional de Águas</th>\n",
              "      <td>0.167869</td>\n",
              "    </tr>\n",
              "    <tr>\n",
              "      <th>Universidade Federal de Alfenas</th>\n",
              "      <td>0.166177</td>\n",
              "    </tr>\n",
              "    <tr>\n",
              "      <th>Agência Nacional de Energia Elétrica</th>\n",
              "      <td>0.164243</td>\n",
              "    </tr>\n",
              "    <tr>\n",
              "      <th>Universidade Federal de Ouro Preto</th>\n",
              "      <td>0.160496</td>\n",
              "    </tr>\n",
              "    <tr>\n",
              "      <th>Universidade Federal do Ceará</th>\n",
              "      <td>0.160134</td>\n",
              "    </tr>\n",
              "    <tr>\n",
              "      <th>Instituto Federal de Educação, Ciência e Tecnologia de Goiás</th>\n",
              "      <td>0.160013</td>\n",
              "    </tr>\n",
              "    <tr>\n",
              "      <th>Instituto Federal do Sertão de Pernambuco</th>\n",
              "      <td>0.158684</td>\n",
              "    </tr>\n",
              "    <tr>\n",
              "      <th>Universidade Federal do Rio Grande do Sul</th>\n",
              "      <td>0.154816</td>\n",
              "    </tr>\n",
              "    <tr>\n",
              "      <th>Instituto Federal do Mato Grosso do Sul</th>\n",
              "      <td>0.148532</td>\n",
              "    </tr>\n",
              "    <tr>\n",
              "      <th>Universidade Federal de Viçosa</th>\n",
              "      <td>0.147927</td>\n",
              "    </tr>\n",
              "    <tr>\n",
              "      <th>Instituto Federal de Sergipe</th>\n",
              "      <td>0.146356</td>\n",
              "    </tr>\n",
              "    <tr>\n",
              "      <th>Instituto Federal do Triângulo Mineiro</th>\n",
              "      <td>0.144664</td>\n",
              "    </tr>\n",
              "    <tr>\n",
              "      <th>Instituto Federal do Sul de Minas Gerais</th>\n",
              "      <td>0.141764</td>\n",
              "    </tr>\n",
              "    <tr>\n",
              "      <th>Instituto Federal de Roraima</th>\n",
              "      <td>0.138984</td>\n",
              "    </tr>\n",
              "    <tr>\n",
              "      <th>Universidade Federal da Fronteira Sul</th>\n",
              "      <td>0.137413</td>\n",
              "    </tr>\n",
              "    <tr>\n",
              "      <th>Fundação Universidade Federal do Tocantins</th>\n",
              "      <td>0.135721</td>\n",
              "    </tr>\n",
              "    <tr>\n",
              "      <th>Universidade Federal do Oeste do Pará</th>\n",
              "      <td>0.134754</td>\n",
              "    </tr>\n",
              "    <tr>\n",
              "      <th>Agência Nacional de Transportes Aquaviários</th>\n",
              "      <td>0.133183</td>\n",
              "    </tr>\n",
              "    <tr>\n",
              "      <th>Universidade Federal dos Vales do Jequitinhonha e Mucuri</th>\n",
              "      <td>0.131854</td>\n",
              "    </tr>\n",
              "    <tr>\n",
              "      <th>Companhia Nacional de Abastecimento</th>\n",
              "      <td>0.123394</td>\n",
              "    </tr>\n",
              "    <tr>\n",
              "      <th>Instituto Federal da Bahia</th>\n",
              "      <td>0.123031</td>\n",
              "    </tr>\n",
              "    <tr>\n",
              "      <th>Universidade Federal de Itajubá</th>\n",
              "      <td>0.113846</td>\n",
              "    </tr>\n",
              "    <tr>\n",
              "      <th>Fundação Universidade Federal de Sergipe</th>\n",
              "      <td>0.111066</td>\n",
              "    </tr>\n",
              "    <tr>\n",
              "      <th>Fundação Universidade Federal do Mato Grosso</th>\n",
              "      <td>0.104540</td>\n",
              "    </tr>\n",
              "    <tr>\n",
              "      <th>Fundação Universidade Federal de São João Del-Rei</th>\n",
              "      <td>0.102606</td>\n",
              "    </tr>\n",
              "    <tr>\n",
              "      <th>Instituto Federal do Amazonas</th>\n",
              "      <td>0.102002</td>\n",
              "    </tr>\n",
              "    <tr>\n",
              "      <th>Instituto Federal do Acre</th>\n",
              "      <td>0.101881</td>\n",
              "    </tr>\n",
              "    <tr>\n",
              "      <th>Fundação Universidade Federal do Piauí</th>\n",
              "      <td>0.099706</td>\n",
              "    </tr>\n",
              "    <tr>\n",
              "      <th>Agência Nacional de Saúde Suplementar</th>\n",
              "      <td>0.097893</td>\n",
              "    </tr>\n",
              "    <tr>\n",
              "      <th>Universidade Federal do Rio de Janeiro</th>\n",
              "      <td>0.096564</td>\n",
              "    </tr>\n",
              "    <tr>\n",
              "      <th>Instituto Federal do Amapá</th>\n",
              "      <td>0.095959</td>\n",
              "    </tr>\n",
              "    <tr>\n",
              "      <th>Fundação Universidade Federal do ABC</th>\n",
              "      <td>0.095597</td>\n",
              "    </tr>\n",
              "    <tr>\n",
              "      <th>Universidade Federal do Sul e Sudeste do Pará</th>\n",
              "      <td>0.093542</td>\n",
              "    </tr>\n",
              "    <tr>\n",
              "      <th>VALEC Engenharia, Construções e Ferrovias S.A.</th>\n",
              "      <td>0.090279</td>\n",
              "    </tr>\n",
              "    <tr>\n",
              "      <th>Instituto Federal Fluminense</th>\n",
              "      <td>0.089071</td>\n",
              "    </tr>\n",
              "    <tr>\n",
              "      <th>Fundação Universidade Federal da Grande Dourados</th>\n",
              "      <td>0.088708</td>\n",
              "    </tr>\n",
              "    <tr>\n",
              "      <th>Fundação Universidade Federal do Acre</th>\n",
              "      <td>0.086654</td>\n",
              "    </tr>\n",
              "    <tr>\n",
              "      <th>Universidade Federal de Roraima</th>\n",
              "      <td>0.083390</td>\n",
              "    </tr>\n",
              "    <tr>\n",
              "      <th>Universidade Federal do Rio Grande</th>\n",
              "      <td>0.081336</td>\n",
              "    </tr>\n",
              "    <tr>\n",
              "      <th>Ministério de Minas e Energia - Unidades com vínculo direto</th>\n",
              "      <td>0.079402</td>\n",
              "    </tr>\n",
              "    <tr>\n",
              "      <th>Universidade Federal da Integração Latino-Americana</th>\n",
              "      <td>0.077469</td>\n",
              "    </tr>\n",
              "    <tr>\n",
              "      <th>Fundação Universidade Federal do Vale do São Francisco</th>\n",
              "      <td>0.075656</td>\n",
              "    </tr>\n",
              "    <tr>\n",
              "      <th>Fundação Nacional de Saúde</th>\n",
              "      <td>0.074689</td>\n",
              "    </tr>\n",
              "    <tr>\n",
              "      <th>Universidade Federal do Cariri</th>\n",
              "      <td>0.072513</td>\n",
              "    </tr>\n",
              "    <tr>\n",
              "      <th>Universidade Federal do Recôncavo da Bahia</th>\n",
              "      <td>0.071667</td>\n",
              "    </tr>\n",
              "    <tr>\n",
              "      <th>Fundação Universidade Federal do Amapá</th>\n",
              "      <td>0.069492</td>\n",
              "    </tr>\n",
              "    <tr>\n",
              "      <th>Instituto Brasileiro de Museus</th>\n",
              "      <td>0.066712</td>\n",
              "    </tr>\n",
              "    <tr>\n",
              "      <th>Fundo Nacional de Desenvolvimento da Educação</th>\n",
              "      <td>0.063328</td>\n",
              "    </tr>\n",
              "    <tr>\n",
              "      <th>Ministério do Turismo - Unidades com vínculo direto</th>\n",
              "      <td>0.061999</td>\n",
              "    </tr>\n",
              "    <tr>\n",
              "      <th>Superintendência do Desenvolvimento do Nordeste</th>\n",
              "      <td>0.061153</td>\n",
              "    </tr>\n",
              "    <tr>\n",
              "      <th>Empresa de Pesquisa Energética</th>\n",
              "      <td>0.059703</td>\n",
              "    </tr>\n",
              "    <tr>\n",
              "      <th>Universidade Federal Rural da Amazônia</th>\n",
              "      <td>0.057286</td>\n",
              "    </tr>\n",
              "    <tr>\n",
              "      <th>Fundação Universidade do Maranhão</th>\n",
              "      <td>0.056681</td>\n",
              "    </tr>\n",
              "    <tr>\n",
              "      <th>Universidade Federal do Oeste da Bahia</th>\n",
              "      <td>0.054868</td>\n",
              "    </tr>\n",
              "    <tr>\n",
              "      <th>Comissão de Valores Mobiliários</th>\n",
              "      <td>0.053177</td>\n",
              "    </tr>\n",
              "    <tr>\n",
              "      <th>Instituto Federal do Rio de Janeiro</th>\n",
              "      <td>0.051605</td>\n",
              "    </tr>\n",
              "    <tr>\n",
              "      <th>Universidade Federal do Sul da Bahia</th>\n",
              "      <td>0.050276</td>\n",
              "    </tr>\n",
              "    <tr>\n",
              "      <th>Instituto de Pesquisa Econômica Aplicada</th>\n",
              "      <td>0.049793</td>\n",
              "    </tr>\n",
              "    <tr>\n",
              "      <th>Universidade Federal do Triângulo Mineiro</th>\n",
              "      <td>0.047255</td>\n",
              "    </tr>\n",
              "    <tr>\n",
              "      <th>Fundação Universidade Federal de Ciências da Saúde de Porto Alegre</th>\n",
              "      <td>0.045925</td>\n",
              "    </tr>\n",
              "    <tr>\n",
              "      <th>Gabinete da Vice-Presidência da República</th>\n",
              "      <td>0.045442</td>\n",
              "    </tr>\n",
              "    <tr>\n",
              "      <th>Centro Federal de Educação Tecnológica Celso Suckow da Fonseca</th>\n",
              "      <td>0.040366</td>\n",
              "    </tr>\n",
              "    <tr>\n",
              "      <th>Conselho Administrativo de Defesa Econômica</th>\n",
              "      <td>0.034806</td>\n",
              "    </tr>\n",
              "    <tr>\n",
              "      <th>Superintendência da Zona Franca de Manaus</th>\n",
              "      <td>0.033598</td>\n",
              "    </tr>\n",
              "    <tr>\n",
              "      <th>Instituto Nacional da Propriedade Industrial</th>\n",
              "      <td>0.032631</td>\n",
              "    </tr>\n",
              "    <tr>\n",
              "      <th>Universidade Federal do Estado do Rio de Janeiro</th>\n",
              "      <td>0.029247</td>\n",
              "    </tr>\n",
              "    <tr>\n",
              "      <th>Fundação Joaquim Nabuco</th>\n",
              "      <td>0.028885</td>\n",
              "    </tr>\n",
              "    <tr>\n",
              "      <th>Agência Espacial Brasileira</th>\n",
              "      <td>0.028643</td>\n",
              "    </tr>\n",
              "    <tr>\n",
              "      <th>Fundação Escola Nacional de Administração Pública</th>\n",
              "      <td>0.028159</td>\n",
              "    </tr>\n",
              "    <tr>\n",
              "      <th>Fundação Nacional de Artes</th>\n",
              "      <td>0.027313</td>\n",
              "    </tr>\n",
              "    <tr>\n",
              "      <th>Superintendência do Desenvolvimento da Amazônia</th>\n",
              "      <td>0.027072</td>\n",
              "    </tr>\n",
              "    <tr>\n",
              "      <th>Universidade da Integração Internacional da Lusofonia Afro-Brasileira</th>\n",
              "      <td>0.026588</td>\n",
              "    </tr>\n",
              "    <tr>\n",
              "      <th>Superintendência de Seguros Privados</th>\n",
              "      <td>0.025984</td>\n",
              "    </tr>\n",
              "    <tr>\n",
              "      <th>Agência Nacional do Cinema</th>\n",
              "      <td>0.025259</td>\n",
              "    </tr>\n",
              "    <tr>\n",
              "      <th>Superintendência Nacional de Previdência Complementar</th>\n",
              "      <td>0.024775</td>\n",
              "    </tr>\n",
              "    <tr>\n",
              "      <th>Colégio Pedro II</th>\n",
              "      <td>0.023929</td>\n",
              "    </tr>\n",
              "    <tr>\n",
              "      <th>Fundação Cultural Palmares</th>\n",
              "      <td>0.022963</td>\n",
              "    </tr>\n",
              "    <tr>\n",
              "      <th>Fundação Jorge Duprat Figueiredo, de Segurança e Medicina do Trabalho</th>\n",
              "      <td>0.022117</td>\n",
              "    </tr>\n",
              "    <tr>\n",
              "      <th>Conselho Nacional de Desenvolvimento Científico e Tecnológico</th>\n",
              "      <td>0.021875</td>\n",
              "    </tr>\n",
              "    <tr>\n",
              "      <th>Universidade Federal de São Paulo</th>\n",
              "      <td>0.020787</td>\n",
              "    </tr>\n",
              "    <tr>\n",
              "      <th>Instituto de Pesquisas Jardim Botânico do Rio de Janeiro</th>\n",
              "      <td>0.017887</td>\n",
              "    </tr>\n",
              "    <tr>\n",
              "      <th>Fundação Casa de Rui Barbosa</th>\n",
              "      <td>0.015228</td>\n",
              "    </tr>\n",
              "    <tr>\n",
              "      <th>Centro Nacional de Tecnologia Eletrônica Avançada S.A.</th>\n",
              "      <td>0.011844</td>\n",
              "    </tr>\n",
              "    <tr>\n",
              "      <th>Fundação Alexandre de Gusmão</th>\n",
              "      <td>0.009789</td>\n",
              "    </tr>\n",
              "    <tr>\n",
              "      <th>Caixa de Financiamento Imobiliário da Aeronáutica</th>\n",
              "      <td>0.009789</td>\n",
              "    </tr>\n",
              "    <tr>\n",
              "      <th>Superintendência de Desenvolvimento do Centro-Oeste</th>\n",
              "      <td>0.007976</td>\n",
              "    </tr>\n",
              "    <tr>\n",
              "      <th>Instituto Federal de Brasília</th>\n",
              "      <td>0.007372</td>\n",
              "    </tr>\n",
              "    <tr>\n",
              "      <th>Fundação Biblioteca Nacional</th>\n",
              "      <td>0.006164</td>\n",
              "    </tr>\n",
              "    <tr>\n",
              "      <th>Instituto Nacional de Tecnologia da Informação</th>\n",
              "      <td>0.002901</td>\n",
              "    </tr>\n",
              "    <tr>\n",
              "      <th>Ministério da Ciência, Tecnologia e Inovação - Unidades com vínculo direto</th>\n",
              "      <td>0.000846</td>\n",
              "    </tr>\n",
              "  </tbody>\n",
              "</table>\n",
              "</div><br><label><b>dtype:</b> float64</label>"
            ]
          },
          "metadata": {}
        }
      ]
    },
    {
      "cell_type": "code",
      "source": [
        "# Verificando os cargos mais comuns quando o órgão está registrado como \"Sem informação\"\n",
        "\n",
        "cargosSemInformacao = df[df[\"Nome órgão solicitante\"] == \"Sem informação\"][\"Cargo\"].value_counts()\n",
        "print(cargosSemInformacao.head(20))"
      ],
      "metadata": {
        "colab": {
          "base_uri": "https://localhost:8080/"
        },
        "id": "FYd9RlkWxKGj",
        "outputId": "dd23abc1-0b41-4235-bb9f-c3906efec712"
      },
      "execution_count": 19,
      "outputs": [
        {
          "output_type": "stream",
          "name": "stdout",
          "text": [
            "Cargo\n",
            "AUDITOR-FISCAL DA RECEITA FEDERAL BRASIL    9965\n",
            "ANALISTA TRIBUTARIO REC FEDERAL BRASIL      8505\n",
            "AUDITOR FISCAL DO TRABALHO                  7760\n",
            "Informações protegidas por sigilo           5599\n",
            "AGENTE ADMINISTRATIVO                       2365\n",
            "MOTORISTA OFICIAL                           2018\n",
            "PROFESSOR DO MAGISTERIO SUPERIOR            1921\n",
            "ASSISTENTE TECNICO ADMINISTRATIVO           1825\n",
            "ESPECIALISTA EM RECURSOS MINERAIS           1762\n",
            "ANALISTA DE INFRA-ESTRUTURA                 1083\n",
            "TECNICO DO SEGURO SOCIAL                    1013\n",
            "ANALISTA DO BANCO CENTRAL                    654\n",
            "ESP. EM POL. PUBL. E GESTAO GOVERNAMENTA     646\n",
            "PROCURADOR DA FAZENDA                        619\n",
            "TECNOLOGISTA                                 519\n",
            "ASSISTENTE EM CIENCIA E TECNOLOGIA           512\n",
            "PESQUISADOR                                  464\n",
            "ENGENHEIRO                                   454\n",
            "ANALISTA TECNICO DE POLITICAS SOCIAIS        389\n",
            "ANALISTA EM CIENCIA E TECNOLOGIA             386\n",
            "Name: count, dtype: int64\n"
          ]
        }
      ]
    },
    {
      "cell_type": "markdown",
      "source": [],
      "metadata": {
        "id": "Jk4MawmzxJjb"
      }
    },
    {
      "cell_type": "markdown",
      "source": [
        "# 6 - Análise do atributo \"Período – Data de início\""
      ],
      "metadata": {
        "id": "X2LHi9JV1v_J"
      }
    },
    {
      "cell_type": "code",
      "source": [
        "print(df[\"Período - Data de início\"].isna().any()) # verificando se há valores NA"
      ],
      "metadata": {
        "colab": {
          "base_uri": "https://localhost:8080/"
        },
        "id": "MihdIese1yA3",
        "outputId": "8fa2c694-3ef2-40a7-e7c9-75995e5e9883"
      },
      "execution_count": 20,
      "outputs": [
        {
          "output_type": "stream",
          "name": "stdout",
          "text": [
            "False\n"
          ]
        }
      ]
    },
    {
      "cell_type": "code",
      "source": [
        "# Criação de uma nova coluna no dataframe no formato data: dataInicio\n",
        "\n",
        "df[\"dataInicio\"] = pd.to_datetime(df[\"Período - Data de início\"], format=\"%d/%m/%Y\")\n",
        "\n",
        "# Criação de uma nova coluna no dataframe com o mês de início da viagem\n",
        "\n",
        "df[\"mesInicio\"] = df[\"dataInicio\"].dt.month\n",
        "\n",
        "# Criação de uma nova coluna n odataframe com o ano de início da viagem\n",
        "\n",
        "df[\"anoInicio\"] = df[\"dataInicio\"].dt.year"
      ],
      "metadata": {
        "id": "jKQtd6sm2CPA"
      },
      "execution_count": 21,
      "outputs": []
    },
    {
      "cell_type": "code",
      "source": [
        "# Verificando se há diárias iniciadas no ano anterior\n",
        "\n",
        "contagemAnoInicio = df[\"anoInicio\"].value_counts()\n",
        "print(contagemAnoInicio)"
      ],
      "metadata": {
        "colab": {
          "base_uri": "https://localhost:8080/"
        },
        "id": "mdl2b0l-6SGG",
        "outputId": "84c49d4f-46b6-4316-e6f5-844b219b095b"
      },
      "execution_count": 22,
      "outputs": [
        {
          "output_type": "stream",
          "name": "stdout",
          "text": [
            "anoInicio\n",
            "2023    827433\n",
            "Name: count, dtype: int64\n"
          ]
        }
      ]
    },
    {
      "cell_type": "code",
      "source": [
        "# Contagem dos meses com maior frequência de diárias\n",
        "\n",
        "contagemMeses = df[\"mesInicio\"].value_counts().sort_index()\n",
        "print(contagemMeses)"
      ],
      "metadata": {
        "colab": {
          "base_uri": "https://localhost:8080/"
        },
        "id": "eY4Vljvq26yv",
        "outputId": "d2cc5a34-5361-4905-b0ec-8359ec9ab965"
      },
      "execution_count": 23,
      "outputs": [
        {
          "output_type": "stream",
          "name": "stdout",
          "text": [
            "mesInicio\n",
            "1      29938\n",
            "2      38566\n",
            "3      63013\n",
            "4      56927\n",
            "5      77809\n",
            "6      67777\n",
            "7      67772\n",
            "8      83317\n",
            "9      81806\n",
            "10     94047\n",
            "11    100408\n",
            "12     66053\n",
            "Name: count, dtype: int64\n"
          ]
        }
      ]
    },
    {
      "cell_type": "code",
      "source": [
        "# Plot de gráfico em barras com número de diárias solicitados por mês (em 2023)\n",
        "\n",
        "contagemMeses.plot(kind='bar')\n",
        "plt.title(\"Figura 3 - Gráfico de frequência de diárias por mês de início, no ano de 2023\")\n",
        "plt.xlabel(\"Mês de Início da Viagem\")\n",
        "plt.ylabel (\"Número de diárias solicitadas\")"
      ],
      "metadata": {
        "colab": {
          "base_uri": "https://localhost:8080/",
          "height": 493
        },
        "id": "SR6Us_Hy38yv",
        "outputId": "4a2db8d0-99fe-4bcf-8def-aab38e33a785"
      },
      "execution_count": 24,
      "outputs": [
        {
          "output_type": "execute_result",
          "data": {
            "text/plain": [
              "Text(0, 0.5, 'Número de diárias solicitadas')"
            ]
          },
          "metadata": {},
          "execution_count": 24
        },
        {
          "output_type": "display_data",
          "data": {
            "text/plain": [
              "<Figure size 640x480 with 1 Axes>"
            ],
            "image/png": "[encoded data removed]"
          },
          "metadata": {}
        }
      ]
    },
    {
      "cell_type": "code",
      "source": [],
      "metadata": {
        "id": "SNOUOqUl4EE3"
      },
      "execution_count": 24,
      "outputs": []
    },
    {
      "cell_type": "markdown",
      "source": [
        "# 7 - Análise do atributo \"Período - Data de fim\""
      ],
      "metadata": {
        "id": "rrpAdnkc4rxp"
      }
    },
    {
      "cell_type": "code",
      "source": [
        "print(df[\"Período - Data de fim\"].isna().any()) # verificando se há valores NA"
      ],
      "metadata": {
        "colab": {
          "base_uri": "https://localhost:8080/"
        },
        "id": "XHCeMrkw4vPe",
        "outputId": "58a287da-4055-4933-a77b-f9a054120144"
      },
      "execution_count": 25,
      "outputs": [
        {
          "output_type": "stream",
          "name": "stdout",
          "text": [
            "False\n"
          ]
        }
      ]
    },
    {
      "cell_type": "code",
      "source": [
        "# Criação de uma nova coluna no dataframe no formato data: dataFim\n",
        "\n",
        "df[\"dataFim\"] = pd.to_datetime(df[\"Período - Data de fim\"], format=\"%d/%m/%Y\")\n",
        "\n",
        "# Criação de uma nova coluna n odataframe com o ano de fim da viagem\n",
        "\n",
        "df[\"anoFim\"] = df[\"dataFim\"].dt.year"
      ],
      "metadata": {
        "id": "_YSkIw9M4xSO"
      },
      "execution_count": 26,
      "outputs": []
    },
    {
      "cell_type": "code",
      "source": [
        "# Verificando diárias encerradas no fim\n",
        "\n",
        "contagemAnoFim = df[\"anoFim\"].value_counts()\n",
        "print(contagemAnoFim)"
      ],
      "metadata": {
        "colab": {
          "base_uri": "https://localhost:8080/"
        },
        "id": "8hD8WqN55BSm",
        "outputId": "e9cbcf82-7119-4150-9aae-fff27ec3e2b0"
      },
      "execution_count": 27,
      "outputs": [
        {
          "output_type": "stream",
          "name": "stdout",
          "text": [
            "anoFim\n",
            "2023    825976\n",
            "2024      1457\n",
            "Name: count, dtype: int64\n"
          ]
        }
      ]
    },
    {
      "cell_type": "code",
      "source": [
        "df[\"anoFim\"].value_counts().plot(kind='pie', autopct='%1.2f%%') # Plotando gráfico da frequência da urgência de viagem e os valores com duas casas decimais\n",
        "plt.ylabel('') # Removendo o eixo y\n",
        "plt.title(\"Figura 4 - Ano de encerramento de viagens iniciadas em 2023\")"
      ],
      "metadata": {
        "colab": {
          "base_uri": "https://localhost:8080/",
          "height": 445
        },
        "id": "Td6RJDV_5Zc2",
        "outputId": "56e34ba9-3bbb-487a-e03f-57c687c1a1c2"
      },
      "execution_count": 28,
      "outputs": [
        {
          "output_type": "execute_result",
          "data": {
            "text/plain": [
              "Text(0.5, 1.0, 'Figura 4 - Ano de encerramento de viagens iniciadas em 2023')"
            ]
          },
          "metadata": {},
          "execution_count": 28
        },
        {
          "output_type": "display_data",
          "data": {
            "text/plain": [
              "<Figure size 640x480 with 1 Axes>"
            ],
            "image/png": "[encoded data removed]"
          },
          "metadata": {}
        }
      ]
    },
    {
      "cell_type": "markdown",
      "source": [
        "# 8 - Inserção de nova variável: Total de dias da viagem"
      ],
      "metadata": {
        "id": "6A6xZgQfCkGD"
      }
    },
    {
      "cell_type": "markdown",
      "source": [
        "Uma das informações que o dataset não contempla, porém podemos obter através do processamento de outros atributos, é o total de dias de viagem. Essa informação pode ser obtida verificando o número de dias decorrido entre a data de início e a data de fim da viagem."
      ],
      "metadata": {
        "id": "E352YSKRCsr5"
      }
    },
    {
      "cell_type": "code",
      "source": [
        "df[\"totalDiasViagem\"] = (df[\"dataFim\"] - df[\"dataInicio\"]).dt.days # Cálculo do total de dias de viagem"
      ],
      "metadata": {
        "id": "VbFgH3dOCrVx"
      },
      "execution_count": 29,
      "outputs": []
    },
    {
      "cell_type": "code",
      "source": [
        "print(f\"Média de dias de viagem: {df['totalDiasViagem'].mean():.2f}\") # Print da média de dias de viagem\n",
        "print(f\"Mediana de dias de viagem: {df['totalDiasViagem'].median():.2f}\") # Print da mediana de dias de viagem\n",
        "print(f\"Desvio padrão: {df['totalDiasViagem'].std():.2f}\") # Print do desvio padrão de dias de viagem"
      ],
      "metadata": {
        "colab": {
          "base_uri": "https://localhost:8080/"
        },
        "id": "B5W6JqxrDWBw",
        "outputId": "55473be5-b7aa-4868-f55b-9631835d0c38"
      },
      "execution_count": 30,
      "outputs": [
        {
          "output_type": "stream",
          "name": "stdout",
          "text": [
            "Média de dias de viagem: 5.90\n",
            "Mediana de dias de viagem: 3.00\n",
            "Desvio padrão: 18.07\n"
          ]
        }
      ]
    },
    {
      "cell_type": "code",
      "source": [
        "# Dividindo o número de dias de viagem por faixa\n",
        "\n",
        "bins = [-1, 5, 10, 50, 10000] # Faixas, utilizei o valor -1 pois a primeira faixa deve incluir também o valor ZERO\n",
        "labels = [\"Menos de 5 dias\", \"Entre 5 e 10 dias\", \"Entre 10 e 50 dias\", \"Mais de 50 dias\"] # Labels\n",
        "\n",
        "df[\"faixaDiasViagem\"] = pd.cut(df[\"totalDiasViagem\"], bins=bins, labels=labels) # Criação da nova coluna com a faixa de dias de viagem\n",
        "\n",
        "print(df[\"faixaDiasViagem\"].value_counts()) # Print da quantidade de viagens por faixa"
      ],
      "metadata": {
        "colab": {
          "base_uri": "https://localhost:8080/"
        },
        "id": "0phu5iqfDeeA",
        "outputId": "35ef993e-60df-4868-ff3d-cd6b474244b2"
      },
      "execution_count": 31,
      "outputs": [
        {
          "output_type": "stream",
          "name": "stdout",
          "text": [
            "faixaDiasViagem\n",
            "Menos de 5 dias       630184\n",
            "Entre 5 e 10 dias      95179\n",
            "Entre 10 e 50 dias     94167\n",
            "Mais de 50 dias         7903\n",
            "Name: count, dtype: int64\n"
          ]
        }
      ]
    },
    {
      "cell_type": "code",
      "source": [
        "# Calculando a amplitude do número de dias viajados\n",
        "\n",
        "print(df[\"totalDiasViagem\"].max())\n",
        "print(df[\"totalDiasViagem\"].min())"
      ],
      "metadata": {
        "colab": {
          "base_uri": "https://localhost:8080/"
        },
        "id": "wqbkAENZ3LHd",
        "outputId": "83b0ed77-0fb5-4ac4-91fb-ca4aaa38c151"
      },
      "execution_count": 32,
      "outputs": [
        {
          "output_type": "stream",
          "name": "stdout",
          "text": [
            "525\n",
            "0\n"
          ]
        }
      ]
    },
    {
      "cell_type": "code",
      "source": [
        "# Plot do gráfico de diárias por número de dias\n",
        "\n",
        "df[\"faixaDiasViagem\"].value_counts().plot(kind='bar')\n",
        "plt.title(\"Figura 5 - Quantidade de diárias emitidas por dias de afastamento para viagem a serviço\")\n",
        "plt.xlabel(\"Faixa\")\n",
        "plt.ylabel (\"Número de diárias solicitadas\")"
      ],
      "metadata": {
        "colab": {
          "base_uri": "https://localhost:8080/",
          "height": 602
        },
        "id": "eaANxbDJEU9I",
        "outputId": "43375bbb-7905-4300-8afa-a1aedb460640"
      },
      "execution_count": 33,
      "outputs": [
        {
          "output_type": "execute_result",
          "data": {
            "text/plain": [
              "Text(0, 0.5, 'Número de diárias solicitadas')"
            ]
          },
          "metadata": {},
          "execution_count": 33
        },
        {
          "output_type": "display_data",
          "data": {
            "text/plain": [
              "<Figure size 640x480 with 1 Axes>"
            ],
            "image/png": "[encoded data removed]"
          },
          "metadata": {}
        }
      ]
    },
    {
      "cell_type": "markdown",
      "source": [
        "# 9 - Percentual de viagens sigilosas"
      ],
      "metadata": {
        "id": "5mqwW7UkHWvh"
      }
    },
    {
      "cell_type": "markdown",
      "source": [
        "Através da análise de diferentes atributos do dataset, podemos verificar o percentual de viagens marcadas como sigilosas dentro do dataset."
      ],
      "metadata": {
        "id": "-IetYibMHjNu"
      }
    },
    {
      "cell_type": "code",
      "source": [
        "# Verificando os campos marcados com sigilo no atributo Destinos\n",
        "\n",
        "contagemSigilo = df[\"Destinos\"].value_counts().get(\"Informações protegidas por sigilo\")\n",
        "print(\"Número de linhas em Destinos marcadas com sigilo: \", contagemSigilo)\n",
        "\n",
        "# Verificando os campos marcados com sigilo no atributo Função\n",
        "\n",
        "contagemSigilo = df[\"Descrição Função\"].value_counts().get(\"Informações protegidas por sigilo\")\n",
        "print(\"Número de linhas em Descrição Função marcadas com sigilo: \", contagemSigilo)\n",
        "\n",
        "# Verificando os campos marcados com sigilo no atributo Cargo\n",
        "\n",
        "contagemSigilo = df[\"Cargo\"].value_counts().get(\"Informações protegidas por sigilo\")\n",
        "print(\"Número de linhas em Cargo marcadas com sigilo: \", contagemSigilo)"
      ],
      "metadata": {
        "colab": {
          "base_uri": "https://localhost:8080/"
        },
        "id": "Q6XFfWBmHaJ-",
        "outputId": "9477ca6c-f422-4114-e888-413d610d36d4"
      },
      "execution_count": 34,
      "outputs": [
        {
          "output_type": "stream",
          "name": "stdout",
          "text": [
            "Número de linhas em Destinos marcadas com sigilo:  118246\n",
            "Número de linhas em Descrição Função marcadas com sigilo:  118246\n",
            "Número de linhas em Cargo marcadas com sigilo:  118246\n"
          ]
        }
      ]
    },
    {
      "cell_type": "code",
      "source": [
        "# Criação de um novo atributo no dataset para definir se viagem é sigilosa: 'Sim' ou 'Não'\n",
        "\n",
        "df[\"Sigilo\"] = df[\"Destinos\"].apply(lambda x: \"Sim\" if x == \"Informações protegidas por sigilo\" else \"Não\")"
      ],
      "metadata": {
        "id": "ruEKOPZXIDqG"
      },
      "execution_count": 35,
      "outputs": []
    },
    {
      "cell_type": "code",
      "source": [
        "df[\"Sigilo\"].value_counts().plot(kind='pie', autopct='%1.2f%%') # Plot de gráfico em pizza para Sigilo da viagem\n",
        "plt.ylabel('') # Removendo o eixo y\n",
        "plt.title(\"Figura 6 - Frequência de viagens protegidas por sigilo\")"
      ],
      "metadata": {
        "colab": {
          "base_uri": "https://localhost:8080/",
          "height": 446
        },
        "id": "_kIalNt6KPbd",
        "outputId": "14bf174a-e509-4f80-d803-24c1fe868eb9"
      },
      "execution_count": 36,
      "outputs": [
        {
          "output_type": "execute_result",
          "data": {
            "text/plain": [
              "Text(0.5, 1.0, 'Figura 6 - Frequência de viagens protegidas por sigilo')"
            ]
          },
          "metadata": {},
          "execution_count": 36
        },
        {
          "output_type": "display_data",
          "data": {
            "text/plain": [
              "<Figure size 640x480 with 1 Axes>"
            ],
            "image/png": "[encoded data removed]"
          },
          "metadata": {}
        }
      ]
    },
    {
      "cell_type": "markdown",
      "source": [
        "# 10 - Análise do atributo \"Destinos\""
      ],
      "metadata": {
        "id": "E57lKsq0Ijb4"
      }
    },
    {
      "cell_type": "markdown",
      "source": [
        "A análise do atributo \"Destinos\" permite identificar quais são os destinos mais comuns em viagens a serviço na administração federal no ano de 2023."
      ],
      "metadata": {
        "id": "UTnXYQ_LIooG"
      }
    },
    {
      "cell_type": "code",
      "source": [
        "# Verificando os destinos mais frequentes em viagens a serviço\n",
        "\n",
        "print(\"Há valores NA? Resposta: \", df[\"Destinos\"].isna().any(), \"\\n\") # verificando se há valores NA dentro do campo \"Nome do órgão superior\"\n",
        "\n",
        "# Listando os destinos com maior número de solicitação de diárias\n",
        "\n",
        "print(\"Listando os destinos com maior número de solicitação de diárias: \\n\")\n",
        "destinosFrequentes = df[df[\"Sigilo\"] == \"Não\"][\"Destinos\"].value_counts() # Excluindo os dados sigilosos da seleção\n",
        "print(destinosFrequentes.head(20))"
      ],
      "metadata": {
        "colab": {
          "base_uri": "https://localhost:8080/"
        },
        "id": "DaLXkmA6Inn-",
        "outputId": "8a3de6ca-cf69-4952-f72a-091acf04deec"
      },
      "execution_count": 37,
      "outputs": [
        {
          "output_type": "stream",
          "name": "stdout",
          "text": [
            "Há valores NA? Resposta:  False \n",
            "\n",
            "Listando os destinos com maior número de solicitação de diárias: \n",
            "\n",
            "Destinos\n",
            "Brasília/DF               64320\n",
            "Rio de Janeiro/RJ         26254\n",
            "São Paulo/SP              24629\n",
            "São José dos Campos/SP    12289\n",
            "Salvador/BA                9009\n",
            "Belo Horizonte/MG          8690\n",
            "Curitiba/PR                8506\n",
            "Recife/PE                  8211\n",
            "Manaus/AM                  7407\n",
            "Porto Alegre/RS            7162\n",
            "Belém/PA                   6896\n",
            "Fortaleza/CE               6710\n",
            "Foz do Iguaçu/PR           6549\n",
            "Campo Grande/MS            6214\n",
            "Florianópolis/SC           5926\n",
            "Goiânia/GO                 5744\n",
            "Natal/RN                   5225\n",
            "João Pessoa/PB             4703\n",
            "Campinas/SP                4703\n",
            "Boa Vista/RR               4632\n",
            "Name: count, dtype: int64\n"
          ]
        }
      ]
    },
    {
      "cell_type": "code",
      "source": [],
      "metadata": {
        "id": "SpRPEd91I_Vm"
      },
      "execution_count": 37,
      "outputs": []
    },
    {
      "cell_type": "markdown",
      "source": [
        "# 11 - Análise do atributo \"Valor diárias\""
      ],
      "metadata": {
        "id": "h8aJdzll-Bui"
      }
    },
    {
      "cell_type": "code",
      "source": [
        "# Conversão do atributo \"Valor diárias\" de char para numérico\n",
        "df[\"Valor diárias\"] = df[\"Valor diárias\"].str.replace(',', '.').astype(float)\n",
        "# Print das primeiras linhas da coluna com tipo alterado para float\n",
        "print(df[\"Valor diárias\"])\n"
      ],
      "metadata": {
        "colab": {
          "base_uri": "https://localhost:8080/"
        },
        "id": "TeRVUVsw-D8f",
        "outputId": "d9bef523-3f8a-4c5c-be84-8eef1546a3d8"
      },
      "execution_count": 38,
      "outputs": [
        {
          "output_type": "stream",
          "name": "stdout",
          "text": [
            "0             0.00\n",
            "1             0.00\n",
            "2         39565.70\n",
            "3          1013.96\n",
            "4             0.00\n",
            "            ...   \n",
            "827428      606.89\n",
            "827429     1089.00\n",
            "827430      734.13\n",
            "827431      319.28\n",
            "827432        0.00\n",
            "Name: Valor diárias, Length: 827433, dtype: float64\n"
          ]
        }
      ]
    },
    {
      "cell_type": "code",
      "source": [
        "# Geração de principais métricas da variável de \"Valor diárias\"\n",
        "\n",
        "print(\"Valor máximo: \", df[\"Valor diárias\"].max())\n",
        "print(\"Valor mínimo: \", df[\"Valor diárias\"].min())\n",
        "print(\"Média: \", df[\"Valor diárias\"].mean())\n",
        "print(\"Mediana: \", df[\"Valor diárias\"].median())\n",
        "print(\"Variância: \", df[\"Valor diárias\"].var())\n",
        "print(\"Desvio padrão: \", df[\"Valor diárias\"].std())\n",
        "print(\"Existem NAs? R: \", df[\"Valor diárias\"].isna().any())\n"
      ],
      "metadata": {
        "colab": {
          "base_uri": "https://localhost:8080/"
        },
        "id": "wztHIqKV-Iev",
        "outputId": "fdf8e570-3539-4375-8b93-01fe7ac7359f"
      },
      "execution_count": 52,
      "outputs": [
        {
          "output_type": "stream",
          "name": "stdout",
          "text": [
            "Valor máximo:  175337.4\n",
            "Valor mínimo:  0.0\n",
            "Média:  1744.248531578992\n",
            "Mediana:  857.82\n",
            "Variância:  24264315.60436323\n",
            "Desvio padrão:  4925.882215843496\n",
            "Existem NAs? R:  False\n"
          ]
        }
      ]
    },
    {
      "cell_type": "code",
      "source": [
        "# Verificação de quartis e outliers\n",
        "\n",
        "Q1 = df[\"Valor diárias\"].quantile(0.25)\n",
        "print(\"Q1: \", Q1)\n",
        "Q3 = df[\"Valor diárias\"].quantile(0.75)\n",
        "print(\"Q3: \", Q3)\n",
        "IQR = Q3 - Q1\n",
        "\n",
        "P95 = df[\"Valor diárias\"].quantile(0.95)\n",
        "print(\"P95: \", P95)\n",
        "P99 = df[\"Valor diárias\"].quantile(0.99)\n",
        "print(\"P99: \", P99)\n",
        "\n",
        "limiteInferior = Q1 - 1.5 * IQR\n",
        "print(\"Limite inferior: \", limiteInferior)\n",
        "limiteSuperior = Q3 + 1.5 * IQR\n",
        "print(\"Limite superior: \", limiteSuperior)\n",
        "\n",
        "outliers = df[(df[\"Valor diárias\"] > limiteSuperior)]\n",
        "print(len(outliers))"
      ],
      "metadata": {
        "colab": {
          "base_uri": "https://localhost:8080/"
        },
        "id": "PRFd3O4v_ZPP",
        "outputId": "c2b1df48-ba9f-45e7-d9d3-78334ee278ee"
      },
      "execution_count": 40,
      "outputs": [
        {
          "output_type": "stream",
          "name": "stdout",
          "text": [
            "Q1:  265.5\n",
            "Q3:  1629.59\n",
            "P95:  5378.669999999897\n",
            "P99:  15916.85\n",
            "Limite inferior:  -1780.6349999999998\n",
            "Limite superior:  3675.7249999999995\n",
            "80116\n"
          ]
        }
      ]
    },
    {
      "cell_type": "code",
      "source": [
        "# Plot da curva de densidade\n",
        "\n",
        "plt.hist(df[\"Valor diárias\"], bins=30, density=True, alpha=0.6, color='b', edgecolor=\"black\")\n",
        "df[\"Valor diárias\"].plot(kind='kde',linewidth=2,color='red')\n",
        "plt.title(\"Figura 7 - Curva de densidade do valor das diárias\") # Título do gráfico\n",
        "plt.xlabel(\"Valor diárias\") # Título do eixo x\n",
        "plt.ylabel(\"Densidade\") # Título do eixo y\n",
        "plt.xlim(left=0) # Ocultando valores negativos\n",
        "plt.xlim(right=200000) # Limite do eixo x\n",
        "plt.show()"
      ],
      "metadata": {
        "colab": {
          "base_uri": "https://localhost:8080/",
          "height": 472
        },
        "id": "eQ9vEJ5AAELI",
        "outputId": "493bfb11-d9a9-4470-c8ed-2e912e1c1d0d"
      },
      "execution_count": 41,
      "outputs": [
        {
          "output_type": "display_data",
          "data": {
            "text/plain": [
              "<Figure size 640x480 with 1 Axes>"
            ],
            "image/png": "[encoded data removed]"
          },
          "metadata": {}
        }
      ]
    },
    {
      "cell_type": "code",
      "source": [
        "# Verificando valor pago de diárias por faixa\n",
        "\n",
        "bins = [-1, 500, 1000, 10000, 100000, 1000000] # Faixas, utilizei o valor -1 pois a primeira faixa deve incluir também o valor ZERO\n",
        "labels = [\"Menos de 500 reais\", \"Entre 500 e 1000 reais\", \"Entre 1000 e 10000 reais\", \"Entre 10000 e 100000 reais\", \"Mais de 100000 reais\"] # Labels\n",
        "\n",
        "df[\"faixaValorDiaria\"] = pd.cut(df[\"Valor diárias\"], bins=bins, labels=labels) # Criação da nova coluna com a faixa de valor pago em diárias\n",
        "\n",
        "print(df[\"faixaValorDiaria\"].value_counts()) # Print da quantidade de diárias por faixa\n",
        "print(df[\"faixaValorDiaria\"].value_counts(normalize = True)*100) # Print da quantidade de diárias por faixa (percentual)"
      ],
      "metadata": {
        "colab": {
          "base_uri": "https://localhost:8080/"
        },
        "id": "UOhr0VpKC-8o",
        "outputId": "91144ddb-ef65-49e8-f3ae-8c9013193c70"
      },
      "execution_count": 42,
      "outputs": [
        {
          "output_type": "stream",
          "name": "stdout",
          "text": [
            "faixaValorDiaria\n",
            "Entre 1000 e 10000 reais      350106\n",
            "Menos de 500 reais            301549\n",
            "Entre 500 e 1000 reais        157846\n",
            "Entre 10000 e 100000 reais     17589\n",
            "Mais de 100000 reais             343\n",
            "Name: count, dtype: int64\n",
            "faixaValorDiaria\n",
            "Entre 1000 e 10000 reais      42.312308\n",
            "Menos de 500 reais            36.443918\n",
            "Entre 500 e 1000 reais        19.076590\n",
            "Entre 10000 e 100000 reais     2.125731\n",
            "Mais de 100000 reais           0.041454\n",
            "Name: proportion, dtype: float64\n"
          ]
        }
      ]
    },
    {
      "cell_type": "code",
      "source": [],
      "metadata": {
        "id": "o4jOT8wLJJfz"
      },
      "execution_count": 42,
      "outputs": []
    },
    {
      "cell_type": "markdown",
      "source": [
        "# 12 - Análise do atributo \"Valor passagens\""
      ],
      "metadata": {
        "id": "0vcI-zHJtm1Z"
      }
    },
    {
      "cell_type": "code",
      "source": [
        "# Conversão do atributo \"Valor passagens\" de char para numérico\n",
        "df[\"Valor passagens\"] = df[\"Valor passagens\"].str.replace(',', '.').astype(float)\n",
        "# Print das primeiras linhas da coluna com tipo alterado para float\n",
        "print(df[\"Valor passagens\"])"
      ],
      "metadata": {
        "colab": {
          "base_uri": "https://localhost:8080/"
        },
        "id": "O4Rmfe5Oto6H",
        "outputId": "7a65b605-d89f-4f58-9f6d-73cce5470572"
      },
      "execution_count": 43,
      "outputs": [
        {
          "output_type": "stream",
          "name": "stdout",
          "text": [
            "0             0.00\n",
            "1             0.00\n",
            "2          7434.13\n",
            "3             0.00\n",
            "4         14903.10\n",
            "            ...   \n",
            "827428     3331.29\n",
            "827429     1837.18\n",
            "827430     4555.95\n",
            "827431     3745.53\n",
            "827432     2961.55\n",
            "Name: Valor passagens, Length: 827433, dtype: float64\n"
          ]
        }
      ]
    },
    {
      "cell_type": "code",
      "source": [
        "# Geração de principais métricas da variável de \"Valor passagens\"\n",
        "\n",
        "print(\"Valor máximo: \", df[\"Valor passagens\"].max())\n",
        "print(\"Valor mínimo: \", df[\"Valor passagens\"].min())\n",
        "print(\"Média: \", df[\"Valor passagens\"].mean())\n",
        "print(\"Mediana: \", df[\"Valor passagens\"].median())\n",
        "print(\"Variância: \", df[\"Valor passagens\"].var())\n",
        "print(\"Desvio padrão: \", df[\"Valor passagens\"].std())\n",
        "print(\"Existem NAs? R: \", df[\"Valor passagens\"].isna().any())"
      ],
      "metadata": {
        "colab": {
          "base_uri": "https://localhost:8080/"
        },
        "id": "dZ1aWWIltywo",
        "outputId": "6d9066b4-6afe-45d0-bbce-51d714636d63"
      },
      "execution_count": 53,
      "outputs": [
        {
          "output_type": "stream",
          "name": "stdout",
          "text": [
            "Valor máximo:  186723.29\n",
            "Valor mínimo:  0.0\n",
            "Média:  1023.8626121994168\n",
            "Mediana:  0.0\n",
            "Variância:  6523803.644976635\n",
            "Desvio padrão:  2554.1737695342176\n",
            "Existem NAs? R:  False\n"
          ]
        }
      ]
    },
    {
      "cell_type": "code",
      "source": [
        "# Verificação de quartis e outliers\n",
        "\n",
        "Q1 = df[\"Valor passagens\"].quantile(0.25)\n",
        "print(\"Q1: \", Q1)\n",
        "Q3 = df[\"Valor passagens\"].quantile(0.75)\n",
        "print(\"Q3: \", Q3)\n",
        "IQR = Q3 - Q1\n",
        "\n",
        "P95 = df[\"Valor passagens\"].quantile(0.95)\n",
        "print(\"P95: \", P95)\n",
        "P99 = df[\"Valor passagens\"].quantile(0.99)\n",
        "print(\"P99: \", P99)\n",
        "\n",
        "limiteInferior = Q1 - 1.5 * IQR\n",
        "print(\"Limite inferior: \", limiteInferior)\n",
        "limiteSuperior = Q3 + 1.5 * IQR\n",
        "print(\"Limite superior: \", limiteSuperior)\n",
        "\n",
        "outliers = df[(df[\"Valor passagens\"] > limiteSuperior)]\n",
        "print(len(outliers))"
      ],
      "metadata": {
        "colab": {
          "base_uri": "https://localhost:8080/"
        },
        "id": "14bnJJisuZ1o",
        "outputId": "c4057a14-a56e-4417-ba69-9ae6431f13b6"
      },
      "execution_count": 45,
      "outputs": [
        {
          "output_type": "stream",
          "name": "stdout",
          "text": [
            "Q1:  0.0\n",
            "Q3:  1360.51\n",
            "P95:  4934.31\n",
            "P99:  9597.334799999977\n",
            "Limite inferior:  -2040.7649999999999\n",
            "Limite superior:  3401.2749999999996\n",
            "90095\n"
          ]
        }
      ]
    },
    {
      "cell_type": "code",
      "source": [
        "# Plot da curva de densidade\n",
        "\n",
        "plt.hist(df[\"Valor passagens\"], bins=30, density=True, alpha=0.6, color='b', edgecolor=\"black\")\n",
        "df[\"Valor passagens\"].plot(kind='kde',linewidth=2,color='red')\n",
        "plt.title(\"Figura 8 - Curva de densidade do valor das passagens\") # Título do gráfico\n",
        "plt.xlabel(\"Valor passagens\") # Título do eixo x\n",
        "plt.ylabel(\"Densidade\") # Título do eixo y\n",
        "plt.xlim(left=0) # Ocultando valores negativos\n",
        "plt.xlim(right=10000) # Limite do eixo x\n",
        "plt.show()"
      ],
      "metadata": {
        "colab": {
          "base_uri": "https://localhost:8080/",
          "height": 472
        },
        "id": "dfhWnXhBvCeI",
        "outputId": "61cfd6a2-5578-4182-f9c9-225af5e34d8b"
      },
      "execution_count": 48,
      "outputs": [
        {
          "output_type": "display_data",
          "data": {
            "text/plain": [
              "<Figure size 640x480 with 1 Axes>"
            ],
            "image/png": "[encoded data removed]"
          },
          "metadata": {}
        }
      ]
    },
    {
      "cell_type": "code",
      "source": [
        "# Verificando valor pago de passagens por faixa\n",
        "\n",
        "bins = [-1, 500, 1000, 10000, 100000, 1000000] # Faixas, utilizei o valor -1 pois a primeira faixa deve incluir também o valor ZERO\n",
        "labels = [\"Menos de 500 reais\", \"Entre 500 e 1000 reais\", \"Entre 1000 e 10000 reais\", \"Entre 10000 e 100000 reais\", \"Mais de 100000 reais\"] # Labels\n",
        "\n",
        "df[\"faixaValorPassagem\"] = pd.cut(df[\"Valor passagens\"], bins=bins, labels=labels) # Criação da nova coluna com a faixa de valor pago em passagens\n",
        "\n",
        "print(df[\"faixaValorPassagem\"].value_counts()) # Print da quantidade de passagens por faixa\n",
        "print(df[\"faixaValorPassagem\"].value_counts(normalize = True)*100) # Print da quantidade de valores de passagens por faixa (percentual)"
      ],
      "metadata": {
        "colab": {
          "base_uri": "https://localhost:8080/"
        },
        "id": "j4i5Y-pAvnYP",
        "outputId": "33a0e5f6-70eb-461c-c201-26bbb311906d"
      },
      "execution_count": 49,
      "outputs": [
        {
          "output_type": "stream",
          "name": "stdout",
          "text": [
            "faixaValorPassagem\n",
            "Menos de 500 reais            589180\n",
            "Entre 1000 e 10000 reais      216732\n",
            "Entre 500 e 1000 reais         13805\n",
            "Entre 10000 e 100000 reais      7699\n",
            "Mais de 100000 reais              17\n",
            "Name: count, dtype: int64\n",
            "faixaValorPassagem\n",
            "Menos de 500 reais            71.205765\n",
            "Entre 1000 e 10000 reais      26.193299\n",
            "Entre 500 e 1000 reais         1.668413\n",
            "Entre 10000 e 100000 reais     0.930468\n",
            "Mais de 100000 reais           0.002055\n",
            "Name: proportion, dtype: float64\n"
          ]
        }
      ]
    },
    {
      "cell_type": "code",
      "source": [],
      "metadata": {
        "id": "irGEim7XwrHg"
      },
      "execution_count": null,
      "outputs": []
    },
    {
      "cell_type": "markdown",
      "source": [
        "# 13 - Análise do atributo \"Valor devolução\""
      ],
      "metadata": {
        "id": "W5qBqc28xNSh"
      }
    },
    {
      "cell_type": "code",
      "source": [
        "# Conversão do atributo \"Valor devolução\" de char para numérico\n",
        "df[\"Valor devolução\"] = df[\"Valor devolução\"].str.replace(',', '.').astype(float)\n",
        "# Print das primeiras linhas da coluna com tipo alterado para float\n",
        "print(df[\"Valor devolução\"])"
      ],
      "metadata": {
        "colab": {
          "base_uri": "https://localhost:8080/"
        },
        "id": "dtqAWDMyxS0g",
        "outputId": "224339a6-d2b8-4ddd-a2a0-0f7d578c8ff8"
      },
      "execution_count": 50,
      "outputs": [
        {
          "output_type": "stream",
          "name": "stdout",
          "text": [
            "0         0.0\n",
            "1         0.0\n",
            "2         0.0\n",
            "3         0.0\n",
            "4         0.0\n",
            "         ... \n",
            "827428    0.0\n",
            "827429    0.0\n",
            "827430    0.0\n",
            "827431    0.0\n",
            "827432    0.0\n",
            "Name: Valor devolução, Length: 827433, dtype: float64\n"
          ]
        }
      ]
    },
    {
      "cell_type": "code",
      "source": [
        "# Geração de principais métricas da variável de \"Valor devolução\"\n",
        "\n",
        "print(\"Valor máximo: \", df[\"Valor devolução\"].max())\n",
        "print(\"Valor mínimo: \", df[\"Valor devolução\"].min())\n",
        "print(\"Média: \", df[\"Valor devolução\"].mean())\n",
        "print(\"Mediana: \", df[\"Valor devolução\"].median())\n",
        "print(\"Variância: \", df[\"Valor devolução\"].var())\n",
        "print(\"Desvio padrão: \", df[\"Valor devolução\"].std())\n",
        "print(\"Existem NAs? R: \", df[\"Valor devolução\"].isna().any())"
      ],
      "metadata": {
        "colab": {
          "base_uri": "https://localhost:8080/"
        },
        "id": "LrMNGhzhxZ7g",
        "outputId": "6df5c4ac-b3a7-497f-fc22-2a5b3a1589c5"
      },
      "execution_count": 54,
      "outputs": [
        {
          "output_type": "stream",
          "name": "stdout",
          "text": [
            "Valor máximo:  38884.71\n",
            "Valor mínimo:  0.0\n",
            "Média:  23.735638208773402\n",
            "Mediana:  0.0\n",
            "Variância:  79574.14264684207\n",
            "Desvio padrão:  282.08889139213204\n",
            "Existem NAs? R:  False\n"
          ]
        }
      ]
    },
    {
      "cell_type": "code",
      "source": [
        "# Verificação de valores zerados no atributo \"Valor devolução\"\n",
        "\n",
        "valoresZerados = df[df[\"Valor devolução\"] == 0]\n",
        "print(len(valoresZerados))\n",
        "len(df)\n",
        "print(len(valoresZerados)/len(df))"
      ],
      "metadata": {
        "colab": {
          "base_uri": "https://localhost:8080/"
        },
        "id": "8Xx2ZEutxgxg",
        "outputId": "7d4b8938-bdd9-430a-b3db-ff1ef0f82f2e"
      },
      "execution_count": 62,
      "outputs": [
        {
          "output_type": "stream",
          "name": "stdout",
          "text": [
            "801064\n",
            "0.9681315586881355\n"
          ]
        }
      ]
    },
    {
      "cell_type": "code",
      "source": [
        "# Verificando valor pago de devolução por faixa\n",
        "\n",
        "bins = [-1, 0, 1000, 10000, 100000, 1000000] # Faixas, utilizei o valor -1 pois a primeira faixa deve incluir também o valor ZERO\n",
        "labels = [\"Nenhum valor a ser devolvido\", \"Até 1000 reais\", \"Entre 1000 e 10000 reais\", \"Entre 10000 e 100000 reais\", \"Mais de 100000 reais\"] # Labels\n",
        "\n",
        "df[\"faixaValorDevolucao\"] = pd.cut(df[\"Valor devolução\"], bins=bins, labels=labels) # Criação da nova coluna com a faixa de valor pago em devolução\n",
        "\n",
        "print(df[\"faixaValorDevolucao\"].value_counts()) # Print da quantidade de valores de devolução por faixa\n",
        "print(df[\"faixaValorDevolucao\"].value_counts(normalize = True)*100) # Print da quantidade de valores de devolução por faixa (percentual)"
      ],
      "metadata": {
        "colab": {
          "base_uri": "https://localhost:8080/"
        },
        "id": "i-5WIN2RzxQA",
        "outputId": "a1e04517-f91f-4c3f-b793-e3f6dde1a056"
      },
      "execution_count": 65,
      "outputs": [
        {
          "output_type": "stream",
          "name": "stdout",
          "text": [
            "faixaValorDevolucao\n",
            "Nenhum valor a ser devolvido    801064\n",
            "Até 1000 reais                   20855\n",
            "Entre 1000 e 10000 reais          5404\n",
            "Entre 10000 e 100000 reais         110\n",
            "Mais de 100000 reais                 0\n",
            "Name: count, dtype: int64\n",
            "faixaValorDevolucao\n",
            "Nenhum valor a ser devolvido    96.813156\n",
            "Até 1000 reais                   2.520446\n",
            "Entre 1000 e 10000 reais         0.653104\n",
            "Entre 10000 e 100000 reais       0.013294\n",
            "Mais de 100000 reais             0.000000\n",
            "Name: proportion, dtype: float64\n"
          ]
        }
      ]
    },
    {
      "cell_type": "code",
      "source": [],
      "metadata": {
        "id": "oymgpncS0Fwo"
      },
      "execution_count": null,
      "outputs": []
    },
    {
      "cell_type": "markdown",
      "source": [
        "# 14 - Análise do atributo \"Valor outros gastos\""
      ],
      "metadata": {
        "id": "NNZM7HN90uaT"
      }
    },
    {
      "cell_type": "code",
      "source": [
        "# Conversão do atributo \"Valor outros gastos\" de char para numérico\n",
        "df[\"Valor outros gastos\"] = df[\"Valor outros gastos\"].str.replace(',', '.').astype(float)\n",
        "# Print das primeiras linhas da coluna com tipo alterado para float\n",
        "print(df[\"Valor outros gastos\"])"
      ],
      "metadata": {
        "colab": {
          "base_uri": "https://localhost:8080/"
        },
        "id": "8XG4Mz2W1GZB",
        "outputId": "63223095-66a6-4961-f508-eb89ba31e9f2"
      },
      "execution_count": 66,
      "outputs": [
        {
          "output_type": "stream",
          "name": "stdout",
          "text": [
            "0            0.00\n",
            "1            0.00\n",
            "2         1095.35\n",
            "3            0.00\n",
            "4            0.00\n",
            "           ...   \n",
            "827428       0.00\n",
            "827429       0.00\n",
            "827430       0.00\n",
            "827431     400.00\n",
            "827432       0.00\n",
            "Name: Valor outros gastos, Length: 827433, dtype: float64\n"
          ]
        }
      ]
    },
    {
      "cell_type": "code",
      "source": [
        "# Geração de principais métricas da variável de \"Valor outros gastos\"\n",
        "\n",
        "print(\"Valor máximo: \", df[\"Valor outros gastos\"].max())\n",
        "print(\"Valor mínimo: \", df[\"Valor outros gastos\"].min())\n",
        "print(\"Média: \", df[\"Valor outros gastos\"].mean())\n",
        "print(\"Mediana: \", df[\"Valor outros gastos\"].median())\n",
        "print(\"Variância: \", df[\"Valor outros gastos\"].var())\n",
        "print(\"Desvio padrão: \", df[\"Valor outros gastos\"].std())\n",
        "print(\"Existem NAs? R: \", df[\"Valor outros gastos\"].isna().any())"
      ],
      "metadata": {
        "colab": {
          "base_uri": "https://localhost:8080/"
        },
        "id": "x1lRciCf1MhZ",
        "outputId": "a57c1bd8-25c3-465a-c6aa-140416631543"
      },
      "execution_count": 67,
      "outputs": [
        {
          "output_type": "stream",
          "name": "stdout",
          "text": [
            "Valor máximo:  59668.18\n",
            "Valor mínimo:  0.0\n",
            "Média:  16.39529513567866\n",
            "Mediana:  0.0\n",
            "Variância:  23170.613245779896\n",
            "Desvio padrão:  152.21896480327246\n",
            "Existem NAs? R:  False\n"
          ]
        }
      ]
    },
    {
      "cell_type": "code",
      "source": [
        "# Verificação de valores zerados no atributo \"Valor outros gastos\"\n",
        "\n",
        "valoresZerados = df[df[\"Valor outros gastos\"] == 0]\n",
        "print(len(valoresZerados))\n",
        "len(df)\n",
        "print(len(valoresZerados)/len(df))"
      ],
      "metadata": {
        "colab": {
          "base_uri": "https://localhost:8080/"
        },
        "id": "-suVAM711SY5",
        "outputId": "d94b6105-aec2-4d7d-cbb5-58802bc742d4"
      },
      "execution_count": 68,
      "outputs": [
        {
          "output_type": "stream",
          "name": "stdout",
          "text": [
            "790437\n",
            "0.9552882227322333\n"
          ]
        }
      ]
    },
    {
      "cell_type": "code",
      "source": [
        "# Verificando valor pago de outros gastos por faixa\n",
        "\n",
        "bins = [-1, 0, 1000, 10000, 100000] # Faixas, utilizei o valor -1 pois a primeira faixa deve incluir também o valor ZERO\n",
        "labels = [\"Nenhum valor com outros gastos\", \"Até 1000 reais\", \"Entre 1000 e 10000 reais\", \"Acima de 10000 reais\"] # Labels\n",
        "\n",
        "df[\"faixaValorOutrosGastos\"] = pd.cut(df[\"Valor outros gastos\"], bins=bins, labels=labels) # Criação da nova coluna com a faixa de valor pago em outros gastos\n",
        "\n",
        "print(df[\"faixaValorOutrosGastos\"].value_counts()) # Print da quantidade de valores de outros gastos por faixa\n",
        "print(df[\"faixaValorOutrosGastos\"].value_counts(normalize = True)*100) # Print da quantidade de valores de outros gastos por faixa (percentual)"
      ],
      "metadata": {
        "colab": {
          "base_uri": "https://localhost:8080/"
        },
        "id": "qocYlI_e1r9p",
        "outputId": "4bbc03c2-7b9e-4c82-ecc2-6a895542da18"
      },
      "execution_count": 71,
      "outputs": [
        {
          "output_type": "stream",
          "name": "stdout",
          "text": [
            "faixaValorOutrosGastos\n",
            "Nenhum valor com outros gastos    790437\n",
            "Até 1000 reais                     34828\n",
            "Entre 1000 e 10000 reais            2164\n",
            "Acima de 10000 reais                   4\n",
            "Name: count, dtype: int64\n",
            "faixaValorOutrosGastos\n",
            "Nenhum valor com outros gastos    95.528822\n",
            "Até 1000 reais                     4.209163\n",
            "Entre 1000 e 10000 reais           0.261532\n",
            "Acima de 10000 reais               0.000483\n",
            "Name: proportion, dtype: float64\n"
          ]
        }
      ]
    },
    {
      "cell_type": "code",
      "source": [],
      "metadata": {
        "id": "eVvy_CSO2EDK"
      },
      "execution_count": null,
      "outputs": []
    },
    {
      "cell_type": "markdown",
      "source": [
        "# 15 - Matriz de correlações"
      ],
      "metadata": {
        "id": "uJjROMiB2oZV"
      }
    },
    {
      "cell_type": "code",
      "source": [
        "# Criação de matriz de correlações\n",
        "\n",
        "colunasSelecionadas = [\"totalDiasViagem\", \"Valor diárias\", \"Valor passagens\", \"Valor devolução\", \"Valor outros gastos\"]\n",
        "matrizCorrelacoes = df[colunasSelecionadas].corr()\n",
        "print(matrizCorrelacoes)"
      ],
      "metadata": {
        "colab": {
          "base_uri": "https://localhost:8080/"
        },
        "id": "G63JHlCQ2qEi",
        "outputId": "838852d2-2574-45fb-bc6d-c795347ae27f"
      },
      "execution_count": 76,
      "outputs": [
        {
          "output_type": "stream",
          "name": "stdout",
          "text": [
            "                     totalDiasViagem  Valor diárias  Valor passagens  \\\n",
            "totalDiasViagem             1.000000       0.893478         0.049662   \n",
            "Valor diárias               0.893478       1.000000         0.153769   \n",
            "Valor passagens             0.049662       0.153769         1.000000   \n",
            "Valor devolução             0.098000       0.140654         0.071968   \n",
            "Valor outros gastos         0.019534       0.099999         0.186786   \n",
            "\n",
            "                     Valor devolução  Valor outros gastos  \n",
            "totalDiasViagem             0.098000             0.019534  \n",
            "Valor diárias               0.140654             0.099999  \n",
            "Valor passagens             0.071968             0.186786  \n",
            "Valor devolução             1.000000             0.046338  \n",
            "Valor outros gastos         0.046338             1.000000  \n"
          ]
        }
      ]
    },
    {
      "cell_type": "code",
      "source": [],
      "metadata": {
        "id": "Z6nv2jUZ3Bnq"
      },
      "execution_count": 73,
      "outputs": []
    }
  ]
}
