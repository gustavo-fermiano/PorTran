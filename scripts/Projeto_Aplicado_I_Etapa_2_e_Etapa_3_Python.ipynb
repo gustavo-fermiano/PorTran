{
  "nbformat": 4,
  "nbformat_minor": 0,
  "metadata": {
    "colab": {
      "provenance": [],
      "toc_visible": true,
      "authorship_tag": "ABX9TyP0a3QTBeNf0HYaDYYAYPX5",
      "include_colab_link": true
    },
    "kernelspec": {
      "name": "python3",
      "display_name": "Python 3"
    },
    "language_info": {
      "name": "python"
    }
  },
  "cells": [
    {
      "cell_type": "markdown",
      "metadata": {
        "id": "view-in-github",
        "colab_type": "text"
      },
      "source": [
        "<a href=\"https://colab.research.google.com/github/gustavo-fermiano/PorTran/blob/main/Projeto_Aplicado_I_Etapa_2_e_Etapa_3_Python.ipynb\" target=\"_parent\"><img src=\"https://colab.research.google.com/assets/colab-badge.svg\" alt=\"Open In Colab\"/></a>"
      ]
    },
    {
      "cell_type": "markdown",
      "source": [
        "# Projeto Aplicado I - Etapa 2 e Etapa 3"
      ],
      "metadata": {
        "id": "2rZDqbpRg5eT"
      }
    },
    {
      "cell_type": "markdown",
      "source": [
        "**Nome: Gustavo José Fermiano - RA: 10440929 - Curso: Ciência de Dados - 2º semestre**"
      ],
      "metadata": {
        "id": "urH6KU80NF6V"
      }
    },
    {
      "cell_type": "markdown",
      "source": [
        "# 1 - Carregamento do dataframe"
      ],
      "metadata": {
        "id": "hHVetRsKpVFn"
      }
    },
    {
      "cell_type": "markdown",
      "source": [
        "Na primeira etapa faremos a instalação e importação das bibliotecas necessárias e o carregamento do arquivo *.csv para a plataforma Google Colab\n"
      ],
      "metadata": {
        "id": "4kQY6LrMkwga"
      }
    },
    {
      "cell_type": "code",
      "source": [
        "# Instalação da biblioteca pandas\n",
        "!pip install pandas"
      ],
      "metadata": {
        "id": "79bVLpmbhA_E",
        "colab": {
          "base_uri": "https://localhost:8080/"
        },
        "outputId": "e017ecfd-772f-4f61-adf2-5a78d7d96a33"
      },
      "execution_count": 82,
      "outputs": [
        {
          "output_type": "stream",
          "name": "stdout",
          "text": [
            "Requirement already satisfied: pandas in /usr/local/lib/python3.10/dist-packages (2.2.2)\n",
            "Requirement already satisfied: numpy>=1.22.4 in /usr/local/lib/python3.10/dist-packages (from pandas) (1.26.4)\n",
            "Requirement already satisfied: python-dateutil>=2.8.2 in /usr/local/lib/python3.10/dist-packages (from pandas) (2.8.2)\n",
            "Requirement already satisfied: pytz>=2020.1 in /usr/local/lib/python3.10/dist-packages (from pandas) (2024.2)\n",
            "Requirement already satisfied: tzdata>=2022.7 in /usr/local/lib/python3.10/dist-packages (from pandas) (2024.2)\n",
            "Requirement already satisfied: six>=1.5 in /usr/local/lib/python3.10/dist-packages (from python-dateutil>=2.8.2->pandas) (1.16.0)\n"
          ]
        }
      ]
    },
    {
      "cell_type": "code",
      "execution_count": 83,
      "metadata": {
        "id": "Dwjpup1zgyXj"
      },
      "outputs": [],
      "source": [
        "import pandas as pd # Importação da biblioteca Pandas"
      ]
    },
    {
      "cell_type": "code",
      "source": [
        "import matplotlib.pyplot as plt # Importação da biblioteca Matplotlib para plotar gráficos"
      ],
      "metadata": {
        "id": "LJD29zwXrmGu"
      },
      "execution_count": 84,
      "outputs": []
    },
    {
      "cell_type": "code",
      "source": [
        "# Importação do arquivo *.CSV a partir da plataforma Google Drive\n",
        "from google.colab import drive\n",
        "drive.mount('/content/drive')"
      ],
      "metadata": {
        "colab": {
          "base_uri": "https://localhost:8080/"
        },
        "id": "-R4VflwZiX7K",
        "outputId": "11c2f1f8-129b-4209-f6f3-f6cd0cc4c186"
      },
      "execution_count": 85,
      "outputs": [
        {
          "output_type": "stream",
          "name": "stdout",
          "text": [
            "Drive already mounted at /content/drive; to attempt to forcibly remount, call drive.mount(\"/content/drive\", force_remount=True).\n"
          ]
        }
      ]
    },
    {
      "cell_type": "code",
      "source": [
        "# Carregamento o arquivo CSV para o dataframe df\n",
        "df = pd.read_csv (\"/content/drive/MyDrive/2023_Viagem.csv\", encoding='latin1', sep=';')"
      ],
      "metadata": {
        "id": "c5nxX5cOnVHR"
      },
      "execution_count": 86,
      "outputs": []
    },
    {
      "cell_type": "code",
      "source": [
        "# Exibição das primeiras linhas do dataset\n",
        "print(df.head())"
      ],
      "metadata": {
        "colab": {
          "base_uri": "https://localhost:8080/"
        },
        "id": "67Ulrb_ciiGC",
        "outputId": "7c5ea521-f360-4ea0-90e2-c45885c21210"
      },
      "execution_count": 87,
      "outputs": [
        {
          "output_type": "stream",
          "name": "stdout",
          "text": [
            "   Identificador do processo de viagem Número da Proposta (PCDP)   Situação  \\\n",
            "0                             17821923              000001/23-1C  Realizada   \n",
            "1                             18236583                 000018/23  Realizada   \n",
            "2                             18288418              000007/23-1C  Realizada   \n",
            "3                             18296348                 000070/23  Realizada   \n",
            "4                             18302983                 000001/23  Realizada   \n",
            "\n",
            "  Viagem Urgente                      Justificativa Urgência Viagem  \\\n",
            "0            NÃO                                     Sem informação   \n",
            "1            NÃO                                     Sem informação   \n",
            "2            SIM                        Por necessidade do serviço.   \n",
            "3            SIM  A efetivação do empenho no Siafi e a respectiv...   \n",
            "4            NÃO                                     Sem informação   \n",
            "\n",
            "   Código do órgão superior  Nome do órgão superior  Código órgão solicitante  \\\n",
            "0                     26000  Ministério da Educação                     26352   \n",
            "1                     26000  Ministério da Educação                     26236   \n",
            "2                     52000    Ministério da Defesa                     52121   \n",
            "3                     26000  Ministério da Educação                     26406   \n",
            "4                     52000    Ministério da Defesa                     52111   \n",
            "\n",
            "                 Nome órgão solicitante    CPF viajante  ...      Função  \\\n",
            "0  Fundação Universidade Federal do ABC  ***.875.238-**  ...          -1   \n",
            "1       Universidade Federal Fluminense             NaN  ...          -1   \n",
            "2                   Comando do Exército  ***.621.358-**  ...  OfSuperior   \n",
            "3   Instituto Federal do Espírito Santo  ***.407.547-**  ...          -1   \n",
            "4                Comando da Aeronáutica  ***.855.388-**  ...  OfIntermed   \n",
            "\n",
            "  Descrição Função Período - Data de início Período - Data de fim  \\\n",
            "0   Sem informação               01/01/2023            02/12/2023   \n",
            "1   Sem informação               16/01/2023            28/02/2024   \n",
            "2       OfSuperior               10/01/2023            29/01/2023   \n",
            "3   Sem informação               05/02/2023            10/02/2023   \n",
            "4       OfIntermed               01/01/2023            07/07/2023   \n",
            "\n",
            "                              Destinos  \\\n",
            "0             Loughborough/Reino Unido   \n",
            "1                    Rio de Janeiro/RJ   \n",
            "2  Nova York/Estados Unidos da América   \n",
            "3                           Vitória/ES   \n",
            "4                    Gotemburgo/Suécia   \n",
            "\n",
            "                                              Motivo Valor diárias  \\\n",
            "0       Intercâmbio acadêmico PCDP anterior 07/21-3C          0,00   \n",
            "1  Afastamento para pós-graduação stricto sensu n...          0,00   \n",
            "2  Participar da revisão do COE Manual (Contingen...      39565,70   \n",
            "3  Participação das aulas de Mestrado Interinstit...       1013,96   \n",
            "4       PARTICIPAR DO CURSO DE PILOTO DE GRIPEN C/D.          0,00   \n",
            "\n",
            "  Valor passagens Valor devolução Valor outros gastos  \n",
            "0            0,00            0,00                0,00  \n",
            "1            0,00            0,00                0,00  \n",
            "2         7434,13            0,00             1095,35  \n",
            "3            0,00            0,00                0,00  \n",
            "4        14903,10            0,00                0,00  \n",
            "\n",
            "[5 rows x 22 columns]\n"
          ]
        }
      ]
    },
    {
      "cell_type": "code",
      "source": [
        "# Exibição do número de linhas e atributos do dataframe\n",
        "\n",
        "nrow, ncol = df.shape\n",
        "print(nrow) # Número de linhas\n",
        "print(ncol) # Número de colunas"
      ],
      "metadata": {
        "colab": {
          "base_uri": "https://localhost:8080/"
        },
        "id": "qActeVBfk8eh",
        "outputId": "d5c470db-8ad4-4cc4-965d-a61b1e63d625"
      },
      "execution_count": 88,
      "outputs": [
        {
          "output_type": "stream",
          "name": "stdout",
          "text": [
            "827433\n",
            "22\n"
          ]
        }
      ]
    },
    {
      "cell_type": "markdown",
      "source": [
        "# 2 - Análise do atributo \"Situação\""
      ],
      "metadata": {
        "id": "TknPyyW2pk9H"
      }
    },
    {
      "cell_type": "code",
      "source": [
        "# Verificação da contagem dos valores assumidos pelo atributo \"Situação\"\n",
        "\n",
        "contagemSituacao = df[\"Situação\"].value_counts()\n",
        "print(contagemSituacao)"
      ],
      "metadata": {
        "colab": {
          "base_uri": "https://localhost:8080/"
        },
        "id": "mCwHhIqapjg-",
        "outputId": "ee68c00f-2976-4a4b-91a8-6373e459dddb"
      },
      "execution_count": 89,
      "outputs": [
        {
          "output_type": "stream",
          "name": "stdout",
          "text": [
            "Situação\n",
            "Realizada        810735\n",
            "Não realizada     16698\n",
            "Name: count, dtype: int64\n"
          ]
        }
      ]
    },
    {
      "cell_type": "code",
      "source": [
        "percentualSituacao = df[\"Situação\"].value_counts(normalize=True) * 100 # Cálculo do percentual dos campos\n",
        "print(percentualSituacao)"
      ],
      "metadata": {
        "colab": {
          "base_uri": "https://localhost:8080/"
        },
        "id": "F1LGc56EqGYP",
        "outputId": "b0e9fe41-4a48-4491-81e9-42defd975711"
      },
      "execution_count": 90,
      "outputs": [
        {
          "output_type": "stream",
          "name": "stdout",
          "text": [
            "Situação\n",
            "Realizada        97.981951\n",
            "Não realizada     2.018049\n",
            "Name: proportion, dtype: float64\n"
          ]
        }
      ]
    },
    {
      "cell_type": "code",
      "source": [
        "counts = df[\"Situação\"].value_counts()\n",
        "percentages = counts / counts.sum() * 100\n",
        "\n",
        "# Criando gráfico em barras com valores totais e porcentagens\n",
        "ax = counts.plot(kind='bar', color=['blue', 'red'])\n",
        "\n",
        "# Adicionando percentuais\n",
        "for i, p in enumerate(ax.patches):\n",
        "    ax.text(p.get_x() + p.get_width() / 2, p.get_height(),\n",
        "            f'{percentages.iloc[i]:.2f}%', ha='center', va='bottom')\n",
        "\n",
        "# Título, rótulo do eixo y na vertical e rótulo do eixo x na horizontal\n",
        "plt.ylabel('Frequência')\n",
        "plt.title(\"Figura 1 - Gráfico de viagens realizadas e não realizadas\")\n",
        "plt.xticks(rotation=0)\n",
        "\n",
        "plt.show()"
      ],
      "metadata": {
        "colab": {
          "base_uri": "https://localhost:8080/",
          "height": 472
        },
        "id": "9sJS9UB6qvh2",
        "outputId": "ce6864ab-f53e-4992-b12b-49abcaf9df64"
      },
      "execution_count": 184,
      "outputs": [
        {
          "output_type": "display_data",
          "data": {
            "text/plain": [
              "<Figure size 640x480 with 1 Axes>"
            ],
            "image/png": "[encoded data removed]"
          },
          "metadata": {}
        }
      ]
    },
    {
      "cell_type": "markdown",
      "source": [
        "# 3 - Análise do atributo \"Urgência\""
      ],
      "metadata": {
        "id": "OLC7JPvdsTMG"
      }
    },
    {
      "cell_type": "code",
      "source": [
        "# Verificando contagem dos valores assumidos pelo atributo \"Viagem Urgente\"\n",
        "\n",
        "contagemUrgencia = df[\"Viagem Urgente\"].value_counts()\n",
        "print(contagemUrgencia)"
      ],
      "metadata": {
        "colab": {
          "base_uri": "https://localhost:8080/"
        },
        "id": "kVdHhNTssWL1",
        "outputId": "1503591f-c612-4320-b078-6df0fb871a6f"
      },
      "execution_count": 92,
      "outputs": [
        {
          "output_type": "stream",
          "name": "stdout",
          "text": [
            "Viagem Urgente\n",
            "SIM    513887\n",
            "NÃO    313546\n",
            "Name: count, dtype: int64\n"
          ]
        }
      ]
    },
    {
      "cell_type": "code",
      "source": [
        "percentualUrgencia = df[\"Viagem Urgente\"].value_counts(normalize=True) * 100 # Calculando o percentual dos campos\n",
        "print(percentualUrgencia)"
      ],
      "metadata": {
        "colab": {
          "base_uri": "https://localhost:8080/"
        },
        "id": "pF6WYA8UstCe",
        "outputId": "02426d4e-4b82-4f5d-860c-6f5fa78b5772"
      },
      "execution_count": 93,
      "outputs": [
        {
          "output_type": "stream",
          "name": "stdout",
          "text": [
            "Viagem Urgente\n",
            "SIM    62.106177\n",
            "NÃO    37.893823\n",
            "Name: proportion, dtype: float64\n"
          ]
        }
      ]
    },
    {
      "cell_type": "code",
      "source": [
        "counts = df[\"Viagem Urgente\"].value_counts()\n",
        "percentages = counts / counts.sum() * 100\n",
        "\n",
        "# Criando gráfico em barras com valores totais e porcentagens\n",
        "ax = counts.plot(kind='bar', color=['orange', 'green'])\n",
        "\n",
        "# Adicionando os percentuais\n",
        "for i, p in enumerate(ax.patches):\n",
        "    ax.text(p.get_x() + p.get_width() / 2, p.get_height() + 0.5,\n",
        "            f'{percentages.iloc[i]:.2f}%', ha='center', va='bottom')\n",
        "\n",
        "# Ajustando o título, rótulo do eixo y na vertical e rótulo do eixo x na horizontal\n",
        "plt.ylabel('Frequência')\n",
        "plt.title(\"Figura 2 - Gráfico de viagens de acordo com a situação de urgência\")\n",
        "plt.xticks(rotation=0)"
      ],
      "metadata": {
        "colab": {
          "base_uri": "https://localhost:8080/",
          "height": 489
        },
        "id": "r6i_13Q1synF",
        "outputId": "9601dd94-2b56-4e3a-cf7e-b4e04c34bcc1"
      },
      "execution_count": 185,
      "outputs": [
        {
          "output_type": "execute_result",
          "data": {
            "text/plain": [
              "(array([0, 1]), [Text(0, 0, 'SIM'), Text(1, 0, 'NÃO')])"
            ]
          },
          "metadata": {},
          "execution_count": 185
        },
        {
          "output_type": "display_data",
          "data": {
            "text/plain": [
              "<Figure size 640x480 with 1 Axes>"
            ],
            "image/png": "[encoded data removed]"
          },
          "metadata": {}
        }
      ]
    },
    {
      "cell_type": "code",
      "source": [],
      "metadata": {
        "id": "rIcc7Tlhs7EF"
      },
      "execution_count": 94,
      "outputs": []
    },
    {
      "cell_type": "markdown",
      "source": [
        "# 4 - Análise do atributo \"Nome do órgão superior\""
      ],
      "metadata": {
        "id": "IQocMz_PwZZM"
      }
    },
    {
      "cell_type": "code",
      "source": [
        "# Verificando os órgãos superiores com maior solicitação de diárias\n",
        "\n",
        "print(\"Há valores NA? Resposta: \", df[\"Nome do órgão superior\"].isna().any(), \"\\n\") # verificando se há valores NA dentro do campo \"Nome do órgão superior\"\n",
        "\n",
        "# Listando os órgãos superiores com maior número de solicitação de diárias\n",
        "\n",
        "print(\"Listando os órgãos superiores com maior número de solicitação de diárias: \\n\")\n",
        "orgaosFrequentes = df[\"Nome do órgão superior\"].value_counts()\n",
        "print(orgaosFrequentes)"
      ],
      "metadata": {
        "colab": {
          "base_uri": "https://localhost:8080/"
        },
        "id": "v3RdkZhYwc_q",
        "outputId": "ecacd743-80a5-49f6-84e4-a8cc00591244"
      },
      "execution_count": 95,
      "outputs": [
        {
          "output_type": "stream",
          "name": "stdout",
          "text": [
            "Há valores NA? Resposta:  False \n",
            "\n",
            "Listando os órgãos superiores com maior número de solicitação de diárias: \n",
            "\n",
            "Nome do órgão superior\n",
            "Ministério da Educação                                           172111\n",
            "Sem informação                                                   163710\n",
            "Ministério da Defesa                                             141907\n",
            "Ministério da Justiça e Segurança Pública                        110707\n",
            "Ministério do Meio Ambiente e Mudança do Clima                    42313\n",
            "Ministério do Planejamento e Orçamento                            33787\n",
            "Ministério da Agricultura e Pecuária                              28956\n",
            "Ministério da Saúde                                               21684\n",
            "Ministério da Previdência Social                                  19614\n",
            "Ministério dos Transportes                                        18065\n",
            "Ministério do Desenvolvimento Agrário e Agricultura Familiar      14417\n",
            "Presidência da República                                          13889\n",
            "Ministério dos Povos Indígenas                                     9134\n",
            "Ministério das Relações Exteriores                                 5718\n",
            "Ministério da Integração e do Desenvolvimento Regional             4407\n",
            "Ministério de Minas e Energia                                      4375\n",
            "Ministério da Cultura                                              3888\n",
            "Advocacia-Geral da União                                           3734\n",
            "Ministério das Comunicações                                        3460\n",
            "Ministério dos Direitos Humanos e Cidadania                        2893\n",
            "Ministério da Ciência, Tecnologia e Inovação                       2523\n",
            "Ministério do Desenvolvimento, Indústria, Comércio e Serviços      2470\n",
            "Controladoria-Geral da União                                       2087\n",
            "Ministério da Fazenda                                               655\n",
            "Ministério do Turismo                                               513\n",
            "Ministério da Gestão e da Inovação em Serviços Públicos             233\n",
            "Ministério do Trabalho e Emprego                                    183\n",
            "Name: count, dtype: int64\n"
          ]
        }
      ]
    },
    {
      "cell_type": "code",
      "source": [
        "# Exibição dos percentuais\n",
        "\n",
        "print(\"Listando os órgãos superiores com maior número de solicitação de diárias (valor percentual): \\n\")\n",
        "orgaosFrequentes = df[\"Nome do órgão superior\"].value_counts(normalize=True)*100\n",
        "print(orgaosFrequentes)"
      ],
      "metadata": {
        "colab": {
          "base_uri": "https://localhost:8080/"
        },
        "id": "3PjHdk6Vwmir",
        "outputId": "1d25e49c-409b-46c2-f766-daa818e50470"
      },
      "execution_count": 96,
      "outputs": [
        {
          "output_type": "stream",
          "name": "stdout",
          "text": [
            "Listando os órgãos superiores com maior número de solicitação de diárias (valor percentual): \n",
            "\n",
            "Nome do órgão superior\n",
            "Ministério da Educação                                           20.800597\n",
            "Sem informação                                                   19.785288\n",
            "Ministério da Defesa                                             17.150271\n",
            "Ministério da Justiça e Segurança Pública                        13.379573\n",
            "Ministério do Meio Ambiente e Mudança do Clima                    5.113768\n",
            "Ministério do Planejamento e Orçamento                            4.083352\n",
            "Ministério da Agricultura e Pecuária                              3.499498\n",
            "Ministério da Saúde                                               2.620635\n",
            "Ministério da Previdência Social                                  2.370464\n",
            "Ministério dos Transportes                                        2.183258\n",
            "Ministério do Desenvolvimento Agrário e Agricultura Familiar      1.742377\n",
            "Presidência da República                                          1.678565\n",
            "Ministério dos Povos Indígenas                                    1.103896\n",
            "Ministério das Relações Exteriores                                0.691053\n",
            "Ministério da Integração e do Desenvolvimento Regional            0.532611\n",
            "Ministério de Minas e Energia                                     0.528744\n",
            "Ministério da Cultura                                             0.469887\n",
            "Advocacia-Geral da União                                          0.451275\n",
            "Ministério das Comunicações                                       0.418161\n",
            "Ministério dos Direitos Humanos e Cidadania                       0.349636\n",
            "Ministério da Ciência, Tecnologia e Inovação                      0.304919\n",
            "Ministério do Desenvolvimento, Indústria, Comércio e Serviços     0.298514\n",
            "Controladoria-Geral da União                                      0.252226\n",
            "Ministério da Fazenda                                             0.079160\n",
            "Ministério do Turismo                                             0.061999\n",
            "Ministério da Gestão e da Inovação em Serviços Públicos           0.028159\n",
            "Ministério do Trabalho e Emprego                                  0.022117\n",
            "Name: proportion, dtype: float64\n"
          ]
        }
      ]
    },
    {
      "cell_type": "markdown",
      "source": [
        "# 5 - Análise do atributo \"Nome órgão solicitante\""
      ],
      "metadata": {
        "id": "R9yL6DqbydwS"
      }
    },
    {
      "cell_type": "code",
      "source": [
        "# Verificando os órgãos solicitantes (órgãos subordinados) com maior solicitação de diárias\n",
        "\n",
        "print(\"Há valores NA? Resposta: \", df[\"Nome órgão solicitante\"].isna().any(), \"\\n\") # verificando se há valores NA dentro do campo \"Nome do órgão superior\"\n",
        "\n",
        "# Listando os órgãos solicitantes (órgãos subordinados) com maior número de solicitação de diárias\n",
        "\n",
        "print(\"Listando os órgãos solicitantes (órgãos subordinados) com maior número de solicitação de diárias: \\n\")\n",
        "solicitantesFrequentes = df[\"Nome órgão solicitante\"].value_counts()\n",
        "pd.set_option('display.max_rows',200) # ampliando o número de linhas para 200, para não cortar as linhas do meio\n",
        "display(solicitantesFrequentes)"
      ],
      "metadata": {
        "colab": {
          "base_uri": "https://localhost:8080/",
          "height": 1000
        },
        "id": "E72nCZHdymKJ",
        "outputId": "29fcc162-973f-40f5-e8c4-283e25bfecf0"
      },
      "execution_count": 97,
      "outputs": [
        {
          "output_type": "stream",
          "name": "stdout",
          "text": [
            "Há valores NA? Resposta:  False \n",
            "\n",
            "Listando os órgãos solicitantes (órgãos subordinados) com maior número de solicitação de diárias: \n",
            "\n"
          ]
        },
        {
          "output_type": "display_data",
          "data": {
            "text/plain": [
              "Nome órgão solicitante\n",
              "Sem informação                                                                  163710\n",
              "Polícia Federal                                                                  69204\n",
              "Comando da Aeronáutica                                                           67829\n",
              "Comando do Exército                                                              52774\n",
              "Polícia Rodoviária Federal                                                       41215\n",
              "Fundação Instituto Brasileiro de Geografia e Estatística                         33375\n",
              "Ministério da Agricultura e Pecuária - Unidades com vínculo direto               28956\n",
              "Ministério da Defesa - Unidades com vínculo direto                               21223\n",
              "Instituto Brasileiro do Meio Ambiente e dos Recursos Naturais Renováveis         20966\n",
              "Instituto Chico Mendes de Conservação da Biodiversidade                          19596\n",
              "Instituto Nacional do Seguro Social                                              19409\n",
              "Ministério da Saúde - Unidades com vínculo direto                                14373\n",
              "Presidência da República - Unidades com vínculo direto                           13489\n",
              "Instituto Nacional de Colonização e Reforma Agrária                              13396\n",
              "Fundação Nacional do Índio                                                        9134\n",
              "Ministério da Educação - Unidades com vínculo direto                              7657\n",
              "Departamento Nacional de Infraestrutura de Transportes                            7174\n",
              "Ministério dos Transportes - Unidades com vínculo direto                          5776\n",
              "Ministério das Relações Exteriores - Unidades com vínculo direto                  5637\n",
              "Instituto Nacional de Estudos e Pesquisas Educacionais Anísio Teixeira            4736\n",
              "Universidade Tecnológica Federal do Paraná                                        4422\n",
              "Instituto Federal de Alagoas                                                      3834\n",
              "Instituto Federal de São Paulo                                                    3796\n",
              "Advocacia-Geral da União - Unidades com vínculo direto                            3734\n",
              "Instituto Federal do Espírito Santo                                               3693\n",
              "Universidade Federal do Pará                                                      3563\n",
              "Instituto Federal do Maranhão                                                     3534\n",
              "Agêncial Nacional de Telecomunicações                                             3460\n",
              "Fundação Universidade Federal de Uberlândia                                       3294\n",
              "Agência Nacional de Transportes Terrestres                                        3266\n",
              "Instituto Federal Goiano                                                          3101\n",
              "Universidade Federal de Santa Maria                                               3057\n",
              "Instituto Federal da Paraíba                                                      3030\n",
              "Fundação Oswaldo Cruz                                                             2979\n",
              "Instituto Federal Baiano                                                          2909\n",
              "Agência Nacional de Vigilância Sanitária                                          2904\n",
              "Ministério dos Direitos Humanos e Cidadania - Unidades com vínculo direto         2893\n",
              "Universidade Federal do Rio Grande do Norte                                       2777\n",
              "Universidade Federal de Santa Catarina                                            2750\n",
              "Instituto Federal do Ceará                                                        2710\n",
              "Universidade Federal de Goiás                                                     2582\n",
              "Instituto do Patrimônio Histórico e Artístico Nacional                            2534\n",
              "Universidade Federal de Minas Gerais                                              2519\n",
              "Instituto Federal de Pernambuco                                                   2513\n",
              "Universidade Federal de Juiz de Fora                                              2346\n",
              "Instituto Federal do Mato Grosso                                                  2303\n",
              "Instituto Federal Catarinense                                                     2280\n",
              "Departamento Nacional de Obras Contra as Secas                                    2222\n",
              "Instituto Federal de Santa Catarina                                               2144\n",
              "Universidade Federal do Espírito Santo                                            2123\n",
              "Controladoria-Geral da União - Unidades com vínculo direto                        2087\n",
              "Instituto Federal do Paraná                                                       2020\n",
              "Fundação Universidade Federal do Mato Grosso do Sul                               2013\n",
              "Comissão Nacional de Energia Nuclear                                              2000\n",
              "Universidade Federal do Paraná                                                    1988\n",
              "Universidade Federal de Campina Grande                                            1968\n",
              "Instituto Nacional de Metrologia, Qualidade e Tecnologia                          1922\n",
              "Fundação Universidade Federal de São Carlos                                       1912\n",
              "Fundação Universidade do Amazonas                                                 1882\n",
              "Agência Nacional do Petróleo, Gás Natural e Biocombustíveis                       1865\n",
              "Instituto Federal do Norte de Minas Gerais                                        1859\n",
              "Instituto Federal do Sudeste de Minas Gerais                                      1830\n",
              "Instituto Federal do Piauí                                                        1824\n",
              "Universidade Federal Rural do Semi-Árido                                          1801\n",
              "Universidade Federal da Paraíba                                                   1800\n",
              "Instituto Federal Farroupilha                                                     1761\n",
              "Universidade Federal Fluminense                                                   1742\n",
              "Universidade Federal de Alagoas                                                   1729\n",
              "Instituto Federal do Rio Grande do Sul                                            1617\n",
              "Universidade Federal de Lavras                                                    1612\n",
              "Centro Federal de Educação Tecnológica de Minas Gerais                            1605\n",
              "Ministério do Meio Ambiente e Mudança do Clima - Unidades com vínculo direto      1603\n",
              "Fundação Coordenação de Aperfeiçoamento de Pessoal de Nível Superior              1584\n",
              "Empresa Brasileira de Serviços Hospitalares                                       1564\n",
              "Fundação Universidade de Brasília                                                 1560\n",
              "Universidade Federal Rural do Rio de Janeiro                                      1530\n",
              "Universidade Federal Rural de Pernambuco                                          1516\n",
              "Instituto Federal do Pará                                                         1503\n",
              "Fundação Universidade Federal de Rondônia                                         1466\n",
              "Universidade Federal da Bahia                                                     1441\n",
              "Instituto Federal de Minas Gerais                                                 1438\n",
              "Instituto Federal de Rondônia                                                     1431\n",
              "Instituto Federal Sul-rio-grandense                                               1405\n",
              "Fundação Universidade Federal de Pelotas                                          1405\n",
              "Universidade Federal de Pernambuco                                                1403\n",
              "Fundação Universidade Federal do Pampa                                            1393\n",
              "Instituto Federal do Tocantins                                                    1390\n",
              "Agência Nacional de Águas                                                         1389\n",
              "Universidade Federal de Alfenas                                                   1375\n",
              "Agência Nacional de Energia Elétrica                                              1359\n",
              "Universidade Federal de Ouro Preto                                                1328\n",
              "Universidade Federal do Ceará                                                     1325\n",
              "Instituto Federal de Educação, Ciência e Tecnologia de Goiás                      1324\n",
              "Instituto Federal do Sertão de Pernambuco                                         1313\n",
              "Universidade Federal do Rio Grande do Sul                                         1281\n",
              "Instituto Federal do Mato Grosso do Sul                                           1229\n",
              "Universidade Federal de Viçosa                                                    1224\n",
              "Instituto Federal de Sergipe                                                      1211\n",
              "Instituto Federal do Triângulo Mineiro                                            1197\n",
              "Instituto Federal do Sul de Minas Gerais                                          1173\n",
              "Instituto Federal de Roraima                                                      1150\n",
              "Universidade Federal da Fronteira Sul                                             1137\n",
              "Fundação Universidade Federal do Tocantins                                        1123\n",
              "Universidade Federal do Oeste do Pará                                             1115\n",
              "Agência Nacional de Transportes Aquaviários                                       1102\n",
              "Universidade Federal dos Vales do Jequitinhonha e Mucuri                          1091\n",
              "Companhia Nacional de Abastecimento                                               1021\n",
              "Instituto Federal da Bahia                                                        1018\n",
              "Universidade Federal de Itajubá                                                    942\n",
              "Fundação Universidade Federal de Sergipe                                           919\n",
              "Fundação Universidade Federal do Mato Grosso                                       865\n",
              "Fundação Universidade Federal de São João Del-Rei                                  849\n",
              "Instituto Federal do Amazonas                                                      844\n",
              "Instituto Federal do Acre                                                          843\n",
              "Fundação Universidade Federal do Piauí                                             825\n",
              "Agência Nacional de Saúde Suplementar                                              810\n",
              "Universidade Federal do Rio de Janeiro                                             799\n",
              "Instituto Federal do Amapá                                                         794\n",
              "Fundação Universidade Federal do ABC                                               791\n",
              "Universidade Federal do Sul e Sudeste do Pará                                      774\n",
              "VALEC Engenharia, Construções e Ferrovias S.A.                                     747\n",
              "Instituto Federal Fluminense                                                       737\n",
              "Fundação Universidade Federal da Grande Dourados                                   734\n",
              "Fundação Universidade Federal do Acre                                              717\n",
              "Universidade Federal de Roraima                                                    690\n",
              "Universidade Federal do Rio Grande                                                 673\n",
              "Ministério de Minas e Energia - Unidades com vínculo direto                        657\n",
              "Universidade Federal da Integração Latino-Americana                                641\n",
              "Fundação Universidade Federal do Vale do São Francisco                             626\n",
              "Fundação Nacional de Saúde                                                         618\n",
              "Universidade Federal do Cariri                                                     600\n",
              "Universidade Federal do Recôncavo da Bahia                                         593\n",
              "Fundação Universidade Federal do Amapá                                             575\n",
              "Instituto Brasileiro de Museus                                                     552\n",
              "Fundo Nacional de Desenvolvimento da Educação                                      524\n",
              "Ministério do Turismo - Unidades com vínculo direto                                513\n",
              "Superintendência do Desenvolvimento do Nordeste                                    506\n",
              "Empresa de Pesquisa Energética                                                     494\n",
              "Universidade Federal Rural da Amazônia                                             474\n",
              "Fundação Universidade do Maranhão                                                  469\n",
              "Universidade Federal do Oeste da Bahia                                             454\n",
              "Comissão de Valores Mobiliários                                                    440\n",
              "Instituto Federal do Rio de Janeiro                                                427\n",
              "Universidade Federal do Sul da Bahia                                               416\n",
              "Instituto de Pesquisa Econômica Aplicada                                           412\n",
              "Universidade Federal do Triângulo Mineiro                                          391\n",
              "Fundação Universidade Federal de Ciências da Saúde de Porto Alegre                 380\n",
              "Gabinete da Vice-Presidência da República                                          376\n",
              "Centro Federal de Educação Tecnológica Celso Suckow da Fonseca                     334\n",
              "Conselho Administrativo de Defesa Econômica                                        288\n",
              "Superintendência da Zona Franca de Manaus                                          278\n",
              "Instituto Nacional da Propriedade Industrial                                       270\n",
              "Universidade Federal do Estado do Rio de Janeiro                                   242\n",
              "Fundação Joaquim Nabuco                                                            239\n",
              "Agência Espacial Brasileira                                                        237\n",
              "Fundação Escola Nacional de Administração Pública                                  233\n",
              "Fundação Nacional de Artes                                                         226\n",
              "Superintendência do Desenvolvimento da Amazônia                                    224\n",
              "Universidade da Integração Internacional da Lusofonia Afro-Brasileira              220\n",
              "Superintendência de Seguros Privados                                               215\n",
              "Agência Nacional do Cinema                                                         209\n",
              "Superintendência Nacional de Previdência Complementar                              205\n",
              "Colégio Pedro II                                                                   198\n",
              "Fundação Cultural Palmares                                                         190\n",
              "Fundação Jorge Duprat Figueiredo, de Segurança e Medicina do Trabalho              183\n",
              "Conselho Nacional de Desenvolvimento Científico e Tecnológico                      181\n",
              "Universidade Federal de São Paulo                                                  172\n",
              "Instituto de Pesquisas Jardim Botânico do Rio de Janeiro                           148\n",
              "Fundação Casa de Rui Barbosa                                                       126\n",
              "Centro Nacional de Tecnologia Eletrônica Avançada S.A.                              98\n",
              "Fundação Alexandre de Gusmão                                                        81\n",
              "Caixa de Financiamento Imobiliário da Aeronáutica                                   81\n",
              "Superintendência de Desenvolvimento do Centro-Oeste                                 66\n",
              "Instituto Federal de Brasília                                                       61\n",
              "Fundação Biblioteca Nacional                                                        51\n",
              "Instituto Nacional de Tecnologia da Informação                                      24\n",
              "Ministério da Ciência, Tecnologia e Inovação - Unidades com vínculo direto           7\n",
              "Name: count, dtype: int64"
            ],
            "text/html": [
              "<div>\n",
              "<style scoped>\n",
              "    .dataframe tbody tr th:only-of-type {\n",
              "        vertical-align: middle;\n",
              "    }\n",
              "\n",
              "    .dataframe tbody tr th {\n",
              "        vertical-align: top;\n",
              "    }\n",
              "\n",
              "    .dataframe thead th {\n",
              "        text-align: right;\n",
              "    }\n",
              "</style>\n",
              "<table border=\"1\" class=\"dataframe\">\n",
              "  <thead>\n",
              "    <tr style=\"text-align: right;\">\n",
              "      <th></th>\n",
              "      <th>count</th>\n",
              "    </tr>\n",
              "    <tr>\n",
              "      <th>Nome órgão solicitante</th>\n",
              "      <th></th>\n",
              "    </tr>\n",
              "  </thead>\n",
              "  <tbody>\n",
              "    <tr>\n",
              "      <th>Sem informação</th>\n",
              "      <td>163710</td>\n",
              "    </tr>\n",
              "    <tr>\n",
              "      <th>Polícia Federal</th>\n",
              "      <td>69204</td>\n",
              "    </tr>\n",
              "    <tr>\n",
              "      <th>Comando da Aeronáutica</th>\n",
              "      <td>67829</td>\n",
              "    </tr>\n",
              "    <tr>\n",
              "      <th>Comando do Exército</th>\n",
              "      <td>52774</td>\n",
              "    </tr>\n",
              "    <tr>\n",
              "      <th>Polícia Rodoviária Federal</th>\n",
              "      <td>41215</td>\n",
              "    </tr>\n",
              "    <tr>\n",
              "      <th>Fundação Instituto Brasileiro de Geografia e Estatística</th>\n",
              "      <td>33375</td>\n",
              "    </tr>\n",
              "    <tr>\n",
              "      <th>Ministério da Agricultura e Pecuária - Unidades com vínculo direto</th>\n",
              "      <td>28956</td>\n",
              "    </tr>\n",
              "    <tr>\n",
              "      <th>Ministério da Defesa - Unidades com vínculo direto</th>\n",
              "      <td>21223</td>\n",
              "    </tr>\n",
              "    <tr>\n",
              "      <th>Instituto Brasileiro do Meio Ambiente e dos Recursos Naturais Renováveis</th>\n",
              "      <td>20966</td>\n",
              "    </tr>\n",
              "    <tr>\n",
              "      <th>Instituto Chico Mendes de Conservação da Biodiversidade</th>\n",
              "      <td>19596</td>\n",
              "    </tr>\n",
              "    <tr>\n",
              "      <th>Instituto Nacional do Seguro Social</th>\n",
              "      <td>19409</td>\n",
              "    </tr>\n",
              "    <tr>\n",
              "      <th>Ministério da Saúde - Unidades com vínculo direto</th>\n",
              "      <td>14373</td>\n",
              "    </tr>\n",
              "    <tr>\n",
              "      <th>Presidência da República - Unidades com vínculo direto</th>\n",
              "      <td>13489</td>\n",
              "    </tr>\n",
              "    <tr>\n",
              "      <th>Instituto Nacional de Colonização e Reforma Agrária</th>\n",
              "      <td>13396</td>\n",
              "    </tr>\n",
              "    <tr>\n",
              "      <th>Fundação Nacional do Índio</th>\n",
              "      <td>9134</td>\n",
              "    </tr>\n",
              "    <tr>\n",
              "      <th>Ministério da Educação - Unidades com vínculo direto</th>\n",
              "      <td>7657</td>\n",
              "    </tr>\n",
              "    <tr>\n",
              "      <th>Departamento Nacional de Infraestrutura de Transportes</th>\n",
              "      <td>7174</td>\n",
              "    </tr>\n",
              "    <tr>\n",
              "      <th>Ministério dos Transportes - Unidades com vínculo direto</th>\n",
              "      <td>5776</td>\n",
              "    </tr>\n",
              "    <tr>\n",
              "      <th>Ministério das Relações Exteriores - Unidades com vínculo direto</th>\n",
              "      <td>5637</td>\n",
              "    </tr>\n",
              "    <tr>\n",
              "      <th>Instituto Nacional de Estudos e Pesquisas Educacionais Anísio Teixeira</th>\n",
              "      <td>4736</td>\n",
              "    </tr>\n",
              "    <tr>\n",
              "      <th>Universidade Tecnológica Federal do Paraná</th>\n",
              "      <td>4422</td>\n",
              "    </tr>\n",
              "    <tr>\n",
              "      <th>Instituto Federal de Alagoas</th>\n",
              "      <td>3834</td>\n",
              "    </tr>\n",
              "    <tr>\n",
              "      <th>Instituto Federal de São Paulo</th>\n",
              "      <td>3796</td>\n",
              "    </tr>\n",
              "    <tr>\n",
              "      <th>Advocacia-Geral da União - Unidades com vínculo direto</th>\n",
              "      <td>3734</td>\n",
              "    </tr>\n",
              "    <tr>\n",
              "      <th>Instituto Federal do Espírito Santo</th>\n",
              "      <td>3693</td>\n",
              "    </tr>\n",
              "    <tr>\n",
              "      <th>Universidade Federal do Pará</th>\n",
              "      <td>3563</td>\n",
              "    </tr>\n",
              "    <tr>\n",
              "      <th>Instituto Federal do Maranhão</th>\n",
              "      <td>3534</td>\n",
              "    </tr>\n",
              "    <tr>\n",
              "      <th>Agêncial Nacional de Telecomunicações</th>\n",
              "      <td>3460</td>\n",
              "    </tr>\n",
              "    <tr>\n",
              "      <th>Fundação Universidade Federal de Uberlândia</th>\n",
              "      <td>3294</td>\n",
              "    </tr>\n",
              "    <tr>\n",
              "      <th>Agência Nacional de Transportes Terrestres</th>\n",
              "      <td>3266</td>\n",
              "    </tr>\n",
              "    <tr>\n",
              "      <th>Instituto Federal Goiano</th>\n",
              "      <td>3101</td>\n",
              "    </tr>\n",
              "    <tr>\n",
              "      <th>Universidade Federal de Santa Maria</th>\n",
              "      <td>3057</td>\n",
              "    </tr>\n",
              "    <tr>\n",
              "      <th>Instituto Federal da Paraíba</th>\n",
              "      <td>3030</td>\n",
              "    </tr>\n",
              "    <tr>\n",
              "      <th>Fundação Oswaldo Cruz</th>\n",
              "      <td>2979</td>\n",
              "    </tr>\n",
              "    <tr>\n",
              "      <th>Instituto Federal Baiano</th>\n",
              "      <td>2909</td>\n",
              "    </tr>\n",
              "    <tr>\n",
              "      <th>Agência Nacional de Vigilância Sanitária</th>\n",
              "      <td>2904</td>\n",
              "    </tr>\n",
              "    <tr>\n",
              "      <th>Ministério dos Direitos Humanos e Cidadania - Unidades com vínculo direto</th>\n",
              "      <td>2893</td>\n",
              "    </tr>\n",
              "    <tr>\n",
              "      <th>Universidade Federal do Rio Grande do Norte</th>\n",
              "      <td>2777</td>\n",
              "    </tr>\n",
              "    <tr>\n",
              "      <th>Universidade Federal de Santa Catarina</th>\n",
              "      <td>2750</td>\n",
              "    </tr>\n",
              "    <tr>\n",
              "      <th>Instituto Federal do Ceará</th>\n",
              "      <td>2710</td>\n",
              "    </tr>\n",
              "    <tr>\n",
              "      <th>Universidade Federal de Goiás</th>\n",
              "      <td>2582</td>\n",
              "    </tr>\n",
              "    <tr>\n",
              "      <th>Instituto do Patrimônio Histórico e Artístico Nacional</th>\n",
              "      <td>2534</td>\n",
              "    </tr>\n",
              "    <tr>\n",
              "      <th>Universidade Federal de Minas Gerais</th>\n",
              "      <td>2519</td>\n",
              "    </tr>\n",
              "    <tr>\n",
              "      <th>Instituto Federal de Pernambuco</th>\n",
              "      <td>2513</td>\n",
              "    </tr>\n",
              "    <tr>\n",
              "      <th>Universidade Federal de Juiz de Fora</th>\n",
              "      <td>2346</td>\n",
              "    </tr>\n",
              "    <tr>\n",
              "      <th>Instituto Federal do Mato Grosso</th>\n",
              "      <td>2303</td>\n",
              "    </tr>\n",
              "    <tr>\n",
              "      <th>Instituto Federal Catarinense</th>\n",
              "      <td>2280</td>\n",
              "    </tr>\n",
              "    <tr>\n",
              "      <th>Departamento Nacional de Obras Contra as Secas</th>\n",
              "      <td>2222</td>\n",
              "    </tr>\n",
              "    <tr>\n",
              "      <th>Instituto Federal de Santa Catarina</th>\n",
              "      <td>2144</td>\n",
              "    </tr>\n",
              "    <tr>\n",
              "      <th>Universidade Federal do Espírito Santo</th>\n",
              "      <td>2123</td>\n",
              "    </tr>\n",
              "    <tr>\n",
              "      <th>Controladoria-Geral da União - Unidades com vínculo direto</th>\n",
              "      <td>2087</td>\n",
              "    </tr>\n",
              "    <tr>\n",
              "      <th>Instituto Federal do Paraná</th>\n",
              "      <td>2020</td>\n",
              "    </tr>\n",
              "    <tr>\n",
              "      <th>Fundação Universidade Federal do Mato Grosso do Sul</th>\n",
              "      <td>2013</td>\n",
              "    </tr>\n",
              "    <tr>\n",
              "      <th>Comissão Nacional de Energia Nuclear</th>\n",
              "      <td>2000</td>\n",
              "    </tr>\n",
              "    <tr>\n",
              "      <th>Universidade Federal do Paraná</th>\n",
              "      <td>1988</td>\n",
              "    </tr>\n",
              "    <tr>\n",
              "      <th>Universidade Federal de Campina Grande</th>\n",
              "      <td>1968</td>\n",
              "    </tr>\n",
              "    <tr>\n",
              "      <th>Instituto Nacional de Metrologia, Qualidade e Tecnologia</th>\n",
              "      <td>1922</td>\n",
              "    </tr>\n",
              "    <tr>\n",
              "      <th>Fundação Universidade Federal de São Carlos</th>\n",
              "      <td>1912</td>\n",
              "    </tr>\n",
              "    <tr>\n",
              "      <th>Fundação Universidade do Amazonas</th>\n",
              "      <td>1882</td>\n",
              "    </tr>\n",
              "    <tr>\n",
              "      <th>Agência Nacional do Petróleo, Gás Natural e Biocombustíveis</th>\n",
              "      <td>1865</td>\n",
              "    </tr>\n",
              "    <tr>\n",
              "      <th>Instituto Federal do Norte de Minas Gerais</th>\n",
              "      <td>1859</td>\n",
              "    </tr>\n",
              "    <tr>\n",
              "      <th>Instituto Federal do Sudeste de Minas Gerais</th>\n",
              "      <td>1830</td>\n",
              "    </tr>\n",
              "    <tr>\n",
              "      <th>Instituto Federal do Piauí</th>\n",
              "      <td>1824</td>\n",
              "    </tr>\n",
              "    <tr>\n",
              "      <th>Universidade Federal Rural do Semi-Árido</th>\n",
              "      <td>1801</td>\n",
              "    </tr>\n",
              "    <tr>\n",
              "      <th>Universidade Federal da Paraíba</th>\n",
              "      <td>1800</td>\n",
              "    </tr>\n",
              "    <tr>\n",
              "      <th>Instituto Federal Farroupilha</th>\n",
              "      <td>1761</td>\n",
              "    </tr>\n",
              "    <tr>\n",
              "      <th>Universidade Federal Fluminense</th>\n",
              "      <td>1742</td>\n",
              "    </tr>\n",
              "    <tr>\n",
              "      <th>Universidade Federal de Alagoas</th>\n",
              "      <td>1729</td>\n",
              "    </tr>\n",
              "    <tr>\n",
              "      <th>Instituto Federal do Rio Grande do Sul</th>\n",
              "      <td>1617</td>\n",
              "    </tr>\n",
              "    <tr>\n",
              "      <th>Universidade Federal de Lavras</th>\n",
              "      <td>1612</td>\n",
              "    </tr>\n",
              "    <tr>\n",
              "      <th>Centro Federal de Educação Tecnológica de Minas Gerais</th>\n",
              "      <td>1605</td>\n",
              "    </tr>\n",
              "    <tr>\n",
              "      <th>Ministério do Meio Ambiente e Mudança do Clima - Unidades com vínculo direto</th>\n",
              "      <td>1603</td>\n",
              "    </tr>\n",
              "    <tr>\n",
              "      <th>Fundação Coordenação de Aperfeiçoamento de Pessoal de Nível Superior</th>\n",
              "      <td>1584</td>\n",
              "    </tr>\n",
              "    <tr>\n",
              "      <th>Empresa Brasileira de Serviços Hospitalares</th>\n",
              "      <td>1564</td>\n",
              "    </tr>\n",
              "    <tr>\n",
              "      <th>Fundação Universidade de Brasília</th>\n",
              "      <td>1560</td>\n",
              "    </tr>\n",
              "    <tr>\n",
              "      <th>Universidade Federal Rural do Rio de Janeiro</th>\n",
              "      <td>1530</td>\n",
              "    </tr>\n",
              "    <tr>\n",
              "      <th>Universidade Federal Rural de Pernambuco</th>\n",
              "      <td>1516</td>\n",
              "    </tr>\n",
              "    <tr>\n",
              "      <th>Instituto Federal do Pará</th>\n",
              "      <td>1503</td>\n",
              "    </tr>\n",
              "    <tr>\n",
              "      <th>Fundação Universidade Federal de Rondônia</th>\n",
              "      <td>1466</td>\n",
              "    </tr>\n",
              "    <tr>\n",
              "      <th>Universidade Federal da Bahia</th>\n",
              "      <td>1441</td>\n",
              "    </tr>\n",
              "    <tr>\n",
              "      <th>Instituto Federal de Minas Gerais</th>\n",
              "      <td>1438</td>\n",
              "    </tr>\n",
              "    <tr>\n",
              "      <th>Instituto Federal de Rondônia</th>\n",
              "      <td>1431</td>\n",
              "    </tr>\n",
              "    <tr>\n",
              "      <th>Instituto Federal Sul-rio-grandense</th>\n",
              "      <td>1405</td>\n",
              "    </tr>\n",
              "    <tr>\n",
              "      <th>Fundação Universidade Federal de Pelotas</th>\n",
              "      <td>1405</td>\n",
              "    </tr>\n",
              "    <tr>\n",
              "      <th>Universidade Federal de Pernambuco</th>\n",
              "      <td>1403</td>\n",
              "    </tr>\n",
              "    <tr>\n",
              "      <th>Fundação Universidade Federal do Pampa</th>\n",
              "      <td>1393</td>\n",
              "    </tr>\n",
              "    <tr>\n",
              "      <th>Instituto Federal do Tocantins</th>\n",
              "      <td>1390</td>\n",
              "    </tr>\n",
              "    <tr>\n",
              "      <th>Agência Nacional de Águas</th>\n",
              "      <td>1389</td>\n",
              "    </tr>\n",
              "    <tr>\n",
              "      <th>Universidade Federal de Alfenas</th>\n",
              "      <td>1375</td>\n",
              "    </tr>\n",
              "    <tr>\n",
              "      <th>Agência Nacional de Energia Elétrica</th>\n",
              "      <td>1359</td>\n",
              "    </tr>\n",
              "    <tr>\n",
              "      <th>Universidade Federal de Ouro Preto</th>\n",
              "      <td>1328</td>\n",
              "    </tr>\n",
              "    <tr>\n",
              "      <th>Universidade Federal do Ceará</th>\n",
              "      <td>1325</td>\n",
              "    </tr>\n",
              "    <tr>\n",
              "      <th>Instituto Federal de Educação, Ciência e Tecnologia de Goiás</th>\n",
              "      <td>1324</td>\n",
              "    </tr>\n",
              "    <tr>\n",
              "      <th>Instituto Federal do Sertão de Pernambuco</th>\n",
              "      <td>1313</td>\n",
              "    </tr>\n",
              "    <tr>\n",
              "      <th>Universidade Federal do Rio Grande do Sul</th>\n",
              "      <td>1281</td>\n",
              "    </tr>\n",
              "    <tr>\n",
              "      <th>Instituto Federal do Mato Grosso do Sul</th>\n",
              "      <td>1229</td>\n",
              "    </tr>\n",
              "    <tr>\n",
              "      <th>Universidade Federal de Viçosa</th>\n",
              "      <td>1224</td>\n",
              "    </tr>\n",
              "    <tr>\n",
              "      <th>Instituto Federal de Sergipe</th>\n",
              "      <td>1211</td>\n",
              "    </tr>\n",
              "    <tr>\n",
              "      <th>Instituto Federal do Triângulo Mineiro</th>\n",
              "      <td>1197</td>\n",
              "    </tr>\n",
              "    <tr>\n",
              "      <th>Instituto Federal do Sul de Minas Gerais</th>\n",
              "      <td>1173</td>\n",
              "    </tr>\n",
              "    <tr>\n",
              "      <th>Instituto Federal de Roraima</th>\n",
              "      <td>1150</td>\n",
              "    </tr>\n",
              "    <tr>\n",
              "      <th>Universidade Federal da Fronteira Sul</th>\n",
              "      <td>1137</td>\n",
              "    </tr>\n",
              "    <tr>\n",
              "      <th>Fundação Universidade Federal do Tocantins</th>\n",
              "      <td>1123</td>\n",
              "    </tr>\n",
              "    <tr>\n",
              "      <th>Universidade Federal do Oeste do Pará</th>\n",
              "      <td>1115</td>\n",
              "    </tr>\n",
              "    <tr>\n",
              "      <th>Agência Nacional de Transportes Aquaviários</th>\n",
              "      <td>1102</td>\n",
              "    </tr>\n",
              "    <tr>\n",
              "      <th>Universidade Federal dos Vales do Jequitinhonha e Mucuri</th>\n",
              "      <td>1091</td>\n",
              "    </tr>\n",
              "    <tr>\n",
              "      <th>Companhia Nacional de Abastecimento</th>\n",
              "      <td>1021</td>\n",
              "    </tr>\n",
              "    <tr>\n",
              "      <th>Instituto Federal da Bahia</th>\n",
              "      <td>1018</td>\n",
              "    </tr>\n",
              "    <tr>\n",
              "      <th>Universidade Federal de Itajubá</th>\n",
              "      <td>942</td>\n",
              "    </tr>\n",
              "    <tr>\n",
              "      <th>Fundação Universidade Federal de Sergipe</th>\n",
              "      <td>919</td>\n",
              "    </tr>\n",
              "    <tr>\n",
              "      <th>Fundação Universidade Federal do Mato Grosso</th>\n",
              "      <td>865</td>\n",
              "    </tr>\n",
              "    <tr>\n",
              "      <th>Fundação Universidade Federal de São João Del-Rei</th>\n",
              "      <td>849</td>\n",
              "    </tr>\n",
              "    <tr>\n",
              "      <th>Instituto Federal do Amazonas</th>\n",
              "      <td>844</td>\n",
              "    </tr>\n",
              "    <tr>\n",
              "      <th>Instituto Federal do Acre</th>\n",
              "      <td>843</td>\n",
              "    </tr>\n",
              "    <tr>\n",
              "      <th>Fundação Universidade Federal do Piauí</th>\n",
              "      <td>825</td>\n",
              "    </tr>\n",
              "    <tr>\n",
              "      <th>Agência Nacional de Saúde Suplementar</th>\n",
              "      <td>810</td>\n",
              "    </tr>\n",
              "    <tr>\n",
              "      <th>Universidade Federal do Rio de Janeiro</th>\n",
              "      <td>799</td>\n",
              "    </tr>\n",
              "    <tr>\n",
              "      <th>Instituto Federal do Amapá</th>\n",
              "      <td>794</td>\n",
              "    </tr>\n",
              "    <tr>\n",
              "      <th>Fundação Universidade Federal do ABC</th>\n",
              "      <td>791</td>\n",
              "    </tr>\n",
              "    <tr>\n",
              "      <th>Universidade Federal do Sul e Sudeste do Pará</th>\n",
              "      <td>774</td>\n",
              "    </tr>\n",
              "    <tr>\n",
              "      <th>VALEC Engenharia, Construções e Ferrovias S.A.</th>\n",
              "      <td>747</td>\n",
              "    </tr>\n",
              "    <tr>\n",
              "      <th>Instituto Federal Fluminense</th>\n",
              "      <td>737</td>\n",
              "    </tr>\n",
              "    <tr>\n",
              "      <th>Fundação Universidade Federal da Grande Dourados</th>\n",
              "      <td>734</td>\n",
              "    </tr>\n",
              "    <tr>\n",
              "      <th>Fundação Universidade Federal do Acre</th>\n",
              "      <td>717</td>\n",
              "    </tr>\n",
              "    <tr>\n",
              "      <th>Universidade Federal de Roraima</th>\n",
              "      <td>690</td>\n",
              "    </tr>\n",
              "    <tr>\n",
              "      <th>Universidade Federal do Rio Grande</th>\n",
              "      <td>673</td>\n",
              "    </tr>\n",
              "    <tr>\n",
              "      <th>Ministério de Minas e Energia - Unidades com vínculo direto</th>\n",
              "      <td>657</td>\n",
              "    </tr>\n",
              "    <tr>\n",
              "      <th>Universidade Federal da Integração Latino-Americana</th>\n",
              "      <td>641</td>\n",
              "    </tr>\n",
              "    <tr>\n",
              "      <th>Fundação Universidade Federal do Vale do São Francisco</th>\n",
              "      <td>626</td>\n",
              "    </tr>\n",
              "    <tr>\n",
              "      <th>Fundação Nacional de Saúde</th>\n",
              "      <td>618</td>\n",
              "    </tr>\n",
              "    <tr>\n",
              "      <th>Universidade Federal do Cariri</th>\n",
              "      <td>600</td>\n",
              "    </tr>\n",
              "    <tr>\n",
              "      <th>Universidade Federal do Recôncavo da Bahia</th>\n",
              "      <td>593</td>\n",
              "    </tr>\n",
              "    <tr>\n",
              "      <th>Fundação Universidade Federal do Amapá</th>\n",
              "      <td>575</td>\n",
              "    </tr>\n",
              "    <tr>\n",
              "      <th>Instituto Brasileiro de Museus</th>\n",
              "      <td>552</td>\n",
              "    </tr>\n",
              "    <tr>\n",
              "      <th>Fundo Nacional de Desenvolvimento da Educação</th>\n",
              "      <td>524</td>\n",
              "    </tr>\n",
              "    <tr>\n",
              "      <th>Ministério do Turismo - Unidades com vínculo direto</th>\n",
              "      <td>513</td>\n",
              "    </tr>\n",
              "    <tr>\n",
              "      <th>Superintendência do Desenvolvimento do Nordeste</th>\n",
              "      <td>506</td>\n",
              "    </tr>\n",
              "    <tr>\n",
              "      <th>Empresa de Pesquisa Energética</th>\n",
              "      <td>494</td>\n",
              "    </tr>\n",
              "    <tr>\n",
              "      <th>Universidade Federal Rural da Amazônia</th>\n",
              "      <td>474</td>\n",
              "    </tr>\n",
              "    <tr>\n",
              "      <th>Fundação Universidade do Maranhão</th>\n",
              "      <td>469</td>\n",
              "    </tr>\n",
              "    <tr>\n",
              "      <th>Universidade Federal do Oeste da Bahia</th>\n",
              "      <td>454</td>\n",
              "    </tr>\n",
              "    <tr>\n",
              "      <th>Comissão de Valores Mobiliários</th>\n",
              "      <td>440</td>\n",
              "    </tr>\n",
              "    <tr>\n",
              "      <th>Instituto Federal do Rio de Janeiro</th>\n",
              "      <td>427</td>\n",
              "    </tr>\n",
              "    <tr>\n",
              "      <th>Universidade Federal do Sul da Bahia</th>\n",
              "      <td>416</td>\n",
              "    </tr>\n",
              "    <tr>\n",
              "      <th>Instituto de Pesquisa Econômica Aplicada</th>\n",
              "      <td>412</td>\n",
              "    </tr>\n",
              "    <tr>\n",
              "      <th>Universidade Federal do Triângulo Mineiro</th>\n",
              "      <td>391</td>\n",
              "    </tr>\n",
              "    <tr>\n",
              "      <th>Fundação Universidade Federal de Ciências da Saúde de Porto Alegre</th>\n",
              "      <td>380</td>\n",
              "    </tr>\n",
              "    <tr>\n",
              "      <th>Gabinete da Vice-Presidência da República</th>\n",
              "      <td>376</td>\n",
              "    </tr>\n",
              "    <tr>\n",
              "      <th>Centro Federal de Educação Tecnológica Celso Suckow da Fonseca</th>\n",
              "      <td>334</td>\n",
              "    </tr>\n",
              "    <tr>\n",
              "      <th>Conselho Administrativo de Defesa Econômica</th>\n",
              "      <td>288</td>\n",
              "    </tr>\n",
              "    <tr>\n",
              "      <th>Superintendência da Zona Franca de Manaus</th>\n",
              "      <td>278</td>\n",
              "    </tr>\n",
              "    <tr>\n",
              "      <th>Instituto Nacional da Propriedade Industrial</th>\n",
              "      <td>270</td>\n",
              "    </tr>\n",
              "    <tr>\n",
              "      <th>Universidade Federal do Estado do Rio de Janeiro</th>\n",
              "      <td>242</td>\n",
              "    </tr>\n",
              "    <tr>\n",
              "      <th>Fundação Joaquim Nabuco</th>\n",
              "      <td>239</td>\n",
              "    </tr>\n",
              "    <tr>\n",
              "      <th>Agência Espacial Brasileira</th>\n",
              "      <td>237</td>\n",
              "    </tr>\n",
              "    <tr>\n",
              "      <th>Fundação Escola Nacional de Administração Pública</th>\n",
              "      <td>233</td>\n",
              "    </tr>\n",
              "    <tr>\n",
              "      <th>Fundação Nacional de Artes</th>\n",
              "      <td>226</td>\n",
              "    </tr>\n",
              "    <tr>\n",
              "      <th>Superintendência do Desenvolvimento da Amazônia</th>\n",
              "      <td>224</td>\n",
              "    </tr>\n",
              "    <tr>\n",
              "      <th>Universidade da Integração Internacional da Lusofonia Afro-Brasileira</th>\n",
              "      <td>220</td>\n",
              "    </tr>\n",
              "    <tr>\n",
              "      <th>Superintendência de Seguros Privados</th>\n",
              "      <td>215</td>\n",
              "    </tr>\n",
              "    <tr>\n",
              "      <th>Agência Nacional do Cinema</th>\n",
              "      <td>209</td>\n",
              "    </tr>\n",
              "    <tr>\n",
              "      <th>Superintendência Nacional de Previdência Complementar</th>\n",
              "      <td>205</td>\n",
              "    </tr>\n",
              "    <tr>\n",
              "      <th>Colégio Pedro II</th>\n",
              "      <td>198</td>\n",
              "    </tr>\n",
              "    <tr>\n",
              "      <th>Fundação Cultural Palmares</th>\n",
              "      <td>190</td>\n",
              "    </tr>\n",
              "    <tr>\n",
              "      <th>Fundação Jorge Duprat Figueiredo, de Segurança e Medicina do Trabalho</th>\n",
              "      <td>183</td>\n",
              "    </tr>\n",
              "    <tr>\n",
              "      <th>Conselho Nacional de Desenvolvimento Científico e Tecnológico</th>\n",
              "      <td>181</td>\n",
              "    </tr>\n",
              "    <tr>\n",
              "      <th>Universidade Federal de São Paulo</th>\n",
              "      <td>172</td>\n",
              "    </tr>\n",
              "    <tr>\n",
              "      <th>Instituto de Pesquisas Jardim Botânico do Rio de Janeiro</th>\n",
              "      <td>148</td>\n",
              "    </tr>\n",
              "    <tr>\n",
              "      <th>Fundação Casa de Rui Barbosa</th>\n",
              "      <td>126</td>\n",
              "    </tr>\n",
              "    <tr>\n",
              "      <th>Centro Nacional de Tecnologia Eletrônica Avançada S.A.</th>\n",
              "      <td>98</td>\n",
              "    </tr>\n",
              "    <tr>\n",
              "      <th>Fundação Alexandre de Gusmão</th>\n",
              "      <td>81</td>\n",
              "    </tr>\n",
              "    <tr>\n",
              "      <th>Caixa de Financiamento Imobiliário da Aeronáutica</th>\n",
              "      <td>81</td>\n",
              "    </tr>\n",
              "    <tr>\n",
              "      <th>Superintendência de Desenvolvimento do Centro-Oeste</th>\n",
              "      <td>66</td>\n",
              "    </tr>\n",
              "    <tr>\n",
              "      <th>Instituto Federal de Brasília</th>\n",
              "      <td>61</td>\n",
              "    </tr>\n",
              "    <tr>\n",
              "      <th>Fundação Biblioteca Nacional</th>\n",
              "      <td>51</td>\n",
              "    </tr>\n",
              "    <tr>\n",
              "      <th>Instituto Nacional de Tecnologia da Informação</th>\n",
              "      <td>24</td>\n",
              "    </tr>\n",
              "    <tr>\n",
              "      <th>Ministério da Ciência, Tecnologia e Inovação - Unidades com vínculo direto</th>\n",
              "      <td>7</td>\n",
              "    </tr>\n",
              "  </tbody>\n",
              "</table>\n",
              "</div><br><label><b>dtype:</b> int64</label>"
            ]
          },
          "metadata": {}
        }
      ]
    },
    {
      "cell_type": "code",
      "source": [
        "# Listando os órgãos solicitantes (órgãos subordinados) com maior número de solicitação de diárias (percentual)\n",
        "\n",
        "print(\"Listando os órgãos solicitantes (órgãos subordinados) com maior número de solicitação de diárias (percentual): \\n\")\n",
        "solicitantesPercentual = df[\"Nome órgão solicitante\"].value_counts(normalize=True)*100\n",
        "display(solicitantesPercentual)"
      ],
      "metadata": {
        "colab": {
          "base_uri": "https://localhost:8080/",
          "height": 1000
        },
        "id": "Kk_7CNRVyrQq",
        "outputId": "fce70d76-93ab-4091-a995-e062ef6f58c1"
      },
      "execution_count": 98,
      "outputs": [
        {
          "output_type": "stream",
          "name": "stdout",
          "text": [
            "Listando os órgãos solicitantes (órgãos subordinados) com maior número de solicitação de diárias (percentual): \n",
            "\n"
          ]
        },
        {
          "output_type": "display_data",
          "data": {
            "text/plain": [
              "Nome órgão solicitante\n",
              "Sem informação                                                                  19.785288\n",
              "Polícia Federal                                                                  8.363698\n",
              "Comando da Aeronáutica                                                           8.197522\n",
              "Comando do Exército                                                              6.378039\n",
              "Polícia Rodoviária Federal                                                       4.981068\n",
              "Fundação Instituto Brasileiro de Geografia e Estatística                         4.033559\n",
              "Ministério da Agricultura e Pecuária - Unidades com vínculo direto               3.499498\n",
              "Ministério da Defesa - Unidades com vínculo direto                               2.564921\n",
              "Instituto Brasileiro do Meio Ambiente e dos Recursos Naturais Renováveis         2.533861\n",
              "Instituto Chico Mendes de Conservação da Biodiversidade                          2.368288\n",
              "Instituto Nacional do Seguro Social                                              2.345688\n",
              "Ministério da Saúde - Unidades com vínculo direto                                1.737059\n",
              "Presidência da República - Unidades com vínculo direto                           1.630223\n",
              "Instituto Nacional de Colonização e Reforma Agrária                              1.618983\n",
              "Fundação Nacional do Índio                                                       1.103896\n",
              "Ministério da Educação - Unidades com vínculo direto                             0.925392\n",
              "Departamento Nacional de Infraestrutura de Transportes                           0.867019\n",
              "Ministério dos Transportes - Unidades com vínculo direto                         0.698063\n",
              "Ministério das Relações Exteriores - Unidades com vínculo direto                 0.681264\n",
              "Instituto Nacional de Estudos e Pesquisas Educacionais Anísio Teixeira           0.572373\n",
              "Universidade Tecnológica Federal do Paraná                                       0.534424\n",
              "Instituto Federal de Alagoas                                                     0.463361\n",
              "Instituto Federal de São Paulo                                                   0.458768\n",
              "Advocacia-Geral da União - Unidades com vínculo direto                           0.451275\n",
              "Instituto Federal do Espírito Santo                                              0.446320\n",
              "Universidade Federal do Pará                                                     0.430609\n",
              "Instituto Federal do Maranhão                                                    0.427104\n",
              "Agêncial Nacional de Telecomunicações                                            0.418161\n",
              "Fundação Universidade Federal de Uberlândia                                      0.398099\n",
              "Agência Nacional de Transportes Terrestres                                       0.394715\n",
              "Instituto Federal Goiano                                                         0.374774\n",
              "Universidade Federal de Santa Maria                                              0.369456\n",
              "Instituto Federal da Paraíba                                                     0.366193\n",
              "Fundação Oswaldo Cruz                                                            0.360029\n",
              "Instituto Federal Baiano                                                         0.351569\n",
              "Agência Nacional de Vigilância Sanitária                                         0.350965\n",
              "Ministério dos Direitos Humanos e Cidadania - Unidades com vínculo direto        0.349636\n",
              "Universidade Federal do Rio Grande do Norte                                      0.335616\n",
              "Universidade Federal de Santa Catarina                                           0.332353\n",
              "Instituto Federal do Ceará                                                       0.327519\n",
              "Universidade Federal de Goiás                                                    0.312049\n",
              "Instituto do Patrimônio Histórico e Artístico Nacional                           0.306248\n",
              "Universidade Federal de Minas Gerais                                             0.304436\n",
              "Instituto Federal de Pernambuco                                                  0.303710\n",
              "Universidade Federal de Juiz de Fora                                             0.283527\n",
              "Instituto Federal do Mato Grosso                                                 0.278331\n",
              "Instituto Federal Catarinense                                                    0.275551\n",
              "Departamento Nacional de Obras Contra as Secas                                   0.268541\n",
              "Instituto Federal de Santa Catarina                                              0.259115\n",
              "Universidade Federal do Espírito Santo                                           0.256577\n",
              "Controladoria-Geral da União - Unidades com vínculo direto                       0.252226\n",
              "Instituto Federal do Paraná                                                      0.244129\n",
              "Fundação Universidade Federal do Mato Grosso do Sul                              0.243283\n",
              "Comissão Nacional de Energia Nuclear                                             0.241711\n",
              "Universidade Federal do Paraná                                                   0.240261\n",
              "Universidade Federal de Campina Grande                                           0.237844\n",
              "Instituto Nacional de Metrologia, Qualidade e Tecnologia                         0.232285\n",
              "Fundação Universidade Federal de São Carlos                                      0.231076\n",
              "Fundação Universidade do Amazonas                                                0.227450\n",
              "Agência Nacional do Petróleo, Gás Natural e Biocombustíveis                      0.225396\n",
              "Instituto Federal do Norte de Minas Gerais                                       0.224671\n",
              "Instituto Federal do Sudeste de Minas Gerais                                     0.221166\n",
              "Instituto Federal do Piauí                                                       0.220441\n",
              "Universidade Federal Rural do Semi-Árido                                         0.217661\n",
              "Universidade Federal da Paraíba                                                  0.217540\n",
              "Instituto Federal Farroupilha                                                    0.212827\n",
              "Universidade Federal Fluminense                                                  0.210531\n",
              "Universidade Federal de Alagoas                                                  0.208960\n",
              "Instituto Federal do Rio Grande do Sul                                           0.195424\n",
              "Universidade Federal de Lavras                                                   0.194819\n",
              "Centro Federal de Educação Tecnológica de Minas Gerais                           0.193973\n",
              "Ministério do Meio Ambiente e Mudança do Clima - Unidades com vínculo direto     0.193732\n",
              "Fundação Coordenação de Aperfeiçoamento de Pessoal de Nível Superior             0.191435\n",
              "Empresa Brasileira de Serviços Hospitalares                                      0.189018\n",
              "Fundação Universidade de Brasília                                                0.188535\n",
              "Universidade Federal Rural do Rio de Janeiro                                     0.184909\n",
              "Universidade Federal Rural de Pernambuco                                         0.183217\n",
              "Instituto Federal do Pará                                                        0.181646\n",
              "Fundação Universidade Federal de Rondônia                                        0.177174\n",
              "Universidade Federal da Bahia                                                    0.174153\n",
              "Instituto Federal de Minas Gerais                                                0.173791\n",
              "Instituto Federal de Rondônia                                                    0.172945\n",
              "Instituto Federal Sul-rio-grandense                                              0.169802\n",
              "Fundação Universidade Federal de Pelotas                                         0.169802\n",
              "Universidade Federal de Pernambuco                                               0.169561\n",
              "Fundação Universidade Federal do Pampa                                           0.168352\n",
              "Instituto Federal do Tocantins                                                   0.167989\n",
              "Agência Nacional de Águas                                                        0.167869\n",
              "Universidade Federal de Alfenas                                                  0.166177\n",
              "Agência Nacional de Energia Elétrica                                             0.164243\n",
              "Universidade Federal de Ouro Preto                                               0.160496\n",
              "Universidade Federal do Ceará                                                    0.160134\n",
              "Instituto Federal de Educação, Ciência e Tecnologia de Goiás                     0.160013\n",
              "Instituto Federal do Sertão de Pernambuco                                        0.158684\n",
              "Universidade Federal do Rio Grande do Sul                                        0.154816\n",
              "Instituto Federal do Mato Grosso do Sul                                          0.148532\n",
              "Universidade Federal de Viçosa                                                   0.147927\n",
              "Instituto Federal de Sergipe                                                     0.146356\n",
              "Instituto Federal do Triângulo Mineiro                                           0.144664\n",
              "Instituto Federal do Sul de Minas Gerais                                         0.141764\n",
              "Instituto Federal de Roraima                                                     0.138984\n",
              "Universidade Federal da Fronteira Sul                                            0.137413\n",
              "Fundação Universidade Federal do Tocantins                                       0.135721\n",
              "Universidade Federal do Oeste do Pará                                            0.134754\n",
              "Agência Nacional de Transportes Aquaviários                                      0.133183\n",
              "Universidade Federal dos Vales do Jequitinhonha e Mucuri                         0.131854\n",
              "Companhia Nacional de Abastecimento                                              0.123394\n",
              "Instituto Federal da Bahia                                                       0.123031\n",
              "Universidade Federal de Itajubá                                                  0.113846\n",
              "Fundação Universidade Federal de Sergipe                                         0.111066\n",
              "Fundação Universidade Federal do Mato Grosso                                     0.104540\n",
              "Fundação Universidade Federal de São João Del-Rei                                0.102606\n",
              "Instituto Federal do Amazonas                                                    0.102002\n",
              "Instituto Federal do Acre                                                        0.101881\n",
              "Fundação Universidade Federal do Piauí                                           0.099706\n",
              "Agência Nacional de Saúde Suplementar                                            0.097893\n",
              "Universidade Federal do Rio de Janeiro                                           0.096564\n",
              "Instituto Federal do Amapá                                                       0.095959\n",
              "Fundação Universidade Federal do ABC                                             0.095597\n",
              "Universidade Federal do Sul e Sudeste do Pará                                    0.093542\n",
              "VALEC Engenharia, Construções e Ferrovias S.A.                                   0.090279\n",
              "Instituto Federal Fluminense                                                     0.089071\n",
              "Fundação Universidade Federal da Grande Dourados                                 0.088708\n",
              "Fundação Universidade Federal do Acre                                            0.086654\n",
              "Universidade Federal de Roraima                                                  0.083390\n",
              "Universidade Federal do Rio Grande                                               0.081336\n",
              "Ministério de Minas e Energia - Unidades com vínculo direto                      0.079402\n",
              "Universidade Federal da Integração Latino-Americana                              0.077469\n",
              "Fundação Universidade Federal do Vale do São Francisco                           0.075656\n",
              "Fundação Nacional de Saúde                                                       0.074689\n",
              "Universidade Federal do Cariri                                                   0.072513\n",
              "Universidade Federal do Recôncavo da Bahia                                       0.071667\n",
              "Fundação Universidade Federal do Amapá                                           0.069492\n",
              "Instituto Brasileiro de Museus                                                   0.066712\n",
              "Fundo Nacional de Desenvolvimento da Educação                                    0.063328\n",
              "Ministério do Turismo - Unidades com vínculo direto                              0.061999\n",
              "Superintendência do Desenvolvimento do Nordeste                                  0.061153\n",
              "Empresa de Pesquisa Energética                                                   0.059703\n",
              "Universidade Federal Rural da Amazônia                                           0.057286\n",
              "Fundação Universidade do Maranhão                                                0.056681\n",
              "Universidade Federal do Oeste da Bahia                                           0.054868\n",
              "Comissão de Valores Mobiliários                                                  0.053177\n",
              "Instituto Federal do Rio de Janeiro                                              0.051605\n",
              "Universidade Federal do Sul da Bahia                                             0.050276\n",
              "Instituto de Pesquisa Econômica Aplicada                                         0.049793\n",
              "Universidade Federal do Triângulo Mineiro                                        0.047255\n",
              "Fundação Universidade Federal de Ciências da Saúde de Porto Alegre               0.045925\n",
              "Gabinete da Vice-Presidência da República                                        0.045442\n",
              "Centro Federal de Educação Tecnológica Celso Suckow da Fonseca                   0.040366\n",
              "Conselho Administrativo de Defesa Econômica                                      0.034806\n",
              "Superintendência da Zona Franca de Manaus                                        0.033598\n",
              "Instituto Nacional da Propriedade Industrial                                     0.032631\n",
              "Universidade Federal do Estado do Rio de Janeiro                                 0.029247\n",
              "Fundação Joaquim Nabuco                                                          0.028885\n",
              "Agência Espacial Brasileira                                                      0.028643\n",
              "Fundação Escola Nacional de Administração Pública                                0.028159\n",
              "Fundação Nacional de Artes                                                       0.027313\n",
              "Superintendência do Desenvolvimento da Amazônia                                  0.027072\n",
              "Universidade da Integração Internacional da Lusofonia Afro-Brasileira            0.026588\n",
              "Superintendência de Seguros Privados                                             0.025984\n",
              "Agência Nacional do Cinema                                                       0.025259\n",
              "Superintendência Nacional de Previdência Complementar                            0.024775\n",
              "Colégio Pedro II                                                                 0.023929\n",
              "Fundação Cultural Palmares                                                       0.022963\n",
              "Fundação Jorge Duprat Figueiredo, de Segurança e Medicina do Trabalho            0.022117\n",
              "Conselho Nacional de Desenvolvimento Científico e Tecnológico                    0.021875\n",
              "Universidade Federal de São Paulo                                                0.020787\n",
              "Instituto de Pesquisas Jardim Botânico do Rio de Janeiro                         0.017887\n",
              "Fundação Casa de Rui Barbosa                                                     0.015228\n",
              "Centro Nacional de Tecnologia Eletrônica Avançada S.A.                           0.011844\n",
              "Fundação Alexandre de Gusmão                                                     0.009789\n",
              "Caixa de Financiamento Imobiliário da Aeronáutica                                0.009789\n",
              "Superintendência de Desenvolvimento do Centro-Oeste                              0.007976\n",
              "Instituto Federal de Brasília                                                    0.007372\n",
              "Fundação Biblioteca Nacional                                                     0.006164\n",
              "Instituto Nacional de Tecnologia da Informação                                   0.002901\n",
              "Ministério da Ciência, Tecnologia e Inovação - Unidades com vínculo direto       0.000846\n",
              "Name: proportion, dtype: float64"
            ],
            "text/html": [
              "<div>\n",
              "<style scoped>\n",
              "    .dataframe tbody tr th:only-of-type {\n",
              "        vertical-align: middle;\n",
              "    }\n",
              "\n",
              "    .dataframe tbody tr th {\n",
              "        vertical-align: top;\n",
              "    }\n",
              "\n",
              "    .dataframe thead th {\n",
              "        text-align: right;\n",
              "    }\n",
              "</style>\n",
              "<table border=\"1\" class=\"dataframe\">\n",
              "  <thead>\n",
              "    <tr style=\"text-align: right;\">\n",
              "      <th></th>\n",
              "      <th>proportion</th>\n",
              "    </tr>\n",
              "    <tr>\n",
              "      <th>Nome órgão solicitante</th>\n",
              "      <th></th>\n",
              "    </tr>\n",
              "  </thead>\n",
              "  <tbody>\n",
              "    <tr>\n",
              "      <th>Sem informação</th>\n",
              "      <td>19.785288</td>\n",
              "    </tr>\n",
              "    <tr>\n",
              "      <th>Polícia Federal</th>\n",
              "      <td>8.363698</td>\n",
              "    </tr>\n",
              "    <tr>\n",
              "      <th>Comando da Aeronáutica</th>\n",
              "      <td>8.197522</td>\n",
              "    </tr>\n",
              "    <tr>\n",
              "      <th>Comando do Exército</th>\n",
              "      <td>6.378039</td>\n",
              "    </tr>\n",
              "    <tr>\n",
              "      <th>Polícia Rodoviária Federal</th>\n",
              "      <td>4.981068</td>\n",
              "    </tr>\n",
              "    <tr>\n",
              "      <th>Fundação Instituto Brasileiro de Geografia e Estatística</th>\n",
              "      <td>4.033559</td>\n",
              "    </tr>\n",
              "    <tr>\n",
              "      <th>Ministério da Agricultura e Pecuária - Unidades com vínculo direto</th>\n",
              "      <td>3.499498</td>\n",
              "    </tr>\n",
              "    <tr>\n",
              "      <th>Ministério da Defesa - Unidades com vínculo direto</th>\n",
              "      <td>2.564921</td>\n",
              "    </tr>\n",
              "    <tr>\n",
              "      <th>Instituto Brasileiro do Meio Ambiente e dos Recursos Naturais Renováveis</th>\n",
              "      <td>2.533861</td>\n",
              "    </tr>\n",
              "    <tr>\n",
              "      <th>Instituto Chico Mendes de Conservação da Biodiversidade</th>\n",
              "      <td>2.368288</td>\n",
              "    </tr>\n",
              "    <tr>\n",
              "      <th>Instituto Nacional do Seguro Social</th>\n",
              "      <td>2.345688</td>\n",
              "    </tr>\n",
              "    <tr>\n",
              "      <th>Ministério da Saúde - Unidades com vínculo direto</th>\n",
              "      <td>1.737059</td>\n",
              "    </tr>\n",
              "    <tr>\n",
              "      <th>Presidência da República - Unidades com vínculo direto</th>\n",
              "      <td>1.630223</td>\n",
              "    </tr>\n",
              "    <tr>\n",
              "      <th>Instituto Nacional de Colonização e Reforma Agrária</th>\n",
              "      <td>1.618983</td>\n",
              "    </tr>\n",
              "    <tr>\n",
              "      <th>Fundação Nacional do Índio</th>\n",
              "      <td>1.103896</td>\n",
              "    </tr>\n",
              "    <tr>\n",
              "      <th>Ministério da Educação - Unidades com vínculo direto</th>\n",
              "      <td>0.925392</td>\n",
              "    </tr>\n",
              "    <tr>\n",
              "      <th>Departamento Nacional de Infraestrutura de Transportes</th>\n",
              "      <td>0.867019</td>\n",
              "    </tr>\n",
              "    <tr>\n",
              "      <th>Ministério dos Transportes - Unidades com vínculo direto</th>\n",
              "      <td>0.698063</td>\n",
              "    </tr>\n",
              "    <tr>\n",
              "      <th>Ministério das Relações Exteriores - Unidades com vínculo direto</th>\n",
              "      <td>0.681264</td>\n",
              "    </tr>\n",
              "    <tr>\n",
              "      <th>Instituto Nacional de Estudos e Pesquisas Educacionais Anísio Teixeira</th>\n",
              "      <td>0.572373</td>\n",
              "    </tr>\n",
              "    <tr>\n",
              "      <th>Universidade Tecnológica Federal do Paraná</th>\n",
              "      <td>0.534424</td>\n",
              "    </tr>\n",
              "    <tr>\n",
              "      <th>Instituto Federal de Alagoas</th>\n",
              "      <td>0.463361</td>\n",
              "    </tr>\n",
              "    <tr>\n",
              "      <th>Instituto Federal de São Paulo</th>\n",
              "      <td>0.458768</td>\n",
              "    </tr>\n",
              "    <tr>\n",
              "      <th>Advocacia-Geral da União - Unidades com vínculo direto</th>\n",
              "      <td>0.451275</td>\n",
              "    </tr>\n",
              "    <tr>\n",
              "      <th>Instituto Federal do Espírito Santo</th>\n",
              "      <td>0.446320</td>\n",
              "    </tr>\n",
              "    <tr>\n",
              "      <th>Universidade Federal do Pará</th>\n",
              "      <td>0.430609</td>\n",
              "    </tr>\n",
              "    <tr>\n",
              "      <th>Instituto Federal do Maranhão</th>\n",
              "      <td>0.427104</td>\n",
              "    </tr>\n",
              "    <tr>\n",
              "      <th>Agêncial Nacional de Telecomunicações</th>\n",
              "      <td>0.418161</td>\n",
              "    </tr>\n",
              "    <tr>\n",
              "      <th>Fundação Universidade Federal de Uberlândia</th>\n",
              "      <td>0.398099</td>\n",
              "    </tr>\n",
              "    <tr>\n",
              "      <th>Agência Nacional de Transportes Terrestres</th>\n",
              "      <td>0.394715</td>\n",
              "    </tr>\n",
              "    <tr>\n",
              "      <th>Instituto Federal Goiano</th>\n",
              "      <td>0.374774</td>\n",
              "    </tr>\n",
              "    <tr>\n",
              "      <th>Universidade Federal de Santa Maria</th>\n",
              "      <td>0.369456</td>\n",
              "    </tr>\n",
              "    <tr>\n",
              "      <th>Instituto Federal da Paraíba</th>\n",
              "      <td>0.366193</td>\n",
              "    </tr>\n",
              "    <tr>\n",
              "      <th>Fundação Oswaldo Cruz</th>\n",
              "      <td>0.360029</td>\n",
              "    </tr>\n",
              "    <tr>\n",
              "      <th>Instituto Federal Baiano</th>\n",
              "      <td>0.351569</td>\n",
              "    </tr>\n",
              "    <tr>\n",
              "      <th>Agência Nacional de Vigilância Sanitária</th>\n",
              "      <td>0.350965</td>\n",
              "    </tr>\n",
              "    <tr>\n",
              "      <th>Ministério dos Direitos Humanos e Cidadania - Unidades com vínculo direto</th>\n",
              "      <td>0.349636</td>\n",
              "    </tr>\n",
              "    <tr>\n",
              "      <th>Universidade Federal do Rio Grande do Norte</th>\n",
              "      <td>0.335616</td>\n",
              "    </tr>\n",
              "    <tr>\n",
              "      <th>Universidade Federal de Santa Catarina</th>\n",
              "      <td>0.332353</td>\n",
              "    </tr>\n",
              "    <tr>\n",
              "      <th>Instituto Federal do Ceará</th>\n",
              "      <td>0.327519</td>\n",
              "    </tr>\n",
              "    <tr>\n",
              "      <th>Universidade Federal de Goiás</th>\n",
              "      <td>0.312049</td>\n",
              "    </tr>\n",
              "    <tr>\n",
              "      <th>Instituto do Patrimônio Histórico e Artístico Nacional</th>\n",
              "      <td>0.306248</td>\n",
              "    </tr>\n",
              "    <tr>\n",
              "      <th>Universidade Federal de Minas Gerais</th>\n",
              "      <td>0.304436</td>\n",
              "    </tr>\n",
              "    <tr>\n",
              "      <th>Instituto Federal de Pernambuco</th>\n",
              "      <td>0.303710</td>\n",
              "    </tr>\n",
              "    <tr>\n",
              "      <th>Universidade Federal de Juiz de Fora</th>\n",
              "      <td>0.283527</td>\n",
              "    </tr>\n",
              "    <tr>\n",
              "      <th>Instituto Federal do Mato Grosso</th>\n",
              "      <td>0.278331</td>\n",
              "    </tr>\n",
              "    <tr>\n",
              "      <th>Instituto Federal Catarinense</th>\n",
              "      <td>0.275551</td>\n",
              "    </tr>\n",
              "    <tr>\n",
              "      <th>Departamento Nacional de Obras Contra as Secas</th>\n",
              "      <td>0.268541</td>\n",
              "    </tr>\n",
              "    <tr>\n",
              "      <th>Instituto Federal de Santa Catarina</th>\n",
              "      <td>0.259115</td>\n",
              "    </tr>\n",
              "    <tr>\n",
              "      <th>Universidade Federal do Espírito Santo</th>\n",
              "      <td>0.256577</td>\n",
              "    </tr>\n",
              "    <tr>\n",
              "      <th>Controladoria-Geral da União - Unidades com vínculo direto</th>\n",
              "      <td>0.252226</td>\n",
              "    </tr>\n",
              "    <tr>\n",
              "      <th>Instituto Federal do Paraná</th>\n",
              "      <td>0.244129</td>\n",
              "    </tr>\n",
              "    <tr>\n",
              "      <th>Fundação Universidade Federal do Mato Grosso do Sul</th>\n",
              "      <td>0.243283</td>\n",
              "    </tr>\n",
              "    <tr>\n",
              "      <th>Comissão Nacional de Energia Nuclear</th>\n",
              "      <td>0.241711</td>\n",
              "    </tr>\n",
              "    <tr>\n",
              "      <th>Universidade Federal do Paraná</th>\n",
              "      <td>0.240261</td>\n",
              "    </tr>\n",
              "    <tr>\n",
              "      <th>Universidade Federal de Campina Grande</th>\n",
              "      <td>0.237844</td>\n",
              "    </tr>\n",
              "    <tr>\n",
              "      <th>Instituto Nacional de Metrologia, Qualidade e Tecnologia</th>\n",
              "      <td>0.232285</td>\n",
              "    </tr>\n",
              "    <tr>\n",
              "      <th>Fundação Universidade Federal de São Carlos</th>\n",
              "      <td>0.231076</td>\n",
              "    </tr>\n",
              "    <tr>\n",
              "      <th>Fundação Universidade do Amazonas</th>\n",
              "      <td>0.227450</td>\n",
              "    </tr>\n",
              "    <tr>\n",
              "      <th>Agência Nacional do Petróleo, Gás Natural e Biocombustíveis</th>\n",
              "      <td>0.225396</td>\n",
              "    </tr>\n",
              "    <tr>\n",
              "      <th>Instituto Federal do Norte de Minas Gerais</th>\n",
              "      <td>0.224671</td>\n",
              "    </tr>\n",
              "    <tr>\n",
              "      <th>Instituto Federal do Sudeste de Minas Gerais</th>\n",
              "      <td>0.221166</td>\n",
              "    </tr>\n",
              "    <tr>\n",
              "      <th>Instituto Federal do Piauí</th>\n",
              "      <td>0.220441</td>\n",
              "    </tr>\n",
              "    <tr>\n",
              "      <th>Universidade Federal Rural do Semi-Árido</th>\n",
              "      <td>0.217661</td>\n",
              "    </tr>\n",
              "    <tr>\n",
              "      <th>Universidade Federal da Paraíba</th>\n",
              "      <td>0.217540</td>\n",
              "    </tr>\n",
              "    <tr>\n",
              "      <th>Instituto Federal Farroupilha</th>\n",
              "      <td>0.212827</td>\n",
              "    </tr>\n",
              "    <tr>\n",
              "      <th>Universidade Federal Fluminense</th>\n",
              "      <td>0.210531</td>\n",
              "    </tr>\n",
              "    <tr>\n",
              "      <th>Universidade Federal de Alagoas</th>\n",
              "      <td>0.208960</td>\n",
              "    </tr>\n",
              "    <tr>\n",
              "      <th>Instituto Federal do Rio Grande do Sul</th>\n",
              "      <td>0.195424</td>\n",
              "    </tr>\n",
              "    <tr>\n",
              "      <th>Universidade Federal de Lavras</th>\n",
              "      <td>0.194819</td>\n",
              "    </tr>\n",
              "    <tr>\n",
              "      <th>Centro Federal de Educação Tecnológica de Minas Gerais</th>\n",
              "      <td>0.193973</td>\n",
              "    </tr>\n",
              "    <tr>\n",
              "      <th>Ministério do Meio Ambiente e Mudança do Clima - Unidades com vínculo direto</th>\n",
              "      <td>0.193732</td>\n",
              "    </tr>\n",
              "    <tr>\n",
              "      <th>Fundação Coordenação de Aperfeiçoamento de Pessoal de Nível Superior</th>\n",
              "      <td>0.191435</td>\n",
              "    </tr>\n",
              "    <tr>\n",
              "      <th>Empresa Brasileira de Serviços Hospitalares</th>\n",
              "      <td>0.189018</td>\n",
              "    </tr>\n",
              "    <tr>\n",
              "      <th>Fundação Universidade de Brasília</th>\n",
              "      <td>0.188535</td>\n",
              "    </tr>\n",
              "    <tr>\n",
              "      <th>Universidade Federal Rural do Rio de Janeiro</th>\n",
              "      <td>0.184909</td>\n",
              "    </tr>\n",
              "    <tr>\n",
              "      <th>Universidade Federal Rural de Pernambuco</th>\n",
              "      <td>0.183217</td>\n",
              "    </tr>\n",
              "    <tr>\n",
              "      <th>Instituto Federal do Pará</th>\n",
              "      <td>0.181646</td>\n",
              "    </tr>\n",
              "    <tr>\n",
              "      <th>Fundação Universidade Federal de Rondônia</th>\n",
              "      <td>0.177174</td>\n",
              "    </tr>\n",
              "    <tr>\n",
              "      <th>Universidade Federal da Bahia</th>\n",
              "      <td>0.174153</td>\n",
              "    </tr>\n",
              "    <tr>\n",
              "      <th>Instituto Federal de Minas Gerais</th>\n",
              "      <td>0.173791</td>\n",
              "    </tr>\n",
              "    <tr>\n",
              "      <th>Instituto Federal de Rondônia</th>\n",
              "      <td>0.172945</td>\n",
              "    </tr>\n",
              "    <tr>\n",
              "      <th>Instituto Federal Sul-rio-grandense</th>\n",
              "      <td>0.169802</td>\n",
              "    </tr>\n",
              "    <tr>\n",
              "      <th>Fundação Universidade Federal de Pelotas</th>\n",
              "      <td>0.169802</td>\n",
              "    </tr>\n",
              "    <tr>\n",
              "      <th>Universidade Federal de Pernambuco</th>\n",
              "      <td>0.169561</td>\n",
              "    </tr>\n",
              "    <tr>\n",
              "      <th>Fundação Universidade Federal do Pampa</th>\n",
              "      <td>0.168352</td>\n",
              "    </tr>\n",
              "    <tr>\n",
              "      <th>Instituto Federal do Tocantins</th>\n",
              "      <td>0.167989</td>\n",
              "    </tr>\n",
              "    <tr>\n",
              "      <th>Agência Nacional de Águas</th>\n",
              "      <td>0.167869</td>\n",
              "    </tr>\n",
              "    <tr>\n",
              "      <th>Universidade Federal de Alfenas</th>\n",
              "      <td>0.166177</td>\n",
              "    </tr>\n",
              "    <tr>\n",
              "      <th>Agência Nacional de Energia Elétrica</th>\n",
              "      <td>0.164243</td>\n",
              "    </tr>\n",
              "    <tr>\n",
              "      <th>Universidade Federal de Ouro Preto</th>\n",
              "      <td>0.160496</td>\n",
              "    </tr>\n",
              "    <tr>\n",
              "      <th>Universidade Federal do Ceará</th>\n",
              "      <td>0.160134</td>\n",
              "    </tr>\n",
              "    <tr>\n",
              "      <th>Instituto Federal de Educação, Ciência e Tecnologia de Goiás</th>\n",
              "      <td>0.160013</td>\n",
              "    </tr>\n",
              "    <tr>\n",
              "      <th>Instituto Federal do Sertão de Pernambuco</th>\n",
              "      <td>0.158684</td>\n",
              "    </tr>\n",
              "    <tr>\n",
              "      <th>Universidade Federal do Rio Grande do Sul</th>\n",
              "      <td>0.154816</td>\n",
              "    </tr>\n",
              "    <tr>\n",
              "      <th>Instituto Federal do Mato Grosso do Sul</th>\n",
              "      <td>0.148532</td>\n",
              "    </tr>\n",
              "    <tr>\n",
              "      <th>Universidade Federal de Viçosa</th>\n",
              "      <td>0.147927</td>\n",
              "    </tr>\n",
              "    <tr>\n",
              "      <th>Instituto Federal de Sergipe</th>\n",
              "      <td>0.146356</td>\n",
              "    </tr>\n",
              "    <tr>\n",
              "      <th>Instituto Federal do Triângulo Mineiro</th>\n",
              "      <td>0.144664</td>\n",
              "    </tr>\n",
              "    <tr>\n",
              "      <th>Instituto Federal do Sul de Minas Gerais</th>\n",
              "      <td>0.141764</td>\n",
              "    </tr>\n",
              "    <tr>\n",
              "      <th>Instituto Federal de Roraima</th>\n",
              "      <td>0.138984</td>\n",
              "    </tr>\n",
              "    <tr>\n",
              "      <th>Universidade Federal da Fronteira Sul</th>\n",
              "      <td>0.137413</td>\n",
              "    </tr>\n",
              "    <tr>\n",
              "      <th>Fundação Universidade Federal do Tocantins</th>\n",
              "      <td>0.135721</td>\n",
              "    </tr>\n",
              "    <tr>\n",
              "      <th>Universidade Federal do Oeste do Pará</th>\n",
              "      <td>0.134754</td>\n",
              "    </tr>\n",
              "    <tr>\n",
              "      <th>Agência Nacional de Transportes Aquaviários</th>\n",
              "      <td>0.133183</td>\n",
              "    </tr>\n",
              "    <tr>\n",
              "      <th>Universidade Federal dos Vales do Jequitinhonha e Mucuri</th>\n",
              "      <td>0.131854</td>\n",
              "    </tr>\n",
              "    <tr>\n",
              "      <th>Companhia Nacional de Abastecimento</th>\n",
              "      <td>0.123394</td>\n",
              "    </tr>\n",
              "    <tr>\n",
              "      <th>Instituto Federal da Bahia</th>\n",
              "      <td>0.123031</td>\n",
              "    </tr>\n",
              "    <tr>\n",
              "      <th>Universidade Federal de Itajubá</th>\n",
              "      <td>0.113846</td>\n",
              "    </tr>\n",
              "    <tr>\n",
              "      <th>Fundação Universidade Federal de Sergipe</th>\n",
              "      <td>0.111066</td>\n",
              "    </tr>\n",
              "    <tr>\n",
              "      <th>Fundação Universidade Federal do Mato Grosso</th>\n",
              "      <td>0.104540</td>\n",
              "    </tr>\n",
              "    <tr>\n",
              "      <th>Fundação Universidade Federal de São João Del-Rei</th>\n",
              "      <td>0.102606</td>\n",
              "    </tr>\n",
              "    <tr>\n",
              "      <th>Instituto Federal do Amazonas</th>\n",
              "      <td>0.102002</td>\n",
              "    </tr>\n",
              "    <tr>\n",
              "      <th>Instituto Federal do Acre</th>\n",
              "      <td>0.101881</td>\n",
              "    </tr>\n",
              "    <tr>\n",
              "      <th>Fundação Universidade Federal do Piauí</th>\n",
              "      <td>0.099706</td>\n",
              "    </tr>\n",
              "    <tr>\n",
              "      <th>Agência Nacional de Saúde Suplementar</th>\n",
              "      <td>0.097893</td>\n",
              "    </tr>\n",
              "    <tr>\n",
              "      <th>Universidade Federal do Rio de Janeiro</th>\n",
              "      <td>0.096564</td>\n",
              "    </tr>\n",
              "    <tr>\n",
              "      <th>Instituto Federal do Amapá</th>\n",
              "      <td>0.095959</td>\n",
              "    </tr>\n",
              "    <tr>\n",
              "      <th>Fundação Universidade Federal do ABC</th>\n",
              "      <td>0.095597</td>\n",
              "    </tr>\n",
              "    <tr>\n",
              "      <th>Universidade Federal do Sul e Sudeste do Pará</th>\n",
              "      <td>0.093542</td>\n",
              "    </tr>\n",
              "    <tr>\n",
              "      <th>VALEC Engenharia, Construções e Ferrovias S.A.</th>\n",
              "      <td>0.090279</td>\n",
              "    </tr>\n",
              "    <tr>\n",
              "      <th>Instituto Federal Fluminense</th>\n",
              "      <td>0.089071</td>\n",
              "    </tr>\n",
              "    <tr>\n",
              "      <th>Fundação Universidade Federal da Grande Dourados</th>\n",
              "      <td>0.088708</td>\n",
              "    </tr>\n",
              "    <tr>\n",
              "      <th>Fundação Universidade Federal do Acre</th>\n",
              "      <td>0.086654</td>\n",
              "    </tr>\n",
              "    <tr>\n",
              "      <th>Universidade Federal de Roraima</th>\n",
              "      <td>0.083390</td>\n",
              "    </tr>\n",
              "    <tr>\n",
              "      <th>Universidade Federal do Rio Grande</th>\n",
              "      <td>0.081336</td>\n",
              "    </tr>\n",
              "    <tr>\n",
              "      <th>Ministério de Minas e Energia - Unidades com vínculo direto</th>\n",
              "      <td>0.079402</td>\n",
              "    </tr>\n",
              "    <tr>\n",
              "      <th>Universidade Federal da Integração Latino-Americana</th>\n",
              "      <td>0.077469</td>\n",
              "    </tr>\n",
              "    <tr>\n",
              "      <th>Fundação Universidade Federal do Vale do São Francisco</th>\n",
              "      <td>0.075656</td>\n",
              "    </tr>\n",
              "    <tr>\n",
              "      <th>Fundação Nacional de Saúde</th>\n",
              "      <td>0.074689</td>\n",
              "    </tr>\n",
              "    <tr>\n",
              "      <th>Universidade Federal do Cariri</th>\n",
              "      <td>0.072513</td>\n",
              "    </tr>\n",
              "    <tr>\n",
              "      <th>Universidade Federal do Recôncavo da Bahia</th>\n",
              "      <td>0.071667</td>\n",
              "    </tr>\n",
              "    <tr>\n",
              "      <th>Fundação Universidade Federal do Amapá</th>\n",
              "      <td>0.069492</td>\n",
              "    </tr>\n",
              "    <tr>\n",
              "      <th>Instituto Brasileiro de Museus</th>\n",
              "      <td>0.066712</td>\n",
              "    </tr>\n",
              "    <tr>\n",
              "      <th>Fundo Nacional de Desenvolvimento da Educação</th>\n",
              "      <td>0.063328</td>\n",
              "    </tr>\n",
              "    <tr>\n",
              "      <th>Ministério do Turismo - Unidades com vínculo direto</th>\n",
              "      <td>0.061999</td>\n",
              "    </tr>\n",
              "    <tr>\n",
              "      <th>Superintendência do Desenvolvimento do Nordeste</th>\n",
              "      <td>0.061153</td>\n",
              "    </tr>\n",
              "    <tr>\n",
              "      <th>Empresa de Pesquisa Energética</th>\n",
              "      <td>0.059703</td>\n",
              "    </tr>\n",
              "    <tr>\n",
              "      <th>Universidade Federal Rural da Amazônia</th>\n",
              "      <td>0.057286</td>\n",
              "    </tr>\n",
              "    <tr>\n",
              "      <th>Fundação Universidade do Maranhão</th>\n",
              "      <td>0.056681</td>\n",
              "    </tr>\n",
              "    <tr>\n",
              "      <th>Universidade Federal do Oeste da Bahia</th>\n",
              "      <td>0.054868</td>\n",
              "    </tr>\n",
              "    <tr>\n",
              "      <th>Comissão de Valores Mobiliários</th>\n",
              "      <td>0.053177</td>\n",
              "    </tr>\n",
              "    <tr>\n",
              "      <th>Instituto Federal do Rio de Janeiro</th>\n",
              "      <td>0.051605</td>\n",
              "    </tr>\n",
              "    <tr>\n",
              "      <th>Universidade Federal do Sul da Bahia</th>\n",
              "      <td>0.050276</td>\n",
              "    </tr>\n",
              "    <tr>\n",
              "      <th>Instituto de Pesquisa Econômica Aplicada</th>\n",
              "      <td>0.049793</td>\n",
              "    </tr>\n",
              "    <tr>\n",
              "      <th>Universidade Federal do Triângulo Mineiro</th>\n",
              "      <td>0.047255</td>\n",
              "    </tr>\n",
              "    <tr>\n",
              "      <th>Fundação Universidade Federal de Ciências da Saúde de Porto Alegre</th>\n",
              "      <td>0.045925</td>\n",
              "    </tr>\n",
              "    <tr>\n",
              "      <th>Gabinete da Vice-Presidência da República</th>\n",
              "      <td>0.045442</td>\n",
              "    </tr>\n",
              "    <tr>\n",
              "      <th>Centro Federal de Educação Tecnológica Celso Suckow da Fonseca</th>\n",
              "      <td>0.040366</td>\n",
              "    </tr>\n",
              "    <tr>\n",
              "      <th>Conselho Administrativo de Defesa Econômica</th>\n",
              "      <td>0.034806</td>\n",
              "    </tr>\n",
              "    <tr>\n",
              "      <th>Superintendência da Zona Franca de Manaus</th>\n",
              "      <td>0.033598</td>\n",
              "    </tr>\n",
              "    <tr>\n",
              "      <th>Instituto Nacional da Propriedade Industrial</th>\n",
              "      <td>0.032631</td>\n",
              "    </tr>\n",
              "    <tr>\n",
              "      <th>Universidade Federal do Estado do Rio de Janeiro</th>\n",
              "      <td>0.029247</td>\n",
              "    </tr>\n",
              "    <tr>\n",
              "      <th>Fundação Joaquim Nabuco</th>\n",
              "      <td>0.028885</td>\n",
              "    </tr>\n",
              "    <tr>\n",
              "      <th>Agência Espacial Brasileira</th>\n",
              "      <td>0.028643</td>\n",
              "    </tr>\n",
              "    <tr>\n",
              "      <th>Fundação Escola Nacional de Administração Pública</th>\n",
              "      <td>0.028159</td>\n",
              "    </tr>\n",
              "    <tr>\n",
              "      <th>Fundação Nacional de Artes</th>\n",
              "      <td>0.027313</td>\n",
              "    </tr>\n",
              "    <tr>\n",
              "      <th>Superintendência do Desenvolvimento da Amazônia</th>\n",
              "      <td>0.027072</td>\n",
              "    </tr>\n",
              "    <tr>\n",
              "      <th>Universidade da Integração Internacional da Lusofonia Afro-Brasileira</th>\n",
              "      <td>0.026588</td>\n",
              "    </tr>\n",
              "    <tr>\n",
              "      <th>Superintendência de Seguros Privados</th>\n",
              "      <td>0.025984</td>\n",
              "    </tr>\n",
              "    <tr>\n",
              "      <th>Agência Nacional do Cinema</th>\n",
              "      <td>0.025259</td>\n",
              "    </tr>\n",
              "    <tr>\n",
              "      <th>Superintendência Nacional de Previdência Complementar</th>\n",
              "      <td>0.024775</td>\n",
              "    </tr>\n",
              "    <tr>\n",
              "      <th>Colégio Pedro II</th>\n",
              "      <td>0.023929</td>\n",
              "    </tr>\n",
              "    <tr>\n",
              "      <th>Fundação Cultural Palmares</th>\n",
              "      <td>0.022963</td>\n",
              "    </tr>\n",
              "    <tr>\n",
              "      <th>Fundação Jorge Duprat Figueiredo, de Segurança e Medicina do Trabalho</th>\n",
              "      <td>0.022117</td>\n",
              "    </tr>\n",
              "    <tr>\n",
              "      <th>Conselho Nacional de Desenvolvimento Científico e Tecnológico</th>\n",
              "      <td>0.021875</td>\n",
              "    </tr>\n",
              "    <tr>\n",
              "      <th>Universidade Federal de São Paulo</th>\n",
              "      <td>0.020787</td>\n",
              "    </tr>\n",
              "    <tr>\n",
              "      <th>Instituto de Pesquisas Jardim Botânico do Rio de Janeiro</th>\n",
              "      <td>0.017887</td>\n",
              "    </tr>\n",
              "    <tr>\n",
              "      <th>Fundação Casa de Rui Barbosa</th>\n",
              "      <td>0.015228</td>\n",
              "    </tr>\n",
              "    <tr>\n",
              "      <th>Centro Nacional de Tecnologia Eletrônica Avançada S.A.</th>\n",
              "      <td>0.011844</td>\n",
              "    </tr>\n",
              "    <tr>\n",
              "      <th>Fundação Alexandre de Gusmão</th>\n",
              "      <td>0.009789</td>\n",
              "    </tr>\n",
              "    <tr>\n",
              "      <th>Caixa de Financiamento Imobiliário da Aeronáutica</th>\n",
              "      <td>0.009789</td>\n",
              "    </tr>\n",
              "    <tr>\n",
              "      <th>Superintendência de Desenvolvimento do Centro-Oeste</th>\n",
              "      <td>0.007976</td>\n",
              "    </tr>\n",
              "    <tr>\n",
              "      <th>Instituto Federal de Brasília</th>\n",
              "      <td>0.007372</td>\n",
              "    </tr>\n",
              "    <tr>\n",
              "      <th>Fundação Biblioteca Nacional</th>\n",
              "      <td>0.006164</td>\n",
              "    </tr>\n",
              "    <tr>\n",
              "      <th>Instituto Nacional de Tecnologia da Informação</th>\n",
              "      <td>0.002901</td>\n",
              "    </tr>\n",
              "    <tr>\n",
              "      <th>Ministério da Ciência, Tecnologia e Inovação - Unidades com vínculo direto</th>\n",
              "      <td>0.000846</td>\n",
              "    </tr>\n",
              "  </tbody>\n",
              "</table>\n",
              "</div><br><label><b>dtype:</b> float64</label>"
            ]
          },
          "metadata": {}
        }
      ]
    },
    {
      "cell_type": "code",
      "source": [
        "# Verificando os cargos mais comuns quando o órgão está registrado como \"Sem informação\"\n",
        "\n",
        "cargosSemInformacao = df[df[\"Nome órgão solicitante\"] == \"Sem informação\"][\"Cargo\"].value_counts()\n",
        "print(cargosSemInformacao.head(20))"
      ],
      "metadata": {
        "colab": {
          "base_uri": "https://localhost:8080/"
        },
        "id": "FYd9RlkWxKGj",
        "outputId": "6782af56-ca75-458a-d435-5f17bb18cf0a"
      },
      "execution_count": 99,
      "outputs": [
        {
          "output_type": "stream",
          "name": "stdout",
          "text": [
            "Cargo\n",
            "AUDITOR-FISCAL DA RECEITA FEDERAL BRASIL    9965\n",
            "ANALISTA TRIBUTARIO REC FEDERAL BRASIL      8505\n",
            "AUDITOR FISCAL DO TRABALHO                  7760\n",
            "Informações protegidas por sigilo           5599\n",
            "AGENTE ADMINISTRATIVO                       2365\n",
            "MOTORISTA OFICIAL                           2018\n",
            "PROFESSOR DO MAGISTERIO SUPERIOR            1921\n",
            "ASSISTENTE TECNICO ADMINISTRATIVO           1825\n",
            "ESPECIALISTA EM RECURSOS MINERAIS           1762\n",
            "ANALISTA DE INFRA-ESTRUTURA                 1083\n",
            "TECNICO DO SEGURO SOCIAL                    1013\n",
            "ANALISTA DO BANCO CENTRAL                    654\n",
            "ESP. EM POL. PUBL. E GESTAO GOVERNAMENTA     646\n",
            "PROCURADOR DA FAZENDA                        619\n",
            "TECNOLOGISTA                                 519\n",
            "ASSISTENTE EM CIENCIA E TECNOLOGIA           512\n",
            "PESQUISADOR                                  464\n",
            "ENGENHEIRO                                   454\n",
            "ANALISTA TECNICO DE POLITICAS SOCIAIS        389\n",
            "ANALISTA EM CIENCIA E TECNOLOGIA             386\n",
            "Name: count, dtype: int64\n"
          ]
        }
      ]
    },
    {
      "cell_type": "markdown",
      "source": [],
      "metadata": {
        "id": "Jk4MawmzxJjb"
      }
    },
    {
      "cell_type": "markdown",
      "source": [
        "# 6 - Análise do atributo \"Período – Data de início\""
      ],
      "metadata": {
        "id": "X2LHi9JV1v_J"
      }
    },
    {
      "cell_type": "code",
      "source": [
        "print(df[\"Período - Data de início\"].isna().any()) # verificando se há valores NA"
      ],
      "metadata": {
        "colab": {
          "base_uri": "https://localhost:8080/"
        },
        "id": "MihdIese1yA3",
        "outputId": "4565d8c7-d607-41df-caf5-5979343fccc7"
      },
      "execution_count": 100,
      "outputs": [
        {
          "output_type": "stream",
          "name": "stdout",
          "text": [
            "False\n"
          ]
        }
      ]
    },
    {
      "cell_type": "code",
      "source": [
        "# Criação de uma nova coluna no dataframe no formato data: dataInicio\n",
        "\n",
        "df[\"dataInicio\"] = pd.to_datetime(df[\"Período - Data de início\"], format=\"%d/%m/%Y\")\n",
        "\n",
        "# Criação de uma nova coluna no dataframe com o mês de início da viagem\n",
        "\n",
        "df[\"mesInicio\"] = df[\"dataInicio\"].dt.month\n",
        "\n",
        "# Criação de uma nova coluna n odataframe com o ano de início da viagem\n",
        "\n",
        "df[\"anoInicio\"] = df[\"dataInicio\"].dt.year"
      ],
      "metadata": {
        "id": "jKQtd6sm2CPA"
      },
      "execution_count": 101,
      "outputs": []
    },
    {
      "cell_type": "code",
      "source": [
        "# Verificando se há diárias iniciadas no ano anterior\n",
        "\n",
        "contagemAnoInicio = df[\"anoInicio\"].value_counts()\n",
        "print(contagemAnoInicio)"
      ],
      "metadata": {
        "colab": {
          "base_uri": "https://localhost:8080/"
        },
        "id": "mdl2b0l-6SGG",
        "outputId": "a20f7b64-25db-4769-ba9c-c58d14146014"
      },
      "execution_count": 102,
      "outputs": [
        {
          "output_type": "stream",
          "name": "stdout",
          "text": [
            "anoInicio\n",
            "2023    827433\n",
            "Name: count, dtype: int64\n"
          ]
        }
      ]
    },
    {
      "cell_type": "code",
      "source": [
        "# Contagem dos meses com maior frequência de diárias\n",
        "\n",
        "contagemMeses = df[\"mesInicio\"].value_counts().sort_index()\n",
        "print(contagemMeses)"
      ],
      "metadata": {
        "colab": {
          "base_uri": "https://localhost:8080/"
        },
        "id": "eY4Vljvq26yv",
        "outputId": "982a3ba2-4aed-4ea9-c862-916e831abbdb"
      },
      "execution_count": 103,
      "outputs": [
        {
          "output_type": "stream",
          "name": "stdout",
          "text": [
            "mesInicio\n",
            "1      29938\n",
            "2      38566\n",
            "3      63013\n",
            "4      56927\n",
            "5      77809\n",
            "6      67777\n",
            "7      67772\n",
            "8      83317\n",
            "9      81806\n",
            "10     94047\n",
            "11    100408\n",
            "12     66053\n",
            "Name: count, dtype: int64\n"
          ]
        }
      ]
    },
    {
      "cell_type": "code",
      "source": [
        "# Plot de gráfico em barras com número de diárias solicitados por mês (em 2023)\n",
        "\n",
        "contagemMeses.plot(kind='bar', zorder=3)\n",
        "plt.title(\"Figura 3 - Gráfico de frequência de diárias por mês de início, no ano de 2023\")\n",
        "plt.xlabel(\"Mês de Início da Viagem\")\n",
        "plt.ylabel (\"Número de diárias solicitadas\")\n",
        "plt.grid(True, zorder=0) # Criando grid e posicionando atrás das barras\n",
        "plt.xticks(rotation=0)\n",
        "plt.show()"
      ],
      "metadata": {
        "colab": {
          "base_uri": "https://localhost:8080/",
          "height": 473
        },
        "id": "SR6Us_Hy38yv",
        "outputId": "6eb7dcfd-a645-4009-aa63-9a4d016bb5bf"
      },
      "execution_count": 104,
      "outputs": [
        {
          "output_type": "display_data",
          "data": {
            "text/plain": [
              "<Figure size 640x480 with 1 Axes>"
            ],
            "image/png": "[encoded data removed]"
          },
          "metadata": {}
        }
      ]
    },
    {
      "cell_type": "code",
      "source": [],
      "metadata": {
        "id": "SNOUOqUl4EE3"
      },
      "execution_count": 104,
      "outputs": []
    },
    {
      "cell_type": "markdown",
      "source": [
        "# 7 - Análise do atributo \"Período - Data de fim\""
      ],
      "metadata": {
        "id": "rrpAdnkc4rxp"
      }
    },
    {
      "cell_type": "code",
      "source": [
        "print(df[\"Período - Data de fim\"].isna().any()) # verificando se há valores NA"
      ],
      "metadata": {
        "colab": {
          "base_uri": "https://localhost:8080/"
        },
        "id": "XHCeMrkw4vPe",
        "outputId": "a7aa0b36-b348-4d56-c912-689e4112fd16"
      },
      "execution_count": 105,
      "outputs": [
        {
          "output_type": "stream",
          "name": "stdout",
          "text": [
            "False\n"
          ]
        }
      ]
    },
    {
      "cell_type": "code",
      "source": [
        "# Criação de uma nova coluna no dataframe no formato data: dataFim\n",
        "\n",
        "df[\"dataFim\"] = pd.to_datetime(df[\"Período - Data de fim\"], format=\"%d/%m/%Y\")\n",
        "\n",
        "# Criação de uma nova coluna n odataframe com o ano de fim da viagem\n",
        "\n",
        "df[\"anoFim\"] = df[\"dataFim\"].dt.year"
      ],
      "metadata": {
        "id": "_YSkIw9M4xSO"
      },
      "execution_count": 106,
      "outputs": []
    },
    {
      "cell_type": "code",
      "source": [
        "# Verificando diárias encerradas no fim\n",
        "\n",
        "contagemAnoFim = df[\"anoFim\"].value_counts()\n",
        "print(contagemAnoFim)"
      ],
      "metadata": {
        "colab": {
          "base_uri": "https://localhost:8080/"
        },
        "id": "8hD8WqN55BSm",
        "outputId": "1eb22227-95b6-4c6e-9f3c-1538d4ed539f"
      },
      "execution_count": 107,
      "outputs": [
        {
          "output_type": "stream",
          "name": "stdout",
          "text": [
            "anoFim\n",
            "2023    825976\n",
            "2024      1457\n",
            "Name: count, dtype: int64\n"
          ]
        }
      ]
    },
    {
      "cell_type": "code",
      "source": [
        "df[\"anoFim\"].value_counts().plot(kind='pie', autopct='%1.2f%%') # Plotando gráfico da frequência da urgência de viagem e os valores com duas casas decimais\n",
        "plt.ylabel('') # Removendo o eixo y\n",
        "plt.title(\"Figura 4 - Ano de encerramento de viagens iniciadas em 2023\")"
      ],
      "metadata": {
        "colab": {
          "base_uri": "https://localhost:8080/",
          "height": 445
        },
        "id": "Td6RJDV_5Zc2",
        "outputId": "ea562d5d-4de8-47e9-d915-7377e051c0a6"
      },
      "execution_count": 138,
      "outputs": [
        {
          "output_type": "execute_result",
          "data": {
            "text/plain": [
              "Text(0.5, 1.0, 'Figura 4 - Ano de encerramento de viagens iniciadas em 2023')"
            ]
          },
          "metadata": {},
          "execution_count": 138
        },
        {
          "output_type": "display_data",
          "data": {
            "text/plain": [
              "<Figure size 640x480 with 1 Axes>"
            ],
            "image/png": "[encoded data removed]"
          },
          "metadata": {}
        }
      ]
    },
    {
      "cell_type": "markdown",
      "source": [
        "# 8 - Inserção de nova variável: Total de dias da viagem"
      ],
      "metadata": {
        "id": "6A6xZgQfCkGD"
      }
    },
    {
      "cell_type": "markdown",
      "source": [
        "Uma das informações que o dataset não contempla, porém podemos obter através do processamento de outros atributos, é o total de dias de viagem. Essa informação pode ser obtida verificando o número de dias decorrido entre a data de início e a data de fim da viagem."
      ],
      "metadata": {
        "id": "E352YSKRCsr5"
      }
    },
    {
      "cell_type": "code",
      "source": [
        "df[\"totalDiasViagem\"] = (df[\"dataFim\"] - df[\"dataInicio\"]).dt.days # Cálculo do total de dias de viagem"
      ],
      "metadata": {
        "id": "VbFgH3dOCrVx"
      },
      "execution_count": 109,
      "outputs": []
    },
    {
      "cell_type": "code",
      "source": [
        "print(f\"Média de dias de viagem: {df['totalDiasViagem'].mean():.2f}\") # Print da média de dias de viagem\n",
        "print(f\"Mediana de dias de viagem: {df['totalDiasViagem'].median():.2f}\") # Print da mediana de dias de viagem\n",
        "print(f\"Desvio padrão: {df['totalDiasViagem'].std():.2f}\") # Print do desvio padrão de dias de viagem"
      ],
      "metadata": {
        "colab": {
          "base_uri": "https://localhost:8080/"
        },
        "id": "B5W6JqxrDWBw",
        "outputId": "6909262d-ddd8-4c29-cbc4-649fe7784e5c"
      },
      "execution_count": 110,
      "outputs": [
        {
          "output_type": "stream",
          "name": "stdout",
          "text": [
            "Média de dias de viagem: 5.90\n",
            "Mediana de dias de viagem: 3.00\n",
            "Desvio padrão: 18.07\n"
          ]
        }
      ]
    },
    {
      "cell_type": "code",
      "source": [
        "# Dividindo o número de dias de viagem por faixa\n",
        "\n",
        "bins = [-1, 5, 10, 50, 10000] # Faixas, utilizei o valor -1 pois a primeira faixa deve incluir também o valor ZERO\n",
        "labels = [\"Menos de 5 dias\", \"Entre 5 e 10 dias\", \"Entre 10 e 50 dias\", \"Mais de 50 dias\"] # Labels\n",
        "\n",
        "df[\"faixaDiasViagem\"] = pd.cut(df[\"totalDiasViagem\"], bins=bins, labels=labels) # Criação da nova coluna com a faixa de dias de viagem\n",
        "\n",
        "print(df[\"faixaDiasViagem\"].value_counts()) # Print da quantidade de viagens por faixa"
      ],
      "metadata": {
        "colab": {
          "base_uri": "https://localhost:8080/"
        },
        "id": "0phu5iqfDeeA",
        "outputId": "430d5ff0-fd75-47a0-c912-bbb1f0b5bdb0"
      },
      "execution_count": 111,
      "outputs": [
        {
          "output_type": "stream",
          "name": "stdout",
          "text": [
            "faixaDiasViagem\n",
            "Menos de 5 dias       630184\n",
            "Entre 5 e 10 dias      95179\n",
            "Entre 10 e 50 dias     94167\n",
            "Mais de 50 dias         7903\n",
            "Name: count, dtype: int64\n"
          ]
        }
      ]
    },
    {
      "cell_type": "code",
      "source": [
        "# Calculando a amplitude do número de dias viajados\n",
        "\n",
        "print(df[\"totalDiasViagem\"].max())\n",
        "print(df[\"totalDiasViagem\"].min())"
      ],
      "metadata": {
        "colab": {
          "base_uri": "https://localhost:8080/"
        },
        "id": "wqbkAENZ3LHd",
        "outputId": "4d0c4bf4-9ccd-4bce-c93a-9a4dc59e182f"
      },
      "execution_count": 112,
      "outputs": [
        {
          "output_type": "stream",
          "name": "stdout",
          "text": [
            "525\n",
            "0\n"
          ]
        }
      ]
    },
    {
      "cell_type": "code",
      "source": [
        "# Plot do gráfico de diárias por número de dias\n",
        "\n",
        "df[\"faixaDiasViagem\"].value_counts().plot(kind='bar', zorder=3)\n",
        "plt.title(\"Figura 5 - Quantidade de diárias emitidas por dias de afastamento para viagem a serviço\")\n",
        "plt.xlabel(\"Faixa\", size=12)\n",
        "plt.ylabel (\"Número de diárias solicitadas\")\n",
        "plt.grid(True, zorder=0)\n",
        "\n",
        "# Adicionar rótulos nas barras com o número total de ocorrências\n",
        "for i, p in enumerate(ax.patches):\n",
        "    ax.text(p.get_x() + p.get_width() / 2, p.get_height() + 0.5,\n",
        "            f'{counts.iloc[i]}', ha='center', va='bottom', fontsize=10)\n",
        "\n",
        "# Ajustar o tamanho do texto debaixo das barras (rótulos do eixo X)\n",
        "plt.xticks(rotation=0, fontsize=9)  # Aqui você ajusta o tamanho da fonte\n",
        "\n",
        "plt.show()"
      ],
      "metadata": {
        "colab": {
          "base_uri": "https://localhost:8080/",
          "height": 475
        },
        "id": "eaANxbDJEU9I",
        "outputId": "74147ab1-6732-4afe-8fc2-2bbeadab22a6"
      },
      "execution_count": 186,
      "outputs": [
        {
          "output_type": "display_data",
          "data": {
            "text/plain": [
              "<Figure size 640x480 with 1 Axes>"
            ],
            "image/png": "[encoded data removed]"
          },
          "metadata": {}
        }
      ]
    },
    {
      "cell_type": "markdown",
      "source": [
        "# 9 - Percentual de viagens sigilosas"
      ],
      "metadata": {
        "id": "5mqwW7UkHWvh"
      }
    },
    {
      "cell_type": "markdown",
      "source": [
        "Através da análise de diferentes atributos do dataset, podemos verificar o percentual de viagens marcadas como sigilosas dentro do dataset."
      ],
      "metadata": {
        "id": "-IetYibMHjNu"
      }
    },
    {
      "cell_type": "code",
      "source": [
        "# Verificando os campos marcados com sigilo no atributo Destinos\n",
        "\n",
        "contagemSigilo = df[\"Destinos\"].value_counts().get(\"Informações protegidas por sigilo\")\n",
        "print(\"Número de linhas em Destinos marcadas com sigilo: \", contagemSigilo)\n",
        "\n",
        "# Verificando os campos marcados com sigilo no atributo Função\n",
        "\n",
        "contagemSigilo = df[\"Descrição Função\"].value_counts().get(\"Informações protegidas por sigilo\")\n",
        "print(\"Número de linhas em Descrição Função marcadas com sigilo: \", contagemSigilo)\n",
        "\n",
        "# Verificando os campos marcados com sigilo no atributo Cargo\n",
        "\n",
        "contagemSigilo = df[\"Cargo\"].value_counts().get(\"Informações protegidas por sigilo\")\n",
        "print(\"Número de linhas em Cargo marcadas com sigilo: \", contagemSigilo)"
      ],
      "metadata": {
        "colab": {
          "base_uri": "https://localhost:8080/"
        },
        "id": "Q6XFfWBmHaJ-",
        "outputId": "aa2119d2-1566-4cbc-af6c-c51f81e367bd"
      },
      "execution_count": 114,
      "outputs": [
        {
          "output_type": "stream",
          "name": "stdout",
          "text": [
            "Número de linhas em Destinos marcadas com sigilo:  118246\n",
            "Número de linhas em Descrição Função marcadas com sigilo:  118246\n",
            "Número de linhas em Cargo marcadas com sigilo:  118246\n"
          ]
        }
      ]
    },
    {
      "cell_type": "code",
      "source": [
        "# Criação de um novo atributo no dataset para definir se viagem é sigilosa: 'Sim' ou 'Não'\n",
        "\n",
        "df[\"Sigilo\"] = df[\"Destinos\"].apply(lambda x: \"Sim\" if x == \"Informações protegidas por sigilo\" else \"Não\")"
      ],
      "metadata": {
        "id": "ruEKOPZXIDqG"
      },
      "execution_count": 115,
      "outputs": []
    },
    {
      "cell_type": "code",
      "source": [
        "# Plot do gráfico de barras da condição de sigilo\n",
        "counts = df[\"Sigilo\"].value_counts()\n",
        "total = counts.sum()\n",
        "ax = counts.plot(kind='bar', color=['green', 'gray'], zorder=3)\n",
        "\n",
        "# Título e rótulos\n",
        "plt.title(\"Figura 6 - Frequência de viagens protegidas por sigilo\")\n",
        "plt.xlabel(\"Condição de sigilo\")\n",
        "plt.ylabel(\"Ocorrências\")\n",
        "\n",
        "# Inserindo o grid no eixo y\n",
        "plt.grid(True, axis='y', zorder=0)\n",
        "\n",
        "# Iteração para definição dos rótulos\n",
        "for i, p in enumerate(ax.patches):\n",
        "    percentage = counts.iloc[i] / total * 100\n",
        "    ax.text(p.get_x() + p.get_width() / 2, p.get_height() + 0.5,\n",
        "            f'{counts.iloc[i]} ({percentage:.2f}%)', ha='center', va='bottom')\n",
        "\n",
        "plt.xticks(range(len(counts)), ['Sem sigilo', 'Com sigilo'], rotation=0)\n",
        "# Exibir o gráfico\n",
        "plt.show()"
      ],
      "metadata": {
        "colab": {
          "base_uri": "https://localhost:8080/",
          "height": 472
        },
        "id": "_kIalNt6KPbd",
        "outputId": "03f079a3-d295-4237-8dfb-737588c0a4bf"
      },
      "execution_count": 188,
      "outputs": [
        {
          "output_type": "display_data",
          "data": {
            "text/plain": [
              "<Figure size 640x480 with 1 Axes>"
            ],
            "image/png": "[encoded data removed]"
          },
          "metadata": {}
        }
      ]
    },
    {
      "cell_type": "markdown",
      "source": [
        "# 10 - Análise do atributo \"Destinos\""
      ],
      "metadata": {
        "id": "E57lKsq0Ijb4"
      }
    },
    {
      "cell_type": "markdown",
      "source": [
        "A análise do atributo \"Destinos\" permite identificar quais são os destinos mais comuns em viagens a serviço na administração federal no ano de 2023."
      ],
      "metadata": {
        "id": "UTnXYQ_LIooG"
      }
    },
    {
      "cell_type": "code",
      "source": [
        "# Verificando os destinos mais frequentes em viagens a serviço\n",
        "\n",
        "print(\"Há valores NA? Resposta: \", df[\"Destinos\"].isna().any(), \"\\n\") # verificando se há valores NA dentro do campo \"Nome do órgão superior\"\n",
        "\n",
        "# Listando os destinos com maior número de solicitação de diárias\n",
        "\n",
        "print(\"Listando os destinos com maior número de solicitação de diárias: \\n\")\n",
        "destinosFrequentes = df[df[\"Sigilo\"] == \"Não\"][\"Destinos\"].value_counts() # Excluindo os dados sigilosos da seleção\n",
        "print(destinosFrequentes.head(20))"
      ],
      "metadata": {
        "colab": {
          "base_uri": "https://localhost:8080/"
        },
        "id": "DaLXkmA6Inn-",
        "outputId": "9277edb4-82b9-423a-8482-0c228a66ae37"
      },
      "execution_count": 117,
      "outputs": [
        {
          "output_type": "stream",
          "name": "stdout",
          "text": [
            "Há valores NA? Resposta:  False \n",
            "\n",
            "Listando os destinos com maior número de solicitação de diárias: \n",
            "\n",
            "Destinos\n",
            "Brasília/DF               64320\n",
            "Rio de Janeiro/RJ         26254\n",
            "São Paulo/SP              24629\n",
            "São José dos Campos/SP    12289\n",
            "Salvador/BA                9009\n",
            "Belo Horizonte/MG          8690\n",
            "Curitiba/PR                8506\n",
            "Recife/PE                  8211\n",
            "Manaus/AM                  7407\n",
            "Porto Alegre/RS            7162\n",
            "Belém/PA                   6896\n",
            "Fortaleza/CE               6710\n",
            "Foz do Iguaçu/PR           6549\n",
            "Campo Grande/MS            6214\n",
            "Florianópolis/SC           5926\n",
            "Goiânia/GO                 5744\n",
            "Natal/RN                   5225\n",
            "João Pessoa/PB             4703\n",
            "Campinas/SP                4703\n",
            "Boa Vista/RR               4632\n",
            "Name: count, dtype: int64\n"
          ]
        }
      ]
    },
    {
      "cell_type": "code",
      "source": [],
      "metadata": {
        "id": "SpRPEd91I_Vm"
      },
      "execution_count": 117,
      "outputs": []
    },
    {
      "cell_type": "markdown",
      "source": [
        "# 11 - Análise do atributo \"Valor diárias\""
      ],
      "metadata": {
        "id": "h8aJdzll-Bui"
      }
    },
    {
      "cell_type": "code",
      "source": [
        "# Conversão do atributo \"Valor diárias\" de char para numérico\n",
        "df[\"Valor diárias\"] = df[\"Valor diárias\"].str.replace(',', '.').astype(float)\n",
        "# Print das primeiras linhas da coluna com tipo alterado para float\n",
        "print(df[\"Valor diárias\"])\n"
      ],
      "metadata": {
        "colab": {
          "base_uri": "https://localhost:8080/"
        },
        "id": "TeRVUVsw-D8f",
        "outputId": "2a6d99e5-8f2b-42a6-d278-0df2c48dce70"
      },
      "execution_count": 118,
      "outputs": [
        {
          "output_type": "stream",
          "name": "stdout",
          "text": [
            "0             0.00\n",
            "1             0.00\n",
            "2         39565.70\n",
            "3          1013.96\n",
            "4             0.00\n",
            "            ...   \n",
            "827428      606.89\n",
            "827429     1089.00\n",
            "827430      734.13\n",
            "827431      319.28\n",
            "827432        0.00\n",
            "Name: Valor diárias, Length: 827433, dtype: float64\n"
          ]
        }
      ]
    },
    {
      "cell_type": "code",
      "source": [
        "# Geração de principais métricas da variável de \"Valor diárias\"\n",
        "\n",
        "print(\"Valor máximo: \", df[\"Valor diárias\"].max())\n",
        "print(\"Valor mínimo: \", df[\"Valor diárias\"].min())\n",
        "print(\"Média: \", df[\"Valor diárias\"].mean())\n",
        "print(\"Mediana: \", df[\"Valor diárias\"].median())\n",
        "print(\"Variância: \", df[\"Valor diárias\"].var())\n",
        "print(\"Desvio padrão: \", df[\"Valor diárias\"].std())\n",
        "print(\"Existem NAs? R: \", df[\"Valor diárias\"].isna().any())\n"
      ],
      "metadata": {
        "colab": {
          "base_uri": "https://localhost:8080/"
        },
        "id": "wztHIqKV-Iev",
        "outputId": "d152f002-512b-4e39-b333-4f3f0ce70c0b"
      },
      "execution_count": 119,
      "outputs": [
        {
          "output_type": "stream",
          "name": "stdout",
          "text": [
            "Valor máximo:  175337.4\n",
            "Valor mínimo:  0.0\n",
            "Média:  1744.248531578992\n",
            "Mediana:  857.82\n",
            "Variância:  24264315.604271915\n",
            "Desvio padrão:  4925.882215834227\n",
            "Existem NAs? R:  False\n"
          ]
        }
      ]
    },
    {
      "cell_type": "code",
      "source": [
        "# Verificação de quartis e outliers\n",
        "\n",
        "Q1 = df[\"Valor diárias\"].quantile(0.25)\n",
        "print(\"Q1: \", Q1)\n",
        "Q3 = df[\"Valor diárias\"].quantile(0.75)\n",
        "print(\"Q3: \", Q3)\n",
        "IQR = Q3 - Q1\n",
        "\n",
        "P95 = df[\"Valor diárias\"].quantile(0.95)\n",
        "print(\"P95: \", P95)\n",
        "P99 = df[\"Valor diárias\"].quantile(0.99)\n",
        "print(\"P99: \", P99)\n",
        "\n",
        "limiteInferior = Q1 - 1.5 * IQR\n",
        "print(\"Limite inferior: \", limiteInferior)\n",
        "limiteSuperior = Q3 + 1.5 * IQR\n",
        "print(\"Limite superior: \", limiteSuperior)\n",
        "\n",
        "outliers = df[(df[\"Valor diárias\"] > limiteSuperior)]\n",
        "print(len(outliers))"
      ],
      "metadata": {
        "colab": {
          "base_uri": "https://localhost:8080/"
        },
        "id": "PRFd3O4v_ZPP",
        "outputId": "7864b570-998c-471e-c6d4-b2305c4af2a7"
      },
      "execution_count": 120,
      "outputs": [
        {
          "output_type": "stream",
          "name": "stdout",
          "text": [
            "Q1:  265.5\n",
            "Q3:  1629.59\n",
            "P95:  5378.669999999897\n",
            "P99:  15916.85\n",
            "Limite inferior:  -1780.6349999999998\n",
            "Limite superior:  3675.7249999999995\n",
            "80116\n"
          ]
        }
      ]
    },
    {
      "cell_type": "code",
      "source": [
        "# Plot da curva de densidade\n",
        "\n",
        "ax = df[\"Valor diárias\"].plot(kind='kde',linewidth=2,color='red')\n",
        "plt.title(\"Figura 7 - Curva de densidade do valor das diárias\") # Título do gráfico\n",
        "plt.xlabel(\"Valor da diária (R$)\") # Título do eixo x\n",
        "plt.ylabel(\"Densidade\") # Título do eixo y\n",
        "plt.xlim(left=0) # Ocultando valores negativos\n",
        "plt.xlim(right=10000) # Limite do eixo x\n",
        "plt.ylim(bottom=0) # Limite do eixo y\n",
        "# Preenchendo a área abaixo da curva\n",
        "x = ax.lines[0].get_xdata()\n",
        "y = ax.lines[0].get_ydata()\n",
        "plt.fill_between(x, y, color='red', alpha=0.3)\n",
        "# Posicionando o grid\n",
        "plt.grid(True)\n",
        "plt.show()"
      ],
      "metadata": {
        "colab": {
          "base_uri": "https://localhost:8080/",
          "height": 472
        },
        "id": "eQ9vEJ5AAELI",
        "outputId": "d985713c-cbdc-42a7-f1f2-3b2bc19599fa"
      },
      "execution_count": 171,
      "outputs": [
        {
          "output_type": "display_data",
          "data": {
            "text/plain": [
              "<Figure size 640x480 with 1 Axes>"
            ],
            "image/png": "[encoded data removed]"
          },
          "metadata": {}
        }
      ]
    },
    {
      "cell_type": "code",
      "source": [
        "# Verificando valor pago de diárias por faixa\n",
        "\n",
        "bins = [-1, 500, 1000, 10000, 100000, 1000000] # Faixas, utilizei o valor -1 pois a primeira faixa deve incluir também o valor ZERO\n",
        "labels = [\"Menos de 500 reais\", \"Entre 500 e 1000 reais\", \"Entre 1000 e 10000 reais\", \"Entre 10000 e 100000 reais\", \"Mais de 100000 reais\"] # Labels\n",
        "\n",
        "df[\"faixaValorDiaria\"] = pd.cut(df[\"Valor diárias\"], bins=bins, labels=labels) # Criação da nova coluna com a faixa de valor pago em diárias\n",
        "\n",
        "print(df[\"faixaValorDiaria\"].value_counts()) # Print da quantidade de diárias por faixa\n",
        "print(df[\"faixaValorDiaria\"].value_counts(normalize = True)*100) # Print da quantidade de diárias por faixa (percentual)"
      ],
      "metadata": {
        "colab": {
          "base_uri": "https://localhost:8080/"
        },
        "id": "UOhr0VpKC-8o",
        "outputId": "879c9920-e977-4fd0-b08f-6815a858362f"
      },
      "execution_count": 122,
      "outputs": [
        {
          "output_type": "stream",
          "name": "stdout",
          "text": [
            "faixaValorDiaria\n",
            "Entre 1000 e 10000 reais      350106\n",
            "Menos de 500 reais            301549\n",
            "Entre 500 e 1000 reais        157846\n",
            "Entre 10000 e 100000 reais     17589\n",
            "Mais de 100000 reais             343\n",
            "Name: count, dtype: int64\n",
            "faixaValorDiaria\n",
            "Entre 1000 e 10000 reais      42.312308\n",
            "Menos de 500 reais            36.443918\n",
            "Entre 500 e 1000 reais        19.076590\n",
            "Entre 10000 e 100000 reais     2.125731\n",
            "Mais de 100000 reais           0.041454\n",
            "Name: proportion, dtype: float64\n"
          ]
        }
      ]
    },
    {
      "cell_type": "code",
      "source": [],
      "metadata": {
        "id": "o4jOT8wLJJfz"
      },
      "execution_count": 122,
      "outputs": []
    },
    {
      "cell_type": "markdown",
      "source": [
        "# 12 - Análise do atributo \"Valor passagens\""
      ],
      "metadata": {
        "id": "0vcI-zHJtm1Z"
      }
    },
    {
      "cell_type": "code",
      "source": [
        "# Conversão do atributo \"Valor passagens\" de char para numérico\n",
        "df[\"Valor passagens\"] = df[\"Valor passagens\"].str.replace(',', '.').astype(float)\n",
        "# Print das primeiras linhas da coluna com tipo alterado para float\n",
        "print(df[\"Valor passagens\"])"
      ],
      "metadata": {
        "colab": {
          "base_uri": "https://localhost:8080/"
        },
        "id": "O4Rmfe5Oto6H",
        "outputId": "a0d7f850-1d86-4e0c-d97d-87b027ac7794"
      },
      "execution_count": 123,
      "outputs": [
        {
          "output_type": "stream",
          "name": "stdout",
          "text": [
            "0             0.00\n",
            "1             0.00\n",
            "2          7434.13\n",
            "3             0.00\n",
            "4         14903.10\n",
            "            ...   \n",
            "827428     3331.29\n",
            "827429     1837.18\n",
            "827430     4555.95\n",
            "827431     3745.53\n",
            "827432     2961.55\n",
            "Name: Valor passagens, Length: 827433, dtype: float64\n"
          ]
        }
      ]
    },
    {
      "cell_type": "code",
      "source": [
        "# Geração de principais métricas da variável de \"Valor passagens\"\n",
        "\n",
        "print(\"Valor máximo: \", df[\"Valor passagens\"].max())\n",
        "print(\"Valor mínimo: \", df[\"Valor passagens\"].min())\n",
        "print(\"Média: \", df[\"Valor passagens\"].mean())\n",
        "print(\"Mediana: \", df[\"Valor passagens\"].median())\n",
        "print(\"Variância: \", df[\"Valor passagens\"].var())\n",
        "print(\"Desvio padrão: \", df[\"Valor passagens\"].std())\n",
        "print(\"Existem NAs? R: \", df[\"Valor passagens\"].isna().any())"
      ],
      "metadata": {
        "colab": {
          "base_uri": "https://localhost:8080/"
        },
        "id": "dZ1aWWIltywo",
        "outputId": "e676db37-4cfa-4820-cbda-9c6a8bc27db5"
      },
      "execution_count": 124,
      "outputs": [
        {
          "output_type": "stream",
          "name": "stdout",
          "text": [
            "Valor máximo:  186723.29\n",
            "Valor mínimo:  0.0\n",
            "Média:  1023.8626121994168\n",
            "Mediana:  0.0\n",
            "Variância:  6523803.644884459\n",
            "Desvio padrão:  2554.1737695161733\n",
            "Existem NAs? R:  False\n"
          ]
        }
      ]
    },
    {
      "cell_type": "code",
      "source": [
        "# Verificação de quartis e outliers\n",
        "\n",
        "Q1 = df[\"Valor passagens\"].quantile(0.25)\n",
        "print(\"Q1: \", Q1)\n",
        "Q3 = df[\"Valor passagens\"].quantile(0.75)\n",
        "print(\"Q3: \", Q3)\n",
        "IQR = Q3 - Q1\n",
        "\n",
        "P95 = df[\"Valor passagens\"].quantile(0.95)\n",
        "print(\"P95: \", P95)\n",
        "P99 = df[\"Valor passagens\"].quantile(0.99)\n",
        "print(\"P99: \", P99)\n",
        "\n",
        "limiteInferior = Q1 - 1.5 * IQR\n",
        "print(\"Limite inferior: \", limiteInferior)\n",
        "limiteSuperior = Q3 + 1.5 * IQR\n",
        "print(\"Limite superior: \", limiteSuperior)\n",
        "\n",
        "outliers = df[(df[\"Valor passagens\"] > limiteSuperior)]\n",
        "print(len(outliers))"
      ],
      "metadata": {
        "colab": {
          "base_uri": "https://localhost:8080/"
        },
        "id": "14bnJJisuZ1o",
        "outputId": "4ba35ee3-7f88-485d-d8d9-300ece93c5b5"
      },
      "execution_count": 125,
      "outputs": [
        {
          "output_type": "stream",
          "name": "stdout",
          "text": [
            "Q1:  0.0\n",
            "Q3:  1360.51\n",
            "P95:  4934.31\n",
            "P99:  9597.334799999977\n",
            "Limite inferior:  -2040.7649999999999\n",
            "Limite superior:  3401.2749999999996\n",
            "90095\n"
          ]
        }
      ]
    },
    {
      "cell_type": "code",
      "source": [
        "# Plot da curva de densidade\n",
        "\n",
        "ax = df[\"Valor passagens\"].plot(kind='kde',linewidth=2,color='red')\n",
        "plt.title(\"Figura 8 - Curva de densidade do valor das passagens\") # Título do gráfico\n",
        "plt.xlabel(\"Valor de passagens (R$)\") # Título do eixo x\n",
        "plt.ylabel(\"Densidade\") # Título do eixo y\n",
        "plt.xlim(left=0) # Ocultando valores negativos\n",
        "plt.xlim(right=5000) # Limite do eixo x\n",
        "plt.ylim(bottom=0) # Limite do eixo Y\n",
        "# Preenchendo a área abaixo da curva\n",
        "x = ax.lines[0].get_xdata()\n",
        "y = ax.lines[0].get_ydata()\n",
        "plt.fill_between(x, y, color='red', alpha=0.3)\n",
        "# Posicionando o grid\n",
        "plt.grid(True)\n",
        "plt.show()"
      ],
      "metadata": {
        "colab": {
          "base_uri": "https://localhost:8080/",
          "height": 472
        },
        "id": "dfhWnXhBvCeI",
        "outputId": "0b847b86-600c-46b4-9c9a-12882e9ac640"
      },
      "execution_count": 175,
      "outputs": [
        {
          "output_type": "display_data",
          "data": {
            "text/plain": [
              "<Figure size 640x480 with 1 Axes>"
            ],
            "image/png": "[encoded data removed]"
          },
          "metadata": {}
        }
      ]
    },
    {
      "cell_type": "code",
      "source": [
        "# Verificando valor pago de passagens por faixa\n",
        "\n",
        "bins = [-1, 500, 1000, 10000, 100000, 1000000] # Faixas, utilizei o valor -1 pois a primeira faixa deve incluir também o valor ZERO\n",
        "labels = [\"Menos de 500 reais\", \"Entre 500 e 1000 reais\", \"Entre 1000 e 10000 reais\", \"Entre 10000 e 100000 reais\", \"Mais de 100000 reais\"] # Labels\n",
        "\n",
        "df[\"faixaValorPassagem\"] = pd.cut(df[\"Valor passagens\"], bins=bins, labels=labels) # Criação da nova coluna com a faixa de valor pago em passagens\n",
        "\n",
        "print(df[\"faixaValorPassagem\"].value_counts()) # Print da quantidade de passagens por faixa\n",
        "print(df[\"faixaValorPassagem\"].value_counts(normalize = True)*100) # Print da quantidade de valores de passagens por faixa (percentual)"
      ],
      "metadata": {
        "colab": {
          "base_uri": "https://localhost:8080/"
        },
        "id": "j4i5Y-pAvnYP",
        "outputId": "2e6a72fa-8660-41e0-e018-073a3aa4655b"
      },
      "execution_count": 127,
      "outputs": [
        {
          "output_type": "stream",
          "name": "stdout",
          "text": [
            "faixaValorPassagem\n",
            "Menos de 500 reais            589180\n",
            "Entre 1000 e 10000 reais      216732\n",
            "Entre 500 e 1000 reais         13805\n",
            "Entre 10000 e 100000 reais      7699\n",
            "Mais de 100000 reais              17\n",
            "Name: count, dtype: int64\n",
            "faixaValorPassagem\n",
            "Menos de 500 reais            71.205765\n",
            "Entre 1000 e 10000 reais      26.193299\n",
            "Entre 500 e 1000 reais         1.668413\n",
            "Entre 10000 e 100000 reais     0.930468\n",
            "Mais de 100000 reais           0.002055\n",
            "Name: proportion, dtype: float64\n"
          ]
        }
      ]
    },
    {
      "cell_type": "code",
      "source": [],
      "metadata": {
        "id": "irGEim7XwrHg"
      },
      "execution_count": 127,
      "outputs": []
    },
    {
      "cell_type": "markdown",
      "source": [
        "# 13 - Análise do atributo \"Valor devolução\""
      ],
      "metadata": {
        "id": "W5qBqc28xNSh"
      }
    },
    {
      "cell_type": "code",
      "source": [
        "# Conversão do atributo \"Valor devolução\" de char para numérico\n",
        "df[\"Valor devolução\"] = df[\"Valor devolução\"].str.replace(',', '.').astype(float)\n",
        "# Print das primeiras linhas da coluna com tipo alterado para float\n",
        "print(df[\"Valor devolução\"])"
      ],
      "metadata": {
        "colab": {
          "base_uri": "https://localhost:8080/"
        },
        "id": "dtqAWDMyxS0g",
        "outputId": "9fa9b457-dddd-49d1-8569-0311ff2dcad9"
      },
      "execution_count": 128,
      "outputs": [
        {
          "output_type": "stream",
          "name": "stdout",
          "text": [
            "0         0.0\n",
            "1         0.0\n",
            "2         0.0\n",
            "3         0.0\n",
            "4         0.0\n",
            "         ... \n",
            "827428    0.0\n",
            "827429    0.0\n",
            "827430    0.0\n",
            "827431    0.0\n",
            "827432    0.0\n",
            "Name: Valor devolução, Length: 827433, dtype: float64\n"
          ]
        }
      ]
    },
    {
      "cell_type": "code",
      "source": [
        "# Geração de principais métricas da variável de \"Valor devolução\"\n",
        "\n",
        "print(\"Valor máximo: \", df[\"Valor devolução\"].max())\n",
        "print(\"Valor mínimo: \", df[\"Valor devolução\"].min())\n",
        "print(\"Média: \", df[\"Valor devolução\"].mean())\n",
        "print(\"Mediana: \", df[\"Valor devolução\"].median())\n",
        "print(\"Variância: \", df[\"Valor devolução\"].var())\n",
        "print(\"Desvio padrão: \", df[\"Valor devolução\"].std())\n",
        "print(\"Existem NAs? R: \", df[\"Valor devolução\"].isna().any())"
      ],
      "metadata": {
        "colab": {
          "base_uri": "https://localhost:8080/"
        },
        "id": "LrMNGhzhxZ7g",
        "outputId": "f793a71f-4a3f-4f75-96b5-40b99ce2f1ef"
      },
      "execution_count": 129,
      "outputs": [
        {
          "output_type": "stream",
          "name": "stdout",
          "text": [
            "Valor máximo:  38884.71\n",
            "Valor mínimo:  0.0\n",
            "Média:  23.735638208773402\n",
            "Mediana:  0.0\n",
            "Variância:  79574.14264796031\n",
            "Desvio padrão:  282.0888913941141\n",
            "Existem NAs? R:  False\n"
          ]
        }
      ]
    },
    {
      "cell_type": "code",
      "source": [
        "# Verificação de valores zerados no atributo \"Valor devolução\"\n",
        "\n",
        "valoresZerados = df[df[\"Valor devolução\"] == 0]\n",
        "print(len(valoresZerados))\n",
        "len(df)\n",
        "print(len(valoresZerados)/len(df))"
      ],
      "metadata": {
        "colab": {
          "base_uri": "https://localhost:8080/"
        },
        "id": "8Xx2ZEutxgxg",
        "outputId": "e0411269-ee3b-4654-9d00-36ab10294827"
      },
      "execution_count": 130,
      "outputs": [
        {
          "output_type": "stream",
          "name": "stdout",
          "text": [
            "801064\n",
            "0.9681315586881355\n"
          ]
        }
      ]
    },
    {
      "cell_type": "code",
      "source": [
        "# Verificando valor pago de devolução por faixa\n",
        "\n",
        "bins = [-1, 0, 1000, 10000, 100000, 1000000] # Faixas, utilizei o valor -1 pois a primeira faixa deve incluir também o valor ZERO\n",
        "labels = [\"Nenhum valor a ser devolvido\", \"Até 1000 reais\", \"Entre 1000 e 10000 reais\", \"Entre 10000 e 100000 reais\", \"Mais de 100000 reais\"] # Labels\n",
        "\n",
        "df[\"faixaValorDevolucao\"] = pd.cut(df[\"Valor devolução\"], bins=bins, labels=labels) # Criação da nova coluna com a faixa de valor pago em devolução\n",
        "\n",
        "print(df[\"faixaValorDevolucao\"].value_counts()) # Print da quantidade de valores de devolução por faixa\n",
        "print(df[\"faixaValorDevolucao\"].value_counts(normalize = True)*100) # Print da quantidade de valores de devolução por faixa (percentual)"
      ],
      "metadata": {
        "colab": {
          "base_uri": "https://localhost:8080/"
        },
        "id": "i-5WIN2RzxQA",
        "outputId": "89bba8d6-9bc2-41a2-9d9f-cc0ee58957bb"
      },
      "execution_count": 131,
      "outputs": [
        {
          "output_type": "stream",
          "name": "stdout",
          "text": [
            "faixaValorDevolucao\n",
            "Nenhum valor a ser devolvido    801064\n",
            "Até 1000 reais                   20855\n",
            "Entre 1000 e 10000 reais          5404\n",
            "Entre 10000 e 100000 reais         110\n",
            "Mais de 100000 reais                 0\n",
            "Name: count, dtype: int64\n",
            "faixaValorDevolucao\n",
            "Nenhum valor a ser devolvido    96.813156\n",
            "Até 1000 reais                   2.520446\n",
            "Entre 1000 e 10000 reais         0.653104\n",
            "Entre 10000 e 100000 reais       0.013294\n",
            "Mais de 100000 reais             0.000000\n",
            "Name: proportion, dtype: float64\n"
          ]
        }
      ]
    },
    {
      "cell_type": "code",
      "source": [],
      "metadata": {
        "id": "oymgpncS0Fwo"
      },
      "execution_count": 131,
      "outputs": []
    },
    {
      "cell_type": "markdown",
      "source": [
        "# 14 - Análise do atributo \"Valor outros gastos\""
      ],
      "metadata": {
        "id": "NNZM7HN90uaT"
      }
    },
    {
      "cell_type": "code",
      "source": [
        "# Conversão do atributo \"Valor outros gastos\" de char para numérico\n",
        "df[\"Valor outros gastos\"] = df[\"Valor outros gastos\"].str.replace(',', '.').astype(float)\n",
        "# Print das primeiras linhas da coluna com tipo alterado para float\n",
        "print(df[\"Valor outros gastos\"])"
      ],
      "metadata": {
        "colab": {
          "base_uri": "https://localhost:8080/"
        },
        "id": "8XG4Mz2W1GZB",
        "outputId": "5e68576a-40fc-467d-dc8e-8d5997d9f5bf"
      },
      "execution_count": 132,
      "outputs": [
        {
          "output_type": "stream",
          "name": "stdout",
          "text": [
            "0            0.00\n",
            "1            0.00\n",
            "2         1095.35\n",
            "3            0.00\n",
            "4            0.00\n",
            "           ...   \n",
            "827428       0.00\n",
            "827429       0.00\n",
            "827430       0.00\n",
            "827431     400.00\n",
            "827432       0.00\n",
            "Name: Valor outros gastos, Length: 827433, dtype: float64\n"
          ]
        }
      ]
    },
    {
      "cell_type": "code",
      "source": [
        "# Geração de principais métricas da variável de \"Valor outros gastos\"\n",
        "\n",
        "print(\"Valor máximo: \", df[\"Valor outros gastos\"].max())\n",
        "print(\"Valor mínimo: \", df[\"Valor outros gastos\"].min())\n",
        "print(\"Média: \", df[\"Valor outros gastos\"].mean())\n",
        "print(\"Mediana: \", df[\"Valor outros gastos\"].median())\n",
        "print(\"Variância: \", df[\"Valor outros gastos\"].var())\n",
        "print(\"Desvio padrão: \", df[\"Valor outros gastos\"].std())\n",
        "print(\"Existem NAs? R: \", df[\"Valor outros gastos\"].isna().any())"
      ],
      "metadata": {
        "colab": {
          "base_uri": "https://localhost:8080/"
        },
        "id": "x1lRciCf1MhZ",
        "outputId": "6b5dd4ca-ffb4-4b31-ba45-6869b65909f3"
      },
      "execution_count": 133,
      "outputs": [
        {
          "output_type": "stream",
          "name": "stdout",
          "text": [
            "Valor máximo:  59668.18\n",
            "Valor mínimo:  0.0\n",
            "Média:  16.39529513567866\n",
            "Mediana:  0.0\n",
            "Variância:  23170.613245524644\n",
            "Desvio padrão:  152.21896480243402\n",
            "Existem NAs? R:  False\n"
          ]
        }
      ]
    },
    {
      "cell_type": "code",
      "source": [
        "# Verificação de valores zerados no atributo \"Valor outros gastos\"\n",
        "\n",
        "valoresZerados = df[df[\"Valor outros gastos\"] == 0]\n",
        "print(len(valoresZerados))\n",
        "len(df)\n",
        "print(len(valoresZerados)/len(df))"
      ],
      "metadata": {
        "colab": {
          "base_uri": "https://localhost:8080/"
        },
        "id": "-suVAM711SY5",
        "outputId": "bb0e29a5-7951-495b-f68d-4d9c0f780b6d"
      },
      "execution_count": 134,
      "outputs": [
        {
          "output_type": "stream",
          "name": "stdout",
          "text": [
            "790437\n",
            "0.9552882227322333\n"
          ]
        }
      ]
    },
    {
      "cell_type": "code",
      "source": [
        "# Verificando valor pago de outros gastos por faixa\n",
        "\n",
        "bins = [-1, 0, 1000, 10000, 100000] # Faixas, utilizei o valor -1 pois a primeira faixa deve incluir também o valor ZERO\n",
        "labels = [\"Nenhum valor com outros gastos\", \"Até 1000 reais\", \"Entre 1000 e 10000 reais\", \"Acima de 10000 reais\"] # Labels\n",
        "\n",
        "df[\"faixaValorOutrosGastos\"] = pd.cut(df[\"Valor outros gastos\"], bins=bins, labels=labels) # Criação da nova coluna com a faixa de valor pago em outros gastos\n",
        "\n",
        "print(df[\"faixaValorOutrosGastos\"].value_counts()) # Print da quantidade de valores de outros gastos por faixa\n",
        "print(df[\"faixaValorOutrosGastos\"].value_counts(normalize = True)*100) # Print da quantidade de valores de outros gastos por faixa (percentual)"
      ],
      "metadata": {
        "colab": {
          "base_uri": "https://localhost:8080/"
        },
        "id": "qocYlI_e1r9p",
        "outputId": "f7bec206-ac37-4eba-b747-1c69e38774e3"
      },
      "execution_count": 135,
      "outputs": [
        {
          "output_type": "stream",
          "name": "stdout",
          "text": [
            "faixaValorOutrosGastos\n",
            "Nenhum valor com outros gastos    790437\n",
            "Até 1000 reais                     34828\n",
            "Entre 1000 e 10000 reais            2164\n",
            "Acima de 10000 reais                   4\n",
            "Name: count, dtype: int64\n",
            "faixaValorOutrosGastos\n",
            "Nenhum valor com outros gastos    95.528822\n",
            "Até 1000 reais                     4.209163\n",
            "Entre 1000 e 10000 reais           0.261532\n",
            "Acima de 10000 reais               0.000483\n",
            "Name: proportion, dtype: float64\n"
          ]
        }
      ]
    },
    {
      "cell_type": "code",
      "source": [],
      "metadata": {
        "id": "eVvy_CSO2EDK"
      },
      "execution_count": 135,
      "outputs": []
    },
    {
      "cell_type": "markdown",
      "source": [
        "# 15 - Matriz de correlações"
      ],
      "metadata": {
        "id": "uJjROMiB2oZV"
      }
    },
    {
      "cell_type": "code",
      "source": [
        "# Criação de matriz de correlações\n",
        "\n",
        "colunasSelecionadas = [\"totalDiasViagem\", \"Valor diárias\", \"Valor passagens\", \"Valor devolução\", \"Valor outros gastos\"]\n",
        "matrizCorrelacoes = df[colunasSelecionadas].corr()\n",
        "print(matrizCorrelacoes)"
      ],
      "metadata": {
        "colab": {
          "base_uri": "https://localhost:8080/"
        },
        "id": "G63JHlCQ2qEi",
        "outputId": "43a58f53-4062-4a91-9e82-4cb7335831d0"
      },
      "execution_count": 136,
      "outputs": [
        {
          "output_type": "stream",
          "name": "stdout",
          "text": [
            "                     totalDiasViagem  Valor diárias  Valor passagens  \\\n",
            "totalDiasViagem             1.000000       0.893478         0.049662   \n",
            "Valor diárias               0.893478       1.000000         0.153769   \n",
            "Valor passagens             0.049662       0.153769         1.000000   \n",
            "Valor devolução             0.098000       0.140654         0.071968   \n",
            "Valor outros gastos         0.019534       0.099999         0.186786   \n",
            "\n",
            "                     Valor devolução  Valor outros gastos  \n",
            "totalDiasViagem             0.098000             0.019534  \n",
            "Valor diárias               0.140654             0.099999  \n",
            "Valor passagens             0.071968             0.186786  \n",
            "Valor devolução             1.000000             0.046338  \n",
            "Valor outros gastos         0.046338             1.000000  \n"
          ]
        }
      ]
    },
    {
      "cell_type": "markdown",
      "source": [
        "# 16 - Resumo das Medidas de Tendência Central e Dispersão"
      ],
      "metadata": {
        "id": "BjMz4MoErHDi"
      }
    },
    {
      "cell_type": "code",
      "source": [
        "df.describe()"
      ],
      "metadata": {
        "id": "Z6nv2jUZ3Bnq",
        "colab": {
          "base_uri": "https://localhost:8080/",
          "height": 459
        },
        "outputId": "d4ce33cd-f194-413e-af5b-aac5087a989f"
      },
      "execution_count": 177,
      "outputs": [
        {
          "output_type": "execute_result",
          "data": {
            "text/plain": [
              "       Identificador do processo de viagem  Código do órgão superior  \\\n",
              "count                         8.274330e+05             827433.000000   \n",
              "mean                          2.157737e+07              29854.983843   \n",
              "min                           1.782192e+07                 -1.000000   \n",
              "25%                           1.887775e+07              22000.000000   \n",
              "50%                           1.912847e+07              30000.000000   \n",
              "75%                           1.939905e+07              47000.000000   \n",
              "max                           2.023002e+09              84000.000000   \n",
              "std                           6.989446e+07              18582.587617   \n",
              "\n",
              "       Código órgão solicitante  Valor diárias  Valor passagens  \\\n",
              "count             827433.000000  827433.000000    827433.000000   \n",
              "mean               27380.008039    1744.248532      1023.862612   \n",
              "min                   -1.000000       0.000000         0.000000   \n",
              "25%                22000.000000     265.500000         0.000000   \n",
              "50%                26415.000000     857.820000         0.000000   \n",
              "75%                37202.000000    1629.590000      1360.510000   \n",
              "max                64000.000000  175337.400000    186723.290000   \n",
              "std                16954.399009    4925.882216      2554.173770   \n",
              "\n",
              "       Valor devolução  Valor outros gastos                     dataInicio  \\\n",
              "count    827433.000000        827433.000000                         827433   \n",
              "mean         23.735638            16.395295  2023-07-25 02:48:04.505694464   \n",
              "min           0.000000             0.000000            2023-01-01 00:00:00   \n",
              "25%           0.000000             0.000000            2023-05-08 00:00:00   \n",
              "50%           0.000000             0.000000            2023-08-06 00:00:00   \n",
              "75%           0.000000             0.000000            2023-10-18 00:00:00   \n",
              "max       38884.710000         59668.180000            2023-12-31 00:00:00   \n",
              "std         282.088891           152.218965                            NaN   \n",
              "\n",
              "           mesInicio  anoInicio                        dataFim         anoFim  \\\n",
              "count  827433.000000   827433.0                         827433  827433.000000   \n",
              "mean        7.292810     2023.0  2023-07-31 00:24:52.361072896    2023.001761   \n",
              "min         1.000000     2023.0            2023-01-01 00:00:00    2023.000000   \n",
              "25%         5.000000     2023.0            2023-05-12 00:00:00    2023.000000   \n",
              "50%         8.000000     2023.0            2023-08-11 00:00:00    2023.000000   \n",
              "75%        10.000000     2023.0            2023-10-25 00:00:00    2023.000000   \n",
              "max        12.000000     2023.0            2024-11-30 00:00:00    2024.000000   \n",
              "std         3.183425        0.0                            NaN       0.041926   \n",
              "\n",
              "       totalDiasViagem  \n",
              "count    827433.000000  \n",
              "mean          5.900554  \n",
              "min           0.000000  \n",
              "25%           1.000000  \n",
              "50%           3.000000  \n",
              "75%           5.000000  \n",
              "max         525.000000  \n",
              "std          18.068466  "
            ],
            "text/html": [
              "\n",
              "  <div id=\"df-c74a6c34-91f4-48e6-88c1-597a346f80e6\" class=\"colab-df-container\">\n",
              "    <div>\n",
              "<style scoped>\n",
              "    .dataframe tbody tr th:only-of-type {\n",
              "        vertical-align: middle;\n",
              "    }\n",
              "\n",
              "    .dataframe tbody tr th {\n",
              "        vertical-align: top;\n",
              "    }\n",
              "\n",
              "    .dataframe thead th {\n",
              "        text-align: right;\n",
              "    }\n",
              "</style>\n",
              "<table border=\"1\" class=\"dataframe\">\n",
              "  <thead>\n",
              "    <tr style=\"text-align: right;\">\n",
              "      <th></th>\n",
              "      <th>Identificador do processo de viagem</th>\n",
              "      <th>Código do órgão superior</th>\n",
              "      <th>Código órgão solicitante</th>\n",
              "      <th>Valor diárias</th>\n",
              "      <th>Valor passagens</th>\n",
              "      <th>Valor devolução</th>\n",
              "      <th>Valor outros gastos</th>\n",
              "      <th>dataInicio</th>\n",
              "      <th>mesInicio</th>\n",
              "      <th>anoInicio</th>\n",
              "      <th>dataFim</th>\n",
              "      <th>anoFim</th>\n",
              "      <th>totalDiasViagem</th>\n",
              "    </tr>\n",
              "  </thead>\n",
              "  <tbody>\n",
              "    <tr>\n",
              "      <th>count</th>\n",
              "      <td>8.274330e+05</td>\n",
              "      <td>827433.000000</td>\n",
              "      <td>827433.000000</td>\n",
              "      <td>827433.000000</td>\n",
              "      <td>827433.000000</td>\n",
              "      <td>827433.000000</td>\n",
              "      <td>827433.000000</td>\n",
              "      <td>827433</td>\n",
              "      <td>827433.000000</td>\n",
              "      <td>827433.0</td>\n",
              "      <td>827433</td>\n",
              "      <td>827433.000000</td>\n",
              "      <td>827433.000000</td>\n",
              "    </tr>\n",
              "    <tr>\n",
              "      <th>mean</th>\n",
              "      <td>2.157737e+07</td>\n",
              "      <td>29854.983843</td>\n",
              "      <td>27380.008039</td>\n",
              "      <td>1744.248532</td>\n",
              "      <td>1023.862612</td>\n",
              "      <td>23.735638</td>\n",
              "      <td>16.395295</td>\n",
              "      <td>2023-07-25 02:48:04.505694464</td>\n",
              "      <td>7.292810</td>\n",
              "      <td>2023.0</td>\n",
              "      <td>2023-07-31 00:24:52.361072896</td>\n",
              "      <td>2023.001761</td>\n",
              "      <td>5.900554</td>\n",
              "    </tr>\n",
              "    <tr>\n",
              "      <th>min</th>\n",
              "      <td>1.782192e+07</td>\n",
              "      <td>-1.000000</td>\n",
              "      <td>-1.000000</td>\n",
              "      <td>0.000000</td>\n",
              "      <td>0.000000</td>\n",
              "      <td>0.000000</td>\n",
              "      <td>0.000000</td>\n",
              "      <td>2023-01-01 00:00:00</td>\n",
              "      <td>1.000000</td>\n",
              "      <td>2023.0</td>\n",
              "      <td>2023-01-01 00:00:00</td>\n",
              "      <td>2023.000000</td>\n",
              "      <td>0.000000</td>\n",
              "    </tr>\n",
              "    <tr>\n",
              "      <th>25%</th>\n",
              "      <td>1.887775e+07</td>\n",
              "      <td>22000.000000</td>\n",
              "      <td>22000.000000</td>\n",
              "      <td>265.500000</td>\n",
              "      <td>0.000000</td>\n",
              "      <td>0.000000</td>\n",
              "      <td>0.000000</td>\n",
              "      <td>2023-05-08 00:00:00</td>\n",
              "      <td>5.000000</td>\n",
              "      <td>2023.0</td>\n",
              "      <td>2023-05-12 00:00:00</td>\n",
              "      <td>2023.000000</td>\n",
              "      <td>1.000000</td>\n",
              "    </tr>\n",
              "    <tr>\n",
              "      <th>50%</th>\n",
              "      <td>1.912847e+07</td>\n",
              "      <td>30000.000000</td>\n",
              "      <td>26415.000000</td>\n",
              "      <td>857.820000</td>\n",
              "      <td>0.000000</td>\n",
              "      <td>0.000000</td>\n",
              "      <td>0.000000</td>\n",
              "      <td>2023-08-06 00:00:00</td>\n",
              "      <td>8.000000</td>\n",
              "      <td>2023.0</td>\n",
              "      <td>2023-08-11 00:00:00</td>\n",
              "      <td>2023.000000</td>\n",
              "      <td>3.000000</td>\n",
              "    </tr>\n",
              "    <tr>\n",
              "      <th>75%</th>\n",
              "      <td>1.939905e+07</td>\n",
              "      <td>47000.000000</td>\n",
              "      <td>37202.000000</td>\n",
              "      <td>1629.590000</td>\n",
              "      <td>1360.510000</td>\n",
              "      <td>0.000000</td>\n",
              "      <td>0.000000</td>\n",
              "      <td>2023-10-18 00:00:00</td>\n",
              "      <td>10.000000</td>\n",
              "      <td>2023.0</td>\n",
              "      <td>2023-10-25 00:00:00</td>\n",
              "      <td>2023.000000</td>\n",
              "      <td>5.000000</td>\n",
              "    </tr>\n",
              "    <tr>\n",
              "      <th>max</th>\n",
              "      <td>2.023002e+09</td>\n",
              "      <td>84000.000000</td>\n",
              "      <td>64000.000000</td>\n",
              "      <td>175337.400000</td>\n",
              "      <td>186723.290000</td>\n",
              "      <td>38884.710000</td>\n",
              "      <td>59668.180000</td>\n",
              "      <td>2023-12-31 00:00:00</td>\n",
              "      <td>12.000000</td>\n",
              "      <td>2023.0</td>\n",
              "      <td>2024-11-30 00:00:00</td>\n",
              "      <td>2024.000000</td>\n",
              "      <td>525.000000</td>\n",
              "    </tr>\n",
              "    <tr>\n",
              "      <th>std</th>\n",
              "      <td>6.989446e+07</td>\n",
              "      <td>18582.587617</td>\n",
              "      <td>16954.399009</td>\n",
              "      <td>4925.882216</td>\n",
              "      <td>2554.173770</td>\n",
              "      <td>282.088891</td>\n",
              "      <td>152.218965</td>\n",
              "      <td>NaN</td>\n",
              "      <td>3.183425</td>\n",
              "      <td>0.0</td>\n",
              "      <td>NaN</td>\n",
              "      <td>0.041926</td>\n",
              "      <td>18.068466</td>\n",
              "    </tr>\n",
              "  </tbody>\n",
              "</table>\n",
              "</div>\n",
              "    <div class=\"colab-df-buttons\">\n",
              "\n",
              "  <div class=\"colab-df-container\">\n",
              "    <button class=\"colab-df-convert\" onclick=\"convertToInteractive('df-c74a6c34-91f4-48e6-88c1-597a346f80e6')\"\n",
              "            title=\"Convert this dataframe to an interactive table.\"\n",
              "            style=\"display:none;\">\n",
              "\n",
              "  <svg xmlns=\"http://www.w3.org/2000/svg\" height=\"24px\" viewBox=\"0 -960 960 960\">\n",
              "    <path d=\"M120-120v-720h720v720H120Zm60-500h600v-160H180v160Zm220 220h160v-160H400v160Zm0 220h160v-160H400v160ZM180-400h160v-160H180v160Zm440 0h160v-160H620v160ZM180-180h160v-160H180v160Zm440 0h160v-160H620v160Z\"/>\n",
              "  </svg>\n",
              "    </button>\n",
              "\n",
              "  <style>\n",
              "    .colab-df-container {\n",
              "      display:flex;\n",
              "      gap: 12px;\n",
              "    }\n",
              "\n",
              "    .colab-df-convert {\n",
              "      background-color: #E8F0FE;\n",
              "      border: none;\n",
              "      border-radius: 50%;\n",
              "      cursor: pointer;\n",
              "      display: none;\n",
              "      fill: #1967D2;\n",
              "      height: 32px;\n",
              "      padding: 0 0 0 0;\n",
              "      width: 32px;\n",
              "    }\n",
              "\n",
              "    .colab-df-convert:hover {\n",
              "      background-color: #E2EBFA;\n",
              "      box-shadow: 0px 1px 2px rgba(60, 64, 67, 0.3), 0px 1px 3px 1px rgba(60, 64, 67, 0.15);\n",
              "      fill: #174EA6;\n",
              "    }\n",
              "\n",
              "    .colab-df-buttons div {\n",
              "      margin-bottom: 4px;\n",
              "    }\n",
              "\n",
              "    [theme=dark] .colab-df-convert {\n",
              "      background-color: #3B4455;\n",
              "      fill: #D2E3FC;\n",
              "    }\n",
              "\n",
              "    [theme=dark] .colab-df-convert:hover {\n",
              "      background-color: #434B5C;\n",
              "      box-shadow: 0px 1px 3px 1px rgba(0, 0, 0, 0.15);\n",
              "      filter: drop-shadow(0px 1px 2px rgba(0, 0, 0, 0.3));\n",
              "      fill: #FFFFFF;\n",
              "    }\n",
              "  </style>\n",
              "\n",
              "    <script>\n",
              "      const buttonEl =\n",
              "        document.querySelector('#df-c74a6c34-91f4-48e6-88c1-597a346f80e6 button.colab-df-convert');\n",
              "      buttonEl.style.display =\n",
              "        google.colab.kernel.accessAllowed ? 'block' : 'none';\n",
              "\n",
              "      async function convertToInteractive(key) {\n",
              "        const element = document.querySelector('#df-c74a6c34-91f4-48e6-88c1-597a346f80e6');\n",
              "        const dataTable =\n",
              "          await google.colab.kernel.invokeFunction('convertToInteractive',\n",
              "                                                    [key], {});\n",
              "        if (!dataTable) return;\n",
              "\n",
              "        const docLinkHtml = 'Like what you see? Visit the ' +\n",
              "          '<a target=\"_blank\" href=https://colab.research.google.com/notebooks/data_table.ipynb>data table notebook</a>'\n",
              "          + ' to learn more about interactive tables.';\n",
              "        element.innerHTML = '';\n",
              "        dataTable['output_type'] = 'display_data';\n",
              "        await google.colab.output.renderOutput(dataTable, element);\n",
              "        const docLink = document.createElement('div');\n",
              "        docLink.innerHTML = docLinkHtml;\n",
              "        element.appendChild(docLink);\n",
              "      }\n",
              "    </script>\n",
              "  </div>\n",
              "\n",
              "\n",
              "<div id=\"df-3deca56b-60d0-4775-b095-2df53e2c2d4b\">\n",
              "  <button class=\"colab-df-quickchart\" onclick=\"quickchart('df-3deca56b-60d0-4775-b095-2df53e2c2d4b')\"\n",
              "            title=\"Suggest charts\"\n",
              "            style=\"display:none;\">\n",
              "\n",
              "<svg xmlns=\"http://www.w3.org/2000/svg\" height=\"24px\"viewBox=\"0 0 24 24\"\n",
              "     width=\"24px\">\n",
              "    <g>\n",
              "        <path d=\"M19 3H5c-1.1 0-2 .9-2 2v14c0 1.1.9 2 2 2h14c1.1 0 2-.9 2-2V5c0-1.1-.9-2-2-2zM9 17H7v-7h2v7zm4 0h-2V7h2v10zm4 0h-2v-4h2v4z\"/>\n",
              "    </g>\n",
              "</svg>\n",
              "  </button>\n",
              "\n",
              "<style>\n",
              "  .colab-df-quickchart {\n",
              "      --bg-color: #E8F0FE;\n",
              "      --fill-color: #1967D2;\n",
              "      --hover-bg-color: #E2EBFA;\n",
              "      --hover-fill-color: #174EA6;\n",
              "      --disabled-fill-color: #AAA;\n",
              "      --disabled-bg-color: #DDD;\n",
              "  }\n",
              "\n",
              "  [theme=dark] .colab-df-quickchart {\n",
              "      --bg-color: #3B4455;\n",
              "      --fill-color: #D2E3FC;\n",
              "      --hover-bg-color: #434B5C;\n",
              "      --hover-fill-color: #FFFFFF;\n",
              "      --disabled-bg-color: #3B4455;\n",
              "      --disabled-fill-color: #666;\n",
              "  }\n",
              "\n",
              "  .colab-df-quickchart {\n",
              "    background-color: var(--bg-color);\n",
              "    border: none;\n",
              "    border-radius: 50%;\n",
              "    cursor: pointer;\n",
              "    display: none;\n",
              "    fill: var(--fill-color);\n",
              "    height: 32px;\n",
              "    padding: 0;\n",
              "    width: 32px;\n",
              "  }\n",
              "\n",
              "  .colab-df-quickchart:hover {\n",
              "    background-color: var(--hover-bg-color);\n",
              "    box-shadow: 0 1px 2px rgba(60, 64, 67, 0.3), 0 1px 3px 1px rgba(60, 64, 67, 0.15);\n",
              "    fill: var(--button-hover-fill-color);\n",
              "  }\n",
              "\n",
              "  .colab-df-quickchart-complete:disabled,\n",
              "  .colab-df-quickchart-complete:disabled:hover {\n",
              "    background-color: var(--disabled-bg-color);\n",
              "    fill: var(--disabled-fill-color);\n",
              "    box-shadow: none;\n",
              "  }\n",
              "\n",
              "  .colab-df-spinner {\n",
              "    border: 2px solid var(--fill-color);\n",
              "    border-color: transparent;\n",
              "    border-bottom-color: var(--fill-color);\n",
              "    animation:\n",
              "      spin 1s steps(1) infinite;\n",
              "  }\n",
              "\n",
              "  @keyframes spin {\n",
              "    0% {\n",
              "      border-color: transparent;\n",
              "      border-bottom-color: var(--fill-color);\n",
              "      border-left-color: var(--fill-color);\n",
              "    }\n",
              "    20% {\n",
              "      border-color: transparent;\n",
              "      border-left-color: var(--fill-color);\n",
              "      border-top-color: var(--fill-color);\n",
              "    }\n",
              "    30% {\n",
              "      border-color: transparent;\n",
              "      border-left-color: var(--fill-color);\n",
              "      border-top-color: var(--fill-color);\n",
              "      border-right-color: var(--fill-color);\n",
              "    }\n",
              "    40% {\n",
              "      border-color: transparent;\n",
              "      border-right-color: var(--fill-color);\n",
              "      border-top-color: var(--fill-color);\n",
              "    }\n",
              "    60% {\n",
              "      border-color: transparent;\n",
              "      border-right-color: var(--fill-color);\n",
              "    }\n",
              "    80% {\n",
              "      border-color: transparent;\n",
              "      border-right-color: var(--fill-color);\n",
              "      border-bottom-color: var(--fill-color);\n",
              "    }\n",
              "    90% {\n",
              "      border-color: transparent;\n",
              "      border-bottom-color: var(--fill-color);\n",
              "    }\n",
              "  }\n",
              "</style>\n",
              "\n",
              "  <script>\n",
              "    async function quickchart(key) {\n",
              "      const quickchartButtonEl =\n",
              "        document.querySelector('#' + key + ' button');\n",
              "      quickchartButtonEl.disabled = true;  // To prevent multiple clicks.\n",
              "      quickchartButtonEl.classList.add('colab-df-spinner');\n",
              "      try {\n",
              "        const charts = await google.colab.kernel.invokeFunction(\n",
              "            'suggestCharts', [key], {});\n",
              "      } catch (error) {\n",
              "        console.error('Error during call to suggestCharts:', error);\n",
              "      }\n",
              "      quickchartButtonEl.classList.remove('colab-df-spinner');\n",
              "      quickchartButtonEl.classList.add('colab-df-quickchart-complete');\n",
              "    }\n",
              "    (() => {\n",
              "      let quickchartButtonEl =\n",
              "        document.querySelector('#df-3deca56b-60d0-4775-b095-2df53e2c2d4b button');\n",
              "      quickchartButtonEl.style.display =\n",
              "        google.colab.kernel.accessAllowed ? 'block' : 'none';\n",
              "    })();\n",
              "  </script>\n",
              "</div>\n",
              "\n",
              "    </div>\n",
              "  </div>\n"
            ],
            "application/vnd.google.colaboratory.intrinsic+json": {
              "type": "dataframe",
              "summary": "{\n  \"name\": \"df\",\n  \"rows\": 8,\n  \"fields\": [\n    {\n      \"column\": \"Identificador do processo de viagem\",\n      \"properties\": {\n        \"dtype\": \"number\",\n        \"std\": 707056445.4508195,\n        \"min\": 827433.0,\n        \"max\": 2023001651.0,\n        \"num_unique_values\": 8,\n        \"samples\": [\n          21577369.171409648,\n          19399054.0,\n          827433.0\n        ],\n        \"semantic_type\": \"\",\n        \"description\": \"\"\n      }\n    },\n    {\n      \"column\": \"C\\u00f3digo do \\u00f3rg\\u00e3o superior\",\n      \"properties\": {\n        \"dtype\": \"number\",\n        \"std\": 281927.14508295537,\n        \"min\": -1.0,\n        \"max\": 827433.0,\n        \"num_unique_values\": 8,\n        \"samples\": [\n          29854.983842800564,\n          47000.0,\n          827433.0\n        ],\n        \"semantic_type\": \"\",\n        \"description\": \"\"\n      }\n    },\n    {\n      \"column\": \"C\\u00f3digo \\u00f3rg\\u00e3o solicitante\",\n      \"properties\": {\n        \"dtype\": \"number\",\n        \"std\": 283332.52019006165,\n        \"min\": -1.0,\n        \"max\": 827433.0,\n        \"num_unique_values\": 8,\n        \"samples\": [\n          27380.008039321612,\n          37202.0,\n          827433.0\n        ],\n        \"semantic_type\": \"\",\n        \"description\": \"\"\n      }\n    },\n    {\n      \"column\": \"Valor di\\u00e1rias\",\n      \"properties\": {\n        \"dtype\": \"number\",\n        \"std\": 289667.88785207196,\n        \"min\": 0.0,\n        \"max\": 827433.0,\n        \"num_unique_values\": 8,\n        \"samples\": [\n          1744.248531578992,\n          1629.59,\n          827433.0\n        ],\n        \"semantic_type\": \"\",\n        \"description\": \"\"\n      }\n    },\n    {\n      \"column\": \"Valor passagens\",\n      \"properties\": {\n        \"dtype\": \"number\",\n        \"std\": 290246.47011774895,\n        \"min\": 0.0,\n        \"max\": 827433.0,\n        \"num_unique_values\": 6,\n        \"samples\": [\n          827433.0,\n          1023.8626121994168,\n          2554.1737695161733\n        ],\n        \"semantic_type\": \"\",\n        \"description\": \"\"\n      }\n    },\n    {\n      \"column\": \"Valor devolu\\u00e7\\u00e3o\",\n      \"properties\": {\n        \"dtype\": \"number\",\n        \"std\": 290879.9277250309,\n        \"min\": 0.0,\n        \"max\": 827433.0,\n        \"num_unique_values\": 5,\n        \"samples\": [\n          23.735638208773402,\n          282.0888913941141,\n          0.0\n        ],\n        \"semantic_type\": \"\",\n        \"description\": \"\"\n      }\n    },\n    {\n      \"column\": \"Valor outros gastos\",\n      \"properties\": {\n        \"dtype\": \"number\",\n        \"std\": 290270.74151487614,\n        \"min\": 0.0,\n        \"max\": 827433.0,\n        \"num_unique_values\": 5,\n        \"samples\": [\n          16.39529513567866,\n          152.21896480243402,\n          0.0\n        ],\n        \"semantic_type\": \"\",\n        \"description\": \"\"\n      }\n    },\n    {\n      \"column\": \"dataInicio\",\n      \"properties\": {\n        \"dtype\": \"date\",\n        \"min\": \"1970-01-01 00:00:00.000827433\",\n        \"max\": \"2023-12-31 00:00:00\",\n        \"num_unique_values\": 7,\n        \"samples\": [\n          \"827433\",\n          \"2023-07-25 02:48:04.505694464\",\n          \"2023-10-18 00:00:00\"\n        ],\n        \"semantic_type\": \"\",\n        \"description\": \"\"\n      }\n    },\n    {\n      \"column\": \"mesInicio\",\n      \"properties\": {\n        \"dtype\": \"number\",\n        \"std\": 292539.39525606285,\n        \"min\": 1.0,\n        \"max\": 827433.0,\n        \"num_unique_values\": 8,\n        \"samples\": [\n          7.292810414861385,\n          10.0,\n          827433.0\n        ],\n        \"semantic_type\": \"\",\n        \"description\": \"\"\n      }\n    },\n    {\n      \"column\": \"anoInicio\",\n      \"properties\": {\n        \"dtype\": \"number\",\n        \"std\": 291929.5393603138,\n        \"min\": 0.0,\n        \"max\": 827433.0,\n        \"num_unique_values\": 3,\n        \"samples\": [\n          827433.0,\n          2023.0,\n          0.0\n        ],\n        \"semantic_type\": \"\",\n        \"description\": \"\"\n      }\n    },\n    {\n      \"column\": \"dataFim\",\n      \"properties\": {\n        \"dtype\": \"date\",\n        \"min\": \"1970-01-01 00:00:00.000827433\",\n        \"max\": \"2024-11-30 00:00:00\",\n        \"num_unique_values\": 7,\n        \"samples\": [\n          \"827433\",\n          \"2023-07-31 00:24:52.361072896\",\n          \"2023-10-25 00:00:00\"\n        ],\n        \"semantic_type\": \"\",\n        \"description\": \"\"\n      }\n    },\n    {\n      \"column\": \"anoFim\",\n      \"properties\": {\n        \"dtype\": \"number\",\n        \"std\": 291929.48675263766,\n        \"min\": 0.04192575719986547,\n        \"max\": 827433.0,\n        \"num_unique_values\": 5,\n        \"samples\": [\n          2023.0017608676474,\n          0.04192575719986547,\n          2023.0\n        ],\n        \"semantic_type\": \"\",\n        \"description\": \"\"\n      }\n    },\n    {\n      \"column\": \"totalDiasViagem\",\n      \"properties\": {\n        \"dtype\": \"number\",\n        \"std\": 292513.61748836347,\n        \"min\": 0.0,\n        \"max\": 827433.0,\n        \"num_unique_values\": 8,\n        \"samples\": [\n          5.900553881704017,\n          5.0,\n          827433.0\n        ],\n        \"semantic_type\": \"\",\n        \"description\": \"\"\n      }\n    }\n  ]\n}"
            }
          },
          "metadata": {},
          "execution_count": 177
        }
      ]
    },
    {
      "cell_type": "code",
      "source": [
        "print(df['Valor diárias'].var())"
      ],
      "metadata": {
        "colab": {
          "base_uri": "https://localhost:8080/"
        },
        "id": "WD8NhkJZrqgN",
        "outputId": "90a9ff3e-4e33-4cf8-a21a-104e611d6fac"
      },
      "execution_count": 178,
      "outputs": [
        {
          "output_type": "stream",
          "name": "stdout",
          "text": [
            "24264315.604271915\n"
          ]
        }
      ]
    },
    {
      "cell_type": "code",
      "source": [
        "print(df['Valor passagens'].var())"
      ],
      "metadata": {
        "colab": {
          "base_uri": "https://localhost:8080/"
        },
        "id": "FsVRKRUUv2bn",
        "outputId": "b29cbfa4-1416-4202-b085-87cc88357e6a"
      },
      "execution_count": 179,
      "outputs": [
        {
          "output_type": "stream",
          "name": "stdout",
          "text": [
            "6523803.644884459\n"
          ]
        }
      ]
    },
    {
      "cell_type": "code",
      "source": [
        "print(df['Valor devolução'].var())"
      ],
      "metadata": {
        "colab": {
          "base_uri": "https://localhost:8080/"
        },
        "id": "-yEYsLF8wFdo",
        "outputId": "1ff0d3fb-955b-4621-b44a-f9def4d226f5"
      },
      "execution_count": 180,
      "outputs": [
        {
          "output_type": "stream",
          "name": "stdout",
          "text": [
            "79574.14264796031\n"
          ]
        }
      ]
    },
    {
      "cell_type": "code",
      "source": [
        "print(df['Valor outros gastos'].var())"
      ],
      "metadata": {
        "colab": {
          "base_uri": "https://localhost:8080/"
        },
        "id": "8nYnhsWvwHmI",
        "outputId": "268911b7-6c8d-40a8-eade-dd7637148904"
      },
      "execution_count": 182,
      "outputs": [
        {
          "output_type": "stream",
          "name": "stdout",
          "text": [
            "23170.613245524644\n"
          ]
        }
      ]
    },
    {
      "cell_type": "code",
      "source": [
        "print(df['totalDiasViagem'].var())"
      ],
      "metadata": {
        "colab": {
          "base_uri": "https://localhost:8080/"
        },
        "id": "OBSgSFA0wJMX",
        "outputId": "f6b2fd6b-51a1-4ba4-bf39-9d01e5a7d9da"
      },
      "execution_count": 183,
      "outputs": [
        {
          "output_type": "stream",
          "name": "stdout",
          "text": [
            "326.46947673514086\n"
          ]
        }
      ]
    },
    {
      "cell_type": "code",
      "source": [],
      "metadata": {
        "id": "8Rc3R28QwMYH"
      },
      "execution_count": null,
      "outputs": []
    }
  ]
}
